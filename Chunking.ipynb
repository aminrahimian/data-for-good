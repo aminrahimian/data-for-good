{
 "cells": [
  {
   "cell_type": "code",
   "execution_count": 52,
   "id": "25bc1e7f",
   "metadata": {},
   "outputs": [
    {
     "name": "stderr",
     "output_type": "stream",
     "text": [
      "[nltk_data] Downloading package punkt to\n",
      "[nltk_data]     C:\\Users\\86156\\AppData\\Roaming\\nltk_data...\n",
      "[nltk_data]   Package punkt is already up-to-date!\n",
      "[nltk_data] Downloading package averaged_perceptron_tagger to\n",
      "[nltk_data]     C:\\Users\\86156\\AppData\\Roaming\\nltk_data...\n",
      "[nltk_data]   Package averaged_perceptron_tagger is already up-to-\n",
      "[nltk_data]       date!\n",
      "[nltk_data] Downloading package conll2000 to\n",
      "[nltk_data]     C:\\Users\\86156\\AppData\\Roaming\\nltk_data...\n",
      "[nltk_data]   Package conll2000 is already up-to-date!\n",
      "[nltk_data] Downloading package tagsets to\n",
      "[nltk_data]     C:\\Users\\86156\\AppData\\Roaming\\nltk_data...\n",
      "[nltk_data]   Unzipping help\\tagsets.zip.\n"
     ]
    },
    {
     "data": {
      "text/plain": [
       "True"
      ]
     },
     "execution_count": 52,
     "metadata": {},
     "output_type": "execute_result"
    }
   ],
   "source": [
    "import pandas as pd\n",
    "import matplotlib.pyplot as plt\n",
    "import seaborn as sns\n",
    "import numpy as np\n",
    "import gensim\n",
    "import nltk\n",
    "from gensim.models import Word2Vec\n",
    "from nltk.corpus import wordnet\n",
    "from nltk.tokenize import word_tokeniz\n",
    "nltk.download('punkt')\n",
    "nltk.download('averaged_perceptron_tagger')\n",
    "nltk.download('conll2000')\n",
    "nltk.download('tagsets')"
   ]
  },
  {
   "cell_type": "code",
   "execution_count": 57,
   "id": "53200cc8",
   "metadata": {},
   "outputs": [
    {
     "name": "stdout",
     "output_type": "stream",
     "text": [
      "VB: verb, base form\n",
      "    ask assemble assess assign assume atone attention avoid bake balkanize\n",
      "    bank begin behold believe bend benefit bevel beware bless boil bomb\n",
      "    boost brace break bring broil brush build ...\n",
      "NNS: noun, common, plural\n",
      "    undergraduates scotches bric-a-brac products bodyguards facets coasts\n",
      "    divestitures storehouses designs clubs fragrances averages\n",
      "    subjectivists apprehensions muses factory-jobs ...\n"
     ]
    }
   ],
   "source": [
    "#Tagging Words\n",
    "#You can use the following functions to find the meaning of various tags\n",
    "nltk.help.upenn_tagset('VB')\n",
    "nltk.help.upenn_tagset('NNS')"
   ]
  },
  {
   "cell_type": "code",
   "execution_count": 65,
   "id": "cd1e7d53",
   "metadata": {},
   "outputs": [
    {
     "name": "stdout",
     "output_type": "stream",
     "text": [
      "[('Confidence', 'NN'), ('in', 'IN'), ('the', 'DT'), ('pound', 'NN'), ('is', 'VBZ'), ('widely', 'RB'), ('expected', 'VBN'), ('to', 'TO'), ('take', 'VB'), ('another', 'DT'), ('sharp', 'JJ'), ('dive', 'NN'), ('if', 'IN'), ('trade', 'NN'), ('figures', 'NNS'), ('for', 'IN'), ('September', 'NNP'), (',', ','), ('due', 'JJ'), ('for', 'IN'), ('release', 'NN'), ('tomorrow', 'NN'), (',', ','), ('fail', 'VB'), ('to', 'TO'), ('show', 'VB'), ('a', 'DT'), ('substantial', 'JJ'), ('improvement', 'NN'), ('from', 'IN'), ('July', 'NNP'), ('and', 'CC'), ('August', 'NNP'), (\"'s\", 'POS'), ('near-record', 'JJ'), ('deficits', 'NNS'), ('.', '.')]\n",
      "[('Chancellor', 'NNP'), ('of', 'IN'), ('the', 'DT'), ('Exchequer', 'NNP'), ('Nigel', 'NNP'), ('Lawson', 'NNP'), (\"'s\", 'POS'), ('restated', 'VBN'), ('commitment', 'NN'), ('to', 'TO'), ('a', 'DT'), ('firm', 'NN'), ('monetary', 'JJ'), ('policy', 'NN'), ('has', 'VBZ'), ('helped', 'VBN'), ('to', 'TO'), ('prevent', 'VB'), ('a', 'DT'), ('freefall', 'NN'), ('in', 'IN'), ('sterling', 'NN'), ('over', 'IN'), ('the', 'DT'), ('past', 'JJ'), ('week', 'NN'), ('.', '.')]\n",
      "[('But', 'CC'), ('analysts', 'NNS'), ('reckon', 'VBP'), ('underlying', 'VBG'), ('support', 'NN'), ('for', 'IN'), ('sterling', 'NN'), ('has', 'VBZ'), ('been', 'VBN'), ('eroded', 'VBN'), ('by', 'IN'), ('the', 'DT'), ('chancellor', 'NN'), (\"'s\", 'POS'), ('failure', 'NN'), ('to', 'TO'), ('announce', 'VB'), ('any', 'DT'), ('new', 'JJ'), ('policy', 'NN'), ('measures', 'NNS'), ('in', 'IN'), ('his', 'PRP$'), ('Mansion', 'NNP'), ('House', 'NNP'), ('speech', 'NN'), ('last', 'JJ'), ('Thursday', 'NNP'), ('.', '.')]\n",
      "[('This', 'DT'), ('has', 'VBZ'), ('increased', 'VBN'), ('the', 'DT'), ('risk', 'NN'), ('of', 'IN'), ('the', 'DT'), ('government', 'NN'), ('being', 'VBG'), ('forced', 'VBN'), ('to', 'TO'), ('increase', 'VB'), ('base', 'NN'), ('rates', 'NNS'), ('to', 'TO'), ('16', 'CD'), ('%', 'NN'), ('from', 'IN'), ('their', 'PRP$'), ('current', 'JJ'), ('15', 'CD'), ('%', 'NN'), ('level', 'NN'), ('to', 'TO'), ('defend', 'VB'), ('the', 'DT'), ('pound', 'NN'), (',', ','), ('economists', 'NNS'), ('and', 'CC'), ('foreign', 'JJ'), ('exchange', 'NN'), ('market', 'NN'), ('analysts', 'NNS'), ('say', 'VBP'), ('.', '.')]\n",
      "[('``', '``'), ('The', 'DT'), ('risks', 'NNS'), ('for', 'IN'), ('sterling', 'NN'), ('of', 'IN'), ('a', 'DT'), ('bad', 'JJ'), ('trade', 'NN'), ('figure', 'NN'), ('are', 'VBP'), ('very', 'RB'), ('heavily', 'RB'), ('on', 'IN'), ('the', 'DT'), ('down', 'JJ'), ('side', 'NN'), (',', ','), (\"''\", \"''\"), ('said', 'VBD'), ('Chris', 'NNP'), ('Dillow', 'NNP'), (',', ','), ('senior', 'JJ'), ('U.K.', 'NNP'), ('economist', 'NN'), ('at', 'IN'), ('Nomura', 'NNP'), ('Research', 'NNP'), ('Institute', 'NNP'), ('.', '.')]\n"
     ]
    }
   ],
   "source": [
    "#Label a piece of text in the corpus\n",
    "from nltk.corpus import conll2000\n",
    "x = (conll2000.tagged_sents())\n",
    "for i in range(5):\n",
    "     print (x[i])"
   ]
  },
  {
   "cell_type": "code",
   "execution_count": 81,
   "id": "28a2a588",
   "metadata": {},
   "outputs": [
    {
     "data": {
      "text/plain": [
       "['A',\n",
       " 'busy',\n",
       " 'and',\n",
       " 'tired',\n",
       " 'student',\n",
       " 'is',\n",
       " 'sitting',\n",
       " 'in',\n",
       " 'the',\n",
       " 'computer',\n",
       " 'room']"
      ]
     },
     "execution_count": 81,
     "metadata": {},
     "output_type": "execute_result"
    }
   ],
   "source": [
    "#Break up a sentence\n",
    "sentence = \"A busy and tired student is sitting in the computer room\"\n",
    "tokenized_words = word_tokenize(sentence)\n",
    "tokenized_words"
   ]
  },
  {
   "cell_type": "code",
   "execution_count": 82,
   "id": "d24d0437",
   "metadata": {},
   "outputs": [
    {
     "data": {
      "text/plain": [
       "[('A', 'DT'),\n",
       " ('busy', 'JJ'),\n",
       " ('and', 'CC'),\n",
       " ('tired', 'JJ'),\n",
       " ('student', 'NN'),\n",
       " ('is', 'VBZ'),\n",
       " ('sitting', 'VBG'),\n",
       " ('in', 'IN'),\n",
       " ('the', 'DT'),\n",
       " ('computer', 'NN'),\n",
       " ('room', 'NN')]"
      ]
     },
     "execution_count": 82,
     "metadata": {},
     "output_type": "execute_result"
    }
   ],
   "source": [
    "#Label the sentence\n",
    "for words in tokenized_words:\n",
    "    tagged_word = nltk.pos_tag(tokenized_words)\n",
    "tagged_word"
   ]
  },
  {
   "cell_type": "code",
   "execution_count": 84,
   "id": "ca03ab17",
   "metadata": {},
   "outputs": [
    {
     "name": "stdout",
     "output_type": "stream",
     "text": [
      "(S\n",
      "  (NP A/DT busy/JJ and/CC tired/JJ student/NN)\n",
      "  is/VBZ\n",
      "  sitting/VBG\n",
      "  in/IN\n",
      "  (NP the/DT computer/NN)\n",
      "  (NP room/NN))\n"
     ]
    }
   ],
   "source": [
    "#Break a sentence into meaningful phrases through chunking, phrases rather than just single words.\n",
    "\n",
    "#Create a grammar\n",
    "grammar = \"NP : {<DT>?<JJ>*<CC>?<JJ>*<NN>}\"\n",
    "\n",
    "parser = nltk.RegexpParser(grammar)\n",
    "\n",
    "output = parser.parse(tagged_word)\n",
    "print(output)\n",
    "\n",
    "#Visualization results\n",
    "output.draw()"
   ]
  },
  {
   "attachments": {
    "%E5%9B%BE%E7%89%87.png": {
     "image/png": "[encoded data removed]"
    }
   },
   "cell_type": "markdown",
   "id": "2faad709",
   "metadata": {},
   "source": [
    "![%E5%9B%BE%E7%89%87.png](attachment:%E5%9B%BE%E7%89%87.png)"
   ]
  }
 ],
 "metadata": {
  "kernelspec": {
   "display_name": "Python 3 (ipykernel)",
   "language": "python",
   "name": "python3"
  },
  "language_info": {
   "codemirror_mode": {
    "name": "ipython",
    "version": 3
   },
   "file_extension": ".py",
   "mimetype": "text/x-python",
   "name": "python",
   "nbconvert_exporter": "python",
   "pygments_lexer": "ipython3",
   "version": "3.9.12"
  }
 },
 "nbformat": 4,
 "nbformat_minor": 5
}
