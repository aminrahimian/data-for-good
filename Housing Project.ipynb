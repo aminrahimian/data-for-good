{
 "cells": [
  {
   "cell_type": "code",
   "execution_count": null,
   "id": "7856a095",
   "metadata": {},
   "outputs": [],
   "source": [
    "#objective: create a model to predict when a lot of houses will be put on the market"
   ]
  },
  {
   "cell_type": "code",
   "execution_count": 1,
   "id": "fde06fae",
   "metadata": {},
   "outputs": [],
   "source": [
    "import pandas as pd\n",
    "from sklearn import datasets\n",
    "from sklearn.feature_selection import chi2\n",
    "from sklearn.feature_selection import SelectKBest"
   ]
  },
  {
   "cell_type": "code",
   "execution_count": 2,
   "id": "f26aab12",
   "metadata": {},
   "outputs": [
    {
     "name": "stderr",
     "output_type": "stream",
     "text": [
      "C:\\Users\\Tara\\Anaconda3\\lib\\site-packages\\IPython\\core\\interactiveshell.py:3444: DtypeWarning: Columns (19) have mixed types.Specify dtype option on import or set low_memory=False.\n",
      "  exec(code_obj, self.user_global_ns, self.user_ns)\n",
      "C:\\Users\\Tara\\Anaconda3\\lib\\site-packages\\IPython\\core\\interactiveshell.py:3444: DtypeWarning: Columns (19,20,29,30,37,38,46,57,83) have mixed types.Specify dtype option on import or set low_memory=False.\n",
      "  exec(code_obj, self.user_global_ns, self.user_ns)\n"
     ]
    }
   ],
   "source": [
    "#read in data\n",
    "sales=pd.read_csv(r'C:\\Users\\Tara\\OneDrive - University of Pittsburgh\\FALL 2022\\ENGR 1171\\Project Housing Data\\SalesData.csv')\n",
    "#convert sale date from string to date\n",
    "sales['SALEDATE']=pd.to_datetime(sales['SALEDATE'])\n",
    "assessment=pd.read_csv(r'C:\\Users\\Tara\\OneDrive - University of Pittsburgh\\FALL 2022\\ENGR 1171\\Project Housing Data\\AssessmentData.csv')"
   ]
  },
  {
   "cell_type": "code",
   "execution_count": 3,
   "id": "ba917677",
   "metadata": {},
   "outputs": [],
   "source": [
    "#add flag to assessment data of whether a house is in the sales dataset\n",
    "assessment['Sold']=''\n",
    "assessment.loc[assessment['PARID'].isin(sales['PARID']),'Sold']=1\n",
    "assessment.loc[~assessment['PARID'].isin(sales['PARID']),'Sold']=0"
   ]
  },
  {
   "cell_type": "code",
   "execution_count": 4,
   "id": "57c4b26c",
   "metadata": {
    "scrolled": true
   },
   "outputs": [],
   "source": [
    "#isolate most recent sale date for each house sold, merge onto assessment dataset\n",
    "salesgrouped=sales[['PARID','SALEDATE']].groupby('PARID').agg({'SALEDATE':'max'}).reset_index().rename(columns={'SALEDATE':'FINALSALEDATE'})\n",
    "df=pd.merge(assessment,salesgrouped,how='left',on='PARID')"
   ]
  },
  {
   "cell_type": "code",
   "execution_count": 5,
   "id": "7d2c8882",
   "metadata": {},
   "outputs": [],
   "source": [
    "#look for redundant columns to drop and drop them\n",
    "df['ASOFDATE'].drop_duplicates()\n",
    "df['PROPERTYCITY'].drop_duplicates()\n",
    "df=df.drop(['ASOFDATE','PROPERTYCITY','PROPERTYSTATE'],axis=1)"
   ]
  },
  {
   "cell_type": "code",
   "execution_count": 15,
   "id": "d73bd560",
   "metadata": {},
   "outputs": [],
   "source": [
    "#add number of times property was sold in the last year\n",
    "df=pd.merge(df,sales.groupby('PARID').size().reset_index(name='NumTimesSold'),how='left',on='PARID')\n",
    "df['NumTimesSold']=df['NumTimesSold'].fillna(0)"
   ]
  },
  {
   "cell_type": "code",
   "execution_count": null,
   "id": "b2677a85",
   "metadata": {},
   "outputs": [],
   "source": [
    "#next steps: assign code to indicate recency of sale - how to discount exponentially w time?\n",
    "#identify houses owned as investments, rather than family homes\n",
    "# look at sales of multiple properties that happen in one transaction (these have multi-parcel sales in the sales type)."
   ]
  },
  {
   "cell_type": "code",
   "execution_count": null,
   "id": "c6e9229a",
   "metadata": {},
   "outputs": [],
   "source": [
    "'''Investor-Owned Properties\n",
    "It may be possible to identify investor-owned residential properties using several fields in the\n",
    "assessment data. Given that not all eligible owners apply, relying solely on the lack of a\n",
    "Homestead flag does not provide enough certainty when working to identify investors. To begin,\n",
    "look at all residential properties using the “CLASSDESC” field to limit the search to privately\n",
    "owned properties (please note that condominium units are classified as residential, but\n",
    "apartment buildings with five or more units, or mixed-use residential parcels are categorized as\n",
    "“commercial” in the “CLASSDESC” field). Then, for all properties without a Homestead flag\n",
    "(“HOMESTEAD”<> “HOM”), compare the property address and owner’s address (using the four\n",
    "“CHANGENOTICE” fields as a proxy for owner’s address). If the addresses do not match and\n",
    "there is no Homestead exemption, this may provide an indication that the residential properties\n",
    "may be investor-owned. This data can be used to get a sense of neighborhood housing market\n",
    "dynamics and to develop informed investor housing strategies.\n",
    "For a guide to developing an investor housing strategy, see:\n",
    "http://www.policylink.org/find-resources/library/when-investors-buy-up-the-neighborhood\n",
    "'''"
   ]
  },
  {
   "cell_type": "code",
   "execution_count": null,
   "id": "b2511977",
   "metadata": {},
   "outputs": [],
   "source": [
    "'''Track Common Ownership Across Multiple Properties\n",
    "Owners of multiple properties can sometimes be linked by a common owner’s address (using\n",
    "the four “CHANGENOTICE” fields as a proxy for owner’s address) across their various holdings,\n",
    "even if the owner’s names appear differently in the assessment data for some of the properties\n",
    "in their portfolio. This data has been useful in proactive code enforcement, as data was recently\n",
    "used to identify the potential holdings of an investor that was cited for not addressing serious\n",
    "condition issues on a rental property in Carrick. In the assessment data, properties held at least\n",
    "in part by this owner were listed under several different corporate names but had a common\n",
    "owner’s address in the assessment record. The owner of the problem property mentioned in the\n",
    "news article was listed as an officer with one of these companies according to incorporations\n",
    "data from the Pennsylvania Department of State.\n",
    "Please use caution with this technique, as some properties may list the ”CHANGENOTICE”\n",
    "address as either the property manager or the mortgage company, not the property owner. It is\n",
    "best used on properties not managed by a third party, and owned free and clear'''\n",
    "\n",
    "#https://data.wprdc.org/dataset/2b3df818-601e-4f06-b150-643557229491/resource/cc4bafd2-25b6-41d7-83aa-d16bc211b020/download/alleghenycountypropertyassessmentdatauserguide-4.pdf"
   ]
  }
 ],
 "metadata": {
  "kernelspec": {
   "display_name": "Python 3 (ipykernel)",
   "language": "python",
   "name": "python3"
  },
  "language_info": {
   "codemirror_mode": {
    "name": "ipython",
    "version": 3
   },
   "file_extension": ".py",
   "mimetype": "text/x-python",
   "name": "python",
   "nbconvert_exporter": "python",
   "pygments_lexer": "ipython3",
   "version": "3.9.7"
  }
 },
 "nbformat": 4,
 "nbformat_minor": 5
}
