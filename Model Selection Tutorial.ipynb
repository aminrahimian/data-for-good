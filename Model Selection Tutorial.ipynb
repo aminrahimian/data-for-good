{
 "cells": [
  {
   "cell_type": "code",
   "execution_count": 1,
   "id": "aca2b9ed",
   "metadata": {},
   "outputs": [
    {
     "name": "stderr",
     "output_type": "stream",
     "text": [
      "Warning message:\n",
      "\"package 'tidyr' was built under R version 3.6.3\""
     ]
    },
    {
     "ename": "ERROR",
     "evalue": "Error: package or namespace load failed for 'tidyr' in loadNamespace(j <- i[[1L]], c(lib.loc, .libPaths()), versionCheck = vI[[j]]):\n there is no package called 'lifecycle'\n",
     "output_type": "error",
     "traceback": [
      "Error: package or namespace load failed for 'tidyr' in loadNamespace(j <- i[[1L]], c(lib.loc, .libPaths()), versionCheck = vI[[j]]):\n there is no package called 'lifecycle'\nTraceback:\n",
      "1. library(tidyr)",
      "2. tryCatch({\n .     attr(package, \"LibPath\") <- which.lib.loc\n .     ns <- loadNamespace(package, lib.loc)\n .     env <- attachNamespace(ns, pos = pos, deps, exclude, include.only)\n . }, error = function(e) {\n .     P <- if (!is.null(cc <- conditionCall(e))) \n .         paste(\" in\", deparse(cc)[1L])\n .     else \"\"\n .     msg <- gettextf(\"package or namespace load failed for %s%s:\\n %s\", \n .         sQuote(package), P, conditionMessage(e))\n .     if (logical.return) \n .         message(paste(\"Error:\", msg), domain = NA)\n .     else stop(msg, call. = FALSE, domain = NA)\n . })",
      "3. tryCatchList(expr, classes, parentenv, handlers)",
      "4. tryCatchOne(expr, names, parentenv, handlers[[1L]])",
      "5. value[[3L]](cond)",
      "6. stop(msg, call. = FALSE, domain = NA)"
     ]
    }
   ],
   "source": [
    "## Import Packages\n",
    "library(tidyr)\n",
    "library(dplyr)\n",
    "library(leaps)\n",
    "library(readr)"
   ]
  },
  {
   "cell_type": "code",
   "execution_count": null,
   "id": "9acee655",
   "metadata": {},
   "outputs": [],
   "source": [
    "#Load Data\n",
    "loan_level_500k <- read.csv(\"loan_level_500k.csv\")"
   ]
  },
  {
   "cell_type": "code",
   "execution_count": null,
   "id": "4079a3d1",
   "metadata": {},
   "outputs": [],
   "source": [
    "library(dplyr)\n",
    "cols <- c('ORIGINAL_INTEREST_RATE', 'CREDIT_SCORE', 'FIRST_TIME_HOMEBUYER_FLAG','ORIGINAL_DEBT_TO_INCOME_RATIO', 'NUMBER_OF_BORROWERS','POSTAL_CODE','LOAN_PURPOSE')\n",
    "selected_df <- loan_level_500k[cols]\n",
    "selected_df <- selected_df %>% drop_na()\n",
    "loan_level_500k <- selected_df"
   ]
  },
  {
   "cell_type": "code",
   "execution_count": null,
   "id": "7febad52",
   "metadata": {},
   "outputs": [],
   "source": [
    "#Create a training and test set with an 70/30 split.\n",
    "set.seed(8)\n",
    "dt <- sort(sample(nrow(loan_level_500k), nrow(loan_level_500k)*.7))\n",
    "train <- loan_level_500k[dt,]\n",
    "test <- loan_level_500k[-dt,]"
   ]
  },
  {
   "cell_type": "code",
   "execution_count": null,
   "id": "bc5ea78f",
   "metadata": {},
   "outputs": [],
   "source": [
    "#Run Linear Regression With all predictors\n",
    "lm.fit <- lm(train$ORIGINAL_INTEREST_RATE~., data = train)\n",
    "predict <- predict.lm(lm.fit, newdata= test)"
   ]
  },
  {
   "cell_type": "markdown",
   "id": "e845e23e",
   "metadata": {},
   "source": [
    "Problems in AI Safety: \n",
    "\n",
    "A suggested reading: \"Concrete Problems in AI Safety\" paper\n",
    "With an increasing power in AI, it is crucial to think about the possible negative side effects that could occur. Better yet, it is important to try and prevent these possible side effects. As we saw in the example above, sometimes systems don't always work in the way we expect them to. Important questions to ask when creating and dealing with AI:\n",
    "\n",
    "How do we avoid negative side effects?\n",
    "There are many different scenarios in which negative side effects could occur. For the prevention of this in model selection we must define an impact regularizer and learn that impact regularizer. \n",
    "\n"
   ]
  }
 ],
 "metadata": {
  "kernelspec": {
   "display_name": "Python 3 (ipykernel)",
   "language": "python",
   "name": "python3"
  },
  "language_info": {
   "codemirror_mode": {
    "name": "ipython",
    "version": 3
   },
   "file_extension": ".py",
   "mimetype": "text/x-python",
   "name": "python",
   "nbconvert_exporter": "python",
   "pygments_lexer": "ipython3",
   "version": "3.9.7"
  }
 },
 "nbformat": 4,
 "nbformat_minor": 5
}
