{
 "cells": [
  {
   "cell_type": "code",
   "execution_count": 1,
   "id": "aca2b9ed",
   "metadata": {},
   "outputs": [
    {
     "name": "stderr",
     "output_type": "stream",
     "text": [
      "Warning message:\n",
      "\"package 'tidyr' was built under R version 3.6.3\""
     ]
    },
    {
     "ename": "ERROR",
     "evalue": "Error: package or namespace load failed for 'tidyr' in loadNamespace(j <- i[[1L]], c(lib.loc, .libPaths()), versionCheck = vI[[j]]):\n there is no package called 'lifecycle'\n",
     "output_type": "error",
     "traceback": [
      "Error: package or namespace load failed for 'tidyr' in loadNamespace(j <- i[[1L]], c(lib.loc, .libPaths()), versionCheck = vI[[j]]):\n there is no package called 'lifecycle'\nTraceback:\n",
      "1. library(tidyr)",
      "2. tryCatch({\n .     attr(package, \"LibPath\") <- which.lib.loc\n .     ns <- loadNamespace(package, lib.loc)\n .     env <- attachNamespace(ns, pos = pos, deps, exclude, include.only)\n . }, error = function(e) {\n .     P <- if (!is.null(cc <- conditionCall(e))) \n .         paste(\" in\", deparse(cc)[1L])\n .     else \"\"\n .     msg <- gettextf(\"package or namespace load failed for %s%s:\\n %s\", \n .         sQuote(package), P, conditionMessage(e))\n .     if (logical.return) \n .         message(paste(\"Error:\", msg), domain = NA)\n .     else stop(msg, call. = FALSE, domain = NA)\n . })",
      "3. tryCatchList(expr, classes, parentenv, handlers)",
      "4. tryCatchOne(expr, names, parentenv, handlers[[1L]])",
      "5. value[[3L]](cond)",
      "6. stop(msg, call. = FALSE, domain = NA)"
     ]
    }
   ],
   "source": [
    "## Import Packages\n",
    "library(tidyr)\n",
    "library(dplyr)\n",
    "library(leaps)\n",
    "library(readr)"
   ]
  },
  {
   "cell_type": "code",
   "execution_count": null,
   "id": "9acee655",
   "metadata": {},
   "outputs": [],
   "source": [
    "#Load Data\n",
    "loan_level_500k <- read.csv(\"loan_level_500k.csv\")"
   ]
  },
  {
   "cell_type": "code",
   "execution_count": null,
   "id": "4079a3d1",
   "metadata": {},
   "outputs": [],
   "source": [
    "library(dplyr)\n",
    "cols <- c('ORIGINAL_INTEREST_RATE', 'CREDIT_SCORE', 'FIRST_TIME_HOMEBUYER_FLAG','ORIGINAL_DEBT_TO_INCOME_RATIO', 'NUMBER_OF_BORROWERS','POSTAL_CODE','LOAN_PURPOSE')\n",
    "selected_df <- loan_level_500k[cols]\n",
    "selected_df <- selected_df %>% drop_na()\n",
    "loan_level_500k <- selected_df"
   ]
  },
  {
   "cell_type": "code",
   "execution_count": null,
   "id": "7febad52",
   "metadata": {},
   "outputs": [],
   "source": [
    "#Create a training and test set with an 70/30 split.\n",
    "set.seed(8)\n",
    "dt <- sort(sample(nrow(loan_level_500k), nrow(loan_level_500k)*.7))\n",
    "train <- loan_level_500k[dt,]\n",
    "test <- loan_level_500k[-dt,]"
   ]
  },
  {
   "cell_type": "code",
   "execution_count": null,
   "id": "bc5ea78f",
   "metadata": {},
   "outputs": [],
   "source": [
    "#Run Linear Regression With all predictors\n",
    "lm.fit <- lm(train$ORIGINAL_INTEREST_RATE~., data = train)\n",
    "predict <- predict.lm(lm.fit, newdata= test)"
   ]
  }
 ],
 "metadata": {
  "kernelspec": {
   "display_name": "R",
   "language": "R",
   "name": "ir"
  },
  "language_info": {
   "codemirror_mode": "r",
   "file_extension": ".r",
   "mimetype": "text/x-r-source",
   "name": "R",
   "pygments_lexer": "r",
   "version": "3.6.1"
  }
 },
 "nbformat": 4,
 "nbformat_minor": 5
}
