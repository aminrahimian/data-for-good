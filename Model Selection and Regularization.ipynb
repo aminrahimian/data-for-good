{
 "cells": [
  {
   "cell_type": "markdown",
   "id": "6a3cbecb",
   "metadata": {},
   "source": [
    "#Model Selection\n",
    "\n",
    "*Intro to Statistical Learning*: Chapter 6\n",
    "\n",
    "*Ethical Algorithm*: Chapter 2\n",
    "\n",
    "#Dataset:\n",
    "\n",
    "To make learning about model selection simpler, we are going to use the data sets and original model process from the linear model tutorial. \n",
    "\n",
    "Dataset on Kaggle: https://www.kaggle.com/datasets/saravananselvamohan/freddie-mac-singlefamily-loanlevel-dataset\n",
    "\n",
    "Freddie Mac Single Family Loan-Level Dataset: https://www.freddiemac.com/research/datasets/sf-loanlevel-dataset\n",
    "\n",
    "Description of data fields: https://www.freddiemac.com/fmac-resources/research/pdf/file_layout.xlsx\n",
    "\n",
    "The Federal Home Loan Mortgage Corporation, commonly known as Freddie Mac, is a publicly traded, government-sponsored enterprise, headquartered in Tysons Corner, Virginia. The FHLMC was created in 1970 to expand the secondary market for mortgages in the US: https://en.wikipedia.org/wiki/Freddie_Mac\n",
    "\n",
    "The Federal National Mortgage Association, commonly known as Fannie Mae, is a United States government-sponsored enterprise and, since 1968, a publicly traded company: https://en.wikipedia.org/wiki/Fannie_Mae\n",
    "\n",
    "The primary difference between Freddie Mac and Fannie Mae is where they source their mortgages from. Fannie Mae buys mortgages from larger, commercial banks, while Freddie Mac buys them from much smaller banks.\n",
    "\n",
    "Dataset: Home Mortgage Disclosure Act, National Loan Applications for 2020 https://ffiec.cfpb.gov/data-publication/dynamic-national-loan-level-dataset/2020\n",
    "\n",
    "Data field definitions/values: https://ffiec.cfpb.gov/documentation/2020/lar-data-fields/"
   ]
  },
  {
   "cell_type": "code",
   "execution_count": 1,
   "id": "663eab3f",
   "metadata": {},
   "outputs": [],
   "source": [
    "import matplotlib.pyplot as plt\n",
    "import numpy as np\n",
    "from sklearn.linear_model import LinearRegression\n",
    "from sklearn.metrics import mean_squared_error, r2_score\n",
    "from sklearn.model_selection import train_test_split\n",
    "import pandas as pd\n",
    "import math\n",
    "import sklearn\n",
    "from sklearn import metrics\n",
    "import seaborn as sns\n",
    "import researchpy as rp\n"
   ]
  },
  {
   "cell_type": "code",
   "execution_count": 2,
   "id": "e91af2c6",
   "metadata": {},
   "outputs": [
    {
     "name": "stdout",
     "output_type": "stream",
     "text": [
      "MAE: 0.43031114873595966\n",
      "MSE: 0.324172733200998\n",
      "RMSE: 0.5693616892635103\n"
     ]
    }
   ],
   "source": [
    "#first, we will quickly run the code from the linear regression tutorial. Since we already explored the data during that tutorial, we will not do so again here.\n",
    "#load file as a dataframe\n",
    "df = pd.read_csv('loan_level_500k.csv')\n",
    "#encode the columns that include text as numerical categories\n",
    "from sklearn.preprocessing import LabelEncoder\n",
    "\n",
    "#create an instance of label encoder\n",
    "labelencoder = LabelEncoder()\n",
    "\n",
    "#encode binary outcomes for first time homeowner flag column\n",
    "df[\"First Time Homebuyer Flag_N\"] = labelencoder.fit_transform(df[\"FIRST_TIME_HOMEBUYER_FLAG\"])\n",
    "\n",
    "#identify which columns are our predictors and which is our target - added loan purpose and postal code\n",
    "\n",
    "cols= ['ORIGINAL_INTEREST_RATE', 'CREDIT_SCORE', 'First Time Homebuyer Flag_N','ORIGINAL_DEBT_TO_INCOME_RATIO', 'NUMBER_OF_BORROWERS','POSTAL_CODE','LOAN_PURPOSE']\n",
    "selected_df = df[cols]\n",
    "selected_df = selected_df.dropna()\n",
    "\n",
    "feature_cols= ['CREDIT_SCORE', 'First Time Homebuyer Flag_N','ORIGINAL_DEBT_TO_INCOME_RATIO', 'NUMBER_OF_BORROWERS']\n",
    "predictors = selected_df[feature_cols]\n",
    "target_col = ['ORIGINAL_INTEREST_RATE']\n",
    "target = selected_df[target_col]\n",
    "\n",
    "#split data into training set and test set\n",
    "x_train, x_test, y_train, y_test =  train_test_split(predictors,target,test_size = 0.3)\n",
    "\n",
    "#initiate the linear regression model\n",
    "linreg = LinearRegression()\n",
    "#fit it to the training data\n",
    "linreg.fit(x_train,y_train)\n",
    "y_pred = linreg.predict(x_test)\n",
    "\n",
    "#print the mean absolute error, mean squared error, and root mean squared error to evaluate the model\n",
    "print('MAE:', metrics.mean_absolute_error(y_test, y_pred))\n",
    "print('MSE:', metrics.mean_squared_error(y_test, y_pred))\n",
    "print('RMSE:', np.sqrt(metrics.mean_squared_error(y_test, y_pred)))"
   ]
  },
  {
   "cell_type": "markdown",
   "id": "2a1eef26",
   "metadata": {},
   "source": [
    "The above model is the full model for all of the variables we are looking at. However, we might not need the full model, in fact the full model could be overfitting the data. We will next use various selection methods to create different models and then we will compare the models."
   ]
  },
  {
   "cell_type": "code",
   "execution_count": 3,
   "id": "9dd8b6fe",
   "metadata": {},
   "outputs": [],
   "source": [
    "#Best Subset"
   ]
  },
  {
   "cell_type": "code",
   "execution_count": 4,
   "id": "50b48693",
   "metadata": {},
   "outputs": [],
   "source": [
    "#Forward selection\n",
    "\n"
   ]
  },
  {
   "cell_type": "code",
   "execution_count": 5,
   "id": "f65043a3",
   "metadata": {},
   "outputs": [],
   "source": [
    "#Backward Selection"
   ]
  },
  {
   "cell_type": "code",
   "execution_count": 6,
   "id": "d2262974",
   "metadata": {},
   "outputs": [],
   "source": [
    "#AIC BIC Mallow's CP, Adjusted R squared"
   ]
  },
  {
   "cell_type": "code",
   "execution_count": 7,
   "id": "fd4b870a",
   "metadata": {},
   "outputs": [],
   "source": [
    "#Ridge Regression"
   ]
  },
  {
   "cell_type": "markdown",
   "id": "36ccdd39",
   "metadata": {},
   "source": [
    "##Least Absolute Shrinkage and Selection Operator (LASSO)\n",
    "\n",
    "This regression analysis method is useful for prediction accuracy and interpretability of statistical models. The model uses shrinkage which is where data values are shrunk towards a central point as the mean, thus encouraging simple and sparse models. \n",
    "\n",
    "\n"
   ]
  },
  {
   "cell_type": "code",
   "execution_count": 9,
   "id": "b462b65b",
   "metadata": {},
   "outputs": [],
   "source": [
    "#Tuning Parameters"
   ]
  }
 ],
 "metadata": {
  "kernelspec": {
   "display_name": "Python 3 (ipykernel)",
   "language": "python",
   "name": "python3"
  },
  "language_info": {
   "codemirror_mode": {
    "name": "ipython",
    "version": 3
   },
   "file_extension": ".py",
   "mimetype": "text/x-python",
   "name": "python",
   "nbconvert_exporter": "python",
   "pygments_lexer": "ipython3",
   "version": "3.9.7"
  }
 },
 "nbformat": 4,
 "nbformat_minor": 5
}
