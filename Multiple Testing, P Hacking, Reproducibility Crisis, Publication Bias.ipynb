{
 "cells": [
  {
   "cell_type": "markdown",
   "id": "636dd16e",
   "metadata": {},
   "source": [
    "# Multiple Testing, P-Hacking, Reproducibility Crisis, Publication Bias \n",
    "\n",
    "## Background reading:\n",
    "*Intro to Statistical Learning*: Chapter 13 and Chapter 11 Section 5.4\n",
    "\n",
    "*Ethical Algorithm*: Chapter 4\n",
    "\n",
    "## Dataset:\n",
    "(include link to source)\n",
    "\n",
    "Attribute columns:\n",
    "1. \n",
    "\n"
   ]
  },
  {
   "cell_type": "markdown",
   "id": "4050680d",
   "metadata": {},
   "source": [
    "### Example Code"
   ]
  },
  {
   "cell_type": "code",
   "execution_count": null,
   "id": "d51a757f-32c4-454c-9b01-253faa7dc716",
   "metadata": {},
   "outputs": [],
   "source": [
    "import pandas as pd\n",
    "import math\n",
    "import random\n",
    "import numpy as np\n",
    "import seaborn as sns\n",
    "import matplotlib.pyplot as plt\n",
    "from sklearn.model_selection import train_test_split\n",
    "from sklearn.linear_model import LogisticRegression\n",
    "from sklearn import metrics"
   ]
  },
  {
   "cell_type": "markdown",
   "id": "d8443058",
   "metadata": {},
   "source": [
    "## AI in fabrics of society:\n",
    "(insert text)\n",
    "\n"
   ]
  },
  {
   "cell_type": "code",
   "execution_count": null,
   "id": "c3ee0ace",
   "metadata": {},
   "outputs": [],
   "source": []
  }
 ],
 "metadata": {
  "celltoolbar": "附件",
  "kernelspec": {
   "display_name": "Python 3 (ipykernel)",
   "language": "python",
   "name": "python3"
  },
  "language_info": {
   "codemirror_mode": {
    "name": "ipython",
    "version": 3
   },
   "file_extension": ".py",
   "mimetype": "text/x-python",
   "name": "python",
   "nbconvert_exporter": "python",
   "pygments_lexer": "ipython3",
   "version": "3.8.13"
  }
 },
 "nbformat": 4,
 "nbformat_minor": 5
}
