{
 "cells": [
  {
   "cell_type": "markdown",
   "id": "636dd16e",
   "metadata": {},
   "source": [
    "# Multiple Testing, P-Hacking, Reproducibility Crisis, Publication Bias \n",
    "\n",
    "## Background reading:\n",
    "*Intro to Statistical Learning*: Chapter 13 and Chapter 11 Section 5.4\n",
    "\n",
    "*Ethical Algorithm*: Chapter 4\n",
    "\n",
    "## Dataset:\n",
    "(include link to source)\n",
    "\n",
    "Attribute columns:\n",
    "1. \n",
    "\n"
   ]
  },
  {
   "cell_type": "markdown",
   "id": "4050680d",
   "metadata": {},
   "source": [
    "### Example Code"
   ]
  },
  {
   "cell_type": "code",
   "execution_count": 6,
   "id": "d51a757f-32c4-454c-9b01-253faa7dc716",
   "metadata": {},
   "outputs": [],
   "source": [
    "import pandas as pd\n",
    "import math\n",
    "import random\n",
    "import numpy as np\n",
    "from random import sample"
   ]
  },
  {
   "cell_type": "code",
   "execution_count": 3,
   "id": "c3ee0ace",
   "metadata": {},
   "outputs": [],
   "source": [
    "df = pd.read_csv(\"femaleControlsPopulation.csv\")"
   ]
  },
  {
   "cell_type": "code",
   "execution_count": 94,
   "id": "bed44b87",
   "metadata": {},
   "outputs": [],
   "source": [
    "control_ = {}\n",
    "for j in range(0,1000): \n",
    "    control_[j] = df.sample(n=12)\n",
    "    \n"
   ]
  },
  {
   "cell_type": "code",
   "execution_count": 55,
   "id": "f6bac933",
   "metadata": {},
   "outputs": [],
   "source": [
    "treatment_ = {}\n",
    "for j in range(0,1000): \n",
    "    treatment_[j] = df.sample(n=12)\n"
   ]
  },
  {
   "cell_type": "code",
   "execution_count": 56,
   "id": "70e35306",
   "metadata": {},
   "outputs": [],
   "source": [
    "from scipy import stats\n",
    "pvalue = {}\n",
    "for j in range(0,1000): \n",
    "    a=stats.ttest_ind(control_[j]['Bodyweight'],treatment_[j]['Bodyweight'])\n",
    "    pvalue[j] = a[1]"
   ]
  },
  {
   "cell_type": "code",
   "execution_count": 70,
   "id": "faef8cc7",
   "metadata": {},
   "outputs": [
    {
     "data": {
      "text/plain": [
       "43"
      ]
     },
     "execution_count": 70,
     "metadata": {},
     "output_type": "execute_result"
    }
   ],
   "source": [
    "#Numbers of False Positive\n",
    "len([v for v in pvalue.values() if float(v) <0.05])"
   ]
  },
  {
   "cell_type": "code",
   "execution_count": 82,
   "id": "dcfb025a",
   "metadata": {},
   "outputs": [
    {
     "name": "stdout",
     "output_type": "stream",
     "text": [
      "Collecting multipy\n",
      "  Downloading multipy-0.16.tar.gz (28 kB)\n",
      "Building wheels for collected packages: multipy\n",
      "  Building wheel for multipy (setup.py): started\n",
      "  Building wheel for multipy (setup.py): finished with status 'done'\n",
      "  Created wheel for multipy: filename=multipy-0.16-py3-none-any.whl size=41449 sha256=52687273518b6fbd5c58a1f1c3ad7d5b5371517bdd3b2aab0b3a8a3a3a5d77ca\n",
      "  Stored in directory: c:\\users\\steve\\appdata\\local\\pip\\cache\\wheels\\39\\10\\f8\\4b36adbd7a41101fc92649c71e3c44c69c7c9dabe86fcd3013\n",
      "Successfully built multipy\n",
      "Installing collected packages: multipy\n",
      "Successfully installed multipy-0.16\n",
      "Note: you may need to restart the kernel to use updated packages.\n"
     ]
    }
   ],
   "source": [
    "#pip install multipy"
   ]
  },
  {
   "cell_type": "code",
   "execution_count": 85,
   "id": "e3f9353f",
   "metadata": {},
   "outputs": [],
   "source": [
    "import pandas as pd\n",
    "#Import the data samples\n",
    "from multipy.data import neuhaus\n",
    "#Import the FWER methods \n",
    "from multipy.fwer import bonferroni, holm_bonferroni\n",
    "#Import the FDR methods (LSU is the other name for BH method)\n",
    "from multipy.fdr import lsu\n"
   ]
  },
  {
   "cell_type": "code",
   "execution_count": 90,
   "id": "769069f9",
   "metadata": {},
   "outputs": [],
   "source": [
    "pvals = neuhaus()\n",
    "df = pd.DataFrame({'Features': ['Feature {}'.format(i) for i in range(1,len(pvals)+1  )], 'P-value':pvals})"
   ]
  },
  {
   "cell_type": "code",
   "execution_count": 91,
   "id": "d538de31",
   "metadata": {},
   "outputs": [],
   "source": [
    "#Set the alpha level for your desired significant level\n",
    "df['Hypothesis Correction Result'] = bonferroni(pvals, alpha = 0.05)"
   ]
  },
  {
   "cell_type": "code",
   "execution_count": 92,
   "id": "e8c149f3",
   "metadata": {},
   "outputs": [],
   "source": [
    "df['Hypothesis Correction Result'] = holm_bonferroni(pvals, alpha = 0.05)"
   ]
  },
  {
   "cell_type": "code",
   "execution_count": 93,
   "id": "28faa43a",
   "metadata": {},
   "outputs": [],
   "source": [
    "#set the q parameter to the FDR rate you want\n",
    "df['Hypothesis Correction Result'] = lsu(pvals, q = 0.05)"
   ]
  }
 ],
 "metadata": {
  "celltoolbar": "附件",
  "kernelspec": {
   "display_name": "Python 3 (ipykernel)",
   "language": "python",
   "name": "python3"
  },
  "language_info": {
   "codemirror_mode": {
    "name": "ipython",
    "version": 3
   },
   "file_extension": ".py",
   "mimetype": "text/x-python",
   "name": "python",
   "nbconvert_exporter": "python",
   "pygments_lexer": "ipython3",
   "version": "3.9.12"
  }
 },
 "nbformat": 4,
 "nbformat_minor": 5
}
