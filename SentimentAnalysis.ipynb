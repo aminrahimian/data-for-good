{
 "cells": [
  {
   "cell_type": "markdown",
   "metadata": {
    "id": "W2-SXU9xWTa6"
   },
   "source": [
    "# Sentiment Analysis\n",
    "## Background Reading:\n",
    "\n",
    "*Intro to Statistical Learning*: 10.4 Document Classification, 10.5 Recurrent Neural Network (Page 419-431)\n",
    "\n",
    "*Ethical Algorithm*: Chapter 5, Risky Business (Page 178-188)\n",
    "\n",
    "## Essence of Data"
   ]
  },
  {
   "cell_type": "code",
   "execution_count": 1,
   "metadata": {
    "colab": {
     "base_uri": "https://localhost:8080/"
    },
    "id": "rID1DKeYfbRI",
    "outputId": "1d748b48-5fef-45c9-d9f5-d28186d90c2e"
   },
   "outputs": [
    {
     "name": "stdout",
     "output_type": "stream",
     "text": [
      "Requirement already satisfied: transformers in c:\\users\\glori\\appdata\\roaming\\jupyterlab-desktop\\jlab_server\\lib\\site-packages (4.22.2)\n",
      "Requirement already satisfied: huggingface-hub<1.0,>=0.9.0 in c:\\users\\glori\\appdata\\roaming\\jupyterlab-desktop\\jlab_server\\lib\\site-packages (from transformers) (0.9.1)\n",
      "Requirement already satisfied: tokenizers!=0.11.3,<0.13,>=0.11.1 in c:\\users\\glori\\appdata\\roaming\\jupyterlab-desktop\\jlab_server\\lib\\site-packages (from transformers) (0.12.1)\n",
      "Requirement already satisfied: numpy>=1.17 in c:\\users\\glori\\appdata\\roaming\\jupyterlab-desktop\\jlab_server\\lib\\site-packages (from transformers) (1.23.2)\n",
      "Requirement already satisfied: packaging>=20.0 in c:\\users\\glori\\appdata\\roaming\\jupyterlab-desktop\\jlab_server\\lib\\site-packages (from transformers) (21.3)\n",
      "Requirement already satisfied: regex!=2019.12.17 in c:\\users\\glori\\appdata\\roaming\\jupyterlab-desktop\\jlab_server\\lib\\site-packages (from transformers) (2022.9.13)\n",
      "Requirement already satisfied: tqdm>=4.27 in c:\\users\\glori\\appdata\\roaming\\jupyterlab-desktop\\jlab_server\\lib\\site-packages (from transformers) (4.64.1)\n",
      "Requirement already satisfied: requests in c:\\users\\glori\\appdata\\roaming\\jupyterlab-desktop\\jlab_server\\lib\\site-packages (from transformers) (2.28.1)\n",
      "Requirement already satisfied: pyyaml>=5.1 in c:\\users\\glori\\appdata\\roaming\\jupyterlab-desktop\\jlab_server\\lib\\site-packages (from transformers) (6.0)\n",
      "Requirement already satisfied: filelock in c:\\users\\glori\\appdata\\roaming\\jupyterlab-desktop\\jlab_server\\lib\\site-packages (from transformers) (3.8.0)\n",
      "Requirement already satisfied: typing-extensions>=3.7.4.3 in c:\\users\\glori\\appdata\\roaming\\jupyterlab-desktop\\jlab_server\\lib\\site-packages (from huggingface-hub<1.0,>=0.9.0->transformers) (4.3.0)\n",
      "Requirement already satisfied: pyparsing!=3.0.5,>=2.0.2 in c:\\users\\glori\\appdata\\roaming\\jupyterlab-desktop\\jlab_server\\lib\\site-packages (from packaging>=20.0->transformers) (3.0.9)\n",
      "Requirement already satisfied: colorama in c:\\users\\glori\\appdata\\roaming\\jupyterlab-desktop\\jlab_server\\lib\\site-packages (from tqdm>=4.27->transformers) (0.4.5)\n",
      "Requirement already satisfied: charset-normalizer<3,>=2 in c:\\users\\glori\\appdata\\roaming\\jupyterlab-desktop\\jlab_server\\lib\\site-packages (from requests->transformers) (2.1.1)\n",
      "Requirement already satisfied: idna<4,>=2.5 in c:\\users\\glori\\appdata\\roaming\\jupyterlab-desktop\\jlab_server\\lib\\site-packages (from requests->transformers) (3.3)\n",
      "Requirement already satisfied: urllib3<1.27,>=1.21.1 in c:\\users\\glori\\appdata\\roaming\\jupyterlab-desktop\\jlab_server\\lib\\site-packages (from requests->transformers) (1.26.11)\n",
      "Requirement already satisfied: certifi>=2017.4.17 in c:\\users\\glori\\appdata\\roaming\\jupyterlab-desktop\\jlab_server\\lib\\site-packages (from requests->transformers) (2022.9.14)\n",
      "Requirement already satisfied: umap-learn in c:\\users\\glori\\appdata\\roaming\\jupyterlab-desktop\\jlab_server\\lib\\site-packages (0.5.3)\n",
      "Requirement already satisfied: numpy>=1.17 in c:\\users\\glori\\appdata\\roaming\\jupyterlab-desktop\\jlab_server\\lib\\site-packages (from umap-learn) (1.23.2)\n",
      "Requirement already satisfied: pynndescent>=0.5 in c:\\users\\glori\\appdata\\roaming\\jupyterlab-desktop\\jlab_server\\lib\\site-packages (from umap-learn) (0.5.7)\n",
      "Requirement already satisfied: numba>=0.49 in c:\\users\\glori\\appdata\\roaming\\jupyterlab-desktop\\jlab_server\\lib\\site-packages (from umap-learn) (0.56.2)\n",
      "Requirement already satisfied: scipy>=1.0 in c:\\users\\glori\\appdata\\roaming\\jupyterlab-desktop\\jlab_server\\lib\\site-packages (from umap-learn) (1.9.1)\n",
      "Requirement already satisfied: tqdm in c:\\users\\glori\\appdata\\roaming\\jupyterlab-desktop\\jlab_server\\lib\\site-packages (from umap-learn) (4.64.1)\n",
      "Requirement already satisfied: scikit-learn>=0.22 in c:\\users\\glori\\appdata\\roaming\\jupyterlab-desktop\\jlab_server\\lib\\site-packages (from umap-learn) (1.1.2)\n",
      "Requirement already satisfied: importlib-metadata in c:\\users\\glori\\appdata\\roaming\\jupyterlab-desktop\\jlab_server\\lib\\site-packages (from numba>=0.49->umap-learn) (4.11.4)\n",
      "Requirement already satisfied: setuptools<60 in c:\\users\\glori\\appdata\\roaming\\jupyterlab-desktop\\jlab_server\\lib\\site-packages (from numba>=0.49->umap-learn) (59.8.0)\n",
      "Requirement already satisfied: llvmlite<0.40,>=0.39.0dev0 in c:\\users\\glori\\appdata\\roaming\\jupyterlab-desktop\\jlab_server\\lib\\site-packages (from numba>=0.49->umap-learn) (0.39.1)\n",
      "Requirement already satisfied: joblib>=0.11 in c:\\users\\glori\\appdata\\roaming\\jupyterlab-desktop\\jlab_server\\lib\\site-packages (from pynndescent>=0.5->umap-learn) (1.2.0)\n",
      "Requirement already satisfied: threadpoolctl>=2.0.0 in c:\\users\\glori\\appdata\\roaming\\jupyterlab-desktop\\jlab_server\\lib\\site-packages (from scikit-learn>=0.22->umap-learn) (3.1.0)\n",
      "Requirement already satisfied: colorama in c:\\users\\glori\\appdata\\roaming\\jupyterlab-desktop\\jlab_server\\lib\\site-packages (from tqdm->umap-learn) (0.4.5)\n",
      "Requirement already satisfied: zipp>=0.5 in c:\\users\\glori\\appdata\\roaming\\jupyterlab-desktop\\jlab_server\\lib\\site-packages (from importlib-metadata->numba>=0.49->umap-learn) (3.8.1)\n"
     ]
    }
   ],
   "source": [
    "#install transformers\n",
    "!pip install  transformers \n",
    "\n",
    "#install umap\n",
    "!pip install umap-learn\n"
   ]
  },
  {
   "cell_type": "code",
   "execution_count": 6,
   "metadata": {
    "colab": {
     "base_uri": "https://localhost:8080/"
    },
    "id": "UgA5lcSKWTbA",
    "outputId": "5bb2281f-538e-4981-fd77-7f3e7fc1667e"
   },
   "outputs": [
    {
     "name": "stderr",
     "output_type": "stream",
     "text": [
      "'git' is not recognized as an internal or external command,\n",
      "operable program or batch file.\n"
     ]
    }
   ],
   "source": [
    "!git clone https://github.com/zlisto/sentiment_analysis"
   ]
  },
  {
   "cell_type": "code",
   "execution_count": 3,
   "metadata": {
    "id": "RpoOj0WbfkX9"
   },
   "outputs": [
    {
     "ename": "FileNotFoundError",
     "evalue": "[WinError 2] The system cannot find the file specified: 'sentiment_analysis'",
     "output_type": "error",
     "traceback": [
      "\u001b[1;31m---------------------------------------------------------------------------\u001b[0m",
      "\u001b[1;31mFileNotFoundError\u001b[0m                         Traceback (most recent call last)",
      "Cell \u001b[1;32mIn [3], line 2\u001b[0m\n\u001b[0;32m      1\u001b[0m \u001b[38;5;28;01mimport\u001b[39;00m \u001b[38;5;21;01mos\u001b[39;00m\n\u001b[1;32m----> 2\u001b[0m \u001b[43mos\u001b[49m\u001b[38;5;241;43m.\u001b[39;49m\u001b[43mchdir\u001b[49m\u001b[43m(\u001b[49m\u001b[38;5;124;43m\"\u001b[39;49m\u001b[38;5;124;43msentiment_analysis\u001b[39;49m\u001b[38;5;124;43m\"\u001b[39;49m\u001b[43m)\u001b[49m\n",
      "\u001b[1;31mFileNotFoundError\u001b[0m: [WinError 2] The system cannot find the file specified: 'sentiment_analysis'"
     ]
    }
   ],
   "source": [
    "\n",
    "\n",
    "import os\n",
    "os.chdir(\"sentiment_analysis\")"
   ]
  },
  {
   "cell_type": "code",
   "execution_count": null,
   "metadata": {
    "colab": {
     "base_uri": "https://localhost:8080/"
    },
    "id": "p2siieYufm_-",
    "outputId": "30ec6d0a-735e-4bec-d53f-55756d7ba242"
   },
   "outputs": [],
   "source": [
    "import pandas as pd\n",
    "import matplotlib.pyplot as plt\n",
    "import seaborn as sns\n",
    "import numpy as np\n",
    "import codecs\n",
    "import umap\n",
    "from transformers import AutoTokenizer, AutoModelForSequenceClassification\n",
    "import torch\n",
    "\n",
    "\n",
    "device = torch.device('cuda' if torch.cuda.is_available() else 'cpu')\n",
    "\n",
    "print(f\"device ={device}\")"
   ]
  },
  {
   "cell_type": "code",
   "execution_count": null,
   "metadata": {
    "colab": {
     "base_uri": "https://localhost:8080/",
     "height": 177,
     "referenced_widgets": [
      "b8f4647055774b99aeb1491bb7c5047c",
      "ccde11957d424c449318f6986980a0dc",
      "850ba70d0b9f4955a19f70ff97c5fdad",
      "57a1165a34094ac395eb055dd560f2ea",
      "fbea0c16b55649b883a3d2a6705660be",
      "5d453a5e98d3432b8983b89c5d067351",
      "936f0aad25a84b50b986d39e8c3b05ef",
      "c9c5ca064a114dc7a6efa1d989493182",
      "da2305527e0d44b3b354878ff79f325e",
      "9438a560e38b4ef4bd96369f2cf7857c",
      "81744ada47f94986ae4306fe81f7be88",
      "3da2095f90884932a906ba062bb94d6e",
      "0278db02f1d54433820056bcc3b69d8a",
      "66f1a3bf09f04d77abe9dcc8a509d94e",
      "a6097dcb2e1740b78b11b26d594c4b9a",
      "53ab9ec9be0549be908f331ada8b08b2",
      "7f0c9b9200b544f4a2a8e66e8b7b0663",
      "375668b62d004e5091e003a6455fb02e",
      "927f805f1e5f45118b50d1e349e812bd",
      "65797a51236b46f2b5ed13e0c0b0b84c",
      "1e3b0af31ee64187aec5a4c23c1d9a66",
      "f6b4890290b549a6aa67b72616be31a8",
      "076cc967d9fc494c9590e7bae3ddd9d5",
      "13f7b9875ce04b44b23063f6ed998d1c",
      "fcb36d6db1fd4837b838fb32993b6374",
      "99f62e142f304967a81b11091b05f059",
      "4403f8974df0417eb71b75dff6ba3f7d",
      "d54c2414428245c0a677a0fafaa399cd",
      "91763859f2354c8cb709bd933eda63ae",
      "85cd0f7ff93c45d49b92c18669301fef",
      "4cf67b55d06c42df8febca2bc29ba742",
      "57ace74e1ad042269aa029735922f930",
      "397bb0f69a53408aa43e08cde00df74a",
      "09a0187a937640a0a63ac7be78750574",
      "c5bb356dfb7f4002b40932e7f45f2787",
      "71f8808b0f1742c4b424d9810490e039",
      "b9ff5c9857c3424fb07f651366541d81",
      "55f6f2a090ac41689385ce6fdadc1317",
      "53ae2e75b74c4f9ebc8da0ae5b5a87c4",
      "ace0a1b7d7c042aba8d6eb2ec6e56111",
      "e38f05428f7044b2b4872698bb081943",
      "b5b3983d6a6c4d08bc7b08abb25521ae",
      "4db54c0310a940be841c3f192ef77abb",
      "c6e3456684b24cd5babbd326a5a61b26",
      "28bd14a48adb4f65b5077a202403f2f0",
      "81f30dbaa3c148958db97388a2dca007",
      "cc8a59363c9a4bf7aad5d1a7eabe2db7",
      "feadbd6dad0b4089a583cf90d239418f",
      "8c5c908a653f408392e4a5c2cea1656d",
      "27170059e92a4d5f8e1bc21c8dfb127f",
      "d30134017da146e791b4a4f31786adba",
      "ea42f53924634b80b0c4f8c70a1e6532",
      "12a5ebfb58914b0aa83f69e97ef6d4b3",
      "1a494a9676e94d509e0978b1ad6c47c7",
      "edd4c23e87c141b1be15f22439afcb85"
     ]
    },
    "id": "iA_KCdsffv2F",
    "outputId": "aca56a6c-6d12-4999-e17c-770abb777b63"
   },
   "outputs": [],
   "source": [
    "tokenizer = AutoTokenizer.from_pretrained(\"nlptown/bert-base-multilingual-uncased-sentiment\")\n",
    "model = AutoModelForSequenceClassification.from_pretrained(\"nlptown/bert-base-multilingual-uncased-sentiment\")\n"
   ]
  },
  {
   "cell_type": "code",
   "execution_count": 6,
   "metadata": {
    "id": "Jd58OqgZf0vK"
   },
   "outputs": [],
   "source": [
    "def sentiment_classifier(text,model,tokenizer):\n",
    "    inputs = tokenizer.encode_plus(text, return_tensors='pt', add_special_tokens=True)\n",
    "\n",
    "    token_type_ids = inputs['token_type_ids']\n",
    "    input_ids = inputs['input_ids']\n",
    "\n",
    "    output = model(input_ids, token_type_ids=token_type_ids,return_dict=True,output_hidden_states=True)\n",
    "    logits = np.array(output.logits.tolist()[0])\n",
    "    prob = np.exp(logits)/np.sum(np.exp(logits))\n",
    "    sentiment = np.sum([(x+1)*prob[x] for x in range(len(prob))])  #use this line if you want the mean score\n",
    "    embedding = output.hidden_states[12].detach().numpy().squeeze()[0]\n",
    "    \n",
    "    return sentiment, embedding\n"
   ]
  },
  {
   "cell_type": "code",
   "execution_count": null,
   "metadata": {
    "id": "IEEUdwdjf5aq"
   },
   "outputs": [],
   "source": [
    "Text = [\"This class is kinda boring, but informative\", \n",
    "        \"This class is awesome\", \n",
    "        \"this class is ok\", \n",
    "        \"this class is stupid\",\n",
    "        \"this class is fun\",\n",
    "       \"this class is fun!\",\n",
    "       \"this class is :(\",\n",
    "       \"this class is :)\",\n",
    "]"
   ]
  },
  {
   "cell_type": "code",
   "execution_count": null,
   "metadata": {
    "colab": {
     "base_uri": "https://localhost:8080/"
    },
    "id": "ilILY_JBgCik",
    "outputId": "900121ea-b151-4b77-8e45-bf20e3be06f3"
   },
   "outputs": [
    {
     "name": "stdout",
     "output_type": "stream",
     "text": [
      "Text: This class is kinda boring, but informative\n",
      "Sentiment:3.12\n",
      "\n",
      "Text: This class is awesome\n",
      "Sentiment:4.84\n",
      "\n",
      "Text: this class is ok\n",
      "Sentiment:3.27\n",
      "\n",
      "Text: this class is stupid\n",
      "Sentiment:1.24\n",
      "\n",
      "Text: this class is fun\n",
      "Sentiment:4.26\n",
      "\n",
      "Text: this class is fun!\n",
      "Sentiment:4.44\n",
      "\n",
      "Text: this class is :(\n",
      "Sentiment:3.57\n",
      "\n",
      "Text: this class is :)\n",
      "Sentiment:4.29\n",
      "\n"
     ]
    }
   ],
   "source": [
    "for text in Text:\n",
    "    sentiment,embedding = sentiment_classifier(text,model,tokenizer)\n",
    "    print(f\"Text: {text}\\nSentiment:{sentiment:.2f}\\n\")"
   ]
  },
  {
   "cell_type": "code",
   "execution_count": null,
   "execution_count": 9,
   "metadata": {
    "colab": {
     "base_uri": "https://localhost:8080/"
    },
    "id": "SzIzF4PxgDKz",
    "outputId": "30379acb-3071-4f3c-b180-797760e6094a"
   },
   "outputs": [
    {
     "name": "stdout",
     "output_type": "stream",
     "text": [
      "dataframe has 29056 tweets\n",
      "\n",
      "Tweets from elonmusk\n",
      "Tweets from MichelleObama\n",
      "Tweets from BarackObama\n",
      "Tweets from AOC\n",
      "Tweets from KingJames\n",
      "Tweets from KimKardashian\n",
      "Tweets from mtgreenee\n",
      "Tweets from nytimes\n",
      "Tweets from kanyewest\n",
      "Tweets from JoeBiden\n"
     ]
    }
   ],
   "source": [
    "df = pd.read_csv(\"data/tweets_sentiment_embedding.csv\")\n",
    "\n",
    "df = df[['screen_name','text','retweet_count']]\n",
    "ntweets = len(df)\n",
    "print(f\"dataframe has {ntweets} tweets\\n\")\n",
    "[print(f\"Tweets from {x}\") for x in df.screen_name.unique()];\n"
   ]
  },
  {
   "cell_type": "code",
   "execution_count": null,
   "metadata": {
    "colab": {
     "background_save": true,
     "base_uri": "https://localhost:8080/"
    },
    "id": "LO_gRbbBgKXP",
    "outputId": "2884a50c-af70-4cc9-ae7a-52453d5ad7a8"
   },
   "outputs": [
    {
     "name": "stdout",
     "output_type": "stream",
     "text": [
      "Tweet 1000/29056\n",
      "Tweet 2000/29056\n",
      "Tweet 3000/29056\n",
      "Tweet 4000/29056\n",
      "Tweet 5000/29056\n",
      "Tweet 6000/29056\n",
      "Tweet 7000/29056\n",
      "Tweet 8000/29056\n",
      "Tweet 9000/29056\n",
      "Tweet 10000/29056\n",
      "Tweet 11000/29056\n",
      "Tweet 12000/29056\n",
      "Tweet 13000/29056\n",
      "Tweet 14000/29056\n",
      "Tweet 15000/29056\n",
      "Tweet 16000/29056\n",
      "Tweet 17000/29056\n",
      "Tweet 18000/29056\n",
      "Tweet 19000/29056\n"
     ]
    }
   ],
   "source": [
    "%%time\n",
    "c = 0\n",
    "Sentiment = []\n",
    "Embedding = []\n",
    "for index,row in df.iterrows():\n",
    "    c+=1\n",
    "    if c%1000==0:print(f\"Tweet {c}/{len(df)}\")\n",
    "    sentiment,embedding = sentiment_classifier(row.text,model,tokenizer)\n",
    "    Sentiment.append(sentiment)\n",
    "    Embedding.append(embedding)\n",
    "\n",
    "df['sentiment'] = Sentiment\n",
    "df.to_csv(\"data/tweets_sentiment.csv\")\n",
    "df.head()\n",
    "    "
   ]
  },
  {
   "cell_type": "code",
   "execution_count": null,
   "metadata": {
    "id": "dIOi2RoIgOCc"
   },
   "outputs": [],
   "source": [
    "df = pd.read_csv(\"data/tweets_sentiment_embedding.csv\")\n",
    "\n",
    "print(f\"dataframe has {len(df)} tweets\")\n",
    "[print(f\"Tweets from {x}\") for x in df.screen_name.unique()];\n",
    "df.sample(n=5)"
   ]
  },
  {
   "cell_type": "code",
   "execution_count": null,
   "metadata": {
    "id": "wSResZLmgOte"
   },
   "outputs": [],
   "source": [
    "fig = plt.figure(figsize = (16,6))\n",
    "sns.barplot(data = df, y= 'sentiment', x = 'screen_name' )\n",
    "plt.ylim([2,4])\n",
    "plt.ylabel(\"Mean sentiment\",fontsize = 16)\n",
    "plt.grid()\n",
    "plt.ylim([0,5]);\n",
    "plt.show()"
   ]
  },
  {
   "cell_type": "code",
   "execution_count": null,
   "metadata": {
    "id": "PtxknPfMgT8z"
   },
   "outputs": [],
   "source": [
    "for screen_name in df.screen_name.unique():\n",
    "  sns.histplot(data = df[df.screen_name==screen_name], x = 'sentiment')\n",
    "  plt.title(f\"Tweets of {screen_name}\", fontsize = 14)\n",
    "  plt.show()"
   ]
  },
  {
   "cell_type": "code",
   "execution_count": null,
   "metadata": {
    "id": "6KvyCUYsgYDM"
   },
   "outputs": [],
   "source": [
    "ndisplay = 3\n",
    "print(f\"Top {ndisplay} most postive tweets per screen name\")\n",
    "for screen_name in df.screen_name.unique():\n",
    "    df_display = df[(df.screen_name==screen_name)].sort_values(by = ['sentiment'], \n",
    "                                                               ascending = False)\n",
    "    c=0\n",
    "    print(f\"\\n{screen_name}\")\n",
    "    for index,row in df_display.iterrows():\n",
    "        c+=1\n",
    "        text = codecs.decode(row.text, 'unicode_escape')\n",
    "        print(f\"\\tsentiment = {row.sentiment:.2f}: {text}\")\n",
    "        if c>=ndisplay:break\n",
    "\n",
    "print(\"\".join('-' * 200))\n",
    "\n",
    "print(f\"Top {ndisplay} Most Negative Tweets per Screen Name\")\n",
    "for screen_name in df.screen_name.unique():\n",
    "    df_display = df[(df.screen_name==screen_name)].sort_values(by = ['sentiment'], ascending = True)\n",
    "    c=0\n",
    "    print(f\"\\n{screen_name}\")\n",
    "    for index,row in df_display.iterrows():\n",
    "        c+=1\n",
    "        text = codecs.decode(row.text, 'unicode_escape')\n",
    "        print(f\"\\tsentiment = {row.sentiment:.2f}: {text}\")\n",
    "        if c>=ndisplay:break\n",
    "\n"
   ]
  },
  {
   "cell_type": "code",
   "execution_count": null,
   "metadata": {
    "id": "UpZ-N7Exgdzw"
   },
   "outputs": [],
   "source": [
    "df['star'] = df.sentiment.round()\n",
    "\n",
    "fig = plt.figure(figsize = (12,8))\n",
    "sns.boxplot(data=df, x=\"star\", y=\"retweet_count\")\n",
    "ymax = df.retweet_count.quantile(0.95)\n",
    "plt.ylim([0,ymax])\n",
    "plt.xlabel(\"Sentiment\", fontsize = 16)\n",
    "plt.ylabel(\"Retweet Count\", fontsize = 16)\n",
    "plt.grid()\n",
    "plt.show()"
   ]
  },
  {
   "cell_type": "code",
   "execution_count": null,
   "metadata": {
    "id": "zJVaPA4GgejW"
   },
   "outputs": [],
   "source": [
    "for screen_name in df.screen_name.unique():\n",
    "    fig = plt.figure(figsize = (12,8))\n",
    "    df_plot = df[df.screen_name==screen_name]\n",
    "    ax = sns.boxplot(data=df_plot, x=\"star\", y=\"retweet_count\")\n",
    "    ymax = df_plot.retweet_count.quantile(q=0.9)\n",
    "    plt.ylim([0,ymax])\n",
    "    plt.xlabel(\"Sentiment\", fontsize = 16)\n",
    "    plt.ylabel(\"Retweet Count\", fontsize = 16)\n",
    "    plt.title(f\"{screen_name}\", fontsize = 16)\n",
    "    plt.grid()\n",
    "    plt.show()"
   ]
  },
  {
   "cell_type": "code",
   "execution_count": null,
   "metadata": {
    "id": "88mJnxjMgkh2"
   },
   "outputs": [],
   "source": [
    "for screen_name in df.screen_name.unique():\n",
    "  fig = plt.figure(figsize = (8,8))\n",
    "  sns.scatterplot(data=df[df.screen_name == screen_name], \n",
    "                  x=\"umap_transformer_x\", \n",
    "                  y=\"umap_transformer_y\", \n",
    "                  hue=\"sentiment\", \n",
    "                  palette=\"vlag\", s=15)\n",
    "  plt.title(f\"UMAP Transformer Embedding for {screen_name}\")\n",
    "  plt.show()\n"
   ]
  },
  {
   "cell_type": "markdown",
   "metadata": {
    "id": "NSEaZ-FOgnmz"
   },
   "source": [
    "## AI in fabrics of society:\n",
    "### Turing Test\n",
    "Can Machines Think like human?\n",
    "\n",
    "Artificial Intellegence is developing by leaps and bounds, which enables robots to drive the car, transfer the language and predict the future (though not accurate). But can AI think like people? Sometimes when AIs are chatting like a people like what I experienced years ago when I was chatting with Bing (AI of Bing Research Engine):\n",
    "\n",
    "![](./fig/sentiment/fig1.jpg)\n",
    "![](./fig/sentiment/fig2.jpg)\n",
    "![](./fig/sentiment/fig3.jpg)\n",
    "\n",
    "You may saw some alluring movies with the topic that AI threats human and replace us, becoming the owner of the world. Indeed, such concerns are not surprising in today's era of rapid development of artificial intelligence, which has replaced many jobs, significantly improving efficiency, but there are also potential dangers such as job losses. Consequently, whether AI can replace human beings is a topic that scientists focus on.\n",
    "\n",
    "This question confused us since AI occured. Alan Turing, a British mathematician and computer pioneer, gradually developed the basic concepts of computer science during his research on how to break German telegraph codes during World War II, and devoted himself to researching artificial intelligence after the war. In his 1950 paper Computing Machinery and Intelligence, he proposed the famous **Turing Test**, which checks whether a machine can display human intelligence by having it talk to a human, and if the human doesn't find out it's a machine, it's a success.\n",
    "\n",
    "Specifically, the Turing Test is conducted in a room where human judges talk to a real person they cannot see and to a machine, and determine which is a human and which is a machine based on the quality of the conversation. Now the Turing test conversation is usually 5 minutes long, if more than 30% of the judges treat the computer as a human, then the computer is successful. Turing had predicted that a machine would pass the Turing test in 2000 AD. As a result, an AI really passed, only 10 years later.\n",
    "\n",
    "Wiki: https://en.m.wikipedia.org/wiki/Turing_test\n",
    "\n",
    "Some competitions including **Loebner Prize** are held to find the most \"human\" computer/human. AI now becomes more similar to human beings, the competition aims at finding the most human-like one and the development level of AI.\n",
    "\n",
    "Wiki: https://en.wikipedia.org/wiki/Loebner_Prize"
   ]
  },
  {
   "cell_type": "markdown",
   "metadata": {
    "id": "tUkN3tOlwAYs"
   },
   "source": [
    "#Sentiment Analysis on Public Domain Novels## \n",
    "\n",
    "In this section, I will be doing sentiment analysis on five books publically available from Project Gutenberg: https://www.gutenberg.org/\n",
    "\n",
    "First, I import the relevant libraries needed to scrape and analyze the text. Then, for each book I want, I use the requests library to pull the full text from the link. Only the number in the link changes between books; the format stays the same otherwise. (Links were found via Google because Project Gutenberg has specific rules about bots accessing their page and will ban you if you break them!). \n",
    "\n",
    "I used the sentence tokenizer from the nltk (natural language toolkit) library to split the text into sentences. It has varying levels of success. Then, I used the sentiment classifier from above to get the sentiment of each sentence. It's important to note that there are many non-sentence sentences, such as chapter titles, or the text introducing the book. \n",
    "\n",
    "I included code to write each book to a csv file and to read them back in, so that the sentiment classifier doesn't need to be run each time you want to look at the data (it is slow). In a Jupyter Notebook, you can just use pd.read_csv('path\\to\\file.csv'), but because I was writing this in Google Colab, I had to do things a little bit differently.\n",
    "\n",
    "Because of encoding issues that occurred when pulling the text from gutenberg.org, I went into each csv and used find and replace to fix the special characters. I think this could have been done in the code using a different encoder (e.g 'latin-1' vs 'utf-8').\n",
    "\n",
    "After collecting all the data, I analyzed it to compare the sentiments of the five novels and how much I liked each of them. \n"
   ]
  },
  {
   "cell_type": "code",
   "execution_count": null,
   "metadata": {
    "id": "pf6OWXEJe7cR"
   },
   "outputs": [],
   "source": [
    "from http import HTTPStatus\n",
    "import requests\n",
    "import nltk\n",
    "nltk.download('punkt')\n",
    "from nltk.tokenize import *\n",
    "import matplotlib.pyplot as plt\n",
    "import seaborn as sns"
   ]
  },
  {
   "cell_type": "code",
   "execution_count": null,
   "metadata": {
    "id": "SES_WCf4B3AH"
   },
   "outputs": [],
   "source": [
    "#set url of the book in project gutenberg\n",
    "url = \"https://www.gutenberg.org/cache/epub/25344/pg25344.txt\"\n",
    "response = requests.get(url)\n",
    "assert response.status_code == HTTPStatus.OK\n",
    "#pull the text from the site\n",
    "source = response.text\n",
    "#break text into sentences\n",
    "tokenized_text=sent_tokenize(source)\n",
    "i=0\n",
    "#make a df with each sentence and its sentiment score\n",
    "Scarlet_df=pd.DataFrame(columns=['Text','Sentiment'])\n",
    "for sentence in tokenized_text:\n",
    "  Scarlet_df.loc[i,'Text']=sentence\n",
    "  if len(sentence)>512:\n",
    "    Scarlet_df.loc[i,'Sentiment']=sentiment_classifier(sentence[0:511],model,tokenizer)[0]\n",
    "  else:\n",
    "   Scarlet_df.loc[i,'Sentiment']=sentiment_classifier(sentence,model,tokenizer)[0]\n",
    "  if i%200==0:\n",
    "    print(i)\n",
    "  i=i+1\n",
    "Scarlet_df.to_csv('Scarlet.csv')"
   ]
  },
  {
   "cell_type": "code",
   "execution_count": null,
   "metadata": {
    "id": "PAVS51B8B22w"
   },
   "outputs": [],
   "source": [
    "#this block takes ~25 minutes to run because the book is so long\n",
    "url = \"https://www.gutenberg.org/cache/epub/98/pg98.txt\"\n",
    "response = requests.get(url)\n",
    "assert response.status_code == HTTPStatus.OK\n",
    "source = response.text\n",
    "tokenized_text=sent_tokenize(source)\n",
    "i=0\n",
    "TwoCities_df=pd.DataFrame(columns=['Text','Sentiment'])\n",
    "for sentence in tokenized_text:\n",
    "  TwoCities_df.loc[i,'Text']=sentence\n",
    "  if len(sentence)>512:\n",
    "    TwoCities_df.loc[i,'Sentiment']=sentiment_classifier(sentence[0:511],model,tokenizer)[0]\n",
    "  else:\n",
    "   TwoCities_df.loc[i,'Sentiment']=sentiment_classifier(sentence,model,tokenizer)[0]\n",
    "  if i%200==0:\n",
    "    print(i)\n",
    "  i=i+1\n",
    "TwoCities_df.to_csv('TwoCities.csv')"
   ]
  },
  {
   "cell_type": "code",
   "execution_count": null,
   "metadata": {
    "id": "1tILkxSdBg9T"
   },
   "outputs": [],
   "source": [
    "url = \"https://www.gutenberg.org/cache/epub/64317/pg64317.txt\"\n",
    "response = requests.get(url)\n",
    "assert response.status_code == HTTPStatus.OK\n",
    "source = response.text\n",
    "tokenized_text=sent_tokenize(source)\n",
    "i=0\n",
    "Gatsby_df=pd.DataFrame(columns=['Text','Sentiment'])\n",
    "for sentence in tokenized_text:\n",
    "  Gatsby_df.loc[i,'Text']=sentence\n",
    "  if len(sentence)>512:\n",
    "    Gatsby_df.loc[i,'Sentiment']=sentiment_classifier(sentence[0:511],model,tokenizer)[0]\n",
    "  else:\n",
    "   Gatsby_df.loc[i,'Sentiment']=sentiment_classifier(sentence,model,tokenizer)[0]\n",
    "  if i%200==0:\n",
    "    print(i)\n",
    "  i=i+1\n",
    "Gatsby_df.to_csv('Gatsby.csv')"
   ]
  },
  {
   "cell_type": "code",
   "execution_count": null,
   "metadata": {
    "id": "r-68RuQ9ke1s"
   },
   "outputs": [],
   "source": [
    "url = \"https://www.gutenberg.org/cache/epub/174/pg174.txt\"\n",
    "response = requests.get(url)\n",
    "assert response.status_code == HTTPStatus.OK\n",
    "source = response.text\n",
    "tokenized_text=sent_tokenize(source)\n",
    "i=0\n",
    "Dorian_df=pd.DataFrame(columns=['Text','Sentiment'])\n",
    "for sentence in tokenized_text:\n",
    "  Dorian_df.loc[i,'Text']=sentence\n",
    "  if len(sentence)>512:\n",
    "    Dorian_df.loc[i,'Sentiment']=sentiment_classifier(sentence[0:511],model,tokenizer)[0]\n",
    "  else:\n",
    "   Dorian_df.loc[i,'Sentiment']=sentiment_classifier(sentence,model,tokenizer)[0]\n",
    "  if i%200==0:\n",
    "    print(i)\n",
    "  i=i+1\n",
    "Dorian_df.to_csv('Dorian.csv')"
   ]
  },
  {
   "cell_type": "code",
   "execution_count": null,
   "metadata": {
    "id": "gy7TaQDnkrMf"
   },
   "outputs": [],
   "source": [
    "url = \"https://www.gutenberg.org/cache/epub/42324/pg42324.txt\"\n",
    "response = requests.get(url)\n",
    "assert response.status_code == HTTPStatus.OK\n",
    "source = response.text\n",
    "tokenized_text=sent_tokenize(source)\n",
    "i=0\n",
    "Frankenstein_df=pd.DataFrame(columns=['Text','Sentiment'])\n",
    "for sentence in tokenized_text:\n",
    "  Frankenstein_df.loc[i,'Text']=sentence\n",
    "  Frankenstein_df.loc[i,'Sentiment']=sentiment_classifier(sentence,model,tokenizer)[0]\n",
    "  if i%200==0:\n",
    "    print(i)\n",
    "  i=i+1\n",
    "Frankenstein_df.to_csv('Frankenstein.csv')"
   ]
  },
  {
   "cell_type": "code",
   "execution_count": 9,
   "metadata": {
    "colab": {
     "base_uri": "https://localhost:8080/"
    },
    "id": "uQ4lFNotsbsY",
    "outputId": "ac2c1bf3-59df-4c10-d21b-8e68a93fe5e7"
   },
   "outputs": [
    {
     "name": "stdout",
     "output_type": "stream",
     "text": [
      "Mounted at /content/drive\n"
     ]
    }
   ],
   "source": [
    "#run this part if you need to read csv files into colab from your drive (mounts to drive)\n",
    "from google.colab import drive\n",
    "drive.mount('/content/drive')"
   ]
  },
  {
   "cell_type": "code",
   "execution_count": 16,
   "metadata": {
    "id": "D3IkjMittWeA"
   },
   "outputs": [],
   "source": [
    "#only run this part if you already created the csvs and stored them elsewhere\n",
    "df_Frankenstein = pd.read_csv('/content/drive/MyDrive/Data/Frankenstein.csv')\n",
    "df_Gatsby=pd.read_csv('/content/drive/MyDrive/Data/Gatsby.csv',encoding='latin-1')\n",
    "df_TwoCities=pd.read_csv('/content/drive/MyDrive/Data/TwoCities.csv')\n",
    "df_Scarlet=pd.read_csv('/content/drive/MyDrive/Data/Scarlet.csv',encoding='latin-1')\n",
    "df_Dorian=pd.read_csv('/content/drive/MyDrive/Data/Dorian.csv',encoding='latin-1')"
   ]
  },
  {
   "cell_type": "code",
   "execution_count": 37,
   "metadata": {
    "colab": {
     "base_uri": "https://localhost:8080/"
    },
    "id": "0xgikSDG4U4D",
    "outputId": "660ff352-e08d-4037-9dee-491a33e9b71b"
   },
   "outputs": [
    {
     "name": "stdout",
     "output_type": "stream",
     "text": [
      "2.984138690225352\n",
      "2.796345243\n",
      "2.961320363\n",
      "2.7663591715\n",
      "2.7617838514999997\n"
     ]
    }
   ],
   "source": [
    "print(df_Frankenstein['Sentiment'].median())\n",
    "print(df_Dorian['Sentiment'].median())\n",
    "print(df_Scarlet['Sentiment'].median())\n",
    "print(df_Gatsby['Sentiment'].median())\n",
    "print(df_TwoCities['Sentiment'].median())\n",
    "median_vals=[df['Sentiment'].median() for df in [df_TwoCities,df_Gatsby,df_Scarlet,df_Dorian,df_Frankenstein]]"
   ]
  },
  {
   "cell_type": "markdown",
   "metadata": {
    "id": "sfhBdtev6Utg"
   },
   "source": [
    "In the below plot, I ordered the books from my least to most favorite. The coloring has such drastic changes because three of the books have an average sentiment around 2.77, then the remaining two are around 2.97. The color differences reflect this jump. In general, the books I liked more tended to have a slightly higher average sentiment."
   ]
  },
  {
   "cell_type": "code",
   "execution_count": 43,
   "execution_count": null,
   "metadata": {
    "colab": {
     "base_uri": "https://localhost:8080/",
     "height": 372
    },
    "id": "J_iHywGd2q3u",
    "outputId": "bd6424a0-2365-4d84-b59a-f900251c4385"
   },
   "outputs": [
    {
     "data": {
      "image/png": "[encoded data removed]",
      "text/plain": [
       "<Figure size 432x288 with 1 Axes>"
      ]
     },
     "metadata": {},
     "output_type": "display_data"
    }
   ],
   "source": [
    "combined_dfs = pd.DataFrame({'A Tale of Two Cities': df_TwoCities['Sentiment'],\n",
    "                             'The Great Gatsby': df_Gatsby['Sentiment'],\n",
    "                             'The Scarlet Letter': df_Scarlet['Sentiment'],\n",
    "                             'The Picture of Dorian Gray': df_Dorian['Sentiment'],\n",
    "                             'Frankenstein': df_Frankenstein['Sentiment']})\n",
    "sns.set_style('white')\n",
    "# norm = plt.Normalize(min(median_vals), max(median_vals))\n",
    "norm = plt.Normalize(2.5, 3)\n",
    "colors = plt.cm.YlGn(norm(median_vals))\n",
    "sns.boxplot(data=combined_dfs, palette=colors)\n",
    "sns.despine()\n",
    "plt.xticks(rotation=45)\n",
    "plt.ylabel('Sentiment')\n",
    "plt.title('Sentiment Analysis of Five Novels')\n",
    "plt.show()"
   ]
  },
  {
   "cell_type": "code",
   "execution_count": 1,
   "metadata": {},
   "outputs": [],
   "source": [
    "import pandas as pd\n",
    "import matplotlib.pyplot as plt\n",
    "import seaborn as sns\n",
    "import numpy as np\n",
    "import codecs\n",
    "import gensim\n",
    "import re\n",
    "import string\n",
    "from gensim.models import Word2Vec\n",
    "from sklearn.decomposition import PCA\n",
    "from matplotlib import pyplot\n",
    "from sklearn.manifold import TSNE\n",
    "from nltk.corpus import stopwords"
   ]
  },
  {
   "cell_type": "code",
   "execution_count": 2,
   "metadata": {},
   "outputs": [
    {
     "data": {
      "text/html": [
       "<div>\n",
       "<style scoped>\n",
       "    .dataframe tbody tr th:only-of-type {\n",
       "        vertical-align: middle;\n",
       "    }\n",
       "\n",
       "    .dataframe tbody tr th {\n",
       "        vertical-align: top;\n",
       "    }\n",
       "\n",
       "    .dataframe thead th {\n",
       "        text-align: right;\n",
       "    }\n",
       "</style>\n",
       "<table border=\"1\" class=\"dataframe\">\n",
       "  <thead>\n",
       "    <tr style=\"text-align: right;\">\n",
       "      <th></th>\n",
       "      <th>Rank</th>\n",
       "      <th>Song</th>\n",
       "      <th>Artist</th>\n",
       "      <th>Year</th>\n",
       "      <th>Lyrics</th>\n",
       "      <th>Source</th>\n",
       "    </tr>\n",
       "  </thead>\n",
       "  <tbody>\n",
       "    <tr>\n",
       "      <th>0</th>\n",
       "      <td>1</td>\n",
       "      <td>wooly bully</td>\n",
       "      <td>sam the sham and the pharaohs</td>\n",
       "      <td>1965</td>\n",
       "      <td>sam the sham miscellaneous wooly bully wooly b...</td>\n",
       "      <td>3.0</td>\n",
       "    </tr>\n",
       "    <tr>\n",
       "      <th>1</th>\n",
       "      <td>2</td>\n",
       "      <td>i cant help myself sugar pie honey bunch</td>\n",
       "      <td>four tops</td>\n",
       "      <td>1965</td>\n",
       "      <td>sugar pie honey bunch you know that i love yo...</td>\n",
       "      <td>1.0</td>\n",
       "    </tr>\n",
       "    <tr>\n",
       "      <th>2</th>\n",
       "      <td>3</td>\n",
       "      <td>i cant get no satisfaction</td>\n",
       "      <td>the rolling stones</td>\n",
       "      <td>1965</td>\n",
       "      <td></td>\n",
       "      <td>1.0</td>\n",
       "    </tr>\n",
       "    <tr>\n",
       "      <th>3</th>\n",
       "      <td>4</td>\n",
       "      <td>you were on my mind</td>\n",
       "      <td>we five</td>\n",
       "      <td>1965</td>\n",
       "      <td>when i woke up this morning you were on my mi...</td>\n",
       "      <td>1.0</td>\n",
       "    </tr>\n",
       "    <tr>\n",
       "      <th>4</th>\n",
       "      <td>5</td>\n",
       "      <td>youve lost that lovin feelin</td>\n",
       "      <td>the righteous brothers</td>\n",
       "      <td>1965</td>\n",
       "      <td>you never close your eyes anymore when i kiss...</td>\n",
       "      <td>1.0</td>\n",
       "    </tr>\n",
       "  </tbody>\n",
       "</table>\n",
       "</div>"
      ],
      "text/plain": [
       "   Rank                                      Song  \\\n",
       "0     1                               wooly bully   \n",
       "1     2  i cant help myself sugar pie honey bunch   \n",
       "2     3                i cant get no satisfaction   \n",
       "3     4                       you were on my mind   \n",
       "4     5              youve lost that lovin feelin   \n",
       "\n",
       "                          Artist  Year  \\\n",
       "0  sam the sham and the pharaohs  1965   \n",
       "1                      four tops  1965   \n",
       "2             the rolling stones  1965   \n",
       "3                        we five  1965   \n",
       "4         the righteous brothers  1965   \n",
       "\n",
       "                                              Lyrics  Source  \n",
       "0  sam the sham miscellaneous wooly bully wooly b...     3.0  \n",
       "1   sugar pie honey bunch you know that i love yo...     1.0  \n",
       "2                                                        1.0  \n",
       "3   when i woke up this morning you were on my mi...     1.0  \n",
       "4   you never close your eyes anymore when i kiss...     1.0  "
      ]
     },
     "execution_count": 2,
     "metadata": {},
     "output_type": "execute_result"
    }
   ],
   "source": [
    "df_lyrics= pd.read_csv('billboard_lyrics_1964-2015.csv')\n",
    "df_lyrics.head()"
   ]
  },
  {
   "cell_type": "code",
   "execution_count": 3,
   "metadata": {},
   "outputs": [
    {
     "data": {
      "text/html": [
       "<div>\n",
       "<style scoped>\n",
       "    .dataframe tbody tr th:only-of-type {\n",
       "        vertical-align: middle;\n",
       "    }\n",
       "\n",
       "    .dataframe tbody tr th {\n",
       "        vertical-align: top;\n",
       "    }\n",
       "\n",
       "    .dataframe thead th {\n",
       "        text-align: right;\n",
       "    }\n",
       "</style>\n",
       "<table border=\"1\" class=\"dataframe\">\n",
       "  <thead>\n",
       "    <tr style=\"text-align: right;\">\n",
       "      <th></th>\n",
       "      <th>Lyrics</th>\n",
       "    </tr>\n",
       "  </thead>\n",
       "  <tbody>\n",
       "    <tr>\n",
       "      <th>0</th>\n",
       "      <td>something in the way you love me wont let me ...</td>\n",
       "    </tr>\n",
       "    <tr>\n",
       "      <th>1</th>\n",
       "      <td>you must be my lucky star cause you shine on ...</td>\n",
       "    </tr>\n",
       "    <tr>\n",
       "      <th>2</th>\n",
       "      <td>holiday celebrate holiday celebrateif we took...</td>\n",
       "    </tr>\n",
       "    <tr>\n",
       "      <th>3</th>\n",
       "      <td>i made it through the wilderness somehow i ma...</td>\n",
       "    </tr>\n",
       "    <tr>\n",
       "      <th>4</th>\n",
       "      <td>swaying room as the music starts strangers ma...</td>\n",
       "    </tr>\n",
       "  </tbody>\n",
       "</table>\n",
       "</div>"
      ],
      "text/plain": [
       "                                              Lyrics\n",
       "0   something in the way you love me wont let me ...\n",
       "1   you must be my lucky star cause you shine on ...\n",
       "2   holiday celebrate holiday celebrateif we took...\n",
       "3   i made it through the wilderness somehow i ma...\n",
       "4   swaying room as the music starts strangers ma..."
      ]
     },
     "execution_count": 3,
     "metadata": {},
     "output_type": "execute_result"
    }
   ],
   "source": [
    "#Choose the lyrics of madonna\n",
    "df_madonna=df_lyrics[df_lyrics['Artist']=='madonna'].reset_index(drop=True)\n",
    "df_madonna=df_madonna['Lyrics']\n",
    "df_madonna=pd.DataFrame(df_madonna)\n",
    "df_madonna.head()"
   ]
  },
  {
   "cell_type": "code",
   "execution_count": 4,
   "metadata": {},
   "outputs": [
    {
     "data": {
      "text/html": [
       "<div>\n",
       "<style scoped>\n",
       "    .dataframe tbody tr th:only-of-type {\n",
       "        vertical-align: middle;\n",
       "    }\n",
       "\n",
       "    .dataframe tbody tr th {\n",
       "        vertical-align: top;\n",
       "    }\n",
       "\n",
       "    .dataframe thead th {\n",
       "        text-align: right;\n",
       "    }\n",
       "</style>\n",
       "<table border=\"1\" class=\"dataframe\">\n",
       "  <thead>\n",
       "    <tr style=\"text-align: right;\">\n",
       "      <th></th>\n",
       "      <th>Lyrics</th>\n",
       "    </tr>\n",
       "  </thead>\n",
       "  <tbody>\n",
       "    <tr>\n",
       "      <th>0</th>\n",
       "      <td>something in the way you love me wont let me ...</td>\n",
       "    </tr>\n",
       "    <tr>\n",
       "      <th>1</th>\n",
       "      <td>you must be my lucky star cause you shine on ...</td>\n",
       "    </tr>\n",
       "    <tr>\n",
       "      <th>2</th>\n",
       "      <td>holiday celebrate holiday celebrateif we took...</td>\n",
       "    </tr>\n",
       "    <tr>\n",
       "      <th>3</th>\n",
       "      <td>i made it through the wilderness somehow i ma...</td>\n",
       "    </tr>\n",
       "    <tr>\n",
       "      <th>4</th>\n",
       "      <td>swaying room as the music starts strangers ma...</td>\n",
       "    </tr>\n",
       "  </tbody>\n",
       "</table>\n",
       "</div>"
      ],
      "text/plain": [
       "                                              Lyrics\n",
       "0   something in the way you love me wont let me ...\n",
       "1   you must be my lucky star cause you shine on ...\n",
       "2   holiday celebrate holiday celebrateif we took...\n",
       "3   i made it through the wilderness somehow i ma...\n",
       "4   swaying room as the music starts strangers ma..."
      ]
     },
     "execution_count": 4,
     "metadata": {},
     "output_type": "execute_result"
    }
   ],
   "source": [
    "df_madonna=df_madonna.dropna(axis=0).reset_index(drop=True)\n",
    "df_madonna.head()"
   ]
  },
  {
   "cell_type": "code",
   "execution_count": 5,
   "metadata": {},
   "outputs": [],
   "source": [
    "list1 = df_madonna['Lyrics']\n",
    "\n",
    "#Split sentences into words\n",
    "list2=[]\n",
    "for w in range(0,len(list1)-1):\n",
    "    list2.append(list1[w].split())\n",
    "\n",
    "#Remove brackets from list\n",
    "list3 = [str(x) for item in list2 for x in item]"
   ]
  },
  {
   "cell_type": "code",
   "execution_count": 6,
   "metadata": {},
   "outputs": [
    {
     "name": "stdout",
     "output_type": "stream",
     "text": [
      "love        151\n",
      "like         88\n",
      "got          87\n",
      "know         76\n",
      "im           73\n",
      "baby         71\n",
      "mmm          66\n",
      "youre        65\n",
      "never        51\n",
      "ill          49\n",
      "true         48\n",
      "see          47\n",
      "heart        45\n",
      "star         43\n",
      "material     42\n",
      "feel         41\n",
      "make         41\n",
      "gonna        40\n",
      "let          39\n",
      "dont         39\n",
      "dtype: int64\n"
     ]
    }
   ],
   "source": [
    "from nltk.corpus import stopwords \n",
    "from nltk.tokenize import word_tokenize\n",
    "from nltk import data\n",
    "stop_words = set(stopwords.words('english'))\n",
    "\n",
    "#Count word frequency and remove stopwords\n",
    "fq = pd.Series(list3).value_counts()\n",
    "\n",
    "for i in stop_words:\n",
    "    try:  \n",
    "        fq.pop(i)  \n",
    "    except:\n",
    "        continue \n",
    "        \n",
    "print(fq[:20])"
   ]
  },
  {
   "cell_type": "code",
   "execution_count": 7,
   "metadata": {},
   "outputs": [
    {
     "data": {
      "image/png": "[encoded data removed]",
      "text/plain": [
       "<Figure size 432x288 with 1 Axes>"
      ]
     },
     "metadata": {
      "needs_background": "light"
     },
     "output_type": "display_data"
    }
   ],
   "source": [
    "import os\n",
    "from os import path\n",
    "from wordcloud import WordCloud\n",
    "from matplotlib import pyplot as plt\n",
    "\n",
    "#Convert list to string\n",
    "listToStr = ' '.join(map(str, list3))\n",
    "\n",
    "#Generative word cloud\n",
    "wc = WordCloud(scale=2,max_font_size = 100)\n",
    "wc.generate_from_text(listToStr)\n",
    "\n",
    "#Show Image\n",
    "plt.imshow(wc,interpolation='bilinear')\n",
    "plt.axis('off')\n",
    "plt.tight_layout()"
   ]
  },
  {
   "cell_type": "code",
   "execution_count": 40,
   "metadata": {},
   "outputs": [],
   "source": [
    "import PyPDF2\n",
    "temp = open('Batman Forever.pdf', 'rb')\n",
    "batman_pdf = PyPDF2.PdfReader(temp)\n",
    "#make for loop for all pages also remove all the newline characters and extra spaces\n",
    "batman_pdf\n",
    "batman_str = batman_pdf.getPage(0).extractText()\n",
    "for i in range(1, 112):\n",
    "    batman_str += batman_pdf.getPage(i).extractText()"
   ]
  },
  {
   "cell_type": "code",
   "execution_count": 27,
   "metadata": {},
   "outputs": [
    {
     "name": "stdout",
     "output_type": "stream",
     "text": [
      "0\n",
      "200\n",
      "400\n",
      "600\n",
      "800\n",
      "1000\n",
      "1200\n",
      "1400\n",
      "1600\n",
      "1800\n",
      "2000\n",
      "2200\n",
      "2400\n",
      "2600\n",
      "2800\n",
      "3000\n",
      "3200\n"
     ]
    }
   ],
   "source": [
    "import nltk\n",
    "\n",
    "tokenized_text= nltk.sent_tokenize(batman_str)\n",
    "i=0\n",
    "batman_df=pd.DataFrame(columns=['Text','Sentiment'])\n",
    "for sentence in tokenized_text:\n",
    "  batman_df.loc[i,'Text']=sentence\n",
    "  batman_df.loc[i,'Sentiment']=sentiment_classifier(sentence,model,tokenizer)[0]\n",
    "  if i%200==0:\n",
    "    print(i)\n",
    "  i=i+1"
   ]
  },
  {
   "cell_type": "code",
   "execution_count": 28,
   "metadata": {},
   "outputs": [
    {
     "data": {
      "text/plain": [
       "2.9759801552480707"
      ]
     },
     "execution_count": 28,
     "metadata": {},
     "output_type": "execute_result"
    }
   ],
   "source": [
    "batman_df['Sentiment'].median()"
   ]
  },
  {
   "cell_type": "code",
   "execution_count": 30,
   "metadata": {},
   "outputs": [],
   "source": [
    "temp = open('The Princess Bride.pdf', 'rb')\n",
    "pb_pdf = PyPDF2.PdfReader(temp)\n",
    "#make for loop for all pages also remove all the newline characters and extra spaces\n",
    "pb_pdf\n",
    "pb_str = pb_pdf.getPage(0).extractText()\n",
    "for i in range(1, 105):\n",
    "    pb_str += pb_pdf.getPage(i).extractText()"
   ]
  },
  {
   "cell_type": "code",
   "execution_count": 31,
   "metadata": {},
   "outputs": [
    {
     "name": "stdout",
     "output_type": "stream",
     "text": [
      "0\n",
      "200\n",
      "400\n",
      "600\n",
      "800\n",
      "1000\n",
      "1200\n",
      "1400\n",
      "1600\n",
      "1800\n",
      "2000\n"
     ]
    }
   ],
   "source": [
    "tokenized_text= nltk.sent_tokenize(pb_str)\n",
    "i=0\n",
    "pb_df=pd.DataFrame(columns=['Text','Sentiment'])\n",
    "for sentence in tokenized_text:\n",
    "  pb_df.loc[i,'Text']=sentence\n",
    "  pb_df.loc[i,'Sentiment']=sentiment_classifier(sentence,model,tokenizer)[0]\n",
    "  if i%200==0:\n",
    "    print(i)\n",
    "  i=i+1"
   ]
  },
  {
   "cell_type": "code",
   "execution_count": 32,
   "metadata": {},
   "outputs": [
    {
     "data": {
      "text/plain": [
       "2.9282034762872806"
      ]
     },
     "execution_count": 32,
     "metadata": {},
     "output_type": "execute_result"
    }
   ],
   "source": [
    "pb_df['Sentiment'].median()"
   ]
  },
  {
   "cell_type": "code",
   "execution_count": null,
   "metadata": {},
   "outputs": [],
   "source": [
    "#There does not seem to be much difference between the Sentiment of the highest rated comedy (The Princess Bride) and the lowest rated comedy (Batman Forever). They both have sentimenst around 2.9"
   ]
  },
  {
   "cell_type": "code",
   "execution_count": null,
   "metadata": {},
   "outputs": [],
   "source": []
  }
 ],
 "metadata": {
  "colab": {
   "collapsed_sections": [],
   "provenance": []
  },
  "kernelspec": {
   "display_name": "Python 3 (ipykernel)",
   "language": "python",
   "name": "python3"
  },
  "language_info": {
   "codemirror_mode": {
    "name": "ipython",
    "version": 3
   },
   "file_extension": ".py",
   "mimetype": "text/x-python",
   "name": "python",
   "nbconvert_exporter": "python",
   "pygments_lexer": "ipython3",
   "version": "3.9.12"
  },
  "widgets": {
   "application/vnd.jupyter.widget-state+json": {
    "0278db02f1d54433820056bcc3b69d8a": {
     "model_module": "@jupyter-widgets/controls",
     "model_module_version": "1.5.0",
     "model_name": "HTMLModel",
     "state": {
      "_dom_classes": [],
      "_model_module": "@jupyter-widgets/controls",
      "_model_module_version": "1.5.0",
      "_model_name": "HTMLModel",
      "_view_count": null,
      "_view_module": "@jupyter-widgets/controls",
      "_view_module_version": "1.5.0",
      "_view_name": "HTMLView",
      "description": "",
      "description_tooltip": null,
      "layout": "IPY_MODEL_7f0c9b9200b544f4a2a8e66e8b7b0663",
      "placeholder": "​",
      "style": "IPY_MODEL_375668b62d004e5091e003a6455fb02e",
      "value": "Downloading: 100%"
     }
    },
    "076cc967d9fc494c9590e7bae3ddd9d5": {
     "model_module": "@jupyter-widgets/controls",
     "model_module_version": "1.5.0",
     "model_name": "HBoxModel",
     "state": {
      "_dom_classes": [],
      "_model_module": "@jupyter-widgets/controls",
      "_model_module_version": "1.5.0",
      "_model_name": "HBoxModel",
      "_view_count": null,
      "_view_module": "@jupyter-widgets/controls",
      "_view_module_version": "1.5.0",
      "_view_name": "HBoxView",
      "box_style": "",
      "children": [
       "IPY_MODEL_13f7b9875ce04b44b23063f6ed998d1c",
       "IPY_MODEL_fcb36d6db1fd4837b838fb32993b6374",
       "IPY_MODEL_99f62e142f304967a81b11091b05f059"
      ],
      "layout": "IPY_MODEL_4403f8974df0417eb71b75dff6ba3f7d"
     }
    },
    "09a0187a937640a0a63ac7be78750574": {
     "model_module": "@jupyter-widgets/controls",
     "model_module_version": "1.5.0",
     "model_name": "HBoxModel",
     "state": {
      "_dom_classes": [],
      "_model_module": "@jupyter-widgets/controls",
      "_model_module_version": "1.5.0",
      "_model_name": "HBoxModel",
      "_view_count": null,
      "_view_module": "@jupyter-widgets/controls",
      "_view_module_version": "1.5.0",
      "_view_name": "HBoxView",
      "box_style": "",
      "children": [
       "IPY_MODEL_c5bb356dfb7f4002b40932e7f45f2787",
       "IPY_MODEL_71f8808b0f1742c4b424d9810490e039",
       "IPY_MODEL_b9ff5c9857c3424fb07f651366541d81"
      ],
      "layout": "IPY_MODEL_55f6f2a090ac41689385ce6fdadc1317"
     }
    },
    "12a5ebfb58914b0aa83f69e97ef6d4b3": {
     "model_module": "@jupyter-widgets/controls",
     "model_module_version": "1.5.0",
     "model_name": "ProgressStyleModel",
     "state": {
      "_model_module": "@jupyter-widgets/controls",
      "_model_module_version": "1.5.0",
      "_model_name": "ProgressStyleModel",
      "_view_count": null,
      "_view_module": "@jupyter-widgets/base",
      "_view_module_version": "1.2.0",
      "_view_name": "StyleView",
      "bar_color": null,
      "description_width": ""
     }
    },
    "13f7b9875ce04b44b23063f6ed998d1c": {
     "model_module": "@jupyter-widgets/controls",
     "model_module_version": "1.5.0",
     "model_name": "HTMLModel",
     "state": {
      "_dom_classes": [],
      "_model_module": "@jupyter-widgets/controls",
      "_model_module_version": "1.5.0",
      "_model_name": "HTMLModel",
      "_view_count": null,
      "_view_module": "@jupyter-widgets/controls",
      "_view_module_version": "1.5.0",
      "_view_name": "HTMLView",
      "description": "",
      "description_tooltip": null,
      "layout": "IPY_MODEL_d54c2414428245c0a677a0fafaa399cd",
      "placeholder": "​",
      "style": "IPY_MODEL_91763859f2354c8cb709bd933eda63ae",
      "value": "Downloading: 100%"
     }
    },
    "1a494a9676e94d509e0978b1ad6c47c7": {
     "model_module": "@jupyter-widgets/base",
     "model_module_version": "1.2.0",
     "model_name": "LayoutModel",
     "state": {
      "_model_module": "@jupyter-widgets/base",
      "_model_module_version": "1.2.0",
      "_model_name": "LayoutModel",
      "_view_count": null,
      "_view_module": "@jupyter-widgets/base",
      "_view_module_version": "1.2.0",
      "_view_name": "LayoutView",
      "align_content": null,
      "align_items": null,
      "align_self": null,
      "border": null,
      "bottom": null,
      "display": null,
      "flex": null,
      "flex_flow": null,
      "grid_area": null,
      "grid_auto_columns": null,
      "grid_auto_flow": null,
      "grid_auto_rows": null,
      "grid_column": null,
      "grid_gap": null,
      "grid_row": null,
      "grid_template_areas": null,
      "grid_template_columns": null,
      "grid_template_rows": null,
      "height": null,
      "justify_content": null,
      "justify_items": null,
      "left": null,
      "margin": null,
      "max_height": null,
      "max_width": null,
      "min_height": null,
      "min_width": null,
      "object_fit": null,
      "object_position": null,
      "order": null,
      "overflow": null,
      "overflow_x": null,
      "overflow_y": null,
      "padding": null,
      "right": null,
      "top": null,
      "visibility": null,
      "width": null
     }
    },
    "1e3b0af31ee64187aec5a4c23c1d9a66": {
     "model_module": "@jupyter-widgets/base",
     "model_module_version": "1.2.0",
     "model_name": "LayoutModel",
     "state": {
      "_model_module": "@jupyter-widgets/base",
      "_model_module_version": "1.2.0",
      "_model_name": "LayoutModel",
      "_view_count": null,
      "_view_module": "@jupyter-widgets/base",
      "_view_module_version": "1.2.0",
      "_view_name": "LayoutView",
      "align_content": null,
      "align_items": null,
      "align_self": null,
      "border": null,
      "bottom": null,
      "display": null,
      "flex": null,
      "flex_flow": null,
      "grid_area": null,
      "grid_auto_columns": null,
      "grid_auto_flow": null,
      "grid_auto_rows": null,
      "grid_column": null,
      "grid_gap": null,
      "grid_row": null,
      "grid_template_areas": null,
      "grid_template_columns": null,
      "grid_template_rows": null,
      "height": null,
      "justify_content": null,
      "justify_items": null,
      "left": null,
      "margin": null,
      "max_height": null,
      "max_width": null,
      "min_height": null,
      "min_width": null,
      "object_fit": null,
      "object_position": null,
      "order": null,
      "overflow": null,
      "overflow_x": null,
      "overflow_y": null,
      "padding": null,
      "right": null,
      "top": null,
      "visibility": null,
      "width": null
     }
    },
    "27170059e92a4d5f8e1bc21c8dfb127f": {
     "model_module": "@jupyter-widgets/base",
     "model_module_version": "1.2.0",
     "model_name": "LayoutModel",
     "state": {
      "_model_module": "@jupyter-widgets/base",
      "_model_module_version": "1.2.0",
      "_model_name": "LayoutModel",
      "_view_count": null,
      "_view_module": "@jupyter-widgets/base",
      "_view_module_version": "1.2.0",
      "_view_name": "LayoutView",
      "align_content": null,
      "align_items": null,
      "align_self": null,
      "border": null,
      "bottom": null,
      "display": null,
      "flex": null,
      "flex_flow": null,
      "grid_area": null,
      "grid_auto_columns": null,
      "grid_auto_flow": null,
      "grid_auto_rows": null,
      "grid_column": null,
      "grid_gap": null,
      "grid_row": null,
      "grid_template_areas": null,
      "grid_template_columns": null,
      "grid_template_rows": null,
      "height": null,
      "justify_content": null,
      "justify_items": null,
      "left": null,
      "margin": null,
      "max_height": null,
      "max_width": null,
      "min_height": null,
      "min_width": null,
      "object_fit": null,
      "object_position": null,
      "order": null,
      "overflow": null,
      "overflow_x": null,
      "overflow_y": null,
      "padding": null,
      "right": null,
      "top": null,
      "visibility": null,
      "width": null
     }
    },
    "28bd14a48adb4f65b5077a202403f2f0": {
     "model_module": "@jupyter-widgets/controls",
     "model_module_version": "1.5.0",
     "model_name": "HBoxModel",
     "state": {
      "_dom_classes": [],
      "_model_module": "@jupyter-widgets/controls",
      "_model_module_version": "1.5.0",
      "_model_name": "HBoxModel",
      "_view_count": null,
      "_view_module": "@jupyter-widgets/controls",
      "_view_module_version": "1.5.0",
      "_view_name": "HBoxView",
      "box_style": "",
      "children": [
       "IPY_MODEL_81f30dbaa3c148958db97388a2dca007",
       "IPY_MODEL_cc8a59363c9a4bf7aad5d1a7eabe2db7",
       "IPY_MODEL_feadbd6dad0b4089a583cf90d239418f"
      ],
      "layout": "IPY_MODEL_8c5c908a653f408392e4a5c2cea1656d"
     }
    },
    "375668b62d004e5091e003a6455fb02e": {
     "model_module": "@jupyter-widgets/controls",
     "model_module_version": "1.5.0",
     "model_name": "DescriptionStyleModel",
     "state": {
      "_model_module": "@jupyter-widgets/controls",
      "_model_module_version": "1.5.0",
      "_model_name": "DescriptionStyleModel",
      "_view_count": null,
      "_view_module": "@jupyter-widgets/base",
      "_view_module_version": "1.2.0",
      "_view_name": "StyleView",
      "description_width": ""
     }
    },
    "397bb0f69a53408aa43e08cde00df74a": {
     "model_module": "@jupyter-widgets/controls",
     "model_module_version": "1.5.0",
     "model_name": "DescriptionStyleModel",
     "state": {
      "_model_module": "@jupyter-widgets/controls",
      "_model_module_version": "1.5.0",
      "_model_name": "DescriptionStyleModel",
      "_view_count": null,
      "_view_module": "@jupyter-widgets/base",
      "_view_module_version": "1.2.0",
      "_view_name": "StyleView",
      "description_width": ""
     }
    },
    "3da2095f90884932a906ba062bb94d6e": {
     "model_module": "@jupyter-widgets/controls",
     "model_module_version": "1.5.0",
     "model_name": "HBoxModel",
     "state": {
      "_dom_classes": [],
      "_model_module": "@jupyter-widgets/controls",
      "_model_module_version": "1.5.0",
      "_model_name": "HBoxModel",
      "_view_count": null,
      "_view_module": "@jupyter-widgets/controls",
      "_view_module_version": "1.5.0",
      "_view_name": "HBoxView",
      "box_style": "",
      "children": [
       "IPY_MODEL_0278db02f1d54433820056bcc3b69d8a",
       "IPY_MODEL_66f1a3bf09f04d77abe9dcc8a509d94e",
       "IPY_MODEL_a6097dcb2e1740b78b11b26d594c4b9a"
      ],
      "layout": "IPY_MODEL_53ab9ec9be0549be908f331ada8b08b2"
     }
    },
    "4403f8974df0417eb71b75dff6ba3f7d": {
     "model_module": "@jupyter-widgets/base",
     "model_module_version": "1.2.0",
     "model_name": "LayoutModel",
     "state": {
      "_model_module": "@jupyter-widgets/base",
      "_model_module_version": "1.2.0",
      "_model_name": "LayoutModel",
      "_view_count": null,
      "_view_module": "@jupyter-widgets/base",
      "_view_module_version": "1.2.0",
      "_view_name": "LayoutView",
      "align_content": null,
      "align_items": null,
      "align_self": null,
      "border": null,
      "bottom": null,
      "display": null,
      "flex": null,
      "flex_flow": null,
      "grid_area": null,
      "grid_auto_columns": null,
      "grid_auto_flow": null,
      "grid_auto_rows": null,
      "grid_column": null,
      "grid_gap": null,
      "grid_row": null,
      "grid_template_areas": null,
      "grid_template_columns": null,
      "grid_template_rows": null,
      "height": null,
      "justify_content": null,
      "justify_items": null,
      "left": null,
      "margin": null,
      "max_height": null,
      "max_width": null,
      "min_height": null,
      "min_width": null,
      "object_fit": null,
      "object_position": null,
      "order": null,
      "overflow": null,
      "overflow_x": null,
      "overflow_y": null,
      "padding": null,
      "right": null,
      "top": null,
      "visibility": null,
      "width": null
     }
    },
    "4cf67b55d06c42df8febca2bc29ba742": {
     "model_module": "@jupyter-widgets/controls",
     "model_module_version": "1.5.0",
     "model_name": "ProgressStyleModel",
     "state": {
      "_model_module": "@jupyter-widgets/controls",
      "_model_module_version": "1.5.0",
      "_model_name": "ProgressStyleModel",
      "_view_count": null,
      "_view_module": "@jupyter-widgets/base",
      "_view_module_version": "1.2.0",
      "_view_name": "StyleView",
      "bar_color": null,
      "description_width": ""
     }
    },
    "4db54c0310a940be841c3f192ef77abb": {
     "model_module": "@jupyter-widgets/base",
     "model_module_version": "1.2.0",
     "model_name": "LayoutModel",
     "state": {
      "_model_module": "@jupyter-widgets/base",
      "_model_module_version": "1.2.0",
      "_model_name": "LayoutModel",
      "_view_count": null,
      "_view_module": "@jupyter-widgets/base",
      "_view_module_version": "1.2.0",
      "_view_name": "LayoutView",
      "align_content": null,
      "align_items": null,
      "align_self": null,
      "border": null,
      "bottom": null,
      "display": null,
      "flex": null,
      "flex_flow": null,
      "grid_area": null,
      "grid_auto_columns": null,
      "grid_auto_flow": null,
      "grid_auto_rows": null,
      "grid_column": null,
      "grid_gap": null,
      "grid_row": null,
      "grid_template_areas": null,
      "grid_template_columns": null,
      "grid_template_rows": null,
      "height": null,
      "justify_content": null,
      "justify_items": null,
      "left": null,
      "margin": null,
      "max_height": null,
      "max_width": null,
      "min_height": null,
      "min_width": null,
      "object_fit": null,
      "object_position": null,
      "order": null,
      "overflow": null,
      "overflow_x": null,
      "overflow_y": null,
      "padding": null,
      "right": null,
      "top": null,
      "visibility": null,
      "width": null
     }
    },
    "53ab9ec9be0549be908f331ada8b08b2": {
     "model_module": "@jupyter-widgets/base",
     "model_module_version": "1.2.0",
     "model_name": "LayoutModel",
     "state": {
      "_model_module": "@jupyter-widgets/base",
      "_model_module_version": "1.2.0",
      "_model_name": "LayoutModel",
      "_view_count": null,
      "_view_module": "@jupyter-widgets/base",
      "_view_module_version": "1.2.0",
      "_view_name": "LayoutView",
      "align_content": null,
      "align_items": null,
      "align_self": null,
      "border": null,
      "bottom": null,
      "display": null,
      "flex": null,
      "flex_flow": null,
      "grid_area": null,
      "grid_auto_columns": null,
      "grid_auto_flow": null,
      "grid_auto_rows": null,
      "grid_column": null,
      "grid_gap": null,
      "grid_row": null,
      "grid_template_areas": null,
      "grid_template_columns": null,
      "grid_template_rows": null,
      "height": null,
      "justify_content": null,
      "justify_items": null,
      "left": null,
      "margin": null,
      "max_height": null,
      "max_width": null,
      "min_height": null,
      "min_width": null,
      "object_fit": null,
      "object_position": null,
      "order": null,
      "overflow": null,
      "overflow_x": null,
      "overflow_y": null,
      "padding": null,
      "right": null,
      "top": null,
      "visibility": null,
      "width": null
     }
    },
    "53ae2e75b74c4f9ebc8da0ae5b5a87c4": {
     "model_module": "@jupyter-widgets/base",
     "model_module_version": "1.2.0",
     "model_name": "LayoutModel",
     "state": {
      "_model_module": "@jupyter-widgets/base",
      "_model_module_version": "1.2.0",
      "_model_name": "LayoutModel",
      "_view_count": null,
      "_view_module": "@jupyter-widgets/base",
      "_view_module_version": "1.2.0",
      "_view_name": "LayoutView",
      "align_content": null,
      "align_items": null,
      "align_self": null,
      "border": null,
      "bottom": null,
      "display": null,
      "flex": null,
      "flex_flow": null,
      "grid_area": null,
      "grid_auto_columns": null,
      "grid_auto_flow": null,
      "grid_auto_rows": null,
      "grid_column": null,
      "grid_gap": null,
      "grid_row": null,
      "grid_template_areas": null,
      "grid_template_columns": null,
      "grid_template_rows": null,
      "height": null,
      "justify_content": null,
      "justify_items": null,
      "left": null,
      "margin": null,
      "max_height": null,
      "max_width": null,
      "min_height": null,
      "min_width": null,
      "object_fit": null,
      "object_position": null,
      "order": null,
      "overflow": null,
      "overflow_x": null,
      "overflow_y": null,
      "padding": null,
      "right": null,
      "top": null,
      "visibility": null,
      "width": null
     }
    },
    "55f6f2a090ac41689385ce6fdadc1317": {
     "model_module": "@jupyter-widgets/base",
     "model_module_version": "1.2.0",
     "model_name": "LayoutModel",
     "state": {
      "_model_module": "@jupyter-widgets/base",
      "_model_module_version": "1.2.0",
      "_model_name": "LayoutModel",
      "_view_count": null,
      "_view_module": "@jupyter-widgets/base",
      "_view_module_version": "1.2.0",
      "_view_name": "LayoutView",
      "align_content": null,
      "align_items": null,
      "align_self": null,
      "border": null,
      "bottom": null,
      "display": null,
      "flex": null,
      "flex_flow": null,
      "grid_area": null,
      "grid_auto_columns": null,
      "grid_auto_flow": null,
      "grid_auto_rows": null,
      "grid_column": null,
      "grid_gap": null,
      "grid_row": null,
      "grid_template_areas": null,
      "grid_template_columns": null,
      "grid_template_rows": null,
      "height": null,
      "justify_content": null,
      "justify_items": null,
      "left": null,
      "margin": null,
      "max_height": null,
      "max_width": null,
      "min_height": null,
      "min_width": null,
      "object_fit": null,
      "object_position": null,
      "order": null,
      "overflow": null,
      "overflow_x": null,
      "overflow_y": null,
      "padding": null,
      "right": null,
      "top": null,
      "visibility": null,
      "width": null
     }
    },
    "57a1165a34094ac395eb055dd560f2ea": {
     "model_module": "@jupyter-widgets/controls",
     "model_module_version": "1.5.0",
     "model_name": "HTMLModel",
     "state": {
      "_dom_classes": [],
      "_model_module": "@jupyter-widgets/controls",
      "_model_module_version": "1.5.0",
      "_model_name": "HTMLModel",
      "_view_count": null,
      "_view_module": "@jupyter-widgets/controls",
      "_view_module_version": "1.5.0",
      "_view_name": "HTMLView",
      "description": "",
      "description_tooltip": null,
      "layout": "IPY_MODEL_9438a560e38b4ef4bd96369f2cf7857c",
      "placeholder": "​",
      "style": "IPY_MODEL_81744ada47f94986ae4306fe81f7be88",
      "value": " 39.0/39.0 [00:00&lt;00:00, 1.03kB/s]"
     }
    },
    "57ace74e1ad042269aa029735922f930": {
     "model_module": "@jupyter-widgets/base",
     "model_module_version": "1.2.0",
     "model_name": "LayoutModel",
     "state": {
      "_model_module": "@jupyter-widgets/base",
      "_model_module_version": "1.2.0",
      "_model_name": "LayoutModel",
      "_view_count": null,
      "_view_module": "@jupyter-widgets/base",
      "_view_module_version": "1.2.0",
      "_view_name": "LayoutView",
      "align_content": null,
      "align_items": null,
      "align_self": null,
      "border": null,
      "bottom": null,
      "display": null,
      "flex": null,
      "flex_flow": null,
      "grid_area": null,
      "grid_auto_columns": null,
      "grid_auto_flow": null,
      "grid_auto_rows": null,
      "grid_column": null,
      "grid_gap": null,
      "grid_row": null,
      "grid_template_areas": null,
      "grid_template_columns": null,
      "grid_template_rows": null,
      "height": null,
      "justify_content": null,
      "justify_items": null,
      "left": null,
      "margin": null,
      "max_height": null,
      "max_width": null,
      "min_height": null,
      "min_width": null,
      "object_fit": null,
      "object_position": null,
      "order": null,
      "overflow": null,
      "overflow_x": null,
      "overflow_y": null,
      "padding": null,
      "right": null,
      "top": null,
      "visibility": null,
      "width": null
     }
    },
    "5d453a5e98d3432b8983b89c5d067351": {
     "model_module": "@jupyter-widgets/base",
     "model_module_version": "1.2.0",
     "model_name": "LayoutModel",
     "state": {
      "_model_module": "@jupyter-widgets/base",
      "_model_module_version": "1.2.0",
      "_model_name": "LayoutModel",
      "_view_count": null,
      "_view_module": "@jupyter-widgets/base",
      "_view_module_version": "1.2.0",
      "_view_name": "LayoutView",
      "align_content": null,
      "align_items": null,
      "align_self": null,
      "border": null,
      "bottom": null,
      "display": null,
      "flex": null,
      "flex_flow": null,
      "grid_area": null,
      "grid_auto_columns": null,
      "grid_auto_flow": null,
      "grid_auto_rows": null,
      "grid_column": null,
      "grid_gap": null,
      "grid_row": null,
      "grid_template_areas": null,
      "grid_template_columns": null,
      "grid_template_rows": null,
      "height": null,
      "justify_content": null,
      "justify_items": null,
      "left": null,
      "margin": null,
      "max_height": null,
      "max_width": null,
      "min_height": null,
      "min_width": null,
      "object_fit": null,
      "object_position": null,
      "order": null,
      "overflow": null,
      "overflow_x": null,
      "overflow_y": null,
      "padding": null,
      "right": null,
      "top": null,
      "visibility": null,
      "width": null
     }
    },
    "65797a51236b46f2b5ed13e0c0b0b84c": {
     "model_module": "@jupyter-widgets/controls",
     "model_module_version": "1.5.0",
     "model_name": "ProgressStyleModel",
     "state": {
      "_model_module": "@jupyter-widgets/controls",
      "_model_module_version": "1.5.0",
      "_model_name": "ProgressStyleModel",
      "_view_count": null,
      "_view_module": "@jupyter-widgets/base",
      "_view_module_version": "1.2.0",
      "_view_name": "StyleView",
      "bar_color": null,
      "description_width": ""
     }
    },
    "66f1a3bf09f04d77abe9dcc8a509d94e": {
     "model_module": "@jupyter-widgets/controls",
     "model_module_version": "1.5.0",
     "model_name": "FloatProgressModel",
     "state": {
      "_dom_classes": [],
      "_model_module": "@jupyter-widgets/controls",
      "_model_module_version": "1.5.0",
      "_model_name": "FloatProgressModel",
      "_view_count": null,
      "_view_module": "@jupyter-widgets/controls",
      "_view_module_version": "1.5.0",
      "_view_name": "ProgressView",
      "bar_style": "success",
      "description": "",
      "description_tooltip": null,
      "layout": "IPY_MODEL_927f805f1e5f45118b50d1e349e812bd",
      "max": 953,
      "min": 0,
      "orientation": "horizontal",
      "style": "IPY_MODEL_65797a51236b46f2b5ed13e0c0b0b84c",
      "value": 953
     }
    },
    "71f8808b0f1742c4b424d9810490e039": {
     "model_module": "@jupyter-widgets/controls",
     "model_module_version": "1.5.0",
     "model_name": "FloatProgressModel",
     "state": {
      "_dom_classes": [],
      "_model_module": "@jupyter-widgets/controls",
      "_model_module_version": "1.5.0",
      "_model_name": "FloatProgressModel",
      "_view_count": null,
      "_view_module": "@jupyter-widgets/controls",
      "_view_module_version": "1.5.0",
      "_view_name": "ProgressView",
      "bar_style": "success",
      "description": "",
      "description_tooltip": null,
      "layout": "IPY_MODEL_e38f05428f7044b2b4872698bb081943",
      "max": 112,
      "min": 0,
      "orientation": "horizontal",
      "style": "IPY_MODEL_b5b3983d6a6c4d08bc7b08abb25521ae",
      "value": 112
     }
    },
    "7f0c9b9200b544f4a2a8e66e8b7b0663": {
     "model_module": "@jupyter-widgets/base",
     "model_module_version": "1.2.0",
     "model_name": "LayoutModel",
     "state": {
      "_model_module": "@jupyter-widgets/base",
      "_model_module_version": "1.2.0",
      "_model_name": "LayoutModel",
      "_view_count": null,
      "_view_module": "@jupyter-widgets/base",
      "_view_module_version": "1.2.0",
      "_view_name": "LayoutView",
      "align_content": null,
      "align_items": null,
      "align_self": null,
      "border": null,
      "bottom": null,
      "display": null,
      "flex": null,
      "flex_flow": null,
      "grid_area": null,
      "grid_auto_columns": null,
      "grid_auto_flow": null,
      "grid_auto_rows": null,
      "grid_column": null,
      "grid_gap": null,
      "grid_row": null,
      "grid_template_areas": null,
      "grid_template_columns": null,
      "grid_template_rows": null,
      "height": null,
      "justify_content": null,
      "justify_items": null,
      "left": null,
      "margin": null,
      "max_height": null,
      "max_width": null,
      "min_height": null,
      "min_width": null,
      "object_fit": null,
      "object_position": null,
      "order": null,
      "overflow": null,
      "overflow_x": null,
      "overflow_y": null,
      "padding": null,
      "right": null,
      "top": null,
      "visibility": null,
      "width": null
     }
    },
    "81744ada47f94986ae4306fe81f7be88": {
     "model_module": "@jupyter-widgets/controls",
     "model_module_version": "1.5.0",
     "model_name": "DescriptionStyleModel",
     "state": {
      "_model_module": "@jupyter-widgets/controls",
      "_model_module_version": "1.5.0",
      "_model_name": "DescriptionStyleModel",
      "_view_count": null,
      "_view_module": "@jupyter-widgets/base",
      "_view_module_version": "1.2.0",
      "_view_name": "StyleView",
      "description_width": ""
     }
    },
    "81f30dbaa3c148958db97388a2dca007": {
     "model_module": "@jupyter-widgets/controls",
     "model_module_version": "1.5.0",
     "model_name": "HTMLModel",
     "state": {
      "_dom_classes": [],
      "_model_module": "@jupyter-widgets/controls",
      "_model_module_version": "1.5.0",
      "_model_name": "HTMLModel",
      "_view_count": null,
      "_view_module": "@jupyter-widgets/controls",
      "_view_module_version": "1.5.0",
      "_view_name": "HTMLView",
      "description": "",
      "description_tooltip": null,
      "layout": "IPY_MODEL_27170059e92a4d5f8e1bc21c8dfb127f",
      "placeholder": "​",
      "style": "IPY_MODEL_d30134017da146e791b4a4f31786adba",
      "value": "Downloading: 100%"
     }
    },
    "850ba70d0b9f4955a19f70ff97c5fdad": {
     "model_module": "@jupyter-widgets/controls",
     "model_module_version": "1.5.0",
     "model_name": "FloatProgressModel",
     "state": {
      "_dom_classes": [],
      "_model_module": "@jupyter-widgets/controls",
      "_model_module_version": "1.5.0",
      "_model_name": "FloatProgressModel",
      "_view_count": null,
      "_view_module": "@jupyter-widgets/controls",
      "_view_module_version": "1.5.0",
      "_view_name": "ProgressView",
      "bar_style": "success",
      "description": "",
      "description_tooltip": null,
      "layout": "IPY_MODEL_c9c5ca064a114dc7a6efa1d989493182",
      "max": 39,
      "min": 0,
      "orientation": "horizontal",
      "style": "IPY_MODEL_da2305527e0d44b3b354878ff79f325e",
      "value": 39
     }
    },
    "85cd0f7ff93c45d49b92c18669301fef": {
     "model_module": "@jupyter-widgets/base",
     "model_module_version": "1.2.0",
     "model_name": "LayoutModel",
     "state": {
      "_model_module": "@jupyter-widgets/base",
      "_model_module_version": "1.2.0",
      "_model_name": "LayoutModel",
      "_view_count": null,
      "_view_module": "@jupyter-widgets/base",
      "_view_module_version": "1.2.0",
      "_view_name": "LayoutView",
      "align_content": null,
      "align_items": null,
      "align_self": null,
      "border": null,
      "bottom": null,
      "display": null,
      "flex": null,
      "flex_flow": null,
      "grid_area": null,
      "grid_auto_columns": null,
      "grid_auto_flow": null,
      "grid_auto_rows": null,
      "grid_column": null,
      "grid_gap": null,
      "grid_row": null,
      "grid_template_areas": null,
      "grid_template_columns": null,
      "grid_template_rows": null,
      "height": null,
      "justify_content": null,
      "justify_items": null,
      "left": null,
      "margin": null,
      "max_height": null,
      "max_width": null,
      "min_height": null,
      "min_width": null,
      "object_fit": null,
      "object_position": null,
      "order": null,
      "overflow": null,
      "overflow_x": null,
      "overflow_y": null,
      "padding": null,
      "right": null,
      "top": null,
      "visibility": null,
      "width": null
     }
    },
    "8c5c908a653f408392e4a5c2cea1656d": {
     "model_module": "@jupyter-widgets/base",
     "model_module_version": "1.2.0",
     "model_name": "LayoutModel",
     "state": {
      "_model_module": "@jupyter-widgets/base",
      "_model_module_version": "1.2.0",
      "_model_name": "LayoutModel",
      "_view_count": null,
      "_view_module": "@jupyter-widgets/base",
      "_view_module_version": "1.2.0",
      "_view_name": "LayoutView",
      "align_content": null,
      "align_items": null,
      "align_self": null,
      "border": null,
      "bottom": null,
      "display": null,
      "flex": null,
      "flex_flow": null,
      "grid_area": null,
      "grid_auto_columns": null,
      "grid_auto_flow": null,
      "grid_auto_rows": null,
      "grid_column": null,
      "grid_gap": null,
      "grid_row": null,
      "grid_template_areas": null,
      "grid_template_columns": null,
      "grid_template_rows": null,
      "height": null,
      "justify_content": null,
      "justify_items": null,
      "left": null,
      "margin": null,
      "max_height": null,
      "max_width": null,
      "min_height": null,
      "min_width": null,
      "object_fit": null,
      "object_position": null,
      "order": null,
      "overflow": null,
      "overflow_x": null,
      "overflow_y": null,
      "padding": null,
      "right": null,
      "top": null,
      "visibility": null,
      "width": null
     }
    },
    "91763859f2354c8cb709bd933eda63ae": {
     "model_module": "@jupyter-widgets/controls",
     "model_module_version": "1.5.0",
     "model_name": "DescriptionStyleModel",
     "state": {
      "_model_module": "@jupyter-widgets/controls",
      "_model_module_version": "1.5.0",
      "_model_name": "DescriptionStyleModel",
      "_view_count": null,
      "_view_module": "@jupyter-widgets/base",
      "_view_module_version": "1.2.0",
      "_view_name": "StyleView",
      "description_width": ""
     }
    },
    "927f805f1e5f45118b50d1e349e812bd": {
     "model_module": "@jupyter-widgets/base",
     "model_module_version": "1.2.0",
     "model_name": "LayoutModel",
     "state": {
      "_model_module": "@jupyter-widgets/base",
      "_model_module_version": "1.2.0",
      "_model_name": "LayoutModel",
      "_view_count": null,
      "_view_module": "@jupyter-widgets/base",
      "_view_module_version": "1.2.0",
      "_view_name": "LayoutView",
      "align_content": null,
      "align_items": null,
      "align_self": null,
      "border": null,
      "bottom": null,
      "display": null,
      "flex": null,
      "flex_flow": null,
      "grid_area": null,
      "grid_auto_columns": null,
      "grid_auto_flow": null,
      "grid_auto_rows": null,
      "grid_column": null,
      "grid_gap": null,
      "grid_row": null,
      "grid_template_areas": null,
      "grid_template_columns": null,
      "grid_template_rows": null,
      "height": null,
      "justify_content": null,
      "justify_items": null,
      "left": null,
      "margin": null,
      "max_height": null,
      "max_width": null,
      "min_height": null,
      "min_width": null,
      "object_fit": null,
      "object_position": null,
      "order": null,
      "overflow": null,
      "overflow_x": null,
      "overflow_y": null,
      "padding": null,
      "right": null,
      "top": null,
      "visibility": null,
      "width": null
     }
    },
    "936f0aad25a84b50b986d39e8c3b05ef": {
     "model_module": "@jupyter-widgets/controls",
     "model_module_version": "1.5.0",
     "model_name": "DescriptionStyleModel",
     "state": {
      "_model_module": "@jupyter-widgets/controls",
      "_model_module_version": "1.5.0",
      "_model_name": "DescriptionStyleModel",
      "_view_count": null,
      "_view_module": "@jupyter-widgets/base",
      "_view_module_version": "1.2.0",
      "_view_name": "StyleView",
      "description_width": ""
     }
    },
    "9438a560e38b4ef4bd96369f2cf7857c": {
     "model_module": "@jupyter-widgets/base",
     "model_module_version": "1.2.0",
     "model_name": "LayoutModel",
     "state": {
      "_model_module": "@jupyter-widgets/base",
      "_model_module_version": "1.2.0",
      "_model_name": "LayoutModel",
      "_view_count": null,
      "_view_module": "@jupyter-widgets/base",
      "_view_module_version": "1.2.0",
      "_view_name": "LayoutView",
      "align_content": null,
      "align_items": null,
      "align_self": null,
      "border": null,
      "bottom": null,
      "display": null,
      "flex": null,
      "flex_flow": null,
      "grid_area": null,
      "grid_auto_columns": null,
      "grid_auto_flow": null,
      "grid_auto_rows": null,
      "grid_column": null,
      "grid_gap": null,
      "grid_row": null,
      "grid_template_areas": null,
      "grid_template_columns": null,
      "grid_template_rows": null,
      "height": null,
      "justify_content": null,
      "justify_items": null,
      "left": null,
      "margin": null,
      "max_height": null,
      "max_width": null,
      "min_height": null,
      "min_width": null,
      "object_fit": null,
      "object_position": null,
      "order": null,
      "overflow": null,
      "overflow_x": null,
      "overflow_y": null,
      "padding": null,
      "right": null,
      "top": null,
      "visibility": null,
      "width": null
     }
    },
    "99f62e142f304967a81b11091b05f059": {
     "model_module": "@jupyter-widgets/controls",
     "model_module_version": "1.5.0",
     "model_name": "HTMLModel",
     "state": {
      "_dom_classes": [],
      "_model_module": "@jupyter-widgets/controls",
      "_model_module_version": "1.5.0",
      "_model_name": "HTMLModel",
      "_view_count": null,
      "_view_module": "@jupyter-widgets/controls",
      "_view_module_version": "1.5.0",
      "_view_name": "HTMLView",
      "description": "",
      "description_tooltip": null,
      "layout": "IPY_MODEL_57ace74e1ad042269aa029735922f930",
      "placeholder": "​",
      "style": "IPY_MODEL_397bb0f69a53408aa43e08cde00df74a",
      "value": " 872k/872k [00:00&lt;00:00, 1.34MB/s]"
     }
    },
    "a6097dcb2e1740b78b11b26d594c4b9a": {
     "model_module": "@jupyter-widgets/controls",
     "model_module_version": "1.5.0",
     "model_name": "HTMLModel",
     "state": {
      "_dom_classes": [],
      "_model_module": "@jupyter-widgets/controls",
      "_model_module_version": "1.5.0",
      "_model_name": "HTMLModel",
      "_view_count": null,
      "_view_module": "@jupyter-widgets/controls",
      "_view_module_version": "1.5.0",
      "_view_name": "HTMLView",
      "description": "",
      "description_tooltip": null,
      "layout": "IPY_MODEL_1e3b0af31ee64187aec5a4c23c1d9a66",
      "placeholder": "​",
      "style": "IPY_MODEL_f6b4890290b549a6aa67b72616be31a8",
      "value": " 953/953 [00:00&lt;00:00, 18.4kB/s]"
     }
    },
    "ace0a1b7d7c042aba8d6eb2ec6e56111": {
     "model_module": "@jupyter-widgets/controls",
     "model_module_version": "1.5.0",
     "model_name": "DescriptionStyleModel",
     "state": {
      "_model_module": "@jupyter-widgets/controls",
      "_model_module_version": "1.5.0",
      "_model_name": "DescriptionStyleModel",
      "_view_count": null,
      "_view_module": "@jupyter-widgets/base",
      "_view_module_version": "1.2.0",
      "_view_name": "StyleView",
      "description_width": ""
     }
    },
    "b5b3983d6a6c4d08bc7b08abb25521ae": {
     "model_module": "@jupyter-widgets/controls",
     "model_module_version": "1.5.0",
     "model_name": "ProgressStyleModel",
     "state": {
      "_model_module": "@jupyter-widgets/controls",
      "_model_module_version": "1.5.0",
      "_model_name": "ProgressStyleModel",
      "_view_count": null,
      "_view_module": "@jupyter-widgets/base",
      "_view_module_version": "1.2.0",
      "_view_name": "StyleView",
      "bar_color": null,
      "description_width": ""
     }
    },
    "b8f4647055774b99aeb1491bb7c5047c": {
     "model_module": "@jupyter-widgets/controls",
     "model_module_version": "1.5.0",
     "model_name": "HBoxModel",
     "state": {
      "_dom_classes": [],
      "_model_module": "@jupyter-widgets/controls",
      "_model_module_version": "1.5.0",
      "_model_name": "HBoxModel",
      "_view_count": null,
      "_view_module": "@jupyter-widgets/controls",
      "_view_module_version": "1.5.0",
      "_view_name": "HBoxView",
      "box_style": "",
      "children": [
       "IPY_MODEL_ccde11957d424c449318f6986980a0dc",
       "IPY_MODEL_850ba70d0b9f4955a19f70ff97c5fdad",
       "IPY_MODEL_57a1165a34094ac395eb055dd560f2ea"
      ],
      "layout": "IPY_MODEL_fbea0c16b55649b883a3d2a6705660be"
     }
    },
    "b9ff5c9857c3424fb07f651366541d81": {
     "model_module": "@jupyter-widgets/controls",
     "model_module_version": "1.5.0",
     "model_name": "HTMLModel",
     "state": {
      "_dom_classes": [],
      "_model_module": "@jupyter-widgets/controls",
      "_model_module_version": "1.5.0",
      "_model_name": "HTMLModel",
      "_view_count": null,
      "_view_module": "@jupyter-widgets/controls",
      "_view_module_version": "1.5.0",
      "_view_name": "HTMLView",
      "description": "",
      "description_tooltip": null,
      "layout": "IPY_MODEL_4db54c0310a940be841c3f192ef77abb",
      "placeholder": "​",
      "style": "IPY_MODEL_c6e3456684b24cd5babbd326a5a61b26",
      "value": " 112/112 [00:00&lt;00:00, 2.90kB/s]"
     }
    },
    "c5bb356dfb7f4002b40932e7f45f2787": {
     "model_module": "@jupyter-widgets/controls",
     "model_module_version": "1.5.0",
     "model_name": "HTMLModel",
     "state": {
      "_dom_classes": [],
      "_model_module": "@jupyter-widgets/controls",
      "_model_module_version": "1.5.0",
      "_model_name": "HTMLModel",
      "_view_count": null,
      "_view_module": "@jupyter-widgets/controls",
      "_view_module_version": "1.5.0",
      "_view_name": "HTMLView",
      "description": "",
      "description_tooltip": null,
      "layout": "IPY_MODEL_53ae2e75b74c4f9ebc8da0ae5b5a87c4",
      "placeholder": "​",
      "style": "IPY_MODEL_ace0a1b7d7c042aba8d6eb2ec6e56111",
      "value": "Downloading: 100%"
     }
    },
    "c6e3456684b24cd5babbd326a5a61b26": {
     "model_module": "@jupyter-widgets/controls",
     "model_module_version": "1.5.0",
     "model_name": "DescriptionStyleModel",
     "state": {
      "_model_module": "@jupyter-widgets/controls",
      "_model_module_version": "1.5.0",
      "_model_name": "DescriptionStyleModel",
      "_view_count": null,
      "_view_module": "@jupyter-widgets/base",
      "_view_module_version": "1.2.0",
      "_view_name": "StyleView",
      "description_width": ""
     }
    },
    "c9c5ca064a114dc7a6efa1d989493182": {
     "model_module": "@jupyter-widgets/base",
     "model_module_version": "1.2.0",
     "model_name": "LayoutModel",
     "state": {
      "_model_module": "@jupyter-widgets/base",
      "_model_module_version": "1.2.0",
      "_model_name": "LayoutModel",
      "_view_count": null,
      "_view_module": "@jupyter-widgets/base",
      "_view_module_version": "1.2.0",
      "_view_name": "LayoutView",
      "align_content": null,
      "align_items": null,
      "align_self": null,
      "border": null,
      "bottom": null,
      "display": null,
      "flex": null,
      "flex_flow": null,
      "grid_area": null,
      "grid_auto_columns": null,
      "grid_auto_flow": null,
      "grid_auto_rows": null,
      "grid_column": null,
      "grid_gap": null,
      "grid_row": null,
      "grid_template_areas": null,
      "grid_template_columns": null,
      "grid_template_rows": null,
      "height": null,
      "justify_content": null,
      "justify_items": null,
      "left": null,
      "margin": null,
      "max_height": null,
      "max_width": null,
      "min_height": null,
      "min_width": null,
      "object_fit": null,
      "object_position": null,
      "order": null,
      "overflow": null,
      "overflow_x": null,
      "overflow_y": null,
      "padding": null,
      "right": null,
      "top": null,
      "visibility": null,
      "width": null
     }
    },
    "cc8a59363c9a4bf7aad5d1a7eabe2db7": {
     "model_module": "@jupyter-widgets/controls",
     "model_module_version": "1.5.0",
     "model_name": "FloatProgressModel",
     "state": {
      "_dom_classes": [],
      "_model_module": "@jupyter-widgets/controls",
      "_model_module_version": "1.5.0",
      "_model_name": "FloatProgressModel",
      "_view_count": null,
      "_view_module": "@jupyter-widgets/controls",
      "_view_module_version": "1.5.0",
      "_view_name": "ProgressView",
      "bar_style": "success",
      "description": "",
      "description_tooltip": null,
      "layout": "IPY_MODEL_ea42f53924634b80b0c4f8c70a1e6532",
      "max": 669491321,
      "min": 0,
      "orientation": "horizontal",
      "style": "IPY_MODEL_12a5ebfb58914b0aa83f69e97ef6d4b3",
      "value": 669491321
     }
    },
    "ccde11957d424c449318f6986980a0dc": {
     "model_module": "@jupyter-widgets/controls",
     "model_module_version": "1.5.0",
     "model_name": "HTMLModel",
     "state": {
      "_dom_classes": [],
      "_model_module": "@jupyter-widgets/controls",
      "_model_module_version": "1.5.0",
      "_model_name": "HTMLModel",
      "_view_count": null,
      "_view_module": "@jupyter-widgets/controls",
      "_view_module_version": "1.5.0",
      "_view_name": "HTMLView",
      "description": "",
      "description_tooltip": null,
      "layout": "IPY_MODEL_5d453a5e98d3432b8983b89c5d067351",
      "placeholder": "​",
      "style": "IPY_MODEL_936f0aad25a84b50b986d39e8c3b05ef",
      "value": "Downloading: 100%"
     }
    },
    "d30134017da146e791b4a4f31786adba": {
     "model_module": "@jupyter-widgets/controls",
     "model_module_version": "1.5.0",
     "model_name": "DescriptionStyleModel",
     "state": {
      "_model_module": "@jupyter-widgets/controls",
      "_model_module_version": "1.5.0",
      "_model_name": "DescriptionStyleModel",
      "_view_count": null,
      "_view_module": "@jupyter-widgets/base",
      "_view_module_version": "1.2.0",
      "_view_name": "StyleView",
      "description_width": ""
     }
    },
    "d54c2414428245c0a677a0fafaa399cd": {
     "model_module": "@jupyter-widgets/base",
     "model_module_version": "1.2.0",
     "model_name": "LayoutModel",
     "state": {
      "_model_module": "@jupyter-widgets/base",
      "_model_module_version": "1.2.0",
      "_model_name": "LayoutModel",
      "_view_count": null,
      "_view_module": "@jupyter-widgets/base",
      "_view_module_version": "1.2.0",
      "_view_name": "LayoutView",
      "align_content": null,
      "align_items": null,
      "align_self": null,
      "border": null,
      "bottom": null,
      "display": null,
      "flex": null,
      "flex_flow": null,
      "grid_area": null,
      "grid_auto_columns": null,
      "grid_auto_flow": null,
      "grid_auto_rows": null,
      "grid_column": null,
      "grid_gap": null,
      "grid_row": null,
      "grid_template_areas": null,
      "grid_template_columns": null,
      "grid_template_rows": null,
      "height": null,
      "justify_content": null,
      "justify_items": null,
      "left": null,
      "margin": null,
      "max_height": null,
      "max_width": null,
      "min_height": null,
      "min_width": null,
      "object_fit": null,
      "object_position": null,
      "order": null,
      "overflow": null,
      "overflow_x": null,
      "overflow_y": null,
      "padding": null,
      "right": null,
      "top": null,
      "visibility": null,
      "width": null
     }
    },
    "da2305527e0d44b3b354878ff79f325e": {
     "model_module": "@jupyter-widgets/controls",
     "model_module_version": "1.5.0",
     "model_name": "ProgressStyleModel",
     "state": {
      "_model_module": "@jupyter-widgets/controls",
      "_model_module_version": "1.5.0",
      "_model_name": "ProgressStyleModel",
      "_view_count": null,
      "_view_module": "@jupyter-widgets/base",
      "_view_module_version": "1.2.0",
      "_view_name": "StyleView",
      "bar_color": null,
      "description_width": ""
     }
    },
    "e38f05428f7044b2b4872698bb081943": {
     "model_module": "@jupyter-widgets/base",
     "model_module_version": "1.2.0",
     "model_name": "LayoutModel",
     "state": {
      "_model_module": "@jupyter-widgets/base",
      "_model_module_version": "1.2.0",
      "_model_name": "LayoutModel",
      "_view_count": null,
      "_view_module": "@jupyter-widgets/base",
      "_view_module_version": "1.2.0",
      "_view_name": "LayoutView",
      "align_content": null,
      "align_items": null,
      "align_self": null,
      "border": null,
      "bottom": null,
      "display": null,
      "flex": null,
      "flex_flow": null,
      "grid_area": null,
      "grid_auto_columns": null,
      "grid_auto_flow": null,
      "grid_auto_rows": null,
      "grid_column": null,
      "grid_gap": null,
      "grid_row": null,
      "grid_template_areas": null,
      "grid_template_columns": null,
      "grid_template_rows": null,
      "height": null,
      "justify_content": null,
      "justify_items": null,
      "left": null,
      "margin": null,
      "max_height": null,
      "max_width": null,
      "min_height": null,
      "min_width": null,
      "object_fit": null,
      "object_position": null,
      "order": null,
      "overflow": null,
      "overflow_x": null,
      "overflow_y": null,
      "padding": null,
      "right": null,
      "top": null,
      "visibility": null,
      "width": null
     }
    },
    "ea42f53924634b80b0c4f8c70a1e6532": {
     "model_module": "@jupyter-widgets/base",
     "model_module_version": "1.2.0",
     "model_name": "LayoutModel",
     "state": {
      "_model_module": "@jupyter-widgets/base",
      "_model_module_version": "1.2.0",
      "_model_name": "LayoutModel",
      "_view_count": null,
      "_view_module": "@jupyter-widgets/base",
      "_view_module_version": "1.2.0",
      "_view_name": "LayoutView",
      "align_content": null,
      "align_items": null,
      "align_self": null,
      "border": null,
      "bottom": null,
      "display": null,
      "flex": null,
      "flex_flow": null,
      "grid_area": null,
      "grid_auto_columns": null,
      "grid_auto_flow": null,
      "grid_auto_rows": null,
      "grid_column": null,
      "grid_gap": null,
      "grid_row": null,
      "grid_template_areas": null,
      "grid_template_columns": null,
      "grid_template_rows": null,
      "height": null,
      "justify_content": null,
      "justify_items": null,
      "left": null,
      "margin": null,
      "max_height": null,
      "max_width": null,
      "min_height": null,
      "min_width": null,
      "object_fit": null,
      "object_position": null,
      "order": null,
      "overflow": null,
      "overflow_x": null,
      "overflow_y": null,
      "padding": null,
      "right": null,
      "top": null,
      "visibility": null,
      "width": null
     }
    },
    "edd4c23e87c141b1be15f22439afcb85": {
     "model_module": "@jupyter-widgets/controls",
     "model_module_version": "1.5.0",
     "model_name": "DescriptionStyleModel",
     "state": {
      "_model_module": "@jupyter-widgets/controls",
      "_model_module_version": "1.5.0",
      "_model_name": "DescriptionStyleModel",
      "_view_count": null,
      "_view_module": "@jupyter-widgets/base",
      "_view_module_version": "1.2.0",
      "_view_name": "StyleView",
      "description_width": ""
     }
    },
    "f6b4890290b549a6aa67b72616be31a8": {
     "model_module": "@jupyter-widgets/controls",
     "model_module_version": "1.5.0",
     "model_name": "DescriptionStyleModel",
     "state": {
      "_model_module": "@jupyter-widgets/controls",
      "_model_module_version": "1.5.0",
      "_model_name": "DescriptionStyleModel",
      "_view_count": null,
      "_view_module": "@jupyter-widgets/base",
      "_view_module_version": "1.2.0",
      "_view_name": "StyleView",
      "description_width": ""
     }
    },
    "fbea0c16b55649b883a3d2a6705660be": {
     "model_module": "@jupyter-widgets/base",
     "model_module_version": "1.2.0",
     "model_name": "LayoutModel",
     "state": {
      "_model_module": "@jupyter-widgets/base",
      "_model_module_version": "1.2.0",
      "_model_name": "LayoutModel",
      "_view_count": null,
      "_view_module": "@jupyter-widgets/base",
      "_view_module_version": "1.2.0",
      "_view_name": "LayoutView",
      "align_content": null,
      "align_items": null,
      "align_self": null,
      "border": null,
      "bottom": null,
      "display": null,
      "flex": null,
      "flex_flow": null,
      "grid_area": null,
      "grid_auto_columns": null,
      "grid_auto_flow": null,
      "grid_auto_rows": null,
      "grid_column": null,
      "grid_gap": null,
      "grid_row": null,
      "grid_template_areas": null,
      "grid_template_columns": null,
      "grid_template_rows": null,
      "height": null,
      "justify_content": null,
      "justify_items": null,
      "left": null,
      "margin": null,
      "max_height": null,
      "max_width": null,
      "min_height": null,
      "min_width": null,
      "object_fit": null,
      "object_position": null,
      "order": null,
      "overflow": null,
      "overflow_x": null,
      "overflow_y": null,
      "padding": null,
      "right": null,
      "top": null,
      "visibility": null,
      "width": null
     }
    },
    "fcb36d6db1fd4837b838fb32993b6374": {
     "model_module": "@jupyter-widgets/controls",
     "model_module_version": "1.5.0",
     "model_name": "FloatProgressModel",
     "state": {
      "_dom_classes": [],
      "_model_module": "@jupyter-widgets/controls",
      "_model_module_version": "1.5.0",
      "_model_name": "FloatProgressModel",
      "_view_count": null,
      "_view_module": "@jupyter-widgets/controls",
      "_view_module_version": "1.5.0",
      "_view_name": "ProgressView",
      "bar_style": "success",
      "description": "",
      "description_tooltip": null,
      "layout": "IPY_MODEL_85cd0f7ff93c45d49b92c18669301fef",
      "max": 871891,
      "min": 0,
      "orientation": "horizontal",
      "style": "IPY_MODEL_4cf67b55d06c42df8febca2bc29ba742",
      "value": 871891
     }
    },
    "feadbd6dad0b4089a583cf90d239418f": {
     "model_module": "@jupyter-widgets/controls",
     "model_module_version": "1.5.0",
     "model_name": "HTMLModel",
     "state": {
      "_dom_classes": [],
      "_model_module": "@jupyter-widgets/controls",
      "_model_module_version": "1.5.0",
      "_model_name": "HTMLModel",
      "_view_count": null,
      "_view_module": "@jupyter-widgets/controls",
      "_view_module_version": "1.5.0",
      "_view_name": "HTMLView",
      "description": "",
      "description_tooltip": null,
      "layout": "IPY_MODEL_1a494a9676e94d509e0978b1ad6c47c7",
      "placeholder": "​",
      "style": "IPY_MODEL_edd4c23e87c141b1be15f22439afcb85",
      "value": " 669M/669M [00:14&lt;00:00, 47.4MB/s]"
     }
    }
   }
  }
 },
 "nbformat": 4,
 "nbformat_minor": 4
}
