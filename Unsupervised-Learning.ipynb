{
 "cells": [
  {
   "cell_type": "markdown",
   "id": "8acccbb1",
   "metadata": {},
   "source": [
    "# Clustering\n",
    "\n",
    "**Background Reading:** Intro to Statistical Learning 12.1, 12.4\n",
    "\n",
    "**Dataset:**\n",
    "\n",
    "\n",
    "**Essence of Data:**\n",
    "\n",
    "**How does clustering work?**\n",
    "\n",
    "<!--possible sample dataset: https://www.kaggle.com/datasets/abcsds/pokemon-->\n",
    "<!--possible large dataset: https://www.kaggle.com/code/mgmarques/customer-segmentation-and-market-basket-analysis/data\n",
    "#https://archive.ics.uci.edu/ml/datasets.php?format=&task=clu&att=&area=&numAtt=greater100&numIns=&type=&sort=nameUp&view=table -->"
   ]
  },
  {
   "cell_type": "markdown",
   "id": "e7d3f31b",
   "metadata": {},
   "source": [
    "**Real World Applications**\n"
   ]
  }
 ],
 "metadata": {
  "kernelspec": {
   "display_name": "Python 3 (ipykernel)",
   "language": "python",
   "name": "python3"
  },
  "language_info": {
   "codemirror_mode": {
    "name": "ipython",
    "version": 3
   },
   "file_extension": ".py",
   "mimetype": "text/x-python",
   "name": "python",
   "nbconvert_exporter": "python",
   "pygments_lexer": "ipython3",
   "version": "3.9.7"
  }
 },
 "nbformat": 4,
 "nbformat_minor": 5
}
