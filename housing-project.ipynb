{
 "cells": [
  {
   "cell_type": "code",
   "execution_count": null,
   "id": "7856a095",
   "metadata": {},
   "outputs": [],
   "source": [
    "#objective: create a model to predict when a lot of houses will be put on the market"
   ]
  },
  {
   "cell_type": "code",
   "execution_count": 91,
   "id": "fde06fae",
   "metadata": {},
   "outputs": [],
   "source": [
    "import pandas as pd\n",
    "from sklearn import datasets\n",
    "from sklearn.feature_selection import chi2\n",
    "from sklearn.feature_selection import SelectKBest\n",
    "import string\n",
    "from sklearn.model_selection import train_test_split\n",
    "from sklearn.tree import DecisionTreeClassifier\n",
    "from sklearn.preprocessing import LabelEncoder\n",
    "from sklearn.preprocessing import OneHotEncoder\n",
    "from sklearn import metrics\n",
    "from sklearn import tree\n",
    "import matplotlib.pyplot as plt"
   ]
  },
  {
   "cell_type": "code",
   "execution_count": null,
   "id": "690e64fe",
   "metadata": {},
   "outputs": [],
   "source": [
    "#keep:\n",
    "['PARID','PROPERTYHOUSENUM','PROPERTYFRACTION','PROPERTYADDRESS','PROPERTYUNIT','MUNIDESC','OWNERDESC','CLASSDESC',\n",
    " 'LOTAREA','HOMESTEADFLAG','FARMSTEADFLAG','ABATEMENTFLAG','SALEDATE','SALEPRICE','SALEDESC','PREVSALEDATE','PREVSALEPRICE',\n",
    " 'PREVSALEDATE2','PREVSALEPRICE2','CHANGENOTICEADDRESS1','CHANGENOTICEADDRESS2','CHANGENOTICEADDRESS3','CHANGENOTICEADDRESS4',\n",
    "'STYLEDESC','STORIES','YEARBLT','CDUDESC'\n",
    "]\n",
    "#maybe:\n",
    "['TAXDESC','USEDESC','RECORDDATE']"
   ]
  },
  {
   "cell_type": "code",
   "execution_count": null,
   "id": "e78e9e13",
   "metadata": {},
   "outputs": [],
   "source": [
    "#use property unit as a binary flag?\n",
    "#use classdesc as a filter\n",
    "#take out all farmsteads\n",
    "#find out what recorddate,deedbook,deedpage,countybuilding,countyland,localbuilding-fairmarkettotal,gradedesc is\n",
    "#ask if specific properties of house are important"
   ]
  },
  {
   "cell_type": "code",
   "execution_count": 73,
   "id": "f26aab12",
   "metadata": {
    "scrolled": true
   },
   "outputs": [
    {
     "name": "stderr",
     "output_type": "stream",
     "text": [
      "C:\\Users\\Tara\\Anaconda3\\lib\\site-packages\\IPython\\core\\interactiveshell.py:3444: DtypeWarning: Columns (19) have mixed types.Specify dtype option on import or set low_memory=False.\n",
      "  exec(code_obj, self.user_global_ns, self.user_ns)\n",
      "C:\\Users\\Tara\\Anaconda3\\lib\\site-packages\\IPython\\core\\interactiveshell.py:3444: DtypeWarning: Columns (19,20,29,30,37,38,46,57,83) have mixed types.Specify dtype option on import or set low_memory=False.\n",
      "  exec(code_obj, self.user_global_ns, self.user_ns)\n"
     ]
    }
   ],
   "source": [
    "#read in data\n",
    "sales=pd.read_csv(r'C:\\Users\\Tara\\OneDrive - University of Pittsburgh\\FALL 2022\\ENGR 1171\\Project Housing Data\\SalesData.csv')\n",
    "#convert sale date from string to date\n",
    "sales['SALEDATE']=pd.to_datetime(sales['SALEDATE'])\n",
    "assessment=pd.read_csv(r'C:\\Users\\Tara\\OneDrive - University of Pittsburgh\\FALL 2022\\ENGR 1171\\Project Housing Data\\AssessmentData.csv')"
   ]
  },
  {
   "cell_type": "code",
   "execution_count": 74,
   "id": "ba917677",
   "metadata": {},
   "outputs": [],
   "source": [
    "#add flag to assessment data of whether a house is in the sales dataset\n",
    "assessment['Sold']=''\n",
    "assessment.loc[assessment['PARID'].isin(sales['PARID']),'Sold']=1\n",
    "assessment.loc[~assessment['PARID'].isin(sales['PARID']),'Sold']=0"
   ]
  },
  {
   "cell_type": "code",
   "execution_count": 75,
   "id": "57c4b26c",
   "metadata": {
    "scrolled": true
   },
   "outputs": [],
   "source": [
    "#isolate most recent sale date for each house sold, merge onto assessment dataset\n",
    "salesgrouped=sales[['PARID','SALEDATE']].groupby('PARID').agg({'SALEDATE':'max'}).reset_index().rename(columns={'SALEDATE':'FINALSALEDATE'})\n",
    "df=pd.merge(assessment,salesgrouped,how='left',on='PARID')"
   ]
  },
  {
   "cell_type": "code",
   "execution_count": 77,
   "id": "7d2c8882",
   "metadata": {},
   "outputs": [],
   "source": [
    "#limit data to residential properties\n",
    "df=df.loc[df['CLASSDESC']=='RESIDENTIAL']\n",
    "\n",
    "#drop redundant columns (e.g. codes that have matching descriptions)\n",
    "df=df.drop(['PROPERTYCITY','PROPERTYSTATE', 'PROPERTYZIP', 'MUNICODE', 'SCHOOLCODE', 'SCHOOLDESC', 'NEIGHCODE','NEIGHDESC', 'TAXCODE', 'TAXSUBCODE', 'TAXSUBCODE_DESC', 'OWNERCODE','CLASS','USECODE','CLEANGREEN', 'SALECODE','DEEDBOOK', 'DEEDPAGE','EXTERIORFINISH', 'EXTFINISH_DESC', 'ROOF', 'ROOFDESC', 'BASEMENT','BASEMENTDESC','CONDITION', 'CONDITIONDESC','HEATINGCOOLING', 'HEATINGCOOLINGDESC', 'FIREPLACES', 'BSMTGARAGE', 'FINISHEDLIVINGAREA', 'CARDNUMBER', 'ALT_ID', 'TAXYEAR', 'ASOFDATE'],axis=1)"
   ]
  },
  {
   "cell_type": "code",
   "execution_count": 78,
   "id": "9197b8c2",
   "metadata": {},
   "outputs": [],
   "source": [
    "#add number of times property was sold\n",
    "df=pd.merge(df,sales.groupby('PARID').size().reset_index(name='NumTimesSold'),how='left',on='PARID')\n",
    "df['NumTimesSold']=df['NumTimesSold'].fillna(0)"
   ]
  },
  {
   "cell_type": "code",
   "execution_count": 80,
   "id": "7c358979",
   "metadata": {},
   "outputs": [],
   "source": [
    "#identify possible investor-owned properties\n",
    "df['PossibleInvestor']=''\n",
    "df.loc[(df['CHANGENOTICEADDRESS1'].str.replace(\" \", \"\")!=(df['PROPERTYHOUSENUM'].astype(str)+df['PROPERTYADDRESS']).str.replace(\" \", \"\"))&(df['HOMESTEADFLAG'].isna()),'PossibleInvestor']=1\n",
    "df.loc[df['PossibleInvestor']!=1,'PossibleInvestor']=0"
   ]
  },
  {
   "cell_type": "code",
   "execution_count": 81,
   "id": "0e763934",
   "metadata": {},
   "outputs": [],
   "source": [
    "#add multi-parcel sale flag\n",
    "df['MultiParcel']=''\n",
    "df.loc[df['PARID'].isin(sales.loc[sales['SALEDESC']=='MULTI-PARCEL SALE']['PARID']),'MultiParcel']=1\n",
    "df.loc[df['MultiParcel']!=1,'MultiParcel']=0"
   ]
  },
  {
   "cell_type": "code",
   "execution_count": 82,
   "id": "fbe3aa2f",
   "metadata": {},
   "outputs": [],
   "source": [
    "#get a list of all unique property owners\n",
    "#make a unique id for each property owner, add it to the main data\n",
    "df['Ownerinfo']=df['CHANGENOTICEADDRESS1'].astype(str)+df['CHANGENOTICEADDRESS2'].astype(str)+df['CHANGENOTICEADDRESS3'].astype(str)+df['CHANGENOTICEADDRESS4'].astype(str)\n",
    "allowners=df[['Ownerinfo']].drop_duplicates().reset_index()\n",
    "allowners['OwnerId']=allowners.index\n",
    "allowners=allowners[['Ownerinfo','OwnerId']]\n",
    "df=pd.merge(df,allowners,how='left',on='Ownerinfo')"
   ]
  },
  {
   "cell_type": "code",
   "execution_count": 86,
   "id": "3d3ed3fd",
   "metadata": {},
   "outputs": [],
   "source": [
    "#get the number of times each owner has sold a property, merge onto original dataset\n",
    "#only keep data of owners that have a sale in the dataset\n",
    "ownerssold=df.groupby('OwnerId').agg({'Sold':'sum'}).reset_index().rename(columns={'Sold':'TotalOwnerSales'})\n",
    "df=pd.merge(df,ownerssold,how='left',on='OwnerId')\n",
    "df=df.loc[df['TotalOwnerSales']>0]"
   ]
  },
  {
   "cell_type": "code",
   "execution_count": 88,
   "id": "7b86042e",
   "metadata": {},
   "outputs": [],
   "source": [
    "#pick out some interesting columns\n",
    "df=df[['PARID','MUNIDESC','OWNERDESC','CLASSDESC',\n",
    " 'SALEDATE','SALEPRICE','SALEDESC','PREVSALEDATE','PREVSALEPRICE',\n",
    " 'PREVSALEDATE2','PREVSALEPRICE2',\n",
    "'STYLEDESC','YEARBLT','GRADEDESC','Sold','FINALSALEDATE','NumTimesSold','TotalOwnerSales','OwnerId','PossibleInvestor','MultiParcel'\n",
    "]]"
   ]
  },
  {
   "cell_type": "code",
   "execution_count": 103,
   "id": "241e0702",
   "metadata": {},
   "outputs": [
    {
     "data": {
      "text/html": [
       "<div>\n",
       "<style scoped>\n",
       "    .dataframe tbody tr th:only-of-type {\n",
       "        vertical-align: middle;\n",
       "    }\n",
       "\n",
       "    .dataframe tbody tr th {\n",
       "        vertical-align: top;\n",
       "    }\n",
       "\n",
       "    .dataframe thead th {\n",
       "        text-align: right;\n",
       "    }\n",
       "</style>\n",
       "<table border=\"1\" class=\"dataframe\">\n",
       "  <thead>\n",
       "    <tr style=\"text-align: right;\">\n",
       "      <th></th>\n",
       "      <th>OwnerId</th>\n",
       "      <th>TotalOwnerSales</th>\n",
       "    </tr>\n",
       "  </thead>\n",
       "  <tbody>\n",
       "    <tr>\n",
       "      <th>121648</th>\n",
       "      <td>87393</td>\n",
       "      <td>3</td>\n",
       "    </tr>\n",
       "    <tr>\n",
       "      <th>152730</th>\n",
       "      <td>112063</td>\n",
       "      <td>3</td>\n",
       "    </tr>\n",
       "    <tr>\n",
       "      <th>152848</th>\n",
       "      <td>112149</td>\n",
       "      <td>3</td>\n",
       "    </tr>\n",
       "    <tr>\n",
       "      <th>152948</th>\n",
       "      <td>112224</td>\n",
       "      <td>3</td>\n",
       "    </tr>\n",
       "    <tr>\n",
       "      <th>153175</th>\n",
       "      <td>112383</td>\n",
       "      <td>3</td>\n",
       "    </tr>\n",
       "    <tr>\n",
       "      <th>...</th>\n",
       "      <td>...</td>\n",
       "      <td>...</td>\n",
       "    </tr>\n",
       "    <tr>\n",
       "      <th>131355</th>\n",
       "      <td>1957</td>\n",
       "      <td>231</td>\n",
       "    </tr>\n",
       "    <tr>\n",
       "      <th>134029</th>\n",
       "      <td>69680</td>\n",
       "      <td>237</td>\n",
       "    </tr>\n",
       "    <tr>\n",
       "      <th>41033</th>\n",
       "      <td>28659</td>\n",
       "      <td>374</td>\n",
       "    </tr>\n",
       "    <tr>\n",
       "      <th>440850</th>\n",
       "      <td>3358</td>\n",
       "      <td>413</td>\n",
       "    </tr>\n",
       "    <tr>\n",
       "      <th>1033</th>\n",
       "      <td>180</td>\n",
       "      <td>3591</td>\n",
       "    </tr>\n",
       "  </tbody>\n",
       "</table>\n",
       "<p>4579 rows × 2 columns</p>\n",
       "</div>"
      ],
      "text/plain": [
       "        OwnerId  TotalOwnerSales\n",
       "121648    87393                3\n",
       "152730   112063                3\n",
       "152848   112149                3\n",
       "152948   112224                3\n",
       "153175   112383                3\n",
       "...         ...              ...\n",
       "131355     1957              231\n",
       "134029    69680              237\n",
       "41033     28659              374\n",
       "440850     3358              413\n",
       "1033        180             3591\n",
       "\n",
       "[4579 rows x 2 columns]"
      ]
     },
     "execution_count": 103,
     "metadata": {},
     "output_type": "execute_result"
    }
   ],
   "source": [
    "#identify 4579 owners that may be of interest\n",
    "df.loc[(df['OWNERDESC']!='CORPORATION')&(df['TotalOwnerSales']>2)&(df['SALEDESC']!='LOVE&AFFECTION')][['OwnerId','TotalOwnerSales']].drop_duplicates().sort_values('TotalOwnerSales')"
   ]
  },
  {
   "cell_type": "code",
   "execution_count": 106,
   "id": "8ea10616",
   "metadata": {},
   "outputs": [
    {
     "data": {
      "text/plain": [
       "254                 CORPORATION\n",
       "1033                    REGULAR\n",
       "3078               REGULAR-ETAL\n",
       "5076     REGULAR-ETUX OR ET VIR\n",
       "14566        REGULAR-UNFINISHED\n",
       "42648      CORPORATION-RAILROAD\n",
       "Name: OWNERDESC, dtype: object"
      ]
     },
     "execution_count": 106,
     "metadata": {},
     "output_type": "execute_result"
    }
   ],
   "source": [
    "#the same owner has many different owner descriptions??\n",
    "df.loc[df['OwnerId']==180]['OWNERDESC'].drop_duplicates()"
   ]
  },
  {
   "cell_type": "code",
   "execution_count": null,
   "id": "b2677a85",
   "metadata": {},
   "outputs": [],
   "source": [
    "#next steps: assign code to indicate recency of sale - how to discount exponentially w time?\n",
    "#use feature selection to get features, then test out assorted models"
   ]
  },
  {
   "cell_type": "code",
   "execution_count": null,
   "id": "cd8d2361",
   "metadata": {},
   "outputs": [],
   "source": [
    "'''Investor-Owned Properties\n",
    "It may be possible to identify investor-owned residential properties using several fields in the\n",
    "assessment data. Given that not all eligible owners apply, relying solely on the lack of a\n",
    "Homestead flag does not provide enough certainty when working to identify investors. To begin,\n",
    "look at all residential properties using the “CLASSDESC” field to limit the search to privately\n",
    "owned properties (please note that condominium units are classified as residential, but\n",
    "apartment buildings with five or more units, or mixed-use residential parcels are categorized as\n",
    "“commercial” in the “CLASSDESC” field). Then, for all properties without a Homestead flag\n",
    "(“HOMESTEAD”<> “HOM”), compare the property address and owner’s address (using the four\n",
    "“CHANGENOTICE” fields as a proxy for owner’s address). If the addresses do not match and\n",
    "there is no Homestead exemption, this may provide an indication that the residential properties\n",
    "may be investor-owned. This data can be used to get a sense of neighborhood housing market\n",
    "dynamics and to develop informed investor housing strategies.\n",
    "For a guide to developing an investor housing strategy, see:\n",
    "http://www.policylink.org/find-resources/library/when-investors-buy-up-the-neighborhood\n",
    "'''"
   ]
  },
  {
   "cell_type": "code",
   "execution_count": null,
   "id": "3669234f",
   "metadata": {},
   "outputs": [],
   "source": [
    "'''Track Common Ownership Across Multiple Properties\n",
    "Owners of multiple properties can sometimes be linked by a common owner’s address (using\n",
    "the four “CHANGENOTICE” fields as a proxy for owner’s address) across their various holdings,\n",
    "even if the owner’s names appear differently in the assessment data for some of the properties\n",
    "in their portfolio. This data has been useful in proactive code enforcement, as data was recently\n",
    "used to identify the potential holdings of an investor that was cited for not addressing serious\n",
    "condition issues on a rental property in Carrick. In the assessment data, properties held at least\n",
    "in part by this owner were listed under several different corporate names but had a common\n",
    "owner’s address in the assessment record. The owner of the problem property mentioned in the\n",
    "news article was listed as an officer with one of these companies according to incorporations\n",
    "data from the Pennsylvania Department of State.\n",
    "Please use caution with this technique, as some properties may list the ”CHANGENOTICE”\n",
    "address as either the property manager or the mortgage company, not the property owner. It is\n",
    "best used on properties not managed by a third party, and owned free and clear'''\n",
    "\n",
    "#https://data.wprdc.org/dataset/2b3df818-601e-4f06-b150-643557229491/resource/cc4bafd2-25b6-41d7-83aa-d16bc211b020/download/alleghenycountypropertyassessmentdatauserguide-4.pdf"
   ]
  }
 ],
 "metadata": {
  "kernelspec": {
   "display_name": "Python 3 (ipykernel)",
   "language": "python",
   "name": "python3"
  },
  "language_info": {
   "codemirror_mode": {
    "name": "ipython",
    "version": 3
   },
   "file_extension": ".py",
   "mimetype": "text/x-python",
   "name": "python",
   "nbconvert_exporter": "python",
   "pygments_lexer": "ipython3",
   "version": "3.9.7"
  }
 },
 "nbformat": 4,
 "nbformat_minor": 5
}
