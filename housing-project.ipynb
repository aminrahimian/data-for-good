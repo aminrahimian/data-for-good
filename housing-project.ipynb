{
 "cells": [
  {
   "cell_type": "code",
   "execution_count": null,
   "id": "7856a095",
   "metadata": {},
   "outputs": [],
   "source": [
    "#objective: create a model to predict when a lot of houses will be put on the market"
   ]
  },
  {
   "cell_type": "code",
   "execution_count": 1,
   "id": "fde06fae",
   "metadata": {},
   "outputs": [],
   "source": [
    "import pandas as pd\n",
    "pd.set_option('display.max_rows', None)\n",
    "from sklearn import datasets\n",
    "from sklearn.feature_selection import chi2\n",
    "from sklearn.feature_selection import SelectKBest\n",
    "import string\n",
    "from sklearn.model_selection import train_test_split\n",
    "from sklearn.tree import DecisionTreeClassifier\n",
    "from sklearn.preprocessing import LabelEncoder\n",
    "from sklearn.preprocessing import OneHotEncoder\n",
    "from sklearn import metrics\n",
    "from sklearn import tree\n",
    "import matplotlib.pyplot as plt\n",
    "from geopy.geocoders import Nominatim\n",
    "geolocator = Nominatim(user_agent=\"example app\")\n",
    "import plotly.express as px"
   ]
  },
  {
   "cell_type": "code",
   "execution_count": 2,
   "id": "2fc73e15",
   "metadata": {},
   "outputs": [
    {
     "name": "stderr",
     "output_type": "stream",
     "text": [
      "C:\\Users\\Tara\\Anaconda3\\lib\\site-packages\\IPython\\core\\interactiveshell.py:3444: DtypeWarning: Columns (19) have mixed types.Specify dtype option on import or set low_memory=False.\n",
      "  exec(code_obj, self.user_global_ns, self.user_ns)\n",
      "C:\\Users\\Tara\\Anaconda3\\lib\\site-packages\\IPython\\core\\interactiveshell.py:3444: DtypeWarning: Columns (19,20,29,30,37,38,46,57,83) have mixed types.Specify dtype option on import or set low_memory=False.\n",
      "  exec(code_obj, self.user_global_ns, self.user_ns)\n"
     ]
    },
    {
     "name": "stdout",
     "output_type": "stream",
     "text": [
      "There are 20 owners of 5+ multiunit residential properties\n"
     ]
    },
    {
     "data": {
      "text/html": [
       "<div>\n",
       "<style scoped>\n",
       "    .dataframe tbody tr th:only-of-type {\n",
       "        vertical-align: middle;\n",
       "    }\n",
       "\n",
       "    .dataframe tbody tr th {\n",
       "        vertical-align: top;\n",
       "    }\n",
       "\n",
       "    .dataframe thead th {\n",
       "        text-align: right;\n",
       "    }\n",
       "</style>\n",
       "<table border=\"1\" class=\"dataframe\">\n",
       "  <thead>\n",
       "    <tr style=\"text-align: right;\">\n",
       "      <th></th>\n",
       "      <th>OwnerInfo</th>\n",
       "      <th>NumPropertiesOwned</th>\n",
       "    </tr>\n",
       "  </thead>\n",
       "  <tbody>\n",
       "    <tr>\n",
       "      <th>950</th>\n",
       "      <td>1812  E CARSON ST       PITTSBURGH PA   15203.0</td>\n",
       "      <td>46</td>\n",
       "    </tr>\n",
       "    <tr>\n",
       "      <th>84</th>\n",
       "      <td>PO BOX 40206        PITTSBURGH PA   15201.0</td>\n",
       "      <td>19</td>\n",
       "    </tr>\n",
       "    <tr>\n",
       "      <th>1140</th>\n",
       "      <td>2116   MERRIMAN WAY       PITTSBURGH PA   15203.0</td>\n",
       "      <td>15</td>\n",
       "    </tr>\n",
       "    <tr>\n",
       "      <th>2215</th>\n",
       "      <td>552   WASHINGTON AVE       CARNEGIE PA   15106.0</td>\n",
       "      <td>14</td>\n",
       "    </tr>\n",
       "    <tr>\n",
       "      <th>365</th>\n",
       "      <td>1101  S CAPITAL OF TEXAS HWY  STE B-220    AUS...</td>\n",
       "      <td>14</td>\n",
       "    </tr>\n",
       "    <tr>\n",
       "      <th>1058</th>\n",
       "      <td>202   MAIN ENTRANCE DR       PITTSBURGH PA   1...</td>\n",
       "      <td>12</td>\n",
       "    </tr>\n",
       "    <tr>\n",
       "      <th>2301</th>\n",
       "      <td>6015   SPIRIT ST  STE 202    PITTSBURGH PA   1...</td>\n",
       "      <td>11</td>\n",
       "    </tr>\n",
       "    <tr>\n",
       "      <th>2625</th>\n",
       "      <td>829   INDUSTRY ST       PITTSBURGH PA   15210.0</td>\n",
       "      <td>10</td>\n",
       "    </tr>\n",
       "    <tr>\n",
       "      <th>258</th>\n",
       "      <td>10315   LINDBERG AVE       PITTSBURGH PA   152...</td>\n",
       "      <td>9</td>\n",
       "    </tr>\n",
       "    <tr>\n",
       "      <th>619</th>\n",
       "      <td>1300   BRIGHTON RD       PITTSBURGH PA   15233.0</td>\n",
       "      <td>8</td>\n",
       "    </tr>\n",
       "    <tr>\n",
       "      <th>469</th>\n",
       "      <td>1179   DESIDERIO BLVD       CLAIRTON PA   15025.0</td>\n",
       "      <td>8</td>\n",
       "    </tr>\n",
       "    <tr>\n",
       "      <th>1896</th>\n",
       "      <td>414   GRANT ST  RM 200  CITY-COUNTY BUILDING  ...</td>\n",
       "      <td>8</td>\n",
       "    </tr>\n",
       "    <tr>\n",
       "      <th>2574</th>\n",
       "      <td>8   CHURCHILL RD       PITTSBURGH PA   15235.0</td>\n",
       "      <td>8</td>\n",
       "    </tr>\n",
       "    <tr>\n",
       "      <th>18</th>\n",
       "      <td>PO BOX 11        IMPERIAL PA   15126.0</td>\n",
       "      <td>8</td>\n",
       "    </tr>\n",
       "    <tr>\n",
       "      <th>44</th>\n",
       "      <td>PO BOX 184        INGOMAR PA   15127.0</td>\n",
       "      <td>7</td>\n",
       "    </tr>\n",
       "    <tr>\n",
       "      <th>1798</th>\n",
       "      <td>380   HAMILTON AVE  UNIT 328    PALO ALTO CA  ...</td>\n",
       "      <td>7</td>\n",
       "    </tr>\n",
       "    <tr>\n",
       "      <th>152</th>\n",
       "      <td>PO BOX 892        TWIN PEAKS CA   92391.0</td>\n",
       "      <td>7</td>\n",
       "    </tr>\n",
       "    <tr>\n",
       "      <th>2354</th>\n",
       "      <td>6247   IVAR AVE       TEMPLE CITY CA   91780.0</td>\n",
       "      <td>7</td>\n",
       "    </tr>\n",
       "    <tr>\n",
       "      <th>795</th>\n",
       "      <td>1501   ARDMORE BLVD  STE 400    PITTSBURGH PA ...</td>\n",
       "      <td>6</td>\n",
       "    </tr>\n",
       "    <tr>\n",
       "      <th>949</th>\n",
       "      <td>1812  E CARSON ST       PITTSBURGH PA   15203</td>\n",
       "      <td>6</td>\n",
       "    </tr>\n",
       "  </tbody>\n",
       "</table>\n",
       "</div>"
      ],
      "text/plain": [
       "                                              OwnerInfo  NumPropertiesOwned\n",
       "950     1812  E CARSON ST       PITTSBURGH PA   15203.0                  46\n",
       "84          PO BOX 40206        PITTSBURGH PA   15201.0                  19\n",
       "1140  2116   MERRIMAN WAY       PITTSBURGH PA   15203.0                  15\n",
       "2215   552   WASHINGTON AVE       CARNEGIE PA   15106.0                  14\n",
       "365   1101  S CAPITAL OF TEXAS HWY  STE B-220    AUS...                  14\n",
       "1058  202   MAIN ENTRANCE DR       PITTSBURGH PA   1...                  12\n",
       "2301  6015   SPIRIT ST  STE 202    PITTSBURGH PA   1...                  11\n",
       "2625    829   INDUSTRY ST       PITTSBURGH PA   15210.0                  10\n",
       "258   10315   LINDBERG AVE       PITTSBURGH PA   152...                   9\n",
       "619    1300   BRIGHTON RD       PITTSBURGH PA   15233.0                   8\n",
       "469   1179   DESIDERIO BLVD       CLAIRTON PA   15025.0                   8\n",
       "1896  414   GRANT ST  RM 200  CITY-COUNTY BUILDING  ...                   8\n",
       "2574     8   CHURCHILL RD       PITTSBURGH PA   15235.0                   8\n",
       "18               PO BOX 11        IMPERIAL PA   15126.0                   8\n",
       "44               PO BOX 184        INGOMAR PA   15127.0                   7\n",
       "1798  380   HAMILTON AVE  UNIT 328    PALO ALTO CA  ...                   7\n",
       "152           PO BOX 892        TWIN PEAKS CA   92391.0                   7\n",
       "2354     6247   IVAR AVE       TEMPLE CITY CA   91780.0                   7\n",
       "795   1501   ARDMORE BLVD  STE 400    PITTSBURGH PA ...                   6\n",
       "949       1812  E CARSON ST       PITTSBURGH PA   15203                   6"
      ]
     },
     "execution_count": 2,
     "metadata": {},
     "output_type": "execute_result"
    }
   ],
   "source": [
    "# #11/16/2022\n",
    "# Import both datasets\n",
    "\n",
    "#read in data\n",
    "sales=pd.read_csv(r'C:\\Users\\Tara\\OneDrive - University of Pittsburgh\\FALL 2022\\ENGR 1171\\Project Housing Data\\SalesData.csv')\n",
    "#convert sale date from string to date\n",
    "sales['SALEDATE']=pd.to_datetime(sales['SALEDATE'])\n",
    "assessment=pd.read_csv(r'C:\\Users\\Tara\\OneDrive - University of Pittsburgh\\FALL 2022\\ENGR 1171\\Project Housing Data\\AssessmentData.csv')\n",
    "\n",
    "# Drop unwanted columns\n",
    "assessment=assessment[['PARID','PROPERTYHOUSENUM','PROPERTYFRACTION','PROPERTYADDRESS','PROPERTYUNIT','MUNIDESC','OWNERDESC','CLASSDESC',\n",
    " 'LOTAREA','HOMESTEADFLAG','FARMSTEADFLAG','ABATEMENTFLAG','SALEDATE','SALEPRICE','SALEDESC','PREVSALEDATE','PREVSALEPRICE',\n",
    " 'PREVSALEDATE2','PREVSALEPRICE2','CHANGENOTICEADDRESS1','CHANGENOTICEADDRESS2','CHANGENOTICEADDRESS3','CHANGENOTICEADDRESS4',\n",
    "'STYLEDESC','STORIES','YEARBLT','CDUDESC','USEDESC'\n",
    "]]\n",
    "\n",
    "# Narrow it down to properties we’re interested in\n",
    "# Filter by USEDESC, to the following: \n",
    "# APART:40+ UNITS\n",
    "# APART:20-39 UNITS\n",
    "# FOUR FAMILY\n",
    "# TWO FAMILY\n",
    "# APART: 5-19 UNITS\n",
    "# THREE FAMILY\n",
    "# DWG APT CONVERSION\n",
    "# Filter by CLASSDESC?? - Residential\n",
    "# Other filtering??\n",
    "assessment=assessment.loc[\n",
    "    (assessment['USEDESC'].isin(['APART:40+ UNITS','APART:20-39 UNITS','FOUR FAMILY','TWO FAMILY','APART:5-19 UNITS','THREE FAMILY','DWG APT CONVERSION']))\n",
    "    &(assessment['CLASSDESC']=='RESIDENTIAL')\n",
    "]\n",
    "\n",
    "# Merge them\n",
    "# Pull the latest sale date for each property (Tara’s code) and filter based on that\n",
    "# Past 2 years only\n",
    "salesgrouped=sales[['PARID','SALEDATE']].groupby('PARID').agg({'SALEDATE':'max'}).reset_index().rename(columns={'SALEDATE':'FINALSALEDATE'})\n",
    "df=pd.merge(assessment,salesgrouped,how='left',on='PARID')\n",
    "df=df.loc[df['FINALSALEDATE']>pd.Timestamp('2020-09-22 00:00:00')]\n",
    "\n",
    "# Find owners of “many” properties\n",
    "# >5? >10? Look at data and see how much it narrows it down\n",
    "df['OwnerInfo']=df['CHANGENOTICEADDRESS1'].astype(str)+' '+df['CHANGENOTICEADDRESS2'].astype(str)+' '+df['CHANGENOTICEADDRESS3'].astype(str)+' '+df['CHANGENOTICEADDRESS4'].astype(str)\n",
    "ownersofmany=df[['PARID','OwnerInfo']].drop_duplicates().groupby('OwnerInfo').size().reset_index(name='NumPropertiesOwned')\n",
    "ownersofmany=ownersofmany.loc[(~ownersofmany['OwnerInfo'].isna())&(ownersofmany['NumPropertiesOwned']>5)]\n",
    "\n",
    "# Group by the owner to get a list of owners?\n",
    "print('There are', len(ownersofmany), 'owners of 5+ multiunit residential properties')\n",
    "ownersofmany.sort_values(['NumPropertiesOwned'],ascending=[False])\n",
    "# Make sure their contact info is there (phone number/primary residence) - not in dataset\n",
    "\n"
   ]
  },
  {
   "cell_type": "code",
   "execution_count": 54,
   "id": "02993d7e",
   "metadata": {
    "scrolled": true
   },
   "outputs": [],
   "source": [
    "#This code block is optional - only run if you have new houses and need their coordinates!!\n",
    "#pull the addresses of all properties owned by the above owners\n",
    "#use geopy to get the lat and lon for each house so we can map them\n",
    "#I had to manually fill in some of the coordinates - hence the read.csv later on\n",
    "assessmentcopy=pd.read_csv(r'C:\\Users\\Tara\\OneDrive - University of Pittsburgh\\FALL 2022\\ENGR 1171\\Project Housing Data\\AssessmentData.csv')\n",
    "ownerproperties=df.loc[df['OwnerInfo'].isin(ownersofmany['OwnerInfo'])]\n",
    "assessmentcopy=assessmentcopy.loc[assessmentcopy['PARID'].isin(ownerproperties['PARID'])]\n",
    "assessmentcopy['Address']=assessmentcopy['PROPERTYHOUSENUM'].astype(str)+' '+assessmentcopy['PROPERTYADDRESS'].astype(str)+' '+assessmentcopy['PROPERTYCITY'].astype(str)+' '+assessmentcopy['PROPERTYSTATE'].astype(str)+' '+assessmentcopy['PROPERTYZIP'].astype(int).astype(str)\n",
    "housestomap=assessmentcopy[['PARID','Address']]\n",
    "housestomap['Lat']=''\n",
    "housestomap['Lon']=''\n",
    "housestomap=housestomap.reset_index()\n",
    "for i in range(84,230):#range(len(housestomap['Address'])):\n",
    "    data=geolocator.geocode(housestomap.loc[i,'Address'])\n",
    "    try:\n",
    "        housestomap.loc[i,'Lat']=data.raw.get(\"lat\")\n",
    "        housestomap.loc[i,'Lon']=data.raw.get(\"lon\")\n",
    "    except:\n",
    "        continue\n",
    "housestomap.to_csv('housestomap.csv')\n"
   ]
  },
  {
   "cell_type": "code",
   "execution_count": 74,
   "id": "e2af3e10",
   "metadata": {},
   "outputs": [],
   "source": [
    "housestomap=pd.read_csv('housestomap.csv')"
   ]
  },
  {
   "cell_type": "code",
   "execution_count": 92,
   "id": "1d36e3fb",
   "metadata": {},
   "outputs": [],
   "source": [
    "mergedhousestomap=pd.merge(housestomap,df[['PARID','OwnerInfo']],how='left',on='PARID')"
   ]
  },
  {
   "cell_type": "code",
   "execution_count": 112,
   "id": "fd57284f",
   "metadata": {},
   "outputs": [
    {
     "data": {
      "text/html": [
       "<div>\n",
       "<style scoped>\n",
       "    .dataframe tbody tr th:only-of-type {\n",
       "        vertical-align: middle;\n",
       "    }\n",
       "\n",
       "    .dataframe tbody tr th {\n",
       "        vertical-align: top;\n",
       "    }\n",
       "\n",
       "    .dataframe thead th {\n",
       "        text-align: right;\n",
       "    }\n",
       "</style>\n",
       "<table border=\"1\" class=\"dataframe\">\n",
       "  <thead>\n",
       "    <tr style=\"text-align: right;\">\n",
       "      <th></th>\n",
       "      <th>OwnerInfo</th>\n",
       "      <th>NumPropertiesOwned</th>\n",
       "    </tr>\n",
       "  </thead>\n",
       "  <tbody>\n",
       "    <tr>\n",
       "      <th>18</th>\n",
       "      <td>PO BOX 11        IMPERIAL PA   15126.0</td>\n",
       "      <td>8</td>\n",
       "    </tr>\n",
       "    <tr>\n",
       "      <th>44</th>\n",
       "      <td>PO BOX 184        INGOMAR PA   15127.0</td>\n",
       "      <td>7</td>\n",
       "    </tr>\n",
       "    <tr>\n",
       "      <th>84</th>\n",
       "      <td>PO BOX 40206        PITTSBURGH PA   15201.0</td>\n",
       "      <td>19</td>\n",
       "    </tr>\n",
       "    <tr>\n",
       "      <th>152</th>\n",
       "      <td>PO BOX 892        TWIN PEAKS CA   92391.0</td>\n",
       "      <td>7</td>\n",
       "    </tr>\n",
       "    <tr>\n",
       "      <th>258</th>\n",
       "      <td>10315   LINDBERG AVE       PITTSBURGH PA   152...</td>\n",
       "      <td>9</td>\n",
       "    </tr>\n",
       "    <tr>\n",
       "      <th>365</th>\n",
       "      <td>1101  S CAPITAL OF TEXAS HWY  STE B-220    AUS...</td>\n",
       "      <td>14</td>\n",
       "    </tr>\n",
       "    <tr>\n",
       "      <th>469</th>\n",
       "      <td>1179   DESIDERIO BLVD       CLAIRTON PA   15025.0</td>\n",
       "      <td>8</td>\n",
       "    </tr>\n",
       "    <tr>\n",
       "      <th>619</th>\n",
       "      <td>1300   BRIGHTON RD       PITTSBURGH PA   15233.0</td>\n",
       "      <td>8</td>\n",
       "    </tr>\n",
       "    <tr>\n",
       "      <th>795</th>\n",
       "      <td>1501   ARDMORE BLVD  STE 400    PITTSBURGH PA ...</td>\n",
       "      <td>6</td>\n",
       "    </tr>\n",
       "    <tr>\n",
       "      <th>949</th>\n",
       "      <td>1812  E CARSON ST       PITTSBURGH PA   15203</td>\n",
       "      <td>6</td>\n",
       "    </tr>\n",
       "    <tr>\n",
       "      <th>950</th>\n",
       "      <td>1812  E CARSON ST       PITTSBURGH PA   15203.0</td>\n",
       "      <td>46</td>\n",
       "    </tr>\n",
       "    <tr>\n",
       "      <th>1058</th>\n",
       "      <td>202   MAIN ENTRANCE DR       PITTSBURGH PA   1...</td>\n",
       "      <td>12</td>\n",
       "    </tr>\n",
       "    <tr>\n",
       "      <th>1140</th>\n",
       "      <td>2116   MERRIMAN WAY       PITTSBURGH PA   15203.0</td>\n",
       "      <td>15</td>\n",
       "    </tr>\n",
       "    <tr>\n",
       "      <th>1798</th>\n",
       "      <td>380   HAMILTON AVE  UNIT 328    PALO ALTO CA  ...</td>\n",
       "      <td>7</td>\n",
       "    </tr>\n",
       "    <tr>\n",
       "      <th>1896</th>\n",
       "      <td>414   GRANT ST  RM 200  CITY-COUNTY BUILDING  ...</td>\n",
       "      <td>8</td>\n",
       "    </tr>\n",
       "    <tr>\n",
       "      <th>2215</th>\n",
       "      <td>552   WASHINGTON AVE       CARNEGIE PA   15106.0</td>\n",
       "      <td>14</td>\n",
       "    </tr>\n",
       "    <tr>\n",
       "      <th>2301</th>\n",
       "      <td>6015   SPIRIT ST  STE 202    PITTSBURGH PA   1...</td>\n",
       "      <td>11</td>\n",
       "    </tr>\n",
       "    <tr>\n",
       "      <th>2354</th>\n",
       "      <td>6247   IVAR AVE       TEMPLE CITY CA   91780.0</td>\n",
       "      <td>7</td>\n",
       "    </tr>\n",
       "    <tr>\n",
       "      <th>2574</th>\n",
       "      <td>8   CHURCHILL RD       PITTSBURGH PA   15235.0</td>\n",
       "      <td>8</td>\n",
       "    </tr>\n",
       "    <tr>\n",
       "      <th>2625</th>\n",
       "      <td>829   INDUSTRY ST       PITTSBURGH PA   15210.0</td>\n",
       "      <td>10</td>\n",
       "    </tr>\n",
       "  </tbody>\n",
       "</table>\n",
       "</div>"
      ],
      "text/plain": [
       "                                              OwnerInfo  NumPropertiesOwned\n",
       "18               PO BOX 11        IMPERIAL PA   15126.0                   8\n",
       "44               PO BOX 184        INGOMAR PA   15127.0                   7\n",
       "84          PO BOX 40206        PITTSBURGH PA   15201.0                  19\n",
       "152           PO BOX 892        TWIN PEAKS CA   92391.0                   7\n",
       "258   10315   LINDBERG AVE       PITTSBURGH PA   152...                   9\n",
       "365   1101  S CAPITAL OF TEXAS HWY  STE B-220    AUS...                  14\n",
       "469   1179   DESIDERIO BLVD       CLAIRTON PA   15025.0                   8\n",
       "619    1300   BRIGHTON RD       PITTSBURGH PA   15233.0                   8\n",
       "795   1501   ARDMORE BLVD  STE 400    PITTSBURGH PA ...                   6\n",
       "949       1812  E CARSON ST       PITTSBURGH PA   15203                   6\n",
       "950     1812  E CARSON ST       PITTSBURGH PA   15203.0                  46\n",
       "1058  202   MAIN ENTRANCE DR       PITTSBURGH PA   1...                  12\n",
       "1140  2116   MERRIMAN WAY       PITTSBURGH PA   15203.0                  15\n",
       "1798  380   HAMILTON AVE  UNIT 328    PALO ALTO CA  ...                   7\n",
       "1896  414   GRANT ST  RM 200  CITY-COUNTY BUILDING  ...                   8\n",
       "2215   552   WASHINGTON AVE       CARNEGIE PA   15106.0                  14\n",
       "2301  6015   SPIRIT ST  STE 202    PITTSBURGH PA   1...                  11\n",
       "2354     6247   IVAR AVE       TEMPLE CITY CA   91780.0                   7\n",
       "2574     8   CHURCHILL RD       PITTSBURGH PA   15235.0                   8\n",
       "2625    829   INDUSTRY ST       PITTSBURGH PA   15210.0                  10"
      ]
     },
     "execution_count": 112,
     "metadata": {},
     "output_type": "execute_result"
    }
   ],
   "source": [
    "ownersofmany"
   ]
  },
  {
   "cell_type": "code",
   "execution_count": 113,
   "id": "4485314a",
   "metadata": {},
   "outputs": [],
   "source": [
    "#new df that adds on the number of properties owned by each owner\n",
    "mergedhousestomap2=pd.merge(mergedhousestomap,ownersofmany,how='left',on='OwnerInfo')"
   ]
  },
  {
   "cell_type": "code",
   "execution_count": 120,
   "id": "a87b415d",
   "metadata": {},
   "outputs": [
    {
     "data": {
      "application/vnd.plotly.v1+json": {
       "config": {
        "plotlyServerURL": "https://plot.ly"
       },
       "data": [
        {
         "hovertemplate": "<b>%{hovertext}</b><br><br>Lat=%{lat}<br>Lon=%{lon}<extra></extra>",
         "hovertext": [
          "380   HAMILTON AVE  UNIT 328    PALO ALTO CA   94302.0",
          "380   HAMILTON AVE  UNIT 328    PALO ALTO CA   94302.0",
          "380   HAMILTON AVE  UNIT 328    PALO ALTO CA   94302.0",
          "380   HAMILTON AVE  UNIT 328    PALO ALTO CA   94302.0",
          "380   HAMILTON AVE  UNIT 328    PALO ALTO CA   94302.0",
          "380   HAMILTON AVE  UNIT 328    PALO ALTO CA   94302.0",
          "1101  S CAPITAL OF TEXAS HWY  STE B-220    AUSTIN TX   78746.0",
          "380   HAMILTON AVE  UNIT 328    PALO ALTO CA   94302.0",
          "414   GRANT ST  RM 200  CITY-COUNTY BUILDING  PITTSBURGH PA   15219.0",
          "8   CHURCHILL RD       PITTSBURGH PA   15235.0",
          "8   CHURCHILL RD       PITTSBURGH PA   15235.0",
          "   PO BOX 40206        PITTSBURGH PA   15201.0",
          "1101  S CAPITAL OF TEXAS HWY  STE B-220    AUSTIN TX   78746.0",
          "1501   ARDMORE BLVD  STE 400    PITTSBURGH PA   15221.0",
          "2116   MERRIMAN WAY       PITTSBURGH PA   15203.0",
          "1101  S CAPITAL OF TEXAS HWY  STE B-220    AUSTIN TX   78746.0",
          "8   CHURCHILL RD       PITTSBURGH PA   15235.0",
          "1101  S CAPITAL OF TEXAS HWY  STE B-220    AUSTIN TX   78746.0",
          "1501   ARDMORE BLVD  STE 400    PITTSBURGH PA   15221.0",
          "1101  S CAPITAL OF TEXAS HWY  STE B-220    AUSTIN TX   78746.0",
          "1101  S CAPITAL OF TEXAS HWY  STE B-220    AUSTIN TX   78746.0",
          "1501   ARDMORE BLVD  STE 400    PITTSBURGH PA   15221.0",
          "   PO BOX 40206        PITTSBURGH PA   15201.0",
          "2116   MERRIMAN WAY       PITTSBURGH PA   15203.0",
          "1101  S CAPITAL OF TEXAS HWY  STE B-220    AUSTIN TX   78746.0",
          "   PO BOX 40206        PITTSBURGH PA   15201.0",
          "8   CHURCHILL RD       PITTSBURGH PA   15235.0",
          "   PO BOX 40206        PITTSBURGH PA   15201.0",
          "8   CHURCHILL RD       PITTSBURGH PA   15235.0",
          "2116   MERRIMAN WAY       PITTSBURGH PA   15203.0",
          "2116   MERRIMAN WAY       PITTSBURGH PA   15203.0",
          "2116   MERRIMAN WAY       PITTSBURGH PA   15203.0",
          "2116   MERRIMAN WAY       PITTSBURGH PA   15203.0",
          "2116   MERRIMAN WAY       PITTSBURGH PA   15203.0",
          "   PO BOX 40206        PITTSBURGH PA   15201.0",
          "1812  E CARSON ST       PITTSBURGH PA   15203.0",
          "2116   MERRIMAN WAY       PITTSBURGH PA   15203.0",
          "2116   MERRIMAN WAY       PITTSBURGH PA   15203.0",
          "   PO BOX 40206        PITTSBURGH PA   15201.0",
          "   PO BOX 40206        PITTSBURGH PA   15201.0",
          "   PO BOX 40206        PITTSBURGH PA   15201.0",
          "   PO BOX 40206        PITTSBURGH PA   15201.0",
          "   PO BOX 40206        PITTSBURGH PA   15201.0",
          "   PO BOX 40206        PITTSBURGH PA   15201.0",
          "8   CHURCHILL RD       PITTSBURGH PA   15235.0",
          "8   CHURCHILL RD       PITTSBURGH PA   15235.0",
          "8   CHURCHILL RD       PITTSBURGH PA   15235.0",
          "   PO BOX 40206        PITTSBURGH PA   15201.0",
          "   PO BOX 40206        PITTSBURGH PA   15201.0",
          "2116   MERRIMAN WAY       PITTSBURGH PA   15203.0",
          "   PO BOX 40206        PITTSBURGH PA   15201.0",
          "   PO BOX 40206        PITTSBURGH PA   15201.0",
          "6015   SPIRIT ST  STE 202    PITTSBURGH PA   15206.0",
          "6015   SPIRIT ST  STE 202    PITTSBURGH PA   15206.0",
          "   PO BOX 40206        PITTSBURGH PA   15201.0",
          "   PO BOX 40206        PITTSBURGH PA   15201.0",
          "1812  E CARSON ST       PITTSBURGH PA   15203.0",
          "1812  E CARSON ST       PITTSBURGH PA   15203.0",
          "202   MAIN ENTRANCE DR       PITTSBURGH PA   15228.0",
          "829   INDUSTRY ST       PITTSBURGH PA   15210.0",
          "1812  E CARSON ST       PITTSBURGH PA   15203.0",
          "6247   IVAR AVE       TEMPLE CITY CA   91780.0",
          "829   INDUSTRY ST       PITTSBURGH PA   15210.0",
          "829   INDUSTRY ST       PITTSBURGH PA   15210.0",
          "829   INDUSTRY ST       PITTSBURGH PA   15210.0",
          "829   INDUSTRY ST       PITTSBURGH PA   15210.0",
          "829   INDUSTRY ST       PITTSBURGH PA   15210.0",
          "414   GRANT ST  RM 200  CITY-COUNTY BUILDING  PITTSBURGH PA   15219.0",
          "829   INDUSTRY ST       PITTSBURGH PA   15210.0",
          "1812  E CARSON ST       PITTSBURGH PA   15203.0",
          "10315   LINDBERG AVE       PITTSBURGH PA   15235.0",
          "1101  S CAPITAL OF TEXAS HWY  STE B-220    AUSTIN TX   78746.0",
          "   PO BOX 184        INGOMAR PA   15127.0",
          "202   MAIN ENTRANCE DR       PITTSBURGH PA   15228.0",
          "10315   LINDBERG AVE       PITTSBURGH PA   15235.0",
          "1812  E CARSON ST       PITTSBURGH PA   15203.0",
          "6015   SPIRIT ST  STE 202    PITTSBURGH PA   15206.0",
          "10315   LINDBERG AVE       PITTSBURGH PA   15235.0",
          "1812  E CARSON ST       PITTSBURGH PA   15203.0",
          "1812  E CARSON ST       PITTSBURGH PA   15203.0",
          "552   WASHINGTON AVE       CARNEGIE PA   15106.0",
          "10315   LINDBERG AVE       PITTSBURGH PA   15235.0",
          "552   WASHINGTON AVE       CARNEGIE PA   15106.0",
          "414   GRANT ST  RM 200  CITY-COUNTY BUILDING  PITTSBURGH PA   15219.0",
          "6015   SPIRIT ST  STE 202    PITTSBURGH PA   15206.0",
          "414   GRANT ST  RM 200  CITY-COUNTY BUILDING  PITTSBURGH PA   15219.0",
          "552   WASHINGTON AVE       CARNEGIE PA   15106.0",
          "1812  E CARSON ST       PITTSBURGH PA   15203.0",
          "1812  E CARSON ST       PITTSBURGH PA   15203.0",
          "414   GRANT ST  RM 200  CITY-COUNTY BUILDING  PITTSBURGH PA   15219.0",
          "   PO BOX 11        IMPERIAL PA   15126.0",
          "1300   BRIGHTON RD       PITTSBURGH PA   15233.0",
          "1300   BRIGHTON RD       PITTSBURGH PA   15233.0",
          "1300   BRIGHTON RD       PITTSBURGH PA   15233.0",
          "1300   BRIGHTON RD       PITTSBURGH PA   15233.0",
          "1300   BRIGHTON RD       PITTSBURGH PA   15233.0",
          "414   GRANT ST  RM 200  CITY-COUNTY BUILDING  PITTSBURGH PA   15219.0",
          "1300   BRIGHTON RD       PITTSBURGH PA   15233.0",
          "1812  E CARSON ST       PITTSBURGH PA   15203.0",
          "202   MAIN ENTRANCE DR       PITTSBURGH PA   15228.0",
          "1300   BRIGHTON RD       PITTSBURGH PA   15233.0",
          "1812  E CARSON ST       PITTSBURGH PA   15203.0",
          "2116   MERRIMAN WAY       PITTSBURGH PA   15203.0",
          "1812  E CARSON ST       PITTSBURGH PA   15203.0",
          "829   INDUSTRY ST       PITTSBURGH PA   15210.0",
          "1812  E CARSON ST       PITTSBURGH PA   15203.0",
          "552   WASHINGTON AVE       CARNEGIE PA   15106.0",
          "   PO BOX 11        IMPERIAL PA   15126.0",
          "1812  E CARSON ST       PITTSBURGH PA   15203.0",
          "1812  E CARSON ST       PITTSBURGH PA   15203.0",
          "1812  E CARSON ST       PITTSBURGH PA   15203.0",
          "1179   DESIDERIO BLVD       CLAIRTON PA   15025.0",
          "1179   DESIDERIO BLVD       CLAIRTON PA   15025.0",
          "1179   DESIDERIO BLVD       CLAIRTON PA   15025.0",
          "1179   DESIDERIO BLVD       CLAIRTON PA   15025.0",
          "1179   DESIDERIO BLVD       CLAIRTON PA   15025.0",
          "1179   DESIDERIO BLVD       CLAIRTON PA   15025.0",
          "1179   DESIDERIO BLVD       CLAIRTON PA   15025.0",
          "6247   IVAR AVE       TEMPLE CITY CA   91780.0",
          "6015   SPIRIT ST  STE 202    PITTSBURGH PA   15206.0",
          "6015   SPIRIT ST  STE 202    PITTSBURGH PA   15206.0",
          "202   MAIN ENTRANCE DR       PITTSBURGH PA   15228.0",
          "1812  E CARSON ST       PITTSBURGH PA   15203",
          "1812  E CARSON ST       PITTSBURGH PA   15203",
          "1812  E CARSON ST       PITTSBURGH PA   15203",
          "6247   IVAR AVE       TEMPLE CITY CA   91780.0",
          "552   WASHINGTON AVE       CARNEGIE PA   15106.0",
          "1812  E CARSON ST       PITTSBURGH PA   15203.0",
          "1812  E CARSON ST       PITTSBURGH PA   15203.0",
          "1812  E CARSON ST       PITTSBURGH PA   15203.0",
          "6015   SPIRIT ST  STE 202    PITTSBURGH PA   15206.0",
          "552   WASHINGTON AVE       CARNEGIE PA   15106.0",
          "1812  E CARSON ST       PITTSBURGH PA   15203.0",
          "1812  E CARSON ST       PITTSBURGH PA   15203.0",
          "1812  E CARSON ST       PITTSBURGH PA   15203.0",
          "1812  E CARSON ST       PITTSBURGH PA   15203.0",
          "   PO BOX 11        IMPERIAL PA   15126.0",
          "6015   SPIRIT ST  STE 202    PITTSBURGH PA   15206.0",
          "6247   IVAR AVE       TEMPLE CITY CA   91780.0",
          "6247   IVAR AVE       TEMPLE CITY CA   91780.0",
          "202   MAIN ENTRANCE DR       PITTSBURGH PA   15228.0",
          "202   MAIN ENTRANCE DR       PITTSBURGH PA   15228.0",
          "1812  E CARSON ST       PITTSBURGH PA   15203.0",
          "1812  E CARSON ST       PITTSBURGH PA   15203.0",
          "202   MAIN ENTRANCE DR       PITTSBURGH PA   15228.0",
          "202   MAIN ENTRANCE DR       PITTSBURGH PA   15228.0",
          "1812  E CARSON ST       PITTSBURGH PA   15203.0",
          "829   INDUSTRY ST       PITTSBURGH PA   15210.0",
          "552   WASHINGTON AVE       CARNEGIE PA   15106.0",
          "6015   SPIRIT ST  STE 202    PITTSBURGH PA   15206.0",
          "1812  E CARSON ST       PITTSBURGH PA   15203.0",
          "   PO BOX 11        IMPERIAL PA   15126.0",
          "552   WASHINGTON AVE       CARNEGIE PA   15106.0",
          "1812  E CARSON ST       PITTSBURGH PA   15203.0",
          "1812  E CARSON ST       PITTSBURGH PA   15203.0",
          "1812  E CARSON ST       PITTSBURGH PA   15203",
          "   PO BOX 892        TWIN PEAKS CA   92391.0",
          "   PO BOX 892        TWIN PEAKS CA   92391.0",
          "2116   MERRIMAN WAY       PITTSBURGH PA   15203.0",
          "   PO BOX 892        TWIN PEAKS CA   92391.0",
          "   PO BOX 11        IMPERIAL PA   15126.0",
          "   PO BOX 184        INGOMAR PA   15127.0",
          "   PO BOX 11        IMPERIAL PA   15126.0",
          "2116   MERRIMAN WAY       PITTSBURGH PA   15203.0",
          "1812  E CARSON ST       PITTSBURGH PA   15203",
          "1812  E CARSON ST       PITTSBURGH PA   15203",
          "   PO BOX 892        TWIN PEAKS CA   92391.0",
          "1812  E CARSON ST       PITTSBURGH PA   15203.0",
          "1812  E CARSON ST       PITTSBURGH PA   15203.0",
          "   PO BOX 184        INGOMAR PA   15127.0",
          "552   WASHINGTON AVE       CARNEGIE PA   15106.0",
          "552   WASHINGTON AVE       CARNEGIE PA   15106.0",
          "1300   BRIGHTON RD       PITTSBURGH PA   15233.0",
          "   PO BOX 184        INGOMAR PA   15127.0",
          "   PO BOX 184        INGOMAR PA   15127.0",
          "   PO BOX 184        INGOMAR PA   15127.0",
          "1812  E CARSON ST       PITTSBURGH PA   15203.0",
          "   PO BOX 892        TWIN PEAKS CA   92391.0",
          "   PO BOX 892        TWIN PEAKS CA   92391.0",
          "   PO BOX 892        TWIN PEAKS CA   92391.0",
          "1812  E CARSON ST       PITTSBURGH PA   15203.0",
          "202   MAIN ENTRANCE DR       PITTSBURGH PA   15228.0",
          "10315   LINDBERG AVE       PITTSBURGH PA   15235.0",
          "202   MAIN ENTRANCE DR       PITTSBURGH PA   15228.0",
          "1812  E CARSON ST       PITTSBURGH PA   15203.0",
          "552   WASHINGTON AVE       CARNEGIE PA   15106.0",
          "1812  E CARSON ST       PITTSBURGH PA   15203.0",
          "1501   ARDMORE BLVD  STE 400    PITTSBURGH PA   15221.0",
          "6247   IVAR AVE       TEMPLE CITY CA   91780.0",
          "   PO BOX 40206        PITTSBURGH PA   15201.0",
          "2116   MERRIMAN WAY       PITTSBURGH PA   15203.0",
          "1101  S CAPITAL OF TEXAS HWY  STE B-220    AUSTIN TX   78746.0",
          "1812  E CARSON ST       PITTSBURGH PA   15203.0",
          "829   INDUSTRY ST       PITTSBURGH PA   15210.0",
          "10315   LINDBERG AVE       PITTSBURGH PA   15235.0",
          "202   MAIN ENTRANCE DR       PITTSBURGH PA   15228.0",
          "10315   LINDBERG AVE       PITTSBURGH PA   15235.0",
          "552   WASHINGTON AVE       CARNEGIE PA   15106.0",
          "   PO BOX 11        IMPERIAL PA   15126.0",
          "1812  E CARSON ST       PITTSBURGH PA   15203.0",
          "414   GRANT ST  RM 200  CITY-COUNTY BUILDING  PITTSBURGH PA   15219.0",
          "1501   ARDMORE BLVD  STE 400    PITTSBURGH PA   15221.0",
          "10315   LINDBERG AVE       PITTSBURGH PA   15235.0",
          "1812  E CARSON ST       PITTSBURGH PA   15203.0",
          "1812  E CARSON ST       PITTSBURGH PA   15203.0",
          "   PO BOX 40206        PITTSBURGH PA   15201.0",
          "1812  E CARSON ST       PITTSBURGH PA   15203.0",
          "552   WASHINGTON AVE       CARNEGIE PA   15106.0",
          "2116   MERRIMAN WAY       PITTSBURGH PA   15203.0",
          "1179   DESIDERIO BLVD       CLAIRTON PA   15025.0",
          "1812  E CARSON ST       PITTSBURGH PA   15203.0",
          "1812  E CARSON ST       PITTSBURGH PA   15203.0",
          "1101  S CAPITAL OF TEXAS HWY  STE B-220    AUSTIN TX   78746.0",
          "6015   SPIRIT ST  STE 202    PITTSBURGH PA   15206.0",
          "202   MAIN ENTRANCE DR       PITTSBURGH PA   15228.0",
          "1101  S CAPITAL OF TEXAS HWY  STE B-220    AUSTIN TX   78746.0",
          "1812  E CARSON ST       PITTSBURGH PA   15203.0",
          "6015   SPIRIT ST  STE 202    PITTSBURGH PA   15206.0",
          "1812  E CARSON ST       PITTSBURGH PA   15203.0",
          "10315   LINDBERG AVE       PITTSBURGH PA   15235.0",
          "1101  S CAPITAL OF TEXAS HWY  STE B-220    AUSTIN TX   78746.0",
          "1101  S CAPITAL OF TEXAS HWY  STE B-220    AUSTIN TX   78746.0",
          "1812  E CARSON ST       PITTSBURGH PA   15203.0",
          "6247   IVAR AVE       TEMPLE CITY CA   91780.0",
          "414   GRANT ST  RM 200  CITY-COUNTY BUILDING  PITTSBURGH PA   15219.0",
          "552   WASHINGTON AVE       CARNEGIE PA   15106.0",
          "1101  S CAPITAL OF TEXAS HWY  STE B-220    AUSTIN TX   78746.0",
          "   PO BOX 11        IMPERIAL PA   15126.0",
          "   PO BOX 184        INGOMAR PA   15127.0",
          "1501   ARDMORE BLVD  STE 400    PITTSBURGH PA   15221.0"
         ],
         "lat": [
          40.43165964,
          40.4382081,
          40.4382081,
          40.43273909,
          40.4382081,
          40.4382081,
          40.437223,
          40.43489415,
          40.4519967,
          40.4532635,
          40.45328738,
          40.4549989,
          40.455285,
          40.4565946,
          40.45983437,
          40.45579067,
          40.45657293,
          40.45512802,
          40.45053895,
          40.4536063,
          40.45365065,
          40.46163755,
          40.46150201,
          40.45900704,
          40.4601288,
          40.4597929,
          40.46209481,
          40.46153545,
          40.45820005,
          40.464633,
          40.4790145,
          40.48047511,
          40.46389398,
          40.46369506,
          40.47855813,
          40.4733157,
          40.472868,
          40.4707805,
          40.4753879,
          40.469098,
          40.425102,
          40.425137,
          40.4263044,
          40.45370985,
          40.45543549,
          40.45551097,
          40.4541224,
          40.44040154,
          40.44035124,
          40.44463132,
          40.4401673,
          40.4326238,
          40.42331986,
          40.407719,
          40.42499954,
          40.42947494,
          40.41959351,
          40.427037,
          40.42461,
          40.42393041,
          40.42684909,
          40.42441524,
          40.42071228,
          40.42151804,
          40.42209933,
          40.42060329,
          40.42081025,
          40.41027172,
          40.42268131,
          40.42337569,
          40.4254513,
          40.42483122,
          40.4242305,
          40.41064297,
          40.41018423,
          40.41183084,
          40.4118511,
          40.4102345,
          40.4014811,
          40.3998468,
          40.39591089,
          40.39440761,
          40.45212579,
          40.45661657,
          40.45499,
          40.45522945,
          40.44536375,
          40.44968329,
          40.443244,
          40.44494159,
          40.46679581,
          40.46184727,
          40.46650661,
          40.4643629,
          40.45811617,
          40.4600486,
          40.46858895,
          40.46732849,
          40.467531,
          40.45980366,
          40.4561442,
          40.47405902,
          40.415118,
          40.38716708,
          40.4022654,
          40.38144725,
          40.3963013,
          40.42646454,
          40.39645382,
          40.3966958,
          40.36701076,
          40.2876072,
          40.2874865,
          40.2877295,
          40.28796976,
          40.2874562,
          40.2874476,
          40.2871096,
          40.43958562,
          40.49017,
          40.49001,
          40.4508645,
          40.40518,
          40.40628075,
          40.402015,
          40.38246,
          40.37995,
          40.4971,
          40.4830323,
          40.50329,
          40.40861,
          40.4056093,
          40.51899095,
          40.5181513,
          40.38527,
          40.4412977,
          40.4359,
          40.43745,
          40.43615,
          40.4398425,
          40.39738,
          40.40561,
          40.417509,
          40.3995963,
          40.40680396,
          40.40559195,
          40.4878,
          40.40145266,
          40.4127351,
          40.41698,
          40.41937,
          40.47518135,
          40.46401765,
          40.4730605,
          40.4731502,
          40.40614069,
          40.40328329,
          40.40328823,
          40.40333766,
          40.40216132,
          40.4635458,
          40.54204163,
          40.44452482,
          40.44627,
          40.41934,
          40.41922,
          40.44698,
          40.51959,
          40.34682,
          40.59958,
          40.4703704,
          40.4703704,
          40.46730956,
          40.58223,
          40.58561,
          40.57896,
          40.47091,
          40.46327,
          40.39679945,
          40.39679891,
          40.46516,
          40.4752,
          40.32737,
          40.4412977,
          40.41647635,
          40.47454,
          40.48999,
          40.45462038,
          40.41351835,
          40.4599042,
          40.4845912,
          40.43538842,
          40.50431,
          40.4022654,
          40.41261,
          40.42676142,
          40.425457,
          40.40888131,
          40.42183206,
          40.4016611,
          40.41216655,
          40.47335465,
          40.40271289,
          40.5150487,
          40.5063075,
          40.42336747,
          40.40612948,
          40.42917337,
          40.47244721,
          40.2877764,
          40.47102,
          40.42707,
          40.45511641,
          40.4184911,
          40.408705,
          40.45159546,
          40.40938648,
          40.43759,
          40.43166506,
          40.39259797,
          40.45543528,
          40.4371845,
          40.40914,
          40.41325005,
          40.444461,
          40.4703704,
          40.4023245,
          40.40490987,
          40.56881,
          40.45279571
         ],
         "legendgroup": "",
         "lon": [
          -79.95390991,
          -79.9519543,
          -79.9519543,
          -79.95267898,
          -79.9519543,
          -79.9519543,
          -79.954705,
          -79.95217246,
          -79.9606193,
          -79.9352324,
          -79.93539388,
          -79.93412338,
          -79.930419,
          -79.92098201,
          -79.95051801,
          -79.92986444,
          -79.92534685,
          -79.93032764,
          -79.93282981,
          -79.92243885,
          -79.92232597,
          -79.93756313,
          -79.93624139,
          -79.95191241,
          -79.93166147,
          -79.931994,
          -79.93047973,
          -79.93056228,
          -79.94440745,
          -79.94843625,
          -79.95423241,
          -79.95363489,
          -79.95509448,
          -79.95115652,
          -79.94133934,
          -79.92630879,
          -79.92758265,
          -79.9179566,
          -79.91934004,
          -79.921413,
          -79.917008,
          -79.917219,
          -79.92410177,
          -79.90415015,
          -79.90997859,
          -79.91017787,
          -79.9090515,
          -79.89764202,
          -79.89765872,
          -79.8939922,
          -79.89471106,
          -79.9140212,
          -79.94853012,
          -79.947369,
          -79.9309253,
          -79.97571514,
          -79.9719959,
          -79.987581,
          -79.984687,
          -79.98993502,
          -79.97749745,
          -79.97961206,
          -79.99509082,
          -79.99728979,
          -79.99592989,
          -79.98491343,
          -79.98881826,
          -80.00649171,
          -80.00090548,
          -80.00189061,
          -80.00374137,
          -80.00980374,
          -80.00931293,
          -80.0249041,
          -80.01903095,
          -80.02002092,
          -80.02635057,
          -80.0271985,
          -80.0321141,
          -80.0287557,
          -80.02801681,
          -80.02076824,
          -80.05880712,
          -80.05361206,
          -80.04993,
          -80.06128272,
          -80.038387,
          -80.04131308,
          -80.04373,
          -80.03407677,
          -79.9805861,
          -80.01867655,
          -80.01595034,
          -80.0196711,
          -80.01232305,
          -80.0178885,
          -80.00751385,
          -80.01779411,
          -80.00838235,
          -79.9928428,
          -80.00884433,
          -80.03860224,
          -79.993182,
          -79.97731342,
          -79.9884792,
          -79.98066871,
          -79.98630239,
          -80.06224039,
          -79.99023622,
          -79.98444855,
          -79.91732494,
          -79.8936405,
          -79.8945223,
          -79.8934138,
          -79.89492379,
          -79.8969918,
          -79.8941786,
          -79.8969889,
          -80.05495038,
          -80.05362,
          -80.05354,
          -80.0008851,
          -80.08237,
          -80.07962425,
          -80.094723,
          -79.97498,
          -79.9739,
          -80.06442,
          -80.0411547,
          -80.06888,
          -79.83916,
          -80.09225953,
          -80.1592385,
          -80.16431148,
          -79.976352,
          -80.0364129,
          -80.06913,
          -80.06683,
          -80.07413,
          -80.0221303,
          -80.03294,
          -79.90276,
          -79.98480354,
          -79.9021025,
          -79.94446315,
          -79.90458795,
          -79.97295,
          -79.91180252,
          -80.0892293,
          -79.98471,
          -79.84509,
          -80.05586957,
          -80.07116327,
          -80.05362935,
          -80.05370201,
          -79.82201443,
          -79.77737627,
          -79.77734808,
          -79.7770662,
          -79.77959373,
          -79.9523247,
          -79.78611745,
          -79.87901833,
          -79.86958,
          -79.88395,
          -79.88189,
          -79.86152,
          -80.03007,
          -79.9547,
          -79.96881,
          -80.0775479,
          -80.0775479,
          -80.01784867,
          -80.04801,
          -80.05408,
          -80.04365,
          -79.7881,
          -79.83893,
          -79.84453145,
          -79.84452291,
          -79.82023,
          -79.9868568,
          -79.98866,
          -80.0364129,
          -80.025348,
          -80.07948,
          -80.08072,
          -79.92979819,
          -80.0269228,
          -79.93180038,
          -79.9456663,
          -79.95553997,
          -80.20069,
          -79.9884792,
          -79.84315,
          -79.97890218,
          -79.92695,
          -80.09199943,
          -79.99999507,
          -80.03223719,
          -80.0240505,
          -79.92641437,
          -79.7817319,
          -80.15734012,
          -80.14967552,
          -79.94141447,
          -79.99179022,
          -80.07092518,
          -79.92483601,
          -79.8937426,
          -79.78843,
          -79.980621,
          -79.93008341,
          -80.01381392,
          -79.90686171,
          -79.92890096,
          -79.98894105,
          -80.06709,
          -79.95390869,
          -80.02341715,
          -79.93573725,
          -79.9547445,
          -79.89607,
          -80.02556405,
          -80.041036,
          -80.0775479,
          -80.0402544,
          -79.91189109,
          -80.0554,
          -79.91392507
         ],
         "marker": {
          "color": "#636efa"
         },
         "mode": "markers",
         "name": "",
         "showlegend": false,
         "subplot": "mapbox",
         "type": "scattermapbox"
        }
       ],
       "layout": {
        "legend": {
         "tracegroupgap": 0
        },
        "mapbox": {
         "center": {
          "lat": 40.43666709430434,
          "lon": -79.9721215228696
         },
         "domain": {
          "x": [
           0,
           1
          ],
          "y": [
           0,
           1
          ]
         },
         "style": "open-street-map",
         "zoom": 8
        },
        "margin": {
         "t": 60
        },
        "template": {
         "data": {
          "bar": [
           {
            "error_x": {
             "color": "#2a3f5f"
            },
            "error_y": {
             "color": "#2a3f5f"
            },
            "marker": {
             "line": {
              "color": "#E5ECF6",
              "width": 0.5
             },
             "pattern": {
              "fillmode": "overlay",
              "size": 10,
              "solidity": 0.2
             }
            },
            "type": "bar"
           }
          ],
          "barpolar": [
           {
            "marker": {
             "line": {
              "color": "#E5ECF6",
              "width": 0.5
             },
             "pattern": {
              "fillmode": "overlay",
              "size": 10,
              "solidity": 0.2
             }
            },
            "type": "barpolar"
           }
          ],
          "carpet": [
           {
            "aaxis": {
             "endlinecolor": "#2a3f5f",
             "gridcolor": "white",
             "linecolor": "white",
             "minorgridcolor": "white",
             "startlinecolor": "#2a3f5f"
            },
            "baxis": {
             "endlinecolor": "#2a3f5f",
             "gridcolor": "white",
             "linecolor": "white",
             "minorgridcolor": "white",
             "startlinecolor": "#2a3f5f"
            },
            "type": "carpet"
           }
          ],
          "choropleth": [
           {
            "colorbar": {
             "outlinewidth": 0,
             "ticks": ""
            },
            "type": "choropleth"
           }
          ],
          "contour": [
           {
            "colorbar": {
             "outlinewidth": 0,
             "ticks": ""
            },
            "colorscale": [
             [
              0,
              "#0d0887"
             ],
             [
              0.1111111111111111,
              "#46039f"
             ],
             [
              0.2222222222222222,
              "#7201a8"
             ],
             [
              0.3333333333333333,
              "#9c179e"
             ],
             [
              0.4444444444444444,
              "#bd3786"
             ],
             [
              0.5555555555555556,
              "#d8576b"
             ],
             [
              0.6666666666666666,
              "#ed7953"
             ],
             [
              0.7777777777777778,
              "#fb9f3a"
             ],
             [
              0.8888888888888888,
              "#fdca26"
             ],
             [
              1,
              "#f0f921"
             ]
            ],
            "type": "contour"
           }
          ],
          "contourcarpet": [
           {
            "colorbar": {
             "outlinewidth": 0,
             "ticks": ""
            },
            "type": "contourcarpet"
           }
          ],
          "heatmap": [
           {
            "colorbar": {
             "outlinewidth": 0,
             "ticks": ""
            },
            "colorscale": [
             [
              0,
              "#0d0887"
             ],
             [
              0.1111111111111111,
              "#46039f"
             ],
             [
              0.2222222222222222,
              "#7201a8"
             ],
             [
              0.3333333333333333,
              "#9c179e"
             ],
             [
              0.4444444444444444,
              "#bd3786"
             ],
             [
              0.5555555555555556,
              "#d8576b"
             ],
             [
              0.6666666666666666,
              "#ed7953"
             ],
             [
              0.7777777777777778,
              "#fb9f3a"
             ],
             [
              0.8888888888888888,
              "#fdca26"
             ],
             [
              1,
              "#f0f921"
             ]
            ],
            "type": "heatmap"
           }
          ],
          "heatmapgl": [
           {
            "colorbar": {
             "outlinewidth": 0,
             "ticks": ""
            },
            "colorscale": [
             [
              0,
              "#0d0887"
             ],
             [
              0.1111111111111111,
              "#46039f"
             ],
             [
              0.2222222222222222,
              "#7201a8"
             ],
             [
              0.3333333333333333,
              "#9c179e"
             ],
             [
              0.4444444444444444,
              "#bd3786"
             ],
             [
              0.5555555555555556,
              "#d8576b"
             ],
             [
              0.6666666666666666,
              "#ed7953"
             ],
             [
              0.7777777777777778,
              "#fb9f3a"
             ],
             [
              0.8888888888888888,
              "#fdca26"
             ],
             [
              1,
              "#f0f921"
             ]
            ],
            "type": "heatmapgl"
           }
          ],
          "histogram": [
           {
            "marker": {
             "pattern": {
              "fillmode": "overlay",
              "size": 10,
              "solidity": 0.2
             }
            },
            "type": "histogram"
           }
          ],
          "histogram2d": [
           {
            "colorbar": {
             "outlinewidth": 0,
             "ticks": ""
            },
            "colorscale": [
             [
              0,
              "#0d0887"
             ],
             [
              0.1111111111111111,
              "#46039f"
             ],
             [
              0.2222222222222222,
              "#7201a8"
             ],
             [
              0.3333333333333333,
              "#9c179e"
             ],
             [
              0.4444444444444444,
              "#bd3786"
             ],
             [
              0.5555555555555556,
              "#d8576b"
             ],
             [
              0.6666666666666666,
              "#ed7953"
             ],
             [
              0.7777777777777778,
              "#fb9f3a"
             ],
             [
              0.8888888888888888,
              "#fdca26"
             ],
             [
              1,
              "#f0f921"
             ]
            ],
            "type": "histogram2d"
           }
          ],
          "histogram2dcontour": [
           {
            "colorbar": {
             "outlinewidth": 0,
             "ticks": ""
            },
            "colorscale": [
             [
              0,
              "#0d0887"
             ],
             [
              0.1111111111111111,
              "#46039f"
             ],
             [
              0.2222222222222222,
              "#7201a8"
             ],
             [
              0.3333333333333333,
              "#9c179e"
             ],
             [
              0.4444444444444444,
              "#bd3786"
             ],
             [
              0.5555555555555556,
              "#d8576b"
             ],
             [
              0.6666666666666666,
              "#ed7953"
             ],
             [
              0.7777777777777778,
              "#fb9f3a"
             ],
             [
              0.8888888888888888,
              "#fdca26"
             ],
             [
              1,
              "#f0f921"
             ]
            ],
            "type": "histogram2dcontour"
           }
          ],
          "mesh3d": [
           {
            "colorbar": {
             "outlinewidth": 0,
             "ticks": ""
            },
            "type": "mesh3d"
           }
          ],
          "parcoords": [
           {
            "line": {
             "colorbar": {
              "outlinewidth": 0,
              "ticks": ""
             }
            },
            "type": "parcoords"
           }
          ],
          "pie": [
           {
            "automargin": true,
            "type": "pie"
           }
          ],
          "scatter": [
           {
            "fillpattern": {
             "fillmode": "overlay",
             "size": 10,
             "solidity": 0.2
            },
            "type": "scatter"
           }
          ],
          "scatter3d": [
           {
            "line": {
             "colorbar": {
              "outlinewidth": 0,
              "ticks": ""
             }
            },
            "marker": {
             "colorbar": {
              "outlinewidth": 0,
              "ticks": ""
             }
            },
            "type": "scatter3d"
           }
          ],
          "scattercarpet": [
           {
            "marker": {
             "colorbar": {
              "outlinewidth": 0,
              "ticks": ""
             }
            },
            "type": "scattercarpet"
           }
          ],
          "scattergeo": [
           {
            "marker": {
             "colorbar": {
              "outlinewidth": 0,
              "ticks": ""
             }
            },
            "type": "scattergeo"
           }
          ],
          "scattergl": [
           {
            "marker": {
             "colorbar": {
              "outlinewidth": 0,
              "ticks": ""
             }
            },
            "type": "scattergl"
           }
          ],
          "scattermapbox": [
           {
            "marker": {
             "colorbar": {
              "outlinewidth": 0,
              "ticks": ""
             }
            },
            "type": "scattermapbox"
           }
          ],
          "scatterpolar": [
           {
            "marker": {
             "colorbar": {
              "outlinewidth": 0,
              "ticks": ""
             }
            },
            "type": "scatterpolar"
           }
          ],
          "scatterpolargl": [
           {
            "marker": {
             "colorbar": {
              "outlinewidth": 0,
              "ticks": ""
             }
            },
            "type": "scatterpolargl"
           }
          ],
          "scatterternary": [
           {
            "marker": {
             "colorbar": {
              "outlinewidth": 0,
              "ticks": ""
             }
            },
            "type": "scatterternary"
           }
          ],
          "surface": [
           {
            "colorbar": {
             "outlinewidth": 0,
             "ticks": ""
            },
            "colorscale": [
             [
              0,
              "#0d0887"
             ],
             [
              0.1111111111111111,
              "#46039f"
             ],
             [
              0.2222222222222222,
              "#7201a8"
             ],
             [
              0.3333333333333333,
              "#9c179e"
             ],
             [
              0.4444444444444444,
              "#bd3786"
             ],
             [
              0.5555555555555556,
              "#d8576b"
             ],
             [
              0.6666666666666666,
              "#ed7953"
             ],
             [
              0.7777777777777778,
              "#fb9f3a"
             ],
             [
              0.8888888888888888,
              "#fdca26"
             ],
             [
              1,
              "#f0f921"
             ]
            ],
            "type": "surface"
           }
          ],
          "table": [
           {
            "cells": {
             "fill": {
              "color": "#EBF0F8"
             },
             "line": {
              "color": "white"
             }
            },
            "header": {
             "fill": {
              "color": "#C8D4E3"
             },
             "line": {
              "color": "white"
             }
            },
            "type": "table"
           }
          ]
         },
         "layout": {
          "annotationdefaults": {
           "arrowcolor": "#2a3f5f",
           "arrowhead": 0,
           "arrowwidth": 1
          },
          "autotypenumbers": "strict",
          "coloraxis": {
           "colorbar": {
            "outlinewidth": 0,
            "ticks": ""
           }
          },
          "colorscale": {
           "diverging": [
            [
             0,
             "#8e0152"
            ],
            [
             0.1,
             "#c51b7d"
            ],
            [
             0.2,
             "#de77ae"
            ],
            [
             0.3,
             "#f1b6da"
            ],
            [
             0.4,
             "#fde0ef"
            ],
            [
             0.5,
             "#f7f7f7"
            ],
            [
             0.6,
             "#e6f5d0"
            ],
            [
             0.7,
             "#b8e186"
            ],
            [
             0.8,
             "#7fbc41"
            ],
            [
             0.9,
             "#4d9221"
            ],
            [
             1,
             "#276419"
            ]
           ],
           "sequential": [
            [
             0,
             "#0d0887"
            ],
            [
             0.1111111111111111,
             "#46039f"
            ],
            [
             0.2222222222222222,
             "#7201a8"
            ],
            [
             0.3333333333333333,
             "#9c179e"
            ],
            [
             0.4444444444444444,
             "#bd3786"
            ],
            [
             0.5555555555555556,
             "#d8576b"
            ],
            [
             0.6666666666666666,
             "#ed7953"
            ],
            [
             0.7777777777777778,
             "#fb9f3a"
            ],
            [
             0.8888888888888888,
             "#fdca26"
            ],
            [
             1,
             "#f0f921"
            ]
           ],
           "sequentialminus": [
            [
             0,
             "#0d0887"
            ],
            [
             0.1111111111111111,
             "#46039f"
            ],
            [
             0.2222222222222222,
             "#7201a8"
            ],
            [
             0.3333333333333333,
             "#9c179e"
            ],
            [
             0.4444444444444444,
             "#bd3786"
            ],
            [
             0.5555555555555556,
             "#d8576b"
            ],
            [
             0.6666666666666666,
             "#ed7953"
            ],
            [
             0.7777777777777778,
             "#fb9f3a"
            ],
            [
             0.8888888888888888,
             "#fdca26"
            ],
            [
             1,
             "#f0f921"
            ]
           ]
          },
          "colorway": [
           "#636efa",
           "#EF553B",
           "#00cc96",
           "#ab63fa",
           "#FFA15A",
           "#19d3f3",
           "#FF6692",
           "#B6E880",
           "#FF97FF",
           "#FECB52"
          ],
          "font": {
           "color": "#2a3f5f"
          },
          "geo": {
           "bgcolor": "white",
           "lakecolor": "white",
           "landcolor": "#E5ECF6",
           "showlakes": true,
           "showland": true,
           "subunitcolor": "white"
          },
          "hoverlabel": {
           "align": "left"
          },
          "hovermode": "closest",
          "mapbox": {
           "style": "light"
          },
          "paper_bgcolor": "white",
          "plot_bgcolor": "#E5ECF6",
          "polar": {
           "angularaxis": {
            "gridcolor": "white",
            "linecolor": "white",
            "ticks": ""
           },
           "bgcolor": "#E5ECF6",
           "radialaxis": {
            "gridcolor": "white",
            "linecolor": "white",
            "ticks": ""
           }
          },
          "scene": {
           "xaxis": {
            "backgroundcolor": "#E5ECF6",
            "gridcolor": "white",
            "gridwidth": 2,
            "linecolor": "white",
            "showbackground": true,
            "ticks": "",
            "zerolinecolor": "white"
           },
           "yaxis": {
            "backgroundcolor": "#E5ECF6",
            "gridcolor": "white",
            "gridwidth": 2,
            "linecolor": "white",
            "showbackground": true,
            "ticks": "",
            "zerolinecolor": "white"
           },
           "zaxis": {
            "backgroundcolor": "#E5ECF6",
            "gridcolor": "white",
            "gridwidth": 2,
            "linecolor": "white",
            "showbackground": true,
            "ticks": "",
            "zerolinecolor": "white"
           }
          },
          "shapedefaults": {
           "line": {
            "color": "#2a3f5f"
           }
          },
          "ternary": {
           "aaxis": {
            "gridcolor": "white",
            "linecolor": "white",
            "ticks": ""
           },
           "baxis": {
            "gridcolor": "white",
            "linecolor": "white",
            "ticks": ""
           },
           "bgcolor": "#E5ECF6",
           "caxis": {
            "gridcolor": "white",
            "linecolor": "white",
            "ticks": ""
           }
          },
          "title": {
           "x": 0.05
          },
          "xaxis": {
           "automargin": true,
           "gridcolor": "white",
           "linecolor": "white",
           "ticks": "",
           "title": {
            "standoff": 15
           },
           "zerolinecolor": "white",
           "zerolinewidth": 2
          },
          "yaxis": {
           "automargin": true,
           "gridcolor": "white",
           "linecolor": "white",
           "ticks": "",
           "title": {
            "standoff": 15
           },
           "zerolinecolor": "white",
           "zerolinewidth": 2
          }
         }
        },
        "title": {
         "text": "Map",
         "x": 0.5
        }
       }
      },
      "text/html": [
       "<div>                            <div id=\"6febfc02-3828-43a8-b66a-6f9809d3d314\" class=\"plotly-graph-div\" style=\"height:525px; width:100%;\"></div>            <script type=\"text/javascript\">                require([\"plotly\"], function(Plotly) {                    window.PLOTLYENV=window.PLOTLYENV || {};                                    if (document.getElementById(\"6febfc02-3828-43a8-b66a-6f9809d3d314\")) {                    Plotly.newPlot(                        \"6febfc02-3828-43a8-b66a-6f9809d3d314\",                        [{\"hovertemplate\":\"<b>%{hovertext}</b><br><br>Lat=%{lat}<br>Lon=%{lon}<extra></extra>\",\"hovertext\":[\"380   HAMILTON AVE  UNIT 328    PALO ALTO CA   94302.0\",\"380   HAMILTON AVE  UNIT 328    PALO ALTO CA   94302.0\",\"380   HAMILTON AVE  UNIT 328    PALO ALTO CA   94302.0\",\"380   HAMILTON AVE  UNIT 328    PALO ALTO CA   94302.0\",\"380   HAMILTON AVE  UNIT 328    PALO ALTO CA   94302.0\",\"380   HAMILTON AVE  UNIT 328    PALO ALTO CA   94302.0\",\"1101  S CAPITAL OF TEXAS HWY  STE B-220    AUSTIN TX   78746.0\",\"380   HAMILTON AVE  UNIT 328    PALO ALTO CA   94302.0\",\"414   GRANT ST  RM 200  CITY-COUNTY BUILDING  PITTSBURGH PA   15219.0\",\"8   CHURCHILL RD       PITTSBURGH PA   15235.0\",\"8   CHURCHILL RD       PITTSBURGH PA   15235.0\",\"   PO BOX 40206        PITTSBURGH PA   15201.0\",\"1101  S CAPITAL OF TEXAS HWY  STE B-220    AUSTIN TX   78746.0\",\"1501   ARDMORE BLVD  STE 400    PITTSBURGH PA   15221.0\",\"2116   MERRIMAN WAY       PITTSBURGH PA   15203.0\",\"1101  S CAPITAL OF TEXAS HWY  STE B-220    AUSTIN TX   78746.0\",\"8   CHURCHILL RD       PITTSBURGH PA   15235.0\",\"1101  S CAPITAL OF TEXAS HWY  STE B-220    AUSTIN TX   78746.0\",\"1501   ARDMORE BLVD  STE 400    PITTSBURGH PA   15221.0\",\"1101  S CAPITAL OF TEXAS HWY  STE B-220    AUSTIN TX   78746.0\",\"1101  S CAPITAL OF TEXAS HWY  STE B-220    AUSTIN TX   78746.0\",\"1501   ARDMORE BLVD  STE 400    PITTSBURGH PA   15221.0\",\"   PO BOX 40206        PITTSBURGH PA   15201.0\",\"2116   MERRIMAN WAY       PITTSBURGH PA   15203.0\",\"1101  S CAPITAL OF TEXAS HWY  STE B-220    AUSTIN TX   78746.0\",\"   PO BOX 40206        PITTSBURGH PA   15201.0\",\"8   CHURCHILL RD       PITTSBURGH PA   15235.0\",\"   PO BOX 40206        PITTSBURGH PA   15201.0\",\"8   CHURCHILL RD       PITTSBURGH PA   15235.0\",\"2116   MERRIMAN WAY       PITTSBURGH PA   15203.0\",\"2116   MERRIMAN WAY       PITTSBURGH PA   15203.0\",\"2116   MERRIMAN WAY       PITTSBURGH PA   15203.0\",\"2116   MERRIMAN WAY       PITTSBURGH PA   15203.0\",\"2116   MERRIMAN WAY       PITTSBURGH PA   15203.0\",\"   PO BOX 40206        PITTSBURGH PA   15201.0\",\"1812  E CARSON ST       PITTSBURGH PA   15203.0\",\"2116   MERRIMAN WAY       PITTSBURGH PA   15203.0\",\"2116   MERRIMAN WAY       PITTSBURGH PA   15203.0\",\"   PO BOX 40206        PITTSBURGH PA   15201.0\",\"   PO BOX 40206        PITTSBURGH PA   15201.0\",\"   PO BOX 40206        PITTSBURGH PA   15201.0\",\"   PO BOX 40206        PITTSBURGH PA   15201.0\",\"   PO BOX 40206        PITTSBURGH PA   15201.0\",\"   PO BOX 40206        PITTSBURGH PA   15201.0\",\"8   CHURCHILL RD       PITTSBURGH PA   15235.0\",\"8   CHURCHILL RD       PITTSBURGH PA   15235.0\",\"8   CHURCHILL RD       PITTSBURGH PA   15235.0\",\"   PO BOX 40206        PITTSBURGH PA   15201.0\",\"   PO BOX 40206        PITTSBURGH PA   15201.0\",\"2116   MERRIMAN WAY       PITTSBURGH PA   15203.0\",\"   PO BOX 40206        PITTSBURGH PA   15201.0\",\"   PO BOX 40206        PITTSBURGH PA   15201.0\",\"6015   SPIRIT ST  STE 202    PITTSBURGH PA   15206.0\",\"6015   SPIRIT ST  STE 202    PITTSBURGH PA   15206.0\",\"   PO BOX 40206        PITTSBURGH PA   15201.0\",\"   PO BOX 40206        PITTSBURGH PA   15201.0\",\"1812  E CARSON ST       PITTSBURGH PA   15203.0\",\"1812  E CARSON ST       PITTSBURGH PA   15203.0\",\"202   MAIN ENTRANCE DR       PITTSBURGH PA   15228.0\",\"829   INDUSTRY ST       PITTSBURGH PA   15210.0\",\"1812  E CARSON ST       PITTSBURGH PA   15203.0\",\"6247   IVAR AVE       TEMPLE CITY CA   91780.0\",\"829   INDUSTRY ST       PITTSBURGH PA   15210.0\",\"829   INDUSTRY ST       PITTSBURGH PA   15210.0\",\"829   INDUSTRY ST       PITTSBURGH PA   15210.0\",\"829   INDUSTRY ST       PITTSBURGH PA   15210.0\",\"829   INDUSTRY ST       PITTSBURGH PA   15210.0\",\"414   GRANT ST  RM 200  CITY-COUNTY BUILDING  PITTSBURGH PA   15219.0\",\"829   INDUSTRY ST       PITTSBURGH PA   15210.0\",\"1812  E CARSON ST       PITTSBURGH PA   15203.0\",\"10315   LINDBERG AVE       PITTSBURGH PA   15235.0\",\"1101  S CAPITAL OF TEXAS HWY  STE B-220    AUSTIN TX   78746.0\",\"   PO BOX 184        INGOMAR PA   15127.0\",\"202   MAIN ENTRANCE DR       PITTSBURGH PA   15228.0\",\"10315   LINDBERG AVE       PITTSBURGH PA   15235.0\",\"1812  E CARSON ST       PITTSBURGH PA   15203.0\",\"6015   SPIRIT ST  STE 202    PITTSBURGH PA   15206.0\",\"10315   LINDBERG AVE       PITTSBURGH PA   15235.0\",\"1812  E CARSON ST       PITTSBURGH PA   15203.0\",\"1812  E CARSON ST       PITTSBURGH PA   15203.0\",\"552   WASHINGTON AVE       CARNEGIE PA   15106.0\",\"10315   LINDBERG AVE       PITTSBURGH PA   15235.0\",\"552   WASHINGTON AVE       CARNEGIE PA   15106.0\",\"414   GRANT ST  RM 200  CITY-COUNTY BUILDING  PITTSBURGH PA   15219.0\",\"6015   SPIRIT ST  STE 202    PITTSBURGH PA   15206.0\",\"414   GRANT ST  RM 200  CITY-COUNTY BUILDING  PITTSBURGH PA   15219.0\",\"552   WASHINGTON AVE       CARNEGIE PA   15106.0\",\"1812  E CARSON ST       PITTSBURGH PA   15203.0\",\"1812  E CARSON ST       PITTSBURGH PA   15203.0\",\"414   GRANT ST  RM 200  CITY-COUNTY BUILDING  PITTSBURGH PA   15219.0\",\"   PO BOX 11        IMPERIAL PA   15126.0\",\"1300   BRIGHTON RD       PITTSBURGH PA   15233.0\",\"1300   BRIGHTON RD       PITTSBURGH PA   15233.0\",\"1300   BRIGHTON RD       PITTSBURGH PA   15233.0\",\"1300   BRIGHTON RD       PITTSBURGH PA   15233.0\",\"1300   BRIGHTON RD       PITTSBURGH PA   15233.0\",\"414   GRANT ST  RM 200  CITY-COUNTY BUILDING  PITTSBURGH PA   15219.0\",\"1300   BRIGHTON RD       PITTSBURGH PA   15233.0\",\"1812  E CARSON ST       PITTSBURGH PA   15203.0\",\"202   MAIN ENTRANCE DR       PITTSBURGH PA   15228.0\",\"1300   BRIGHTON RD       PITTSBURGH PA   15233.0\",\"1812  E CARSON ST       PITTSBURGH PA   15203.0\",\"2116   MERRIMAN WAY       PITTSBURGH PA   15203.0\",\"1812  E CARSON ST       PITTSBURGH PA   15203.0\",\"829   INDUSTRY ST       PITTSBURGH PA   15210.0\",\"1812  E CARSON ST       PITTSBURGH PA   15203.0\",\"552   WASHINGTON AVE       CARNEGIE PA   15106.0\",\"   PO BOX 11        IMPERIAL PA   15126.0\",\"1812  E CARSON ST       PITTSBURGH PA   15203.0\",\"1812  E CARSON ST       PITTSBURGH PA   15203.0\",\"1812  E CARSON ST       PITTSBURGH PA   15203.0\",\"1179   DESIDERIO BLVD       CLAIRTON PA   15025.0\",\"1179   DESIDERIO BLVD       CLAIRTON PA   15025.0\",\"1179   DESIDERIO BLVD       CLAIRTON PA   15025.0\",\"1179   DESIDERIO BLVD       CLAIRTON PA   15025.0\",\"1179   DESIDERIO BLVD       CLAIRTON PA   15025.0\",\"1179   DESIDERIO BLVD       CLAIRTON PA   15025.0\",\"1179   DESIDERIO BLVD       CLAIRTON PA   15025.0\",\"6247   IVAR AVE       TEMPLE CITY CA   91780.0\",\"6015   SPIRIT ST  STE 202    PITTSBURGH PA   15206.0\",\"6015   SPIRIT ST  STE 202    PITTSBURGH PA   15206.0\",\"202   MAIN ENTRANCE DR       PITTSBURGH PA   15228.0\",\"1812  E CARSON ST       PITTSBURGH PA   15203\",\"1812  E CARSON ST       PITTSBURGH PA   15203\",\"1812  E CARSON ST       PITTSBURGH PA   15203\",\"6247   IVAR AVE       TEMPLE CITY CA   91780.0\",\"552   WASHINGTON AVE       CARNEGIE PA   15106.0\",\"1812  E CARSON ST       PITTSBURGH PA   15203.0\",\"1812  E CARSON ST       PITTSBURGH PA   15203.0\",\"1812  E CARSON ST       PITTSBURGH PA   15203.0\",\"6015   SPIRIT ST  STE 202    PITTSBURGH PA   15206.0\",\"552   WASHINGTON AVE       CARNEGIE PA   15106.0\",\"1812  E CARSON ST       PITTSBURGH PA   15203.0\",\"1812  E CARSON ST       PITTSBURGH PA   15203.0\",\"1812  E CARSON ST       PITTSBURGH PA   15203.0\",\"1812  E CARSON ST       PITTSBURGH PA   15203.0\",\"   PO BOX 11        IMPERIAL PA   15126.0\",\"6015   SPIRIT ST  STE 202    PITTSBURGH PA   15206.0\",\"6247   IVAR AVE       TEMPLE CITY CA   91780.0\",\"6247   IVAR AVE       TEMPLE CITY CA   91780.0\",\"202   MAIN ENTRANCE DR       PITTSBURGH PA   15228.0\",\"202   MAIN ENTRANCE DR       PITTSBURGH PA   15228.0\",\"1812  E CARSON ST       PITTSBURGH PA   15203.0\",\"1812  E CARSON ST       PITTSBURGH PA   15203.0\",\"202   MAIN ENTRANCE DR       PITTSBURGH PA   15228.0\",\"202   MAIN ENTRANCE DR       PITTSBURGH PA   15228.0\",\"1812  E CARSON ST       PITTSBURGH PA   15203.0\",\"829   INDUSTRY ST       PITTSBURGH PA   15210.0\",\"552   WASHINGTON AVE       CARNEGIE PA   15106.0\",\"6015   SPIRIT ST  STE 202    PITTSBURGH PA   15206.0\",\"1812  E CARSON ST       PITTSBURGH PA   15203.0\",\"   PO BOX 11        IMPERIAL PA   15126.0\",\"552   WASHINGTON AVE       CARNEGIE PA   15106.0\",\"1812  E CARSON ST       PITTSBURGH PA   15203.0\",\"1812  E CARSON ST       PITTSBURGH PA   15203.0\",\"1812  E CARSON ST       PITTSBURGH PA   15203\",\"   PO BOX 892        TWIN PEAKS CA   92391.0\",\"   PO BOX 892        TWIN PEAKS CA   92391.0\",\"2116   MERRIMAN WAY       PITTSBURGH PA   15203.0\",\"   PO BOX 892        TWIN PEAKS CA   92391.0\",\"   PO BOX 11        IMPERIAL PA   15126.0\",\"   PO BOX 184        INGOMAR PA   15127.0\",\"   PO BOX 11        IMPERIAL PA   15126.0\",\"2116   MERRIMAN WAY       PITTSBURGH PA   15203.0\",\"1812  E CARSON ST       PITTSBURGH PA   15203\",\"1812  E CARSON ST       PITTSBURGH PA   15203\",\"   PO BOX 892        TWIN PEAKS CA   92391.0\",\"1812  E CARSON ST       PITTSBURGH PA   15203.0\",\"1812  E CARSON ST       PITTSBURGH PA   15203.0\",\"   PO BOX 184        INGOMAR PA   15127.0\",\"552   WASHINGTON AVE       CARNEGIE PA   15106.0\",\"552   WASHINGTON AVE       CARNEGIE PA   15106.0\",\"1300   BRIGHTON RD       PITTSBURGH PA   15233.0\",\"   PO BOX 184        INGOMAR PA   15127.0\",\"   PO BOX 184        INGOMAR PA   15127.0\",\"   PO BOX 184        INGOMAR PA   15127.0\",\"1812  E CARSON ST       PITTSBURGH PA   15203.0\",\"   PO BOX 892        TWIN PEAKS CA   92391.0\",\"   PO BOX 892        TWIN PEAKS CA   92391.0\",\"   PO BOX 892        TWIN PEAKS CA   92391.0\",\"1812  E CARSON ST       PITTSBURGH PA   15203.0\",\"202   MAIN ENTRANCE DR       PITTSBURGH PA   15228.0\",\"10315   LINDBERG AVE       PITTSBURGH PA   15235.0\",\"202   MAIN ENTRANCE DR       PITTSBURGH PA   15228.0\",\"1812  E CARSON ST       PITTSBURGH PA   15203.0\",\"552   WASHINGTON AVE       CARNEGIE PA   15106.0\",\"1812  E CARSON ST       PITTSBURGH PA   15203.0\",\"1501   ARDMORE BLVD  STE 400    PITTSBURGH PA   15221.0\",\"6247   IVAR AVE       TEMPLE CITY CA   91780.0\",\"   PO BOX 40206        PITTSBURGH PA   15201.0\",\"2116   MERRIMAN WAY       PITTSBURGH PA   15203.0\",\"1101  S CAPITAL OF TEXAS HWY  STE B-220    AUSTIN TX   78746.0\",\"1812  E CARSON ST       PITTSBURGH PA   15203.0\",\"829   INDUSTRY ST       PITTSBURGH PA   15210.0\",\"10315   LINDBERG AVE       PITTSBURGH PA   15235.0\",\"202   MAIN ENTRANCE DR       PITTSBURGH PA   15228.0\",\"10315   LINDBERG AVE       PITTSBURGH PA   15235.0\",\"552   WASHINGTON AVE       CARNEGIE PA   15106.0\",\"   PO BOX 11        IMPERIAL PA   15126.0\",\"1812  E CARSON ST       PITTSBURGH PA   15203.0\",\"414   GRANT ST  RM 200  CITY-COUNTY BUILDING  PITTSBURGH PA   15219.0\",\"1501   ARDMORE BLVD  STE 400    PITTSBURGH PA   15221.0\",\"10315   LINDBERG AVE       PITTSBURGH PA   15235.0\",\"1812  E CARSON ST       PITTSBURGH PA   15203.0\",\"1812  E CARSON ST       PITTSBURGH PA   15203.0\",\"   PO BOX 40206        PITTSBURGH PA   15201.0\",\"1812  E CARSON ST       PITTSBURGH PA   15203.0\",\"552   WASHINGTON AVE       CARNEGIE PA   15106.0\",\"2116   MERRIMAN WAY       PITTSBURGH PA   15203.0\",\"1179   DESIDERIO BLVD       CLAIRTON PA   15025.0\",\"1812  E CARSON ST       PITTSBURGH PA   15203.0\",\"1812  E CARSON ST       PITTSBURGH PA   15203.0\",\"1101  S CAPITAL OF TEXAS HWY  STE B-220    AUSTIN TX   78746.0\",\"6015   SPIRIT ST  STE 202    PITTSBURGH PA   15206.0\",\"202   MAIN ENTRANCE DR       PITTSBURGH PA   15228.0\",\"1101  S CAPITAL OF TEXAS HWY  STE B-220    AUSTIN TX   78746.0\",\"1812  E CARSON ST       PITTSBURGH PA   15203.0\",\"6015   SPIRIT ST  STE 202    PITTSBURGH PA   15206.0\",\"1812  E CARSON ST       PITTSBURGH PA   15203.0\",\"10315   LINDBERG AVE       PITTSBURGH PA   15235.0\",\"1101  S CAPITAL OF TEXAS HWY  STE B-220    AUSTIN TX   78746.0\",\"1101  S CAPITAL OF TEXAS HWY  STE B-220    AUSTIN TX   78746.0\",\"1812  E CARSON ST       PITTSBURGH PA   15203.0\",\"6247   IVAR AVE       TEMPLE CITY CA   91780.0\",\"414   GRANT ST  RM 200  CITY-COUNTY BUILDING  PITTSBURGH PA   15219.0\",\"552   WASHINGTON AVE       CARNEGIE PA   15106.0\",\"1101  S CAPITAL OF TEXAS HWY  STE B-220    AUSTIN TX   78746.0\",\"   PO BOX 11        IMPERIAL PA   15126.0\",\"   PO BOX 184        INGOMAR PA   15127.0\",\"1501   ARDMORE BLVD  STE 400    PITTSBURGH PA   15221.0\"],\"lat\":[40.43165964,40.4382081,40.4382081,40.43273909,40.4382081,40.4382081,40.437223,40.43489415,40.4519967,40.4532635,40.45328738,40.4549989,40.455285,40.4565946,40.45983437,40.45579067,40.45657293,40.45512802,40.45053895,40.4536063,40.45365065,40.46163755,40.46150201,40.45900704,40.4601288,40.4597929,40.46209481,40.46153545,40.45820005,40.464633,40.4790145,40.48047511,40.46389398,40.46369506,40.47855813,40.4733157,40.472868,40.4707805,40.4753879,40.469098,40.425102,40.425137,40.4263044,40.45370985,40.45543549,40.45551097,40.4541224,40.44040154,40.44035124,40.44463132,40.4401673,40.4326238,40.42331986,40.407719,40.42499954,40.42947494,40.41959351,40.427037,40.42461,40.42393041,40.42684909,40.42441524,40.42071228,40.42151804,40.42209933,40.42060329,40.42081025,40.41027172,40.42268131,40.42337569,40.4254513,40.42483122,40.4242305,40.41064297,40.41018423,40.41183084,40.4118511,40.4102345,40.4014811,40.3998468,40.39591089,40.39440761,40.45212579,40.45661657,40.45499,40.45522945,40.44536375,40.44968329,40.443244,40.44494159,40.46679581,40.46184727,40.46650661,40.4643629,40.45811617,40.4600486,40.46858895,40.46732849,40.467531,40.45980366,40.4561442,40.47405902,40.415118,40.38716708,40.4022654,40.38144725,40.3963013,40.42646454,40.39645382,40.3966958,40.36701076,40.2876072,40.2874865,40.2877295,40.28796976,40.2874562,40.2874476,40.2871096,40.43958562,40.49017,40.49001,40.4508645,40.40518,40.40628075,40.402015,40.38246,40.37995,40.4971,40.4830323,40.50329,40.40861,40.4056093,40.51899095,40.5181513,40.38527,40.4412977,40.4359,40.43745,40.43615,40.4398425,40.39738,40.40561,40.417509,40.3995963,40.40680396,40.40559195,40.4878,40.40145266,40.4127351,40.41698,40.41937,40.47518135,40.46401765,40.4730605,40.4731502,40.40614069,40.40328329,40.40328823,40.40333766,40.40216132,40.4635458,40.54204163,40.44452482,40.44627,40.41934,40.41922,40.44698,40.51959,40.34682,40.59958,40.4703704,40.4703704,40.46730956,40.58223,40.58561,40.57896,40.47091,40.46327,40.39679945,40.39679891,40.46516,40.4752,40.32737,40.4412977,40.41647635,40.47454,40.48999,40.45462038,40.41351835,40.4599042,40.4845912,40.43538842,40.50431,40.4022654,40.41261,40.42676142,40.425457,40.40888131,40.42183206,40.4016611,40.41216655,40.47335465,40.40271289,40.5150487,40.5063075,40.42336747,40.40612948,40.42917337,40.47244721,40.2877764,40.47102,40.42707,40.45511641,40.4184911,40.408705,40.45159546,40.40938648,40.43759,40.43166506,40.39259797,40.45543528,40.4371845,40.40914,40.41325005,40.444461,40.4703704,40.4023245,40.40490987,40.56881,40.45279571],\"legendgroup\":\"\",\"lon\":[-79.95390991,-79.9519543,-79.9519543,-79.95267898,-79.9519543,-79.9519543,-79.954705,-79.95217246,-79.9606193,-79.9352324,-79.93539388,-79.93412338,-79.930419,-79.92098201,-79.95051801,-79.92986444,-79.92534685,-79.93032764,-79.93282981,-79.92243885,-79.92232597,-79.93756313,-79.93624139,-79.95191241,-79.93166147,-79.931994,-79.93047973,-79.93056228,-79.94440745,-79.94843625,-79.95423241,-79.95363489,-79.95509448,-79.95115652,-79.94133934,-79.92630879,-79.92758265,-79.9179566,-79.91934004,-79.921413,-79.917008,-79.917219,-79.92410177,-79.90415015,-79.90997859,-79.91017787,-79.9090515,-79.89764202,-79.89765872,-79.8939922,-79.89471106,-79.9140212,-79.94853012,-79.947369,-79.9309253,-79.97571514,-79.9719959,-79.987581,-79.984687,-79.98993502,-79.97749745,-79.97961206,-79.99509082,-79.99728979,-79.99592989,-79.98491343,-79.98881826,-80.00649171,-80.00090548,-80.00189061,-80.00374137,-80.00980374,-80.00931293,-80.0249041,-80.01903095,-80.02002092,-80.02635057,-80.0271985,-80.0321141,-80.0287557,-80.02801681,-80.02076824,-80.05880712,-80.05361206,-80.04993,-80.06128272,-80.038387,-80.04131308,-80.04373,-80.03407677,-79.9805861,-80.01867655,-80.01595034,-80.0196711,-80.01232305,-80.0178885,-80.00751385,-80.01779411,-80.00838235,-79.9928428,-80.00884433,-80.03860224,-79.993182,-79.97731342,-79.9884792,-79.98066871,-79.98630239,-80.06224039,-79.99023622,-79.98444855,-79.91732494,-79.8936405,-79.8945223,-79.8934138,-79.89492379,-79.8969918,-79.8941786,-79.8969889,-80.05495038,-80.05362,-80.05354,-80.0008851,-80.08237,-80.07962425,-80.094723,-79.97498,-79.9739,-80.06442,-80.0411547,-80.06888,-79.83916,-80.09225953,-80.1592385,-80.16431148,-79.976352,-80.0364129,-80.06913,-80.06683,-80.07413,-80.0221303,-80.03294,-79.90276,-79.98480354,-79.9021025,-79.94446315,-79.90458795,-79.97295,-79.91180252,-80.0892293,-79.98471,-79.84509,-80.05586957,-80.07116327,-80.05362935,-80.05370201,-79.82201443,-79.77737627,-79.77734808,-79.7770662,-79.77959373,-79.9523247,-79.78611745,-79.87901833,-79.86958,-79.88395,-79.88189,-79.86152,-80.03007,-79.9547,-79.96881,-80.0775479,-80.0775479,-80.01784867,-80.04801,-80.05408,-80.04365,-79.7881,-79.83893,-79.84453145,-79.84452291,-79.82023,-79.9868568,-79.98866,-80.0364129,-80.025348,-80.07948,-80.08072,-79.92979819,-80.0269228,-79.93180038,-79.9456663,-79.95553997,-80.20069,-79.9884792,-79.84315,-79.97890218,-79.92695,-80.09199943,-79.99999507,-80.03223719,-80.0240505,-79.92641437,-79.7817319,-80.15734012,-80.14967552,-79.94141447,-79.99179022,-80.07092518,-79.92483601,-79.8937426,-79.78843,-79.980621,-79.93008341,-80.01381392,-79.90686171,-79.92890096,-79.98894105,-80.06709,-79.95390869,-80.02341715,-79.93573725,-79.9547445,-79.89607,-80.02556405,-80.041036,-80.0775479,-80.0402544,-79.91189109,-80.0554,-79.91392507],\"marker\":{\"color\":\"#636efa\"},\"mode\":\"markers\",\"name\":\"\",\"showlegend\":false,\"subplot\":\"mapbox\",\"type\":\"scattermapbox\"}],                        {\"template\":{\"data\":{\"histogram2dcontour\":[{\"type\":\"histogram2dcontour\",\"colorbar\":{\"outlinewidth\":0,\"ticks\":\"\"},\"colorscale\":[[0.0,\"#0d0887\"],[0.1111111111111111,\"#46039f\"],[0.2222222222222222,\"#7201a8\"],[0.3333333333333333,\"#9c179e\"],[0.4444444444444444,\"#bd3786\"],[0.5555555555555556,\"#d8576b\"],[0.6666666666666666,\"#ed7953\"],[0.7777777777777778,\"#fb9f3a\"],[0.8888888888888888,\"#fdca26\"],[1.0,\"#f0f921\"]]}],\"choropleth\":[{\"type\":\"choropleth\",\"colorbar\":{\"outlinewidth\":0,\"ticks\":\"\"}}],\"histogram2d\":[{\"type\":\"histogram2d\",\"colorbar\":{\"outlinewidth\":0,\"ticks\":\"\"},\"colorscale\":[[0.0,\"#0d0887\"],[0.1111111111111111,\"#46039f\"],[0.2222222222222222,\"#7201a8\"],[0.3333333333333333,\"#9c179e\"],[0.4444444444444444,\"#bd3786\"],[0.5555555555555556,\"#d8576b\"],[0.6666666666666666,\"#ed7953\"],[0.7777777777777778,\"#fb9f3a\"],[0.8888888888888888,\"#fdca26\"],[1.0,\"#f0f921\"]]}],\"heatmap\":[{\"type\":\"heatmap\",\"colorbar\":{\"outlinewidth\":0,\"ticks\":\"\"},\"colorscale\":[[0.0,\"#0d0887\"],[0.1111111111111111,\"#46039f\"],[0.2222222222222222,\"#7201a8\"],[0.3333333333333333,\"#9c179e\"],[0.4444444444444444,\"#bd3786\"],[0.5555555555555556,\"#d8576b\"],[0.6666666666666666,\"#ed7953\"],[0.7777777777777778,\"#fb9f3a\"],[0.8888888888888888,\"#fdca26\"],[1.0,\"#f0f921\"]]}],\"heatmapgl\":[{\"type\":\"heatmapgl\",\"colorbar\":{\"outlinewidth\":0,\"ticks\":\"\"},\"colorscale\":[[0.0,\"#0d0887\"],[0.1111111111111111,\"#46039f\"],[0.2222222222222222,\"#7201a8\"],[0.3333333333333333,\"#9c179e\"],[0.4444444444444444,\"#bd3786\"],[0.5555555555555556,\"#d8576b\"],[0.6666666666666666,\"#ed7953\"],[0.7777777777777778,\"#fb9f3a\"],[0.8888888888888888,\"#fdca26\"],[1.0,\"#f0f921\"]]}],\"contourcarpet\":[{\"type\":\"contourcarpet\",\"colorbar\":{\"outlinewidth\":0,\"ticks\":\"\"}}],\"contour\":[{\"type\":\"contour\",\"colorbar\":{\"outlinewidth\":0,\"ticks\":\"\"},\"colorscale\":[[0.0,\"#0d0887\"],[0.1111111111111111,\"#46039f\"],[0.2222222222222222,\"#7201a8\"],[0.3333333333333333,\"#9c179e\"],[0.4444444444444444,\"#bd3786\"],[0.5555555555555556,\"#d8576b\"],[0.6666666666666666,\"#ed7953\"],[0.7777777777777778,\"#fb9f3a\"],[0.8888888888888888,\"#fdca26\"],[1.0,\"#f0f921\"]]}],\"surface\":[{\"type\":\"surface\",\"colorbar\":{\"outlinewidth\":0,\"ticks\":\"\"},\"colorscale\":[[0.0,\"#0d0887\"],[0.1111111111111111,\"#46039f\"],[0.2222222222222222,\"#7201a8\"],[0.3333333333333333,\"#9c179e\"],[0.4444444444444444,\"#bd3786\"],[0.5555555555555556,\"#d8576b\"],[0.6666666666666666,\"#ed7953\"],[0.7777777777777778,\"#fb9f3a\"],[0.8888888888888888,\"#fdca26\"],[1.0,\"#f0f921\"]]}],\"mesh3d\":[{\"type\":\"mesh3d\",\"colorbar\":{\"outlinewidth\":0,\"ticks\":\"\"}}],\"scatter\":[{\"fillpattern\":{\"fillmode\":\"overlay\",\"size\":10,\"solidity\":0.2},\"type\":\"scatter\"}],\"parcoords\":[{\"type\":\"parcoords\",\"line\":{\"colorbar\":{\"outlinewidth\":0,\"ticks\":\"\"}}}],\"scatterpolargl\":[{\"type\":\"scatterpolargl\",\"marker\":{\"colorbar\":{\"outlinewidth\":0,\"ticks\":\"\"}}}],\"bar\":[{\"error_x\":{\"color\":\"#2a3f5f\"},\"error_y\":{\"color\":\"#2a3f5f\"},\"marker\":{\"line\":{\"color\":\"#E5ECF6\",\"width\":0.5},\"pattern\":{\"fillmode\":\"overlay\",\"size\":10,\"solidity\":0.2}},\"type\":\"bar\"}],\"scattergeo\":[{\"type\":\"scattergeo\",\"marker\":{\"colorbar\":{\"outlinewidth\":0,\"ticks\":\"\"}}}],\"scatterpolar\":[{\"type\":\"scatterpolar\",\"marker\":{\"colorbar\":{\"outlinewidth\":0,\"ticks\":\"\"}}}],\"histogram\":[{\"marker\":{\"pattern\":{\"fillmode\":\"overlay\",\"size\":10,\"solidity\":0.2}},\"type\":\"histogram\"}],\"scattergl\":[{\"type\":\"scattergl\",\"marker\":{\"colorbar\":{\"outlinewidth\":0,\"ticks\":\"\"}}}],\"scatter3d\":[{\"type\":\"scatter3d\",\"line\":{\"colorbar\":{\"outlinewidth\":0,\"ticks\":\"\"}},\"marker\":{\"colorbar\":{\"outlinewidth\":0,\"ticks\":\"\"}}}],\"scattermapbox\":[{\"type\":\"scattermapbox\",\"marker\":{\"colorbar\":{\"outlinewidth\":0,\"ticks\":\"\"}}}],\"scatterternary\":[{\"type\":\"scatterternary\",\"marker\":{\"colorbar\":{\"outlinewidth\":0,\"ticks\":\"\"}}}],\"scattercarpet\":[{\"type\":\"scattercarpet\",\"marker\":{\"colorbar\":{\"outlinewidth\":0,\"ticks\":\"\"}}}],\"carpet\":[{\"aaxis\":{\"endlinecolor\":\"#2a3f5f\",\"gridcolor\":\"white\",\"linecolor\":\"white\",\"minorgridcolor\":\"white\",\"startlinecolor\":\"#2a3f5f\"},\"baxis\":{\"endlinecolor\":\"#2a3f5f\",\"gridcolor\":\"white\",\"linecolor\":\"white\",\"minorgridcolor\":\"white\",\"startlinecolor\":\"#2a3f5f\"},\"type\":\"carpet\"}],\"table\":[{\"cells\":{\"fill\":{\"color\":\"#EBF0F8\"},\"line\":{\"color\":\"white\"}},\"header\":{\"fill\":{\"color\":\"#C8D4E3\"},\"line\":{\"color\":\"white\"}},\"type\":\"table\"}],\"barpolar\":[{\"marker\":{\"line\":{\"color\":\"#E5ECF6\",\"width\":0.5},\"pattern\":{\"fillmode\":\"overlay\",\"size\":10,\"solidity\":0.2}},\"type\":\"barpolar\"}],\"pie\":[{\"automargin\":true,\"type\":\"pie\"}]},\"layout\":{\"autotypenumbers\":\"strict\",\"colorway\":[\"#636efa\",\"#EF553B\",\"#00cc96\",\"#ab63fa\",\"#FFA15A\",\"#19d3f3\",\"#FF6692\",\"#B6E880\",\"#FF97FF\",\"#FECB52\"],\"font\":{\"color\":\"#2a3f5f\"},\"hovermode\":\"closest\",\"hoverlabel\":{\"align\":\"left\"},\"paper_bgcolor\":\"white\",\"plot_bgcolor\":\"#E5ECF6\",\"polar\":{\"bgcolor\":\"#E5ECF6\",\"angularaxis\":{\"gridcolor\":\"white\",\"linecolor\":\"white\",\"ticks\":\"\"},\"radialaxis\":{\"gridcolor\":\"white\",\"linecolor\":\"white\",\"ticks\":\"\"}},\"ternary\":{\"bgcolor\":\"#E5ECF6\",\"aaxis\":{\"gridcolor\":\"white\",\"linecolor\":\"white\",\"ticks\":\"\"},\"baxis\":{\"gridcolor\":\"white\",\"linecolor\":\"white\",\"ticks\":\"\"},\"caxis\":{\"gridcolor\":\"white\",\"linecolor\":\"white\",\"ticks\":\"\"}},\"coloraxis\":{\"colorbar\":{\"outlinewidth\":0,\"ticks\":\"\"}},\"colorscale\":{\"sequential\":[[0.0,\"#0d0887\"],[0.1111111111111111,\"#46039f\"],[0.2222222222222222,\"#7201a8\"],[0.3333333333333333,\"#9c179e\"],[0.4444444444444444,\"#bd3786\"],[0.5555555555555556,\"#d8576b\"],[0.6666666666666666,\"#ed7953\"],[0.7777777777777778,\"#fb9f3a\"],[0.8888888888888888,\"#fdca26\"],[1.0,\"#f0f921\"]],\"sequentialminus\":[[0.0,\"#0d0887\"],[0.1111111111111111,\"#46039f\"],[0.2222222222222222,\"#7201a8\"],[0.3333333333333333,\"#9c179e\"],[0.4444444444444444,\"#bd3786\"],[0.5555555555555556,\"#d8576b\"],[0.6666666666666666,\"#ed7953\"],[0.7777777777777778,\"#fb9f3a\"],[0.8888888888888888,\"#fdca26\"],[1.0,\"#f0f921\"]],\"diverging\":[[0,\"#8e0152\"],[0.1,\"#c51b7d\"],[0.2,\"#de77ae\"],[0.3,\"#f1b6da\"],[0.4,\"#fde0ef\"],[0.5,\"#f7f7f7\"],[0.6,\"#e6f5d0\"],[0.7,\"#b8e186\"],[0.8,\"#7fbc41\"],[0.9,\"#4d9221\"],[1,\"#276419\"]]},\"xaxis\":{\"gridcolor\":\"white\",\"linecolor\":\"white\",\"ticks\":\"\",\"title\":{\"standoff\":15},\"zerolinecolor\":\"white\",\"automargin\":true,\"zerolinewidth\":2},\"yaxis\":{\"gridcolor\":\"white\",\"linecolor\":\"white\",\"ticks\":\"\",\"title\":{\"standoff\":15},\"zerolinecolor\":\"white\",\"automargin\":true,\"zerolinewidth\":2},\"scene\":{\"xaxis\":{\"backgroundcolor\":\"#E5ECF6\",\"gridcolor\":\"white\",\"linecolor\":\"white\",\"showbackground\":true,\"ticks\":\"\",\"zerolinecolor\":\"white\",\"gridwidth\":2},\"yaxis\":{\"backgroundcolor\":\"#E5ECF6\",\"gridcolor\":\"white\",\"linecolor\":\"white\",\"showbackground\":true,\"ticks\":\"\",\"zerolinecolor\":\"white\",\"gridwidth\":2},\"zaxis\":{\"backgroundcolor\":\"#E5ECF6\",\"gridcolor\":\"white\",\"linecolor\":\"white\",\"showbackground\":true,\"ticks\":\"\",\"zerolinecolor\":\"white\",\"gridwidth\":2}},\"shapedefaults\":{\"line\":{\"color\":\"#2a3f5f\"}},\"annotationdefaults\":{\"arrowcolor\":\"#2a3f5f\",\"arrowhead\":0,\"arrowwidth\":1},\"geo\":{\"bgcolor\":\"white\",\"landcolor\":\"#E5ECF6\",\"subunitcolor\":\"white\",\"showland\":true,\"showlakes\":true,\"lakecolor\":\"white\"},\"title\":{\"x\":0.05},\"mapbox\":{\"style\":\"light\"}}},\"mapbox\":{\"domain\":{\"x\":[0.0,1.0],\"y\":[0.0,1.0]},\"center\":{\"lat\":40.43666709430434,\"lon\":-79.9721215228696},\"zoom\":8,\"style\":\"open-street-map\"},\"legend\":{\"tracegroupgap\":0},\"margin\":{\"t\":60},\"title\":{\"text\":\"Map\",\"x\":0.5}},                        {\"responsive\": true}                    ).then(function(){\n",
       "                            \n",
       "var gd = document.getElementById('6febfc02-3828-43a8-b66a-6f9809d3d314');\n",
       "var x = new MutationObserver(function (mutations, observer) {{\n",
       "        var display = window.getComputedStyle(gd).display;\n",
       "        if (!display || display === 'none') {{\n",
       "            console.log([gd, 'removed!']);\n",
       "            Plotly.purge(gd);\n",
       "            observer.disconnect();\n",
       "        }}\n",
       "}});\n",
       "\n",
       "// Listen for the removal of the full notebook cells\n",
       "var notebookContainer = gd.closest('#notebook-container');\n",
       "if (notebookContainer) {{\n",
       "    x.observe(notebookContainer, {childList: true});\n",
       "}}\n",
       "\n",
       "// Listen for the clearing of the current output cell\n",
       "var outputEl = gd.closest('.output');\n",
       "if (outputEl) {{\n",
       "    x.observe(outputEl, {childList: true});\n",
       "}}\n",
       "\n",
       "                        })                };                });            </script>        </div>"
      ]
     },
     "metadata": {},
     "output_type": "display_data"
    }
   ],
   "source": [
    "#regular map of all the houses\n",
    "fig = px.scatter_mapbox(mergedhousestomap,lat='Lat',lon='Lon', hover_name=\"OwnerInfo\")\n",
    "fig.update_layout(title = 'Map', title_x=0.5)\n",
    "fig.update_layout(mapbox_style=\"open-street-map\")\n",
    "fig.show()"
   ]
  },
  {
   "cell_type": "code",
   "execution_count": 121,
   "id": "63cddc12",
   "metadata": {},
   "outputs": [
    {
     "data": {
      "application/vnd.plotly.v1+json": {
       "config": {
        "plotlyServerURL": "https://plot.ly"
       },
       "data": [
        {
         "hovertemplate": "<b>%{hovertext}</b><br><br>OwnerInfo=380   HAMILTON AVE  UNIT 328    PALO ALTO CA   94302.0<br>Lat=%{lat}<br>Lon=%{lon}<extra></extra>",
         "hovertext": [
          "380   HAMILTON AVE  UNIT 328    PALO ALTO CA   94302.0",
          "380   HAMILTON AVE  UNIT 328    PALO ALTO CA   94302.0",
          "380   HAMILTON AVE  UNIT 328    PALO ALTO CA   94302.0",
          "380   HAMILTON AVE  UNIT 328    PALO ALTO CA   94302.0",
          "380   HAMILTON AVE  UNIT 328    PALO ALTO CA   94302.0",
          "380   HAMILTON AVE  UNIT 328    PALO ALTO CA   94302.0",
          "380   HAMILTON AVE  UNIT 328    PALO ALTO CA   94302.0"
         ],
         "lat": [
          40.43165964,
          40.4382081,
          40.4382081,
          40.43273909,
          40.4382081,
          40.4382081,
          40.43489415
         ],
         "legendgroup": "380   HAMILTON AVE  UNIT 328    PALO ALTO CA   94302.0",
         "lon": [
          -79.95390991,
          -79.9519543,
          -79.9519543,
          -79.95267898,
          -79.9519543,
          -79.9519543,
          -79.95217246
         ],
         "marker": {
          "color": "#636efa"
         },
         "mode": "markers",
         "name": "380   HAMILTON AVE  UNIT 328    PALO ALTO CA   94302.0",
         "showlegend": true,
         "subplot": "mapbox",
         "type": "scattermapbox"
        },
        {
         "hovertemplate": "<b>%{hovertext}</b><br><br>OwnerInfo=1101  S CAPITAL OF TEXAS HWY  STE B-220    AUSTIN TX   78746.0<br>Lat=%{lat}<br>Lon=%{lon}<extra></extra>",
         "hovertext": [
          "1101  S CAPITAL OF TEXAS HWY  STE B-220    AUSTIN TX   78746.0",
          "1101  S CAPITAL OF TEXAS HWY  STE B-220    AUSTIN TX   78746.0",
          "1101  S CAPITAL OF TEXAS HWY  STE B-220    AUSTIN TX   78746.0",
          "1101  S CAPITAL OF TEXAS HWY  STE B-220    AUSTIN TX   78746.0",
          "1101  S CAPITAL OF TEXAS HWY  STE B-220    AUSTIN TX   78746.0",
          "1101  S CAPITAL OF TEXAS HWY  STE B-220    AUSTIN TX   78746.0",
          "1101  S CAPITAL OF TEXAS HWY  STE B-220    AUSTIN TX   78746.0",
          "1101  S CAPITAL OF TEXAS HWY  STE B-220    AUSTIN TX   78746.0",
          "1101  S CAPITAL OF TEXAS HWY  STE B-220    AUSTIN TX   78746.0",
          "1101  S CAPITAL OF TEXAS HWY  STE B-220    AUSTIN TX   78746.0",
          "1101  S CAPITAL OF TEXAS HWY  STE B-220    AUSTIN TX   78746.0",
          "1101  S CAPITAL OF TEXAS HWY  STE B-220    AUSTIN TX   78746.0",
          "1101  S CAPITAL OF TEXAS HWY  STE B-220    AUSTIN TX   78746.0",
          "1101  S CAPITAL OF TEXAS HWY  STE B-220    AUSTIN TX   78746.0"
         ],
         "lat": [
          40.437223,
          40.455285,
          40.45579067,
          40.45512802,
          40.4536063,
          40.45365065,
          40.4601288,
          40.42483122,
          40.43538842,
          40.45511641,
          40.45159546,
          40.45543528,
          40.4371845,
          40.4023245
         ],
         "legendgroup": "1101  S CAPITAL OF TEXAS HWY  STE B-220    AUSTIN TX   78746.0",
         "lon": [
          -79.954705,
          -79.930419,
          -79.92986444,
          -79.93032764,
          -79.92243885,
          -79.92232597,
          -79.93166147,
          -80.00980374,
          -79.95553997,
          -79.93008341,
          -79.92890096,
          -79.93573725,
          -79.9547445,
          -80.0402544
         ],
         "marker": {
          "color": "#EF553B"
         },
         "mode": "markers",
         "name": "1101  S CAPITAL OF TEXAS HWY  STE B-220    AUSTIN TX   78746.0",
         "showlegend": true,
         "subplot": "mapbox",
         "type": "scattermapbox"
        },
        {
         "hovertemplate": "<b>%{hovertext}</b><br><br>OwnerInfo=414   GRANT ST  RM 200  CITY-COUNTY BUILDING  PITTSBURGH PA   15219.0<br>Lat=%{lat}<br>Lon=%{lon}<extra></extra>",
         "hovertext": [
          "414   GRANT ST  RM 200  CITY-COUNTY BUILDING  PITTSBURGH PA   15219.0",
          "414   GRANT ST  RM 200  CITY-COUNTY BUILDING  PITTSBURGH PA   15219.0",
          "414   GRANT ST  RM 200  CITY-COUNTY BUILDING  PITTSBURGH PA   15219.0",
          "414   GRANT ST  RM 200  CITY-COUNTY BUILDING  PITTSBURGH PA   15219.0",
          "414   GRANT ST  RM 200  CITY-COUNTY BUILDING  PITTSBURGH PA   15219.0",
          "414   GRANT ST  RM 200  CITY-COUNTY BUILDING  PITTSBURGH PA   15219.0",
          "414   GRANT ST  RM 200  CITY-COUNTY BUILDING  PITTSBURGH PA   15219.0",
          "414   GRANT ST  RM 200  CITY-COUNTY BUILDING  PITTSBURGH PA   15219.0"
         ],
         "lat": [
          40.4519967,
          40.41027172,
          40.45661657,
          40.45522945,
          40.44494159,
          40.46858895,
          40.41216655,
          40.444461
         ],
         "legendgroup": "414   GRANT ST  RM 200  CITY-COUNTY BUILDING  PITTSBURGH PA   15219.0",
         "lon": [
          -79.9606193,
          -80.00649171,
          -80.05361206,
          -80.06128272,
          -80.03407677,
          -80.00751385,
          -80.0240505,
          -80.041036
         ],
         "marker": {
          "color": "#00cc96"
         },
         "mode": "markers",
         "name": "414   GRANT ST  RM 200  CITY-COUNTY BUILDING  PITTSBURGH PA   15219.0",
         "showlegend": true,
         "subplot": "mapbox",
         "type": "scattermapbox"
        },
        {
         "hovertemplate": "<b>%{hovertext}</b><br><br>OwnerInfo=8   CHURCHILL RD       PITTSBURGH PA   15235.0<br>Lat=%{lat}<br>Lon=%{lon}<extra></extra>",
         "hovertext": [
          "8   CHURCHILL RD       PITTSBURGH PA   15235.0",
          "8   CHURCHILL RD       PITTSBURGH PA   15235.0",
          "8   CHURCHILL RD       PITTSBURGH PA   15235.0",
          "8   CHURCHILL RD       PITTSBURGH PA   15235.0",
          "8   CHURCHILL RD       PITTSBURGH PA   15235.0",
          "8   CHURCHILL RD       PITTSBURGH PA   15235.0",
          "8   CHURCHILL RD       PITTSBURGH PA   15235.0",
          "8   CHURCHILL RD       PITTSBURGH PA   15235.0"
         ],
         "lat": [
          40.4532635,
          40.45328738,
          40.45657293,
          40.46209481,
          40.45820005,
          40.45543549,
          40.45551097,
          40.4541224
         ],
         "legendgroup": "8   CHURCHILL RD       PITTSBURGH PA   15235.0",
         "lon": [
          -79.9352324,
          -79.93539388,
          -79.92534685,
          -79.93047973,
          -79.94440745,
          -79.90997859,
          -79.91017787,
          -79.9090515
         ],
         "marker": {
          "color": "#ab63fa"
         },
         "mode": "markers",
         "name": "8   CHURCHILL RD       PITTSBURGH PA   15235.0",
         "showlegend": true,
         "subplot": "mapbox",
         "type": "scattermapbox"
        },
        {
         "hovertemplate": "<b>%{hovertext}</b><br><br>OwnerInfo=   PO BOX 40206        PITTSBURGH PA   15201.0<br>Lat=%{lat}<br>Lon=%{lon}<extra></extra>",
         "hovertext": [
          "   PO BOX 40206        PITTSBURGH PA   15201.0",
          "   PO BOX 40206        PITTSBURGH PA   15201.0",
          "   PO BOX 40206        PITTSBURGH PA   15201.0",
          "   PO BOX 40206        PITTSBURGH PA   15201.0",
          "   PO BOX 40206        PITTSBURGH PA   15201.0",
          "   PO BOX 40206        PITTSBURGH PA   15201.0",
          "   PO BOX 40206        PITTSBURGH PA   15201.0",
          "   PO BOX 40206        PITTSBURGH PA   15201.0",
          "   PO BOX 40206        PITTSBURGH PA   15201.0",
          "   PO BOX 40206        PITTSBURGH PA   15201.0",
          "   PO BOX 40206        PITTSBURGH PA   15201.0",
          "   PO BOX 40206        PITTSBURGH PA   15201.0",
          "   PO BOX 40206        PITTSBURGH PA   15201.0",
          "   PO BOX 40206        PITTSBURGH PA   15201.0",
          "   PO BOX 40206        PITTSBURGH PA   15201.0",
          "   PO BOX 40206        PITTSBURGH PA   15201.0",
          "   PO BOX 40206        PITTSBURGH PA   15201.0",
          "   PO BOX 40206        PITTSBURGH PA   15201.0",
          "   PO BOX 40206        PITTSBURGH PA   15201.0"
         ],
         "lat": [
          40.4549989,
          40.46150201,
          40.4597929,
          40.46153545,
          40.47855813,
          40.4753879,
          40.469098,
          40.425102,
          40.425137,
          40.4263044,
          40.45370985,
          40.44040154,
          40.44035124,
          40.4401673,
          40.4326238,
          40.42499954,
          40.42947494,
          40.4599042,
          40.42336747
         ],
         "legendgroup": "   PO BOX 40206        PITTSBURGH PA   15201.0",
         "lon": [
          -79.93412338,
          -79.93624139,
          -79.931994,
          -79.93056228,
          -79.94133934,
          -79.91934004,
          -79.921413,
          -79.917008,
          -79.917219,
          -79.92410177,
          -79.90415015,
          -79.89764202,
          -79.89765872,
          -79.89471106,
          -79.9140212,
          -79.9309253,
          -79.97571514,
          -79.93180038,
          -79.94141447
         ],
         "marker": {
          "color": "#FFA15A"
         },
         "mode": "markers",
         "name": "   PO BOX 40206        PITTSBURGH PA   15201.0",
         "showlegend": true,
         "subplot": "mapbox",
         "type": "scattermapbox"
        },
        {
         "hovertemplate": "<b>%{hovertext}</b><br><br>OwnerInfo=1501   ARDMORE BLVD  STE 400    PITTSBURGH PA   15221.0<br>Lat=%{lat}<br>Lon=%{lon}<extra></extra>",
         "hovertext": [
          "1501   ARDMORE BLVD  STE 400    PITTSBURGH PA   15221.0",
          "1501   ARDMORE BLVD  STE 400    PITTSBURGH PA   15221.0",
          "1501   ARDMORE BLVD  STE 400    PITTSBURGH PA   15221.0",
          "1501   ARDMORE BLVD  STE 400    PITTSBURGH PA   15221.0",
          "1501   ARDMORE BLVD  STE 400    PITTSBURGH PA   15221.0",
          "1501   ARDMORE BLVD  STE 400    PITTSBURGH PA   15221.0"
         ],
         "lat": [
          40.4565946,
          40.45053895,
          40.46163755,
          40.45462038,
          40.47335465,
          40.45279571
         ],
         "legendgroup": "1501   ARDMORE BLVD  STE 400    PITTSBURGH PA   15221.0",
         "lon": [
          -79.92098201,
          -79.93282981,
          -79.93756313,
          -79.92979819,
          -79.92641437,
          -79.91392507
         ],
         "marker": {
          "color": "#19d3f3"
         },
         "mode": "markers",
         "name": "1501   ARDMORE BLVD  STE 400    PITTSBURGH PA   15221.0",
         "showlegend": true,
         "subplot": "mapbox",
         "type": "scattermapbox"
        },
        {
         "hovertemplate": "<b>%{hovertext}</b><br><br>OwnerInfo=2116   MERRIMAN WAY       PITTSBURGH PA   15203.0<br>Lat=%{lat}<br>Lon=%{lon}<extra></extra>",
         "hovertext": [
          "2116   MERRIMAN WAY       PITTSBURGH PA   15203.0",
          "2116   MERRIMAN WAY       PITTSBURGH PA   15203.0",
          "2116   MERRIMAN WAY       PITTSBURGH PA   15203.0",
          "2116   MERRIMAN WAY       PITTSBURGH PA   15203.0",
          "2116   MERRIMAN WAY       PITTSBURGH PA   15203.0",
          "2116   MERRIMAN WAY       PITTSBURGH PA   15203.0",
          "2116   MERRIMAN WAY       PITTSBURGH PA   15203.0",
          "2116   MERRIMAN WAY       PITTSBURGH PA   15203.0",
          "2116   MERRIMAN WAY       PITTSBURGH PA   15203.0",
          "2116   MERRIMAN WAY       PITTSBURGH PA   15203.0",
          "2116   MERRIMAN WAY       PITTSBURGH PA   15203.0",
          "2116   MERRIMAN WAY       PITTSBURGH PA   15203.0",
          "2116   MERRIMAN WAY       PITTSBURGH PA   15203.0",
          "2116   MERRIMAN WAY       PITTSBURGH PA   15203.0",
          "2116   MERRIMAN WAY       PITTSBURGH PA   15203.0"
         ],
         "lat": [
          40.45983437,
          40.45900704,
          40.464633,
          40.4790145,
          40.48047511,
          40.46389398,
          40.46369506,
          40.472868,
          40.4707805,
          40.44463132,
          40.415118,
          40.40333766,
          40.44627,
          40.4845912,
          40.47244721
         ],
         "legendgroup": "2116   MERRIMAN WAY       PITTSBURGH PA   15203.0",
         "lon": [
          -79.95051801,
          -79.95191241,
          -79.94843625,
          -79.95423241,
          -79.95363489,
          -79.95509448,
          -79.95115652,
          -79.92758265,
          -79.9179566,
          -79.8939922,
          -79.993182,
          -79.7770662,
          -79.86958,
          -79.9456663,
          -79.92483601
         ],
         "marker": {
          "color": "#FF6692"
         },
         "mode": "markers",
         "name": "2116   MERRIMAN WAY       PITTSBURGH PA   15203.0",
         "showlegend": true,
         "subplot": "mapbox",
         "type": "scattermapbox"
        },
        {
         "hovertemplate": "<b>%{hovertext}</b><br><br>OwnerInfo=1812  E CARSON ST       PITTSBURGH PA   15203.0<br>Lat=%{lat}<br>Lon=%{lon}<extra></extra>",
         "hovertext": [
          "1812  E CARSON ST       PITTSBURGH PA   15203.0",
          "1812  E CARSON ST       PITTSBURGH PA   15203.0",
          "1812  E CARSON ST       PITTSBURGH PA   15203.0",
          "1812  E CARSON ST       PITTSBURGH PA   15203.0",
          "1812  E CARSON ST       PITTSBURGH PA   15203.0",
          "1812  E CARSON ST       PITTSBURGH PA   15203.0",
          "1812  E CARSON ST       PITTSBURGH PA   15203.0",
          "1812  E CARSON ST       PITTSBURGH PA   15203.0",
          "1812  E CARSON ST       PITTSBURGH PA   15203.0",
          "1812  E CARSON ST       PITTSBURGH PA   15203.0",
          "1812  E CARSON ST       PITTSBURGH PA   15203.0",
          "1812  E CARSON ST       PITTSBURGH PA   15203.0",
          "1812  E CARSON ST       PITTSBURGH PA   15203.0",
          "1812  E CARSON ST       PITTSBURGH PA   15203.0",
          "1812  E CARSON ST       PITTSBURGH PA   15203.0",
          "1812  E CARSON ST       PITTSBURGH PA   15203.0",
          "1812  E CARSON ST       PITTSBURGH PA   15203.0",
          "1812  E CARSON ST       PITTSBURGH PA   15203.0",
          "1812  E CARSON ST       PITTSBURGH PA   15203.0",
          "1812  E CARSON ST       PITTSBURGH PA   15203.0",
          "1812  E CARSON ST       PITTSBURGH PA   15203.0",
          "1812  E CARSON ST       PITTSBURGH PA   15203.0",
          "1812  E CARSON ST       PITTSBURGH PA   15203.0",
          "1812  E CARSON ST       PITTSBURGH PA   15203.0",
          "1812  E CARSON ST       PITTSBURGH PA   15203.0",
          "1812  E CARSON ST       PITTSBURGH PA   15203.0",
          "1812  E CARSON ST       PITTSBURGH PA   15203.0",
          "1812  E CARSON ST       PITTSBURGH PA   15203.0",
          "1812  E CARSON ST       PITTSBURGH PA   15203.0",
          "1812  E CARSON ST       PITTSBURGH PA   15203.0",
          "1812  E CARSON ST       PITTSBURGH PA   15203.0",
          "1812  E CARSON ST       PITTSBURGH PA   15203.0",
          "1812  E CARSON ST       PITTSBURGH PA   15203.0",
          "1812  E CARSON ST       PITTSBURGH PA   15203.0",
          "1812  E CARSON ST       PITTSBURGH PA   15203.0",
          "1812  E CARSON ST       PITTSBURGH PA   15203.0",
          "1812  E CARSON ST       PITTSBURGH PA   15203.0",
          "1812  E CARSON ST       PITTSBURGH PA   15203.0",
          "1812  E CARSON ST       PITTSBURGH PA   15203.0",
          "1812  E CARSON ST       PITTSBURGH PA   15203.0",
          "1812  E CARSON ST       PITTSBURGH PA   15203.0",
          "1812  E CARSON ST       PITTSBURGH PA   15203.0",
          "1812  E CARSON ST       PITTSBURGH PA   15203.0",
          "1812  E CARSON ST       PITTSBURGH PA   15203.0",
          "1812  E CARSON ST       PITTSBURGH PA   15203.0",
          "1812  E CARSON ST       PITTSBURGH PA   15203.0"
         ],
         "lat": [
          40.4733157,
          40.41959351,
          40.427037,
          40.42684909,
          40.42337569,
          40.41183084,
          40.4014811,
          40.3998468,
          40.44968329,
          40.443244,
          40.467531,
          40.47405902,
          40.38716708,
          40.38144725,
          40.39645382,
          40.3966958,
          40.36701076,
          40.4971,
          40.4830323,
          40.50329,
          40.51899095,
          40.5181513,
          40.38527,
          40.4412977,
          40.417509,
          40.3995963,
          40.4878,
          40.41937,
          40.4730605,
          40.4731502,
          40.51959,
          40.34682,
          40.47091,
          40.46516,
          40.41647635,
          40.48999,
          40.50431,
          40.4016611,
          40.5150487,
          40.5063075,
          40.40612948,
          40.47102,
          40.42707,
          40.40938648,
          40.43166506,
          40.40914
         ],
         "legendgroup": "1812  E CARSON ST       PITTSBURGH PA   15203.0",
         "lon": [
          -79.92630879,
          -79.9719959,
          -79.987581,
          -79.97749745,
          -80.00189061,
          -80.02002092,
          -80.0321141,
          -80.0287557,
          -80.04131308,
          -80.04373,
          -80.00838235,
          -80.03860224,
          -79.97731342,
          -79.98066871,
          -79.99023622,
          -79.98444855,
          -79.91732494,
          -80.06442,
          -80.0411547,
          -80.06888,
          -80.1592385,
          -80.16431148,
          -79.976352,
          -80.0364129,
          -79.98480354,
          -79.9021025,
          -79.97295,
          -79.84509,
          -80.05362935,
          -80.05370201,
          -80.03007,
          -79.9547,
          -79.7881,
          -79.82023,
          -80.025348,
          -80.08072,
          -80.20069,
          -80.03223719,
          -80.15734012,
          -80.14967552,
          -79.99179022,
          -79.78843,
          -79.980621,
          -79.98894105,
          -79.95390869,
          -79.89607
         ],
         "marker": {
          "color": "#B6E880"
         },
         "mode": "markers",
         "name": "1812  E CARSON ST       PITTSBURGH PA   15203.0",
         "showlegend": true,
         "subplot": "mapbox",
         "type": "scattermapbox"
        },
        {
         "hovertemplate": "<b>%{hovertext}</b><br><br>OwnerInfo=6015   SPIRIT ST  STE 202    PITTSBURGH PA   15206.0<br>Lat=%{lat}<br>Lon=%{lon}<extra></extra>",
         "hovertext": [
          "6015   SPIRIT ST  STE 202    PITTSBURGH PA   15206.0",
          "6015   SPIRIT ST  STE 202    PITTSBURGH PA   15206.0",
          "6015   SPIRIT ST  STE 202    PITTSBURGH PA   15206.0",
          "6015   SPIRIT ST  STE 202    PITTSBURGH PA   15206.0",
          "6015   SPIRIT ST  STE 202    PITTSBURGH PA   15206.0",
          "6015   SPIRIT ST  STE 202    PITTSBURGH PA   15206.0",
          "6015   SPIRIT ST  STE 202    PITTSBURGH PA   15206.0",
          "6015   SPIRIT ST  STE 202    PITTSBURGH PA   15206.0",
          "6015   SPIRIT ST  STE 202    PITTSBURGH PA   15206.0",
          "6015   SPIRIT ST  STE 202    PITTSBURGH PA   15206.0",
          "6015   SPIRIT ST  STE 202    PITTSBURGH PA   15206.0"
         ],
         "lat": [
          40.42331986,
          40.407719,
          40.4118511,
          40.45499,
          40.49017,
          40.49001,
          40.40861,
          40.43745,
          40.41698,
          40.4184911,
          40.43759
         ],
         "legendgroup": "6015   SPIRIT ST  STE 202    PITTSBURGH PA   15206.0",
         "lon": [
          -79.94853012,
          -79.947369,
          -80.02635057,
          -80.04993,
          -80.05362,
          -80.05354,
          -79.83916,
          -80.06683,
          -79.98471,
          -80.01381392,
          -80.06709
         ],
         "marker": {
          "color": "#FF97FF"
         },
         "mode": "markers",
         "name": "6015   SPIRIT ST  STE 202    PITTSBURGH PA   15206.0",
         "showlegend": true,
         "subplot": "mapbox",
         "type": "scattermapbox"
        },
        {
         "hovertemplate": "<b>%{hovertext}</b><br><br>OwnerInfo=202   MAIN ENTRANCE DR       PITTSBURGH PA   15228.0<br>Lat=%{lat}<br>Lon=%{lon}<extra></extra>",
         "hovertext": [
          "202   MAIN ENTRANCE DR       PITTSBURGH PA   15228.0",
          "202   MAIN ENTRANCE DR       PITTSBURGH PA   15228.0",
          "202   MAIN ENTRANCE DR       PITTSBURGH PA   15228.0",
          "202   MAIN ENTRANCE DR       PITTSBURGH PA   15228.0",
          "202   MAIN ENTRANCE DR       PITTSBURGH PA   15228.0",
          "202   MAIN ENTRANCE DR       PITTSBURGH PA   15228.0",
          "202   MAIN ENTRANCE DR       PITTSBURGH PA   15228.0",
          "202   MAIN ENTRANCE DR       PITTSBURGH PA   15228.0",
          "202   MAIN ENTRANCE DR       PITTSBURGH PA   15228.0",
          "202   MAIN ENTRANCE DR       PITTSBURGH PA   15228.0",
          "202   MAIN ENTRANCE DR       PITTSBURGH PA   15228.0",
          "202   MAIN ENTRANCE DR       PITTSBURGH PA   15228.0"
         ],
         "lat": [
          40.42461,
          40.41064297,
          40.45980366,
          40.4508645,
          40.39738,
          40.40561,
          40.40680396,
          40.40559195,
          40.4752,
          40.4412977,
          40.42676142,
          40.408705
         ],
         "legendgroup": "202   MAIN ENTRANCE DR       PITTSBURGH PA   15228.0",
         "lon": [
          -79.984687,
          -80.0249041,
          -79.9928428,
          -80.0008851,
          -80.03294,
          -79.90276,
          -79.94446315,
          -79.90458795,
          -79.9868568,
          -80.0364129,
          -79.97890218,
          -79.90686171
         ],
         "marker": {
          "color": "#FECB52"
         },
         "mode": "markers",
         "name": "202   MAIN ENTRANCE DR       PITTSBURGH PA   15228.0",
         "showlegend": true,
         "subplot": "mapbox",
         "type": "scattermapbox"
        },
        {
         "hovertemplate": "<b>%{hovertext}</b><br><br>OwnerInfo=829   INDUSTRY ST       PITTSBURGH PA   15210.0<br>Lat=%{lat}<br>Lon=%{lon}<extra></extra>",
         "hovertext": [
          "829   INDUSTRY ST       PITTSBURGH PA   15210.0",
          "829   INDUSTRY ST       PITTSBURGH PA   15210.0",
          "829   INDUSTRY ST       PITTSBURGH PA   15210.0",
          "829   INDUSTRY ST       PITTSBURGH PA   15210.0",
          "829   INDUSTRY ST       PITTSBURGH PA   15210.0",
          "829   INDUSTRY ST       PITTSBURGH PA   15210.0",
          "829   INDUSTRY ST       PITTSBURGH PA   15210.0",
          "829   INDUSTRY ST       PITTSBURGH PA   15210.0",
          "829   INDUSTRY ST       PITTSBURGH PA   15210.0",
          "829   INDUSTRY ST       PITTSBURGH PA   15210.0"
         ],
         "lat": [
          40.42393041,
          40.42071228,
          40.42151804,
          40.42209933,
          40.42060329,
          40.42081025,
          40.42268131,
          40.4022654,
          40.40145266,
          40.4022654
         ],
         "legendgroup": "829   INDUSTRY ST       PITTSBURGH PA   15210.0",
         "lon": [
          -79.98993502,
          -79.99509082,
          -79.99728979,
          -79.99592989,
          -79.98491343,
          -79.98881826,
          -80.00090548,
          -79.9884792,
          -79.91180252,
          -79.9884792
         ],
         "marker": {
          "color": "#636efa"
         },
         "mode": "markers",
         "name": "829   INDUSTRY ST       PITTSBURGH PA   15210.0",
         "showlegend": true,
         "subplot": "mapbox",
         "type": "scattermapbox"
        },
        {
         "hovertemplate": "<b>%{hovertext}</b><br><br>OwnerInfo=6247   IVAR AVE       TEMPLE CITY CA   91780.0<br>Lat=%{lat}<br>Lon=%{lon}<extra></extra>",
         "hovertext": [
          "6247   IVAR AVE       TEMPLE CITY CA   91780.0",
          "6247   IVAR AVE       TEMPLE CITY CA   91780.0",
          "6247   IVAR AVE       TEMPLE CITY CA   91780.0",
          "6247   IVAR AVE       TEMPLE CITY CA   91780.0",
          "6247   IVAR AVE       TEMPLE CITY CA   91780.0",
          "6247   IVAR AVE       TEMPLE CITY CA   91780.0",
          "6247   IVAR AVE       TEMPLE CITY CA   91780.0"
         ],
         "lat": [
          40.42441524,
          40.43958562,
          40.38246,
          40.43615,
          40.4398425,
          40.41351835,
          40.41325005
         ],
         "legendgroup": "6247   IVAR AVE       TEMPLE CITY CA   91780.0",
         "lon": [
          -79.97961206,
          -80.05495038,
          -79.97498,
          -80.07413,
          -80.0221303,
          -80.0269228,
          -80.02556405
         ],
         "marker": {
          "color": "#EF553B"
         },
         "mode": "markers",
         "name": "6247   IVAR AVE       TEMPLE CITY CA   91780.0",
         "showlegend": true,
         "subplot": "mapbox",
         "type": "scattermapbox"
        },
        {
         "hovertemplate": "<b>%{hovertext}</b><br><br>OwnerInfo=10315   LINDBERG AVE       PITTSBURGH PA   15235.0<br>Lat=%{lat}<br>Lon=%{lon}<extra></extra>",
         "hovertext": [
          "10315   LINDBERG AVE       PITTSBURGH PA   15235.0",
          "10315   LINDBERG AVE       PITTSBURGH PA   15235.0",
          "10315   LINDBERG AVE       PITTSBURGH PA   15235.0",
          "10315   LINDBERG AVE       PITTSBURGH PA   15235.0",
          "10315   LINDBERG AVE       PITTSBURGH PA   15235.0",
          "10315   LINDBERG AVE       PITTSBURGH PA   15235.0",
          "10315   LINDBERG AVE       PITTSBURGH PA   15235.0",
          "10315   LINDBERG AVE       PITTSBURGH PA   15235.0",
          "10315   LINDBERG AVE       PITTSBURGH PA   15235.0"
         ],
         "lat": [
          40.4254513,
          40.41018423,
          40.4102345,
          40.39440761,
          40.32737,
          40.41261,
          40.425457,
          40.40271289,
          40.39259797
         ],
         "legendgroup": "10315   LINDBERG AVE       PITTSBURGH PA   15235.0",
         "lon": [
          -80.00374137,
          -80.01903095,
          -80.0271985,
          -80.02076824,
          -79.98866,
          -79.84315,
          -79.92695,
          -79.7817319,
          -80.02341715
         ],
         "marker": {
          "color": "#00cc96"
         },
         "mode": "markers",
         "name": "10315   LINDBERG AVE       PITTSBURGH PA   15235.0",
         "showlegend": true,
         "subplot": "mapbox",
         "type": "scattermapbox"
        },
        {
         "hovertemplate": "<b>%{hovertext}</b><br><br>OwnerInfo=   PO BOX 184        INGOMAR PA   15127.0<br>Lat=%{lat}<br>Lon=%{lon}<extra></extra>",
         "hovertext": [
          "   PO BOX 184        INGOMAR PA   15127.0",
          "   PO BOX 184        INGOMAR PA   15127.0",
          "   PO BOX 184        INGOMAR PA   15127.0",
          "   PO BOX 184        INGOMAR PA   15127.0",
          "   PO BOX 184        INGOMAR PA   15127.0",
          "   PO BOX 184        INGOMAR PA   15127.0",
          "   PO BOX 184        INGOMAR PA   15127.0"
         ],
         "lat": [
          40.4242305,
          40.54204163,
          40.59958,
          40.58223,
          40.58561,
          40.57896,
          40.56881
         ],
         "legendgroup": "   PO BOX 184        INGOMAR PA   15127.0",
         "lon": [
          -80.00931293,
          -79.78611745,
          -79.96881,
          -80.04801,
          -80.05408,
          -80.04365,
          -80.0554
         ],
         "marker": {
          "color": "#ab63fa"
         },
         "mode": "markers",
         "name": "   PO BOX 184        INGOMAR PA   15127.0",
         "showlegend": true,
         "subplot": "mapbox",
         "type": "scattermapbox"
        },
        {
         "hovertemplate": "<b>%{hovertext}</b><br><br>OwnerInfo=552   WASHINGTON AVE       CARNEGIE PA   15106.0<br>Lat=%{lat}<br>Lon=%{lon}<extra></extra>",
         "hovertext": [
          "552   WASHINGTON AVE       CARNEGIE PA   15106.0",
          "552   WASHINGTON AVE       CARNEGIE PA   15106.0",
          "552   WASHINGTON AVE       CARNEGIE PA   15106.0",
          "552   WASHINGTON AVE       CARNEGIE PA   15106.0",
          "552   WASHINGTON AVE       CARNEGIE PA   15106.0",
          "552   WASHINGTON AVE       CARNEGIE PA   15106.0",
          "552   WASHINGTON AVE       CARNEGIE PA   15106.0",
          "552   WASHINGTON AVE       CARNEGIE PA   15106.0",
          "552   WASHINGTON AVE       CARNEGIE PA   15106.0",
          "552   WASHINGTON AVE       CARNEGIE PA   15106.0",
          "552   WASHINGTON AVE       CARNEGIE PA   15106.0",
          "552   WASHINGTON AVE       CARNEGIE PA   15106.0",
          "552   WASHINGTON AVE       CARNEGIE PA   15106.0",
          "552   WASHINGTON AVE       CARNEGIE PA   15106.0"
         ],
         "lat": [
          40.39591089,
          40.45212579,
          40.44536375,
          40.3963013,
          40.37995,
          40.4056093,
          40.4127351,
          40.46401765,
          40.4703704,
          40.4703704,
          40.47454,
          40.40888131,
          40.42917337,
          40.4703704
         ],
         "legendgroup": "552   WASHINGTON AVE       CARNEGIE PA   15106.0",
         "lon": [
          -80.02801681,
          -80.05880712,
          -80.038387,
          -79.98630239,
          -79.9739,
          -80.09225953,
          -80.0892293,
          -80.07116327,
          -80.0775479,
          -80.0775479,
          -80.07948,
          -80.09199943,
          -80.07092518,
          -80.0775479
         ],
         "marker": {
          "color": "#FFA15A"
         },
         "mode": "markers",
         "name": "552   WASHINGTON AVE       CARNEGIE PA   15106.0",
         "showlegend": true,
         "subplot": "mapbox",
         "type": "scattermapbox"
        },
        {
         "hovertemplate": "<b>%{hovertext}</b><br><br>OwnerInfo=   PO BOX 11        IMPERIAL PA   15126.0<br>Lat=%{lat}<br>Lon=%{lon}<extra></extra>",
         "hovertext": [
          "   PO BOX 11        IMPERIAL PA   15126.0",
          "   PO BOX 11        IMPERIAL PA   15126.0",
          "   PO BOX 11        IMPERIAL PA   15126.0",
          "   PO BOX 11        IMPERIAL PA   15126.0",
          "   PO BOX 11        IMPERIAL PA   15126.0",
          "   PO BOX 11        IMPERIAL PA   15126.0",
          "   PO BOX 11        IMPERIAL PA   15126.0",
          "   PO BOX 11        IMPERIAL PA   15126.0"
         ],
         "lat": [
          40.46679581,
          40.42646454,
          40.4359,
          40.47518135,
          40.4635458,
          40.44452482,
          40.42183206,
          40.40490987
         ],
         "legendgroup": "   PO BOX 11        IMPERIAL PA   15126.0",
         "lon": [
          -79.9805861,
          -80.06224039,
          -80.06913,
          -80.05586957,
          -79.9523247,
          -79.87901833,
          -79.99999507,
          -79.91189109
         ],
         "marker": {
          "color": "#19d3f3"
         },
         "mode": "markers",
         "name": "   PO BOX 11        IMPERIAL PA   15126.0",
         "showlegend": true,
         "subplot": "mapbox",
         "type": "scattermapbox"
        },
        {
         "hovertemplate": "<b>%{hovertext}</b><br><br>OwnerInfo=1300   BRIGHTON RD       PITTSBURGH PA   15233.0<br>Lat=%{lat}<br>Lon=%{lon}<extra></extra>",
         "hovertext": [
          "1300   BRIGHTON RD       PITTSBURGH PA   15233.0",
          "1300   BRIGHTON RD       PITTSBURGH PA   15233.0",
          "1300   BRIGHTON RD       PITTSBURGH PA   15233.0",
          "1300   BRIGHTON RD       PITTSBURGH PA   15233.0",
          "1300   BRIGHTON RD       PITTSBURGH PA   15233.0",
          "1300   BRIGHTON RD       PITTSBURGH PA   15233.0",
          "1300   BRIGHTON RD       PITTSBURGH PA   15233.0",
          "1300   BRIGHTON RD       PITTSBURGH PA   15233.0"
         ],
         "lat": [
          40.46184727,
          40.46650661,
          40.4643629,
          40.45811617,
          40.4600486,
          40.46732849,
          40.4561442,
          40.46730956
         ],
         "legendgroup": "1300   BRIGHTON RD       PITTSBURGH PA   15233.0",
         "lon": [
          -80.01867655,
          -80.01595034,
          -80.0196711,
          -80.01232305,
          -80.0178885,
          -80.01779411,
          -80.00884433,
          -80.01784867
         ],
         "marker": {
          "color": "#FF6692"
         },
         "mode": "markers",
         "name": "1300   BRIGHTON RD       PITTSBURGH PA   15233.0",
         "showlegend": true,
         "subplot": "mapbox",
         "type": "scattermapbox"
        },
        {
         "hovertemplate": "<b>%{hovertext}</b><br><br>OwnerInfo=1179   DESIDERIO BLVD       CLAIRTON PA   15025.0<br>Lat=%{lat}<br>Lon=%{lon}<extra></extra>",
         "hovertext": [
          "1179   DESIDERIO BLVD       CLAIRTON PA   15025.0",
          "1179   DESIDERIO BLVD       CLAIRTON PA   15025.0",
          "1179   DESIDERIO BLVD       CLAIRTON PA   15025.0",
          "1179   DESIDERIO BLVD       CLAIRTON PA   15025.0",
          "1179   DESIDERIO BLVD       CLAIRTON PA   15025.0",
          "1179   DESIDERIO BLVD       CLAIRTON PA   15025.0",
          "1179   DESIDERIO BLVD       CLAIRTON PA   15025.0",
          "1179   DESIDERIO BLVD       CLAIRTON PA   15025.0"
         ],
         "lat": [
          40.2876072,
          40.2874865,
          40.2877295,
          40.28796976,
          40.2874562,
          40.2874476,
          40.2871096,
          40.2877764
         ],
         "legendgroup": "1179   DESIDERIO BLVD       CLAIRTON PA   15025.0",
         "lon": [
          -79.8936405,
          -79.8945223,
          -79.8934138,
          -79.89492379,
          -79.8969918,
          -79.8941786,
          -79.8969889,
          -79.8937426
         ],
         "marker": {
          "color": "#B6E880"
         },
         "mode": "markers",
         "name": "1179   DESIDERIO BLVD       CLAIRTON PA   15025.0",
         "showlegend": true,
         "subplot": "mapbox",
         "type": "scattermapbox"
        },
        {
         "hovertemplate": "<b>%{hovertext}</b><br><br>OwnerInfo=1812  E CARSON ST       PITTSBURGH PA   15203<br>Lat=%{lat}<br>Lon=%{lon}<extra></extra>",
         "hovertext": [
          "1812  E CARSON ST       PITTSBURGH PA   15203",
          "1812  E CARSON ST       PITTSBURGH PA   15203",
          "1812  E CARSON ST       PITTSBURGH PA   15203",
          "1812  E CARSON ST       PITTSBURGH PA   15203",
          "1812  E CARSON ST       PITTSBURGH PA   15203",
          "1812  E CARSON ST       PITTSBURGH PA   15203"
         ],
         "lat": [
          40.40518,
          40.40628075,
          40.402015,
          40.40614069,
          40.41934,
          40.41922
         ],
         "legendgroup": "1812  E CARSON ST       PITTSBURGH PA   15203",
         "lon": [
          -80.08237,
          -80.07962425,
          -80.094723,
          -79.82201443,
          -79.88395,
          -79.88189
         ],
         "marker": {
          "color": "#FF97FF"
         },
         "mode": "markers",
         "name": "1812  E CARSON ST       PITTSBURGH PA   15203",
         "showlegend": true,
         "subplot": "mapbox",
         "type": "scattermapbox"
        },
        {
         "hovertemplate": "<b>%{hovertext}</b><br><br>OwnerInfo=   PO BOX 892        TWIN PEAKS CA   92391.0<br>Lat=%{lat}<br>Lon=%{lon}<extra></extra>",
         "hovertext": [
          "   PO BOX 892        TWIN PEAKS CA   92391.0",
          "   PO BOX 892        TWIN PEAKS CA   92391.0",
          "   PO BOX 892        TWIN PEAKS CA   92391.0",
          "   PO BOX 892        TWIN PEAKS CA   92391.0",
          "   PO BOX 892        TWIN PEAKS CA   92391.0",
          "   PO BOX 892        TWIN PEAKS CA   92391.0",
          "   PO BOX 892        TWIN PEAKS CA   92391.0"
         ],
         "lat": [
          40.40328329,
          40.40328823,
          40.40216132,
          40.44698,
          40.46327,
          40.39679945,
          40.39679891
         ],
         "legendgroup": "   PO BOX 892        TWIN PEAKS CA   92391.0",
         "lon": [
          -79.77737627,
          -79.77734808,
          -79.77959373,
          -79.86152,
          -79.83893,
          -79.84453145,
          -79.84452291
         ],
         "marker": {
          "color": "#FECB52"
         },
         "mode": "markers",
         "name": "   PO BOX 892        TWIN PEAKS CA   92391.0",
         "showlegend": true,
         "subplot": "mapbox",
         "type": "scattermapbox"
        }
       ],
       "layout": {
        "legend": {
         "title": {
          "text": "OwnerInfo"
         },
         "tracegroupgap": 0
        },
        "mapbox": {
         "center": {
          "lat": 40.43666709430434,
          "lon": -79.9721215228696
         },
         "domain": {
          "x": [
           0,
           1
          ],
          "y": [
           0,
           1
          ]
         },
         "style": "open-street-map",
         "zoom": 8
        },
        "margin": {
         "t": 60
        },
        "showlegend": false,
        "template": {
         "data": {
          "bar": [
           {
            "error_x": {
             "color": "#2a3f5f"
            },
            "error_y": {
             "color": "#2a3f5f"
            },
            "marker": {
             "line": {
              "color": "#E5ECF6",
              "width": 0.5
             },
             "pattern": {
              "fillmode": "overlay",
              "size": 10,
              "solidity": 0.2
             }
            },
            "type": "bar"
           }
          ],
          "barpolar": [
           {
            "marker": {
             "line": {
              "color": "#E5ECF6",
              "width": 0.5
             },
             "pattern": {
              "fillmode": "overlay",
              "size": 10,
              "solidity": 0.2
             }
            },
            "type": "barpolar"
           }
          ],
          "carpet": [
           {
            "aaxis": {
             "endlinecolor": "#2a3f5f",
             "gridcolor": "white",
             "linecolor": "white",
             "minorgridcolor": "white",
             "startlinecolor": "#2a3f5f"
            },
            "baxis": {
             "endlinecolor": "#2a3f5f",
             "gridcolor": "white",
             "linecolor": "white",
             "minorgridcolor": "white",
             "startlinecolor": "#2a3f5f"
            },
            "type": "carpet"
           }
          ],
          "choropleth": [
           {
            "colorbar": {
             "outlinewidth": 0,
             "ticks": ""
            },
            "type": "choropleth"
           }
          ],
          "contour": [
           {
            "colorbar": {
             "outlinewidth": 0,
             "ticks": ""
            },
            "colorscale": [
             [
              0,
              "#0d0887"
             ],
             [
              0.1111111111111111,
              "#46039f"
             ],
             [
              0.2222222222222222,
              "#7201a8"
             ],
             [
              0.3333333333333333,
              "#9c179e"
             ],
             [
              0.4444444444444444,
              "#bd3786"
             ],
             [
              0.5555555555555556,
              "#d8576b"
             ],
             [
              0.6666666666666666,
              "#ed7953"
             ],
             [
              0.7777777777777778,
              "#fb9f3a"
             ],
             [
              0.8888888888888888,
              "#fdca26"
             ],
             [
              1,
              "#f0f921"
             ]
            ],
            "type": "contour"
           }
          ],
          "contourcarpet": [
           {
            "colorbar": {
             "outlinewidth": 0,
             "ticks": ""
            },
            "type": "contourcarpet"
           }
          ],
          "heatmap": [
           {
            "colorbar": {
             "outlinewidth": 0,
             "ticks": ""
            },
            "colorscale": [
             [
              0,
              "#0d0887"
             ],
             [
              0.1111111111111111,
              "#46039f"
             ],
             [
              0.2222222222222222,
              "#7201a8"
             ],
             [
              0.3333333333333333,
              "#9c179e"
             ],
             [
              0.4444444444444444,
              "#bd3786"
             ],
             [
              0.5555555555555556,
              "#d8576b"
             ],
             [
              0.6666666666666666,
              "#ed7953"
             ],
             [
              0.7777777777777778,
              "#fb9f3a"
             ],
             [
              0.8888888888888888,
              "#fdca26"
             ],
             [
              1,
              "#f0f921"
             ]
            ],
            "type": "heatmap"
           }
          ],
          "heatmapgl": [
           {
            "colorbar": {
             "outlinewidth": 0,
             "ticks": ""
            },
            "colorscale": [
             [
              0,
              "#0d0887"
             ],
             [
              0.1111111111111111,
              "#46039f"
             ],
             [
              0.2222222222222222,
              "#7201a8"
             ],
             [
              0.3333333333333333,
              "#9c179e"
             ],
             [
              0.4444444444444444,
              "#bd3786"
             ],
             [
              0.5555555555555556,
              "#d8576b"
             ],
             [
              0.6666666666666666,
              "#ed7953"
             ],
             [
              0.7777777777777778,
              "#fb9f3a"
             ],
             [
              0.8888888888888888,
              "#fdca26"
             ],
             [
              1,
              "#f0f921"
             ]
            ],
            "type": "heatmapgl"
           }
          ],
          "histogram": [
           {
            "marker": {
             "pattern": {
              "fillmode": "overlay",
              "size": 10,
              "solidity": 0.2
             }
            },
            "type": "histogram"
           }
          ],
          "histogram2d": [
           {
            "colorbar": {
             "outlinewidth": 0,
             "ticks": ""
            },
            "colorscale": [
             [
              0,
              "#0d0887"
             ],
             [
              0.1111111111111111,
              "#46039f"
             ],
             [
              0.2222222222222222,
              "#7201a8"
             ],
             [
              0.3333333333333333,
              "#9c179e"
             ],
             [
              0.4444444444444444,
              "#bd3786"
             ],
             [
              0.5555555555555556,
              "#d8576b"
             ],
             [
              0.6666666666666666,
              "#ed7953"
             ],
             [
              0.7777777777777778,
              "#fb9f3a"
             ],
             [
              0.8888888888888888,
              "#fdca26"
             ],
             [
              1,
              "#f0f921"
             ]
            ],
            "type": "histogram2d"
           }
          ],
          "histogram2dcontour": [
           {
            "colorbar": {
             "outlinewidth": 0,
             "ticks": ""
            },
            "colorscale": [
             [
              0,
              "#0d0887"
             ],
             [
              0.1111111111111111,
              "#46039f"
             ],
             [
              0.2222222222222222,
              "#7201a8"
             ],
             [
              0.3333333333333333,
              "#9c179e"
             ],
             [
              0.4444444444444444,
              "#bd3786"
             ],
             [
              0.5555555555555556,
              "#d8576b"
             ],
             [
              0.6666666666666666,
              "#ed7953"
             ],
             [
              0.7777777777777778,
              "#fb9f3a"
             ],
             [
              0.8888888888888888,
              "#fdca26"
             ],
             [
              1,
              "#f0f921"
             ]
            ],
            "type": "histogram2dcontour"
           }
          ],
          "mesh3d": [
           {
            "colorbar": {
             "outlinewidth": 0,
             "ticks": ""
            },
            "type": "mesh3d"
           }
          ],
          "parcoords": [
           {
            "line": {
             "colorbar": {
              "outlinewidth": 0,
              "ticks": ""
             }
            },
            "type": "parcoords"
           }
          ],
          "pie": [
           {
            "automargin": true,
            "type": "pie"
           }
          ],
          "scatter": [
           {
            "fillpattern": {
             "fillmode": "overlay",
             "size": 10,
             "solidity": 0.2
            },
            "type": "scatter"
           }
          ],
          "scatter3d": [
           {
            "line": {
             "colorbar": {
              "outlinewidth": 0,
              "ticks": ""
             }
            },
            "marker": {
             "colorbar": {
              "outlinewidth": 0,
              "ticks": ""
             }
            },
            "type": "scatter3d"
           }
          ],
          "scattercarpet": [
           {
            "marker": {
             "colorbar": {
              "outlinewidth": 0,
              "ticks": ""
             }
            },
            "type": "scattercarpet"
           }
          ],
          "scattergeo": [
           {
            "marker": {
             "colorbar": {
              "outlinewidth": 0,
              "ticks": ""
             }
            },
            "type": "scattergeo"
           }
          ],
          "scattergl": [
           {
            "marker": {
             "colorbar": {
              "outlinewidth": 0,
              "ticks": ""
             }
            },
            "type": "scattergl"
           }
          ],
          "scattermapbox": [
           {
            "marker": {
             "colorbar": {
              "outlinewidth": 0,
              "ticks": ""
             }
            },
            "type": "scattermapbox"
           }
          ],
          "scatterpolar": [
           {
            "marker": {
             "colorbar": {
              "outlinewidth": 0,
              "ticks": ""
             }
            },
            "type": "scatterpolar"
           }
          ],
          "scatterpolargl": [
           {
            "marker": {
             "colorbar": {
              "outlinewidth": 0,
              "ticks": ""
             }
            },
            "type": "scatterpolargl"
           }
          ],
          "scatterternary": [
           {
            "marker": {
             "colorbar": {
              "outlinewidth": 0,
              "ticks": ""
             }
            },
            "type": "scatterternary"
           }
          ],
          "surface": [
           {
            "colorbar": {
             "outlinewidth": 0,
             "ticks": ""
            },
            "colorscale": [
             [
              0,
              "#0d0887"
             ],
             [
              0.1111111111111111,
              "#46039f"
             ],
             [
              0.2222222222222222,
              "#7201a8"
             ],
             [
              0.3333333333333333,
              "#9c179e"
             ],
             [
              0.4444444444444444,
              "#bd3786"
             ],
             [
              0.5555555555555556,
              "#d8576b"
             ],
             [
              0.6666666666666666,
              "#ed7953"
             ],
             [
              0.7777777777777778,
              "#fb9f3a"
             ],
             [
              0.8888888888888888,
              "#fdca26"
             ],
             [
              1,
              "#f0f921"
             ]
            ],
            "type": "surface"
           }
          ],
          "table": [
           {
            "cells": {
             "fill": {
              "color": "#EBF0F8"
             },
             "line": {
              "color": "white"
             }
            },
            "header": {
             "fill": {
              "color": "#C8D4E3"
             },
             "line": {
              "color": "white"
             }
            },
            "type": "table"
           }
          ]
         },
         "layout": {
          "annotationdefaults": {
           "arrowcolor": "#2a3f5f",
           "arrowhead": 0,
           "arrowwidth": 1
          },
          "autotypenumbers": "strict",
          "coloraxis": {
           "colorbar": {
            "outlinewidth": 0,
            "ticks": ""
           }
          },
          "colorscale": {
           "diverging": [
            [
             0,
             "#8e0152"
            ],
            [
             0.1,
             "#c51b7d"
            ],
            [
             0.2,
             "#de77ae"
            ],
            [
             0.3,
             "#f1b6da"
            ],
            [
             0.4,
             "#fde0ef"
            ],
            [
             0.5,
             "#f7f7f7"
            ],
            [
             0.6,
             "#e6f5d0"
            ],
            [
             0.7,
             "#b8e186"
            ],
            [
             0.8,
             "#7fbc41"
            ],
            [
             0.9,
             "#4d9221"
            ],
            [
             1,
             "#276419"
            ]
           ],
           "sequential": [
            [
             0,
             "#0d0887"
            ],
            [
             0.1111111111111111,
             "#46039f"
            ],
            [
             0.2222222222222222,
             "#7201a8"
            ],
            [
             0.3333333333333333,
             "#9c179e"
            ],
            [
             0.4444444444444444,
             "#bd3786"
            ],
            [
             0.5555555555555556,
             "#d8576b"
            ],
            [
             0.6666666666666666,
             "#ed7953"
            ],
            [
             0.7777777777777778,
             "#fb9f3a"
            ],
            [
             0.8888888888888888,
             "#fdca26"
            ],
            [
             1,
             "#f0f921"
            ]
           ],
           "sequentialminus": [
            [
             0,
             "#0d0887"
            ],
            [
             0.1111111111111111,
             "#46039f"
            ],
            [
             0.2222222222222222,
             "#7201a8"
            ],
            [
             0.3333333333333333,
             "#9c179e"
            ],
            [
             0.4444444444444444,
             "#bd3786"
            ],
            [
             0.5555555555555556,
             "#d8576b"
            ],
            [
             0.6666666666666666,
             "#ed7953"
            ],
            [
             0.7777777777777778,
             "#fb9f3a"
            ],
            [
             0.8888888888888888,
             "#fdca26"
            ],
            [
             1,
             "#f0f921"
            ]
           ]
          },
          "colorway": [
           "#636efa",
           "#EF553B",
           "#00cc96",
           "#ab63fa",
           "#FFA15A",
           "#19d3f3",
           "#FF6692",
           "#B6E880",
           "#FF97FF",
           "#FECB52"
          ],
          "font": {
           "color": "#2a3f5f"
          },
          "geo": {
           "bgcolor": "white",
           "lakecolor": "white",
           "landcolor": "#E5ECF6",
           "showlakes": true,
           "showland": true,
           "subunitcolor": "white"
          },
          "hoverlabel": {
           "align": "left"
          },
          "hovermode": "closest",
          "mapbox": {
           "style": "light"
          },
          "paper_bgcolor": "white",
          "plot_bgcolor": "#E5ECF6",
          "polar": {
           "angularaxis": {
            "gridcolor": "white",
            "linecolor": "white",
            "ticks": ""
           },
           "bgcolor": "#E5ECF6",
           "radialaxis": {
            "gridcolor": "white",
            "linecolor": "white",
            "ticks": ""
           }
          },
          "scene": {
           "xaxis": {
            "backgroundcolor": "#E5ECF6",
            "gridcolor": "white",
            "gridwidth": 2,
            "linecolor": "white",
            "showbackground": true,
            "ticks": "",
            "zerolinecolor": "white"
           },
           "yaxis": {
            "backgroundcolor": "#E5ECF6",
            "gridcolor": "white",
            "gridwidth": 2,
            "linecolor": "white",
            "showbackground": true,
            "ticks": "",
            "zerolinecolor": "white"
           },
           "zaxis": {
            "backgroundcolor": "#E5ECF6",
            "gridcolor": "white",
            "gridwidth": 2,
            "linecolor": "white",
            "showbackground": true,
            "ticks": "",
            "zerolinecolor": "white"
           }
          },
          "shapedefaults": {
           "line": {
            "color": "#2a3f5f"
           }
          },
          "ternary": {
           "aaxis": {
            "gridcolor": "white",
            "linecolor": "white",
            "ticks": ""
           },
           "baxis": {
            "gridcolor": "white",
            "linecolor": "white",
            "ticks": ""
           },
           "bgcolor": "#E5ECF6",
           "caxis": {
            "gridcolor": "white",
            "linecolor": "white",
            "ticks": ""
           }
          },
          "title": {
           "x": 0.05
          },
          "xaxis": {
           "automargin": true,
           "gridcolor": "white",
           "linecolor": "white",
           "ticks": "",
           "title": {
            "standoff": 15
           },
           "zerolinecolor": "white",
           "zerolinewidth": 2
          },
          "yaxis": {
           "automargin": true,
           "gridcolor": "white",
           "linecolor": "white",
           "ticks": "",
           "title": {
            "standoff": 15
           },
           "zerolinecolor": "white",
           "zerolinewidth": 2
          }
         }
        },
        "title": {
         "text": "Map",
         "x": 0.5
        }
       }
      },
      "text/html": [
       "<div>                            <div id=\"059db3f0-6968-48d9-9880-f03b009fb2fa\" class=\"plotly-graph-div\" style=\"height:525px; width:100%;\"></div>            <script type=\"text/javascript\">                require([\"plotly\"], function(Plotly) {                    window.PLOTLYENV=window.PLOTLYENV || {};                                    if (document.getElementById(\"059db3f0-6968-48d9-9880-f03b009fb2fa\")) {                    Plotly.newPlot(                        \"059db3f0-6968-48d9-9880-f03b009fb2fa\",                        [{\"hovertemplate\":\"<b>%{hovertext}</b><br><br>OwnerInfo=380   HAMILTON AVE  UNIT 328    PALO ALTO CA   94302.0<br>Lat=%{lat}<br>Lon=%{lon}<extra></extra>\",\"hovertext\":[\"380   HAMILTON AVE  UNIT 328    PALO ALTO CA   94302.0\",\"380   HAMILTON AVE  UNIT 328    PALO ALTO CA   94302.0\",\"380   HAMILTON AVE  UNIT 328    PALO ALTO CA   94302.0\",\"380   HAMILTON AVE  UNIT 328    PALO ALTO CA   94302.0\",\"380   HAMILTON AVE  UNIT 328    PALO ALTO CA   94302.0\",\"380   HAMILTON AVE  UNIT 328    PALO ALTO CA   94302.0\",\"380   HAMILTON AVE  UNIT 328    PALO ALTO CA   94302.0\"],\"lat\":[40.43165964,40.4382081,40.4382081,40.43273909,40.4382081,40.4382081,40.43489415],\"legendgroup\":\"380   HAMILTON AVE  UNIT 328    PALO ALTO CA   94302.0\",\"lon\":[-79.95390991,-79.9519543,-79.9519543,-79.95267898,-79.9519543,-79.9519543,-79.95217246],\"marker\":{\"color\":\"#636efa\"},\"mode\":\"markers\",\"name\":\"380   HAMILTON AVE  UNIT 328    PALO ALTO CA   94302.0\",\"showlegend\":true,\"subplot\":\"mapbox\",\"type\":\"scattermapbox\"},{\"hovertemplate\":\"<b>%{hovertext}</b><br><br>OwnerInfo=1101  S CAPITAL OF TEXAS HWY  STE B-220    AUSTIN TX   78746.0<br>Lat=%{lat}<br>Lon=%{lon}<extra></extra>\",\"hovertext\":[\"1101  S CAPITAL OF TEXAS HWY  STE B-220    AUSTIN TX   78746.0\",\"1101  S CAPITAL OF TEXAS HWY  STE B-220    AUSTIN TX   78746.0\",\"1101  S CAPITAL OF TEXAS HWY  STE B-220    AUSTIN TX   78746.0\",\"1101  S CAPITAL OF TEXAS HWY  STE B-220    AUSTIN TX   78746.0\",\"1101  S CAPITAL OF TEXAS HWY  STE B-220    AUSTIN TX   78746.0\",\"1101  S CAPITAL OF TEXAS HWY  STE B-220    AUSTIN TX   78746.0\",\"1101  S CAPITAL OF TEXAS HWY  STE B-220    AUSTIN TX   78746.0\",\"1101  S CAPITAL OF TEXAS HWY  STE B-220    AUSTIN TX   78746.0\",\"1101  S CAPITAL OF TEXAS HWY  STE B-220    AUSTIN TX   78746.0\",\"1101  S CAPITAL OF TEXAS HWY  STE B-220    AUSTIN TX   78746.0\",\"1101  S CAPITAL OF TEXAS HWY  STE B-220    AUSTIN TX   78746.0\",\"1101  S CAPITAL OF TEXAS HWY  STE B-220    AUSTIN TX   78746.0\",\"1101  S CAPITAL OF TEXAS HWY  STE B-220    AUSTIN TX   78746.0\",\"1101  S CAPITAL OF TEXAS HWY  STE B-220    AUSTIN TX   78746.0\"],\"lat\":[40.437223,40.455285,40.45579067,40.45512802,40.4536063,40.45365065,40.4601288,40.42483122,40.43538842,40.45511641,40.45159546,40.45543528,40.4371845,40.4023245],\"legendgroup\":\"1101  S CAPITAL OF TEXAS HWY  STE B-220    AUSTIN TX   78746.0\",\"lon\":[-79.954705,-79.930419,-79.92986444,-79.93032764,-79.92243885,-79.92232597,-79.93166147,-80.00980374,-79.95553997,-79.93008341,-79.92890096,-79.93573725,-79.9547445,-80.0402544],\"marker\":{\"color\":\"#EF553B\"},\"mode\":\"markers\",\"name\":\"1101  S CAPITAL OF TEXAS HWY  STE B-220    AUSTIN TX   78746.0\",\"showlegend\":true,\"subplot\":\"mapbox\",\"type\":\"scattermapbox\"},{\"hovertemplate\":\"<b>%{hovertext}</b><br><br>OwnerInfo=414   GRANT ST  RM 200  CITY-COUNTY BUILDING  PITTSBURGH PA   15219.0<br>Lat=%{lat}<br>Lon=%{lon}<extra></extra>\",\"hovertext\":[\"414   GRANT ST  RM 200  CITY-COUNTY BUILDING  PITTSBURGH PA   15219.0\",\"414   GRANT ST  RM 200  CITY-COUNTY BUILDING  PITTSBURGH PA   15219.0\",\"414   GRANT ST  RM 200  CITY-COUNTY BUILDING  PITTSBURGH PA   15219.0\",\"414   GRANT ST  RM 200  CITY-COUNTY BUILDING  PITTSBURGH PA   15219.0\",\"414   GRANT ST  RM 200  CITY-COUNTY BUILDING  PITTSBURGH PA   15219.0\",\"414   GRANT ST  RM 200  CITY-COUNTY BUILDING  PITTSBURGH PA   15219.0\",\"414   GRANT ST  RM 200  CITY-COUNTY BUILDING  PITTSBURGH PA   15219.0\",\"414   GRANT ST  RM 200  CITY-COUNTY BUILDING  PITTSBURGH PA   15219.0\"],\"lat\":[40.4519967,40.41027172,40.45661657,40.45522945,40.44494159,40.46858895,40.41216655,40.444461],\"legendgroup\":\"414   GRANT ST  RM 200  CITY-COUNTY BUILDING  PITTSBURGH PA   15219.0\",\"lon\":[-79.9606193,-80.00649171,-80.05361206,-80.06128272,-80.03407677,-80.00751385,-80.0240505,-80.041036],\"marker\":{\"color\":\"#00cc96\"},\"mode\":\"markers\",\"name\":\"414   GRANT ST  RM 200  CITY-COUNTY BUILDING  PITTSBURGH PA   15219.0\",\"showlegend\":true,\"subplot\":\"mapbox\",\"type\":\"scattermapbox\"},{\"hovertemplate\":\"<b>%{hovertext}</b><br><br>OwnerInfo=8   CHURCHILL RD       PITTSBURGH PA   15235.0<br>Lat=%{lat}<br>Lon=%{lon}<extra></extra>\",\"hovertext\":[\"8   CHURCHILL RD       PITTSBURGH PA   15235.0\",\"8   CHURCHILL RD       PITTSBURGH PA   15235.0\",\"8   CHURCHILL RD       PITTSBURGH PA   15235.0\",\"8   CHURCHILL RD       PITTSBURGH PA   15235.0\",\"8   CHURCHILL RD       PITTSBURGH PA   15235.0\",\"8   CHURCHILL RD       PITTSBURGH PA   15235.0\",\"8   CHURCHILL RD       PITTSBURGH PA   15235.0\",\"8   CHURCHILL RD       PITTSBURGH PA   15235.0\"],\"lat\":[40.4532635,40.45328738,40.45657293,40.46209481,40.45820005,40.45543549,40.45551097,40.4541224],\"legendgroup\":\"8   CHURCHILL RD       PITTSBURGH PA   15235.0\",\"lon\":[-79.9352324,-79.93539388,-79.92534685,-79.93047973,-79.94440745,-79.90997859,-79.91017787,-79.9090515],\"marker\":{\"color\":\"#ab63fa\"},\"mode\":\"markers\",\"name\":\"8   CHURCHILL RD       PITTSBURGH PA   15235.0\",\"showlegend\":true,\"subplot\":\"mapbox\",\"type\":\"scattermapbox\"},{\"hovertemplate\":\"<b>%{hovertext}</b><br><br>OwnerInfo=   PO BOX 40206        PITTSBURGH PA   15201.0<br>Lat=%{lat}<br>Lon=%{lon}<extra></extra>\",\"hovertext\":[\"   PO BOX 40206        PITTSBURGH PA   15201.0\",\"   PO BOX 40206        PITTSBURGH PA   15201.0\",\"   PO BOX 40206        PITTSBURGH PA   15201.0\",\"   PO BOX 40206        PITTSBURGH PA   15201.0\",\"   PO BOX 40206        PITTSBURGH PA   15201.0\",\"   PO BOX 40206        PITTSBURGH PA   15201.0\",\"   PO BOX 40206        PITTSBURGH PA   15201.0\",\"   PO BOX 40206        PITTSBURGH PA   15201.0\",\"   PO BOX 40206        PITTSBURGH PA   15201.0\",\"   PO BOX 40206        PITTSBURGH PA   15201.0\",\"   PO BOX 40206        PITTSBURGH PA   15201.0\",\"   PO BOX 40206        PITTSBURGH PA   15201.0\",\"   PO BOX 40206        PITTSBURGH PA   15201.0\",\"   PO BOX 40206        PITTSBURGH PA   15201.0\",\"   PO BOX 40206        PITTSBURGH PA   15201.0\",\"   PO BOX 40206        PITTSBURGH PA   15201.0\",\"   PO BOX 40206        PITTSBURGH PA   15201.0\",\"   PO BOX 40206        PITTSBURGH PA   15201.0\",\"   PO BOX 40206        PITTSBURGH PA   15201.0\"],\"lat\":[40.4549989,40.46150201,40.4597929,40.46153545,40.47855813,40.4753879,40.469098,40.425102,40.425137,40.4263044,40.45370985,40.44040154,40.44035124,40.4401673,40.4326238,40.42499954,40.42947494,40.4599042,40.42336747],\"legendgroup\":\"   PO BOX 40206        PITTSBURGH PA   15201.0\",\"lon\":[-79.93412338,-79.93624139,-79.931994,-79.93056228,-79.94133934,-79.91934004,-79.921413,-79.917008,-79.917219,-79.92410177,-79.90415015,-79.89764202,-79.89765872,-79.89471106,-79.9140212,-79.9309253,-79.97571514,-79.93180038,-79.94141447],\"marker\":{\"color\":\"#FFA15A\"},\"mode\":\"markers\",\"name\":\"   PO BOX 40206        PITTSBURGH PA   15201.0\",\"showlegend\":true,\"subplot\":\"mapbox\",\"type\":\"scattermapbox\"},{\"hovertemplate\":\"<b>%{hovertext}</b><br><br>OwnerInfo=1501   ARDMORE BLVD  STE 400    PITTSBURGH PA   15221.0<br>Lat=%{lat}<br>Lon=%{lon}<extra></extra>\",\"hovertext\":[\"1501   ARDMORE BLVD  STE 400    PITTSBURGH PA   15221.0\",\"1501   ARDMORE BLVD  STE 400    PITTSBURGH PA   15221.0\",\"1501   ARDMORE BLVD  STE 400    PITTSBURGH PA   15221.0\",\"1501   ARDMORE BLVD  STE 400    PITTSBURGH PA   15221.0\",\"1501   ARDMORE BLVD  STE 400    PITTSBURGH PA   15221.0\",\"1501   ARDMORE BLVD  STE 400    PITTSBURGH PA   15221.0\"],\"lat\":[40.4565946,40.45053895,40.46163755,40.45462038,40.47335465,40.45279571],\"legendgroup\":\"1501   ARDMORE BLVD  STE 400    PITTSBURGH PA   15221.0\",\"lon\":[-79.92098201,-79.93282981,-79.93756313,-79.92979819,-79.92641437,-79.91392507],\"marker\":{\"color\":\"#19d3f3\"},\"mode\":\"markers\",\"name\":\"1501   ARDMORE BLVD  STE 400    PITTSBURGH PA   15221.0\",\"showlegend\":true,\"subplot\":\"mapbox\",\"type\":\"scattermapbox\"},{\"hovertemplate\":\"<b>%{hovertext}</b><br><br>OwnerInfo=2116   MERRIMAN WAY       PITTSBURGH PA   15203.0<br>Lat=%{lat}<br>Lon=%{lon}<extra></extra>\",\"hovertext\":[\"2116   MERRIMAN WAY       PITTSBURGH PA   15203.0\",\"2116   MERRIMAN WAY       PITTSBURGH PA   15203.0\",\"2116   MERRIMAN WAY       PITTSBURGH PA   15203.0\",\"2116   MERRIMAN WAY       PITTSBURGH PA   15203.0\",\"2116   MERRIMAN WAY       PITTSBURGH PA   15203.0\",\"2116   MERRIMAN WAY       PITTSBURGH PA   15203.0\",\"2116   MERRIMAN WAY       PITTSBURGH PA   15203.0\",\"2116   MERRIMAN WAY       PITTSBURGH PA   15203.0\",\"2116   MERRIMAN WAY       PITTSBURGH PA   15203.0\",\"2116   MERRIMAN WAY       PITTSBURGH PA   15203.0\",\"2116   MERRIMAN WAY       PITTSBURGH PA   15203.0\",\"2116   MERRIMAN WAY       PITTSBURGH PA   15203.0\",\"2116   MERRIMAN WAY       PITTSBURGH PA   15203.0\",\"2116   MERRIMAN WAY       PITTSBURGH PA   15203.0\",\"2116   MERRIMAN WAY       PITTSBURGH PA   15203.0\"],\"lat\":[40.45983437,40.45900704,40.464633,40.4790145,40.48047511,40.46389398,40.46369506,40.472868,40.4707805,40.44463132,40.415118,40.40333766,40.44627,40.4845912,40.47244721],\"legendgroup\":\"2116   MERRIMAN WAY       PITTSBURGH PA   15203.0\",\"lon\":[-79.95051801,-79.95191241,-79.94843625,-79.95423241,-79.95363489,-79.95509448,-79.95115652,-79.92758265,-79.9179566,-79.8939922,-79.993182,-79.7770662,-79.86958,-79.9456663,-79.92483601],\"marker\":{\"color\":\"#FF6692\"},\"mode\":\"markers\",\"name\":\"2116   MERRIMAN WAY       PITTSBURGH PA   15203.0\",\"showlegend\":true,\"subplot\":\"mapbox\",\"type\":\"scattermapbox\"},{\"hovertemplate\":\"<b>%{hovertext}</b><br><br>OwnerInfo=1812  E CARSON ST       PITTSBURGH PA   15203.0<br>Lat=%{lat}<br>Lon=%{lon}<extra></extra>\",\"hovertext\":[\"1812  E CARSON ST       PITTSBURGH PA   15203.0\",\"1812  E CARSON ST       PITTSBURGH PA   15203.0\",\"1812  E CARSON ST       PITTSBURGH PA   15203.0\",\"1812  E CARSON ST       PITTSBURGH PA   15203.0\",\"1812  E CARSON ST       PITTSBURGH PA   15203.0\",\"1812  E CARSON ST       PITTSBURGH PA   15203.0\",\"1812  E CARSON ST       PITTSBURGH PA   15203.0\",\"1812  E CARSON ST       PITTSBURGH PA   15203.0\",\"1812  E CARSON ST       PITTSBURGH PA   15203.0\",\"1812  E CARSON ST       PITTSBURGH PA   15203.0\",\"1812  E CARSON ST       PITTSBURGH PA   15203.0\",\"1812  E CARSON ST       PITTSBURGH PA   15203.0\",\"1812  E CARSON ST       PITTSBURGH PA   15203.0\",\"1812  E CARSON ST       PITTSBURGH PA   15203.0\",\"1812  E CARSON ST       PITTSBURGH PA   15203.0\",\"1812  E CARSON ST       PITTSBURGH PA   15203.0\",\"1812  E CARSON ST       PITTSBURGH PA   15203.0\",\"1812  E CARSON ST       PITTSBURGH PA   15203.0\",\"1812  E CARSON ST       PITTSBURGH PA   15203.0\",\"1812  E CARSON ST       PITTSBURGH PA   15203.0\",\"1812  E CARSON ST       PITTSBURGH PA   15203.0\",\"1812  E CARSON ST       PITTSBURGH PA   15203.0\",\"1812  E CARSON ST       PITTSBURGH PA   15203.0\",\"1812  E CARSON ST       PITTSBURGH PA   15203.0\",\"1812  E CARSON ST       PITTSBURGH PA   15203.0\",\"1812  E CARSON ST       PITTSBURGH PA   15203.0\",\"1812  E CARSON ST       PITTSBURGH PA   15203.0\",\"1812  E CARSON ST       PITTSBURGH PA   15203.0\",\"1812  E CARSON ST       PITTSBURGH PA   15203.0\",\"1812  E CARSON ST       PITTSBURGH PA   15203.0\",\"1812  E CARSON ST       PITTSBURGH PA   15203.0\",\"1812  E CARSON ST       PITTSBURGH PA   15203.0\",\"1812  E CARSON ST       PITTSBURGH PA   15203.0\",\"1812  E CARSON ST       PITTSBURGH PA   15203.0\",\"1812  E CARSON ST       PITTSBURGH PA   15203.0\",\"1812  E CARSON ST       PITTSBURGH PA   15203.0\",\"1812  E CARSON ST       PITTSBURGH PA   15203.0\",\"1812  E CARSON ST       PITTSBURGH PA   15203.0\",\"1812  E CARSON ST       PITTSBURGH PA   15203.0\",\"1812  E CARSON ST       PITTSBURGH PA   15203.0\",\"1812  E CARSON ST       PITTSBURGH PA   15203.0\",\"1812  E CARSON ST       PITTSBURGH PA   15203.0\",\"1812  E CARSON ST       PITTSBURGH PA   15203.0\",\"1812  E CARSON ST       PITTSBURGH PA   15203.0\",\"1812  E CARSON ST       PITTSBURGH PA   15203.0\",\"1812  E CARSON ST       PITTSBURGH PA   15203.0\"],\"lat\":[40.4733157,40.41959351,40.427037,40.42684909,40.42337569,40.41183084,40.4014811,40.3998468,40.44968329,40.443244,40.467531,40.47405902,40.38716708,40.38144725,40.39645382,40.3966958,40.36701076,40.4971,40.4830323,40.50329,40.51899095,40.5181513,40.38527,40.4412977,40.417509,40.3995963,40.4878,40.41937,40.4730605,40.4731502,40.51959,40.34682,40.47091,40.46516,40.41647635,40.48999,40.50431,40.4016611,40.5150487,40.5063075,40.40612948,40.47102,40.42707,40.40938648,40.43166506,40.40914],\"legendgroup\":\"1812  E CARSON ST       PITTSBURGH PA   15203.0\",\"lon\":[-79.92630879,-79.9719959,-79.987581,-79.97749745,-80.00189061,-80.02002092,-80.0321141,-80.0287557,-80.04131308,-80.04373,-80.00838235,-80.03860224,-79.97731342,-79.98066871,-79.99023622,-79.98444855,-79.91732494,-80.06442,-80.0411547,-80.06888,-80.1592385,-80.16431148,-79.976352,-80.0364129,-79.98480354,-79.9021025,-79.97295,-79.84509,-80.05362935,-80.05370201,-80.03007,-79.9547,-79.7881,-79.82023,-80.025348,-80.08072,-80.20069,-80.03223719,-80.15734012,-80.14967552,-79.99179022,-79.78843,-79.980621,-79.98894105,-79.95390869,-79.89607],\"marker\":{\"color\":\"#B6E880\"},\"mode\":\"markers\",\"name\":\"1812  E CARSON ST       PITTSBURGH PA   15203.0\",\"showlegend\":true,\"subplot\":\"mapbox\",\"type\":\"scattermapbox\"},{\"hovertemplate\":\"<b>%{hovertext}</b><br><br>OwnerInfo=6015   SPIRIT ST  STE 202    PITTSBURGH PA   15206.0<br>Lat=%{lat}<br>Lon=%{lon}<extra></extra>\",\"hovertext\":[\"6015   SPIRIT ST  STE 202    PITTSBURGH PA   15206.0\",\"6015   SPIRIT ST  STE 202    PITTSBURGH PA   15206.0\",\"6015   SPIRIT ST  STE 202    PITTSBURGH PA   15206.0\",\"6015   SPIRIT ST  STE 202    PITTSBURGH PA   15206.0\",\"6015   SPIRIT ST  STE 202    PITTSBURGH PA   15206.0\",\"6015   SPIRIT ST  STE 202    PITTSBURGH PA   15206.0\",\"6015   SPIRIT ST  STE 202    PITTSBURGH PA   15206.0\",\"6015   SPIRIT ST  STE 202    PITTSBURGH PA   15206.0\",\"6015   SPIRIT ST  STE 202    PITTSBURGH PA   15206.0\",\"6015   SPIRIT ST  STE 202    PITTSBURGH PA   15206.0\",\"6015   SPIRIT ST  STE 202    PITTSBURGH PA   15206.0\"],\"lat\":[40.42331986,40.407719,40.4118511,40.45499,40.49017,40.49001,40.40861,40.43745,40.41698,40.4184911,40.43759],\"legendgroup\":\"6015   SPIRIT ST  STE 202    PITTSBURGH PA   15206.0\",\"lon\":[-79.94853012,-79.947369,-80.02635057,-80.04993,-80.05362,-80.05354,-79.83916,-80.06683,-79.98471,-80.01381392,-80.06709],\"marker\":{\"color\":\"#FF97FF\"},\"mode\":\"markers\",\"name\":\"6015   SPIRIT ST  STE 202    PITTSBURGH PA   15206.0\",\"showlegend\":true,\"subplot\":\"mapbox\",\"type\":\"scattermapbox\"},{\"hovertemplate\":\"<b>%{hovertext}</b><br><br>OwnerInfo=202   MAIN ENTRANCE DR       PITTSBURGH PA   15228.0<br>Lat=%{lat}<br>Lon=%{lon}<extra></extra>\",\"hovertext\":[\"202   MAIN ENTRANCE DR       PITTSBURGH PA   15228.0\",\"202   MAIN ENTRANCE DR       PITTSBURGH PA   15228.0\",\"202   MAIN ENTRANCE DR       PITTSBURGH PA   15228.0\",\"202   MAIN ENTRANCE DR       PITTSBURGH PA   15228.0\",\"202   MAIN ENTRANCE DR       PITTSBURGH PA   15228.0\",\"202   MAIN ENTRANCE DR       PITTSBURGH PA   15228.0\",\"202   MAIN ENTRANCE DR       PITTSBURGH PA   15228.0\",\"202   MAIN ENTRANCE DR       PITTSBURGH PA   15228.0\",\"202   MAIN ENTRANCE DR       PITTSBURGH PA   15228.0\",\"202   MAIN ENTRANCE DR       PITTSBURGH PA   15228.0\",\"202   MAIN ENTRANCE DR       PITTSBURGH PA   15228.0\",\"202   MAIN ENTRANCE DR       PITTSBURGH PA   15228.0\"],\"lat\":[40.42461,40.41064297,40.45980366,40.4508645,40.39738,40.40561,40.40680396,40.40559195,40.4752,40.4412977,40.42676142,40.408705],\"legendgroup\":\"202   MAIN ENTRANCE DR       PITTSBURGH PA   15228.0\",\"lon\":[-79.984687,-80.0249041,-79.9928428,-80.0008851,-80.03294,-79.90276,-79.94446315,-79.90458795,-79.9868568,-80.0364129,-79.97890218,-79.90686171],\"marker\":{\"color\":\"#FECB52\"},\"mode\":\"markers\",\"name\":\"202   MAIN ENTRANCE DR       PITTSBURGH PA   15228.0\",\"showlegend\":true,\"subplot\":\"mapbox\",\"type\":\"scattermapbox\"},{\"hovertemplate\":\"<b>%{hovertext}</b><br><br>OwnerInfo=829   INDUSTRY ST       PITTSBURGH PA   15210.0<br>Lat=%{lat}<br>Lon=%{lon}<extra></extra>\",\"hovertext\":[\"829   INDUSTRY ST       PITTSBURGH PA   15210.0\",\"829   INDUSTRY ST       PITTSBURGH PA   15210.0\",\"829   INDUSTRY ST       PITTSBURGH PA   15210.0\",\"829   INDUSTRY ST       PITTSBURGH PA   15210.0\",\"829   INDUSTRY ST       PITTSBURGH PA   15210.0\",\"829   INDUSTRY ST       PITTSBURGH PA   15210.0\",\"829   INDUSTRY ST       PITTSBURGH PA   15210.0\",\"829   INDUSTRY ST       PITTSBURGH PA   15210.0\",\"829   INDUSTRY ST       PITTSBURGH PA   15210.0\",\"829   INDUSTRY ST       PITTSBURGH PA   15210.0\"],\"lat\":[40.42393041,40.42071228,40.42151804,40.42209933,40.42060329,40.42081025,40.42268131,40.4022654,40.40145266,40.4022654],\"legendgroup\":\"829   INDUSTRY ST       PITTSBURGH PA   15210.0\",\"lon\":[-79.98993502,-79.99509082,-79.99728979,-79.99592989,-79.98491343,-79.98881826,-80.00090548,-79.9884792,-79.91180252,-79.9884792],\"marker\":{\"color\":\"#636efa\"},\"mode\":\"markers\",\"name\":\"829   INDUSTRY ST       PITTSBURGH PA   15210.0\",\"showlegend\":true,\"subplot\":\"mapbox\",\"type\":\"scattermapbox\"},{\"hovertemplate\":\"<b>%{hovertext}</b><br><br>OwnerInfo=6247   IVAR AVE       TEMPLE CITY CA   91780.0<br>Lat=%{lat}<br>Lon=%{lon}<extra></extra>\",\"hovertext\":[\"6247   IVAR AVE       TEMPLE CITY CA   91780.0\",\"6247   IVAR AVE       TEMPLE CITY CA   91780.0\",\"6247   IVAR AVE       TEMPLE CITY CA   91780.0\",\"6247   IVAR AVE       TEMPLE CITY CA   91780.0\",\"6247   IVAR AVE       TEMPLE CITY CA   91780.0\",\"6247   IVAR AVE       TEMPLE CITY CA   91780.0\",\"6247   IVAR AVE       TEMPLE CITY CA   91780.0\"],\"lat\":[40.42441524,40.43958562,40.38246,40.43615,40.4398425,40.41351835,40.41325005],\"legendgroup\":\"6247   IVAR AVE       TEMPLE CITY CA   91780.0\",\"lon\":[-79.97961206,-80.05495038,-79.97498,-80.07413,-80.0221303,-80.0269228,-80.02556405],\"marker\":{\"color\":\"#EF553B\"},\"mode\":\"markers\",\"name\":\"6247   IVAR AVE       TEMPLE CITY CA   91780.0\",\"showlegend\":true,\"subplot\":\"mapbox\",\"type\":\"scattermapbox\"},{\"hovertemplate\":\"<b>%{hovertext}</b><br><br>OwnerInfo=10315   LINDBERG AVE       PITTSBURGH PA   15235.0<br>Lat=%{lat}<br>Lon=%{lon}<extra></extra>\",\"hovertext\":[\"10315   LINDBERG AVE       PITTSBURGH PA   15235.0\",\"10315   LINDBERG AVE       PITTSBURGH PA   15235.0\",\"10315   LINDBERG AVE       PITTSBURGH PA   15235.0\",\"10315   LINDBERG AVE       PITTSBURGH PA   15235.0\",\"10315   LINDBERG AVE       PITTSBURGH PA   15235.0\",\"10315   LINDBERG AVE       PITTSBURGH PA   15235.0\",\"10315   LINDBERG AVE       PITTSBURGH PA   15235.0\",\"10315   LINDBERG AVE       PITTSBURGH PA   15235.0\",\"10315   LINDBERG AVE       PITTSBURGH PA   15235.0\"],\"lat\":[40.4254513,40.41018423,40.4102345,40.39440761,40.32737,40.41261,40.425457,40.40271289,40.39259797],\"legendgroup\":\"10315   LINDBERG AVE       PITTSBURGH PA   15235.0\",\"lon\":[-80.00374137,-80.01903095,-80.0271985,-80.02076824,-79.98866,-79.84315,-79.92695,-79.7817319,-80.02341715],\"marker\":{\"color\":\"#00cc96\"},\"mode\":\"markers\",\"name\":\"10315   LINDBERG AVE       PITTSBURGH PA   15235.0\",\"showlegend\":true,\"subplot\":\"mapbox\",\"type\":\"scattermapbox\"},{\"hovertemplate\":\"<b>%{hovertext}</b><br><br>OwnerInfo=   PO BOX 184        INGOMAR PA   15127.0<br>Lat=%{lat}<br>Lon=%{lon}<extra></extra>\",\"hovertext\":[\"   PO BOX 184        INGOMAR PA   15127.0\",\"   PO BOX 184        INGOMAR PA   15127.0\",\"   PO BOX 184        INGOMAR PA   15127.0\",\"   PO BOX 184        INGOMAR PA   15127.0\",\"   PO BOX 184        INGOMAR PA   15127.0\",\"   PO BOX 184        INGOMAR PA   15127.0\",\"   PO BOX 184        INGOMAR PA   15127.0\"],\"lat\":[40.4242305,40.54204163,40.59958,40.58223,40.58561,40.57896,40.56881],\"legendgroup\":\"   PO BOX 184        INGOMAR PA   15127.0\",\"lon\":[-80.00931293,-79.78611745,-79.96881,-80.04801,-80.05408,-80.04365,-80.0554],\"marker\":{\"color\":\"#ab63fa\"},\"mode\":\"markers\",\"name\":\"   PO BOX 184        INGOMAR PA   15127.0\",\"showlegend\":true,\"subplot\":\"mapbox\",\"type\":\"scattermapbox\"},{\"hovertemplate\":\"<b>%{hovertext}</b><br><br>OwnerInfo=552   WASHINGTON AVE       CARNEGIE PA   15106.0<br>Lat=%{lat}<br>Lon=%{lon}<extra></extra>\",\"hovertext\":[\"552   WASHINGTON AVE       CARNEGIE PA   15106.0\",\"552   WASHINGTON AVE       CARNEGIE PA   15106.0\",\"552   WASHINGTON AVE       CARNEGIE PA   15106.0\",\"552   WASHINGTON AVE       CARNEGIE PA   15106.0\",\"552   WASHINGTON AVE       CARNEGIE PA   15106.0\",\"552   WASHINGTON AVE       CARNEGIE PA   15106.0\",\"552   WASHINGTON AVE       CARNEGIE PA   15106.0\",\"552   WASHINGTON AVE       CARNEGIE PA   15106.0\",\"552   WASHINGTON AVE       CARNEGIE PA   15106.0\",\"552   WASHINGTON AVE       CARNEGIE PA   15106.0\",\"552   WASHINGTON AVE       CARNEGIE PA   15106.0\",\"552   WASHINGTON AVE       CARNEGIE PA   15106.0\",\"552   WASHINGTON AVE       CARNEGIE PA   15106.0\",\"552   WASHINGTON AVE       CARNEGIE PA   15106.0\"],\"lat\":[40.39591089,40.45212579,40.44536375,40.3963013,40.37995,40.4056093,40.4127351,40.46401765,40.4703704,40.4703704,40.47454,40.40888131,40.42917337,40.4703704],\"legendgroup\":\"552   WASHINGTON AVE       CARNEGIE PA   15106.0\",\"lon\":[-80.02801681,-80.05880712,-80.038387,-79.98630239,-79.9739,-80.09225953,-80.0892293,-80.07116327,-80.0775479,-80.0775479,-80.07948,-80.09199943,-80.07092518,-80.0775479],\"marker\":{\"color\":\"#FFA15A\"},\"mode\":\"markers\",\"name\":\"552   WASHINGTON AVE       CARNEGIE PA   15106.0\",\"showlegend\":true,\"subplot\":\"mapbox\",\"type\":\"scattermapbox\"},{\"hovertemplate\":\"<b>%{hovertext}</b><br><br>OwnerInfo=   PO BOX 11        IMPERIAL PA   15126.0<br>Lat=%{lat}<br>Lon=%{lon}<extra></extra>\",\"hovertext\":[\"   PO BOX 11        IMPERIAL PA   15126.0\",\"   PO BOX 11        IMPERIAL PA   15126.0\",\"   PO BOX 11        IMPERIAL PA   15126.0\",\"   PO BOX 11        IMPERIAL PA   15126.0\",\"   PO BOX 11        IMPERIAL PA   15126.0\",\"   PO BOX 11        IMPERIAL PA   15126.0\",\"   PO BOX 11        IMPERIAL PA   15126.0\",\"   PO BOX 11        IMPERIAL PA   15126.0\"],\"lat\":[40.46679581,40.42646454,40.4359,40.47518135,40.4635458,40.44452482,40.42183206,40.40490987],\"legendgroup\":\"   PO BOX 11        IMPERIAL PA   15126.0\",\"lon\":[-79.9805861,-80.06224039,-80.06913,-80.05586957,-79.9523247,-79.87901833,-79.99999507,-79.91189109],\"marker\":{\"color\":\"#19d3f3\"},\"mode\":\"markers\",\"name\":\"   PO BOX 11        IMPERIAL PA   15126.0\",\"showlegend\":true,\"subplot\":\"mapbox\",\"type\":\"scattermapbox\"},{\"hovertemplate\":\"<b>%{hovertext}</b><br><br>OwnerInfo=1300   BRIGHTON RD       PITTSBURGH PA   15233.0<br>Lat=%{lat}<br>Lon=%{lon}<extra></extra>\",\"hovertext\":[\"1300   BRIGHTON RD       PITTSBURGH PA   15233.0\",\"1300   BRIGHTON RD       PITTSBURGH PA   15233.0\",\"1300   BRIGHTON RD       PITTSBURGH PA   15233.0\",\"1300   BRIGHTON RD       PITTSBURGH PA   15233.0\",\"1300   BRIGHTON RD       PITTSBURGH PA   15233.0\",\"1300   BRIGHTON RD       PITTSBURGH PA   15233.0\",\"1300   BRIGHTON RD       PITTSBURGH PA   15233.0\",\"1300   BRIGHTON RD       PITTSBURGH PA   15233.0\"],\"lat\":[40.46184727,40.46650661,40.4643629,40.45811617,40.4600486,40.46732849,40.4561442,40.46730956],\"legendgroup\":\"1300   BRIGHTON RD       PITTSBURGH PA   15233.0\",\"lon\":[-80.01867655,-80.01595034,-80.0196711,-80.01232305,-80.0178885,-80.01779411,-80.00884433,-80.01784867],\"marker\":{\"color\":\"#FF6692\"},\"mode\":\"markers\",\"name\":\"1300   BRIGHTON RD       PITTSBURGH PA   15233.0\",\"showlegend\":true,\"subplot\":\"mapbox\",\"type\":\"scattermapbox\"},{\"hovertemplate\":\"<b>%{hovertext}</b><br><br>OwnerInfo=1179   DESIDERIO BLVD       CLAIRTON PA   15025.0<br>Lat=%{lat}<br>Lon=%{lon}<extra></extra>\",\"hovertext\":[\"1179   DESIDERIO BLVD       CLAIRTON PA   15025.0\",\"1179   DESIDERIO BLVD       CLAIRTON PA   15025.0\",\"1179   DESIDERIO BLVD       CLAIRTON PA   15025.0\",\"1179   DESIDERIO BLVD       CLAIRTON PA   15025.0\",\"1179   DESIDERIO BLVD       CLAIRTON PA   15025.0\",\"1179   DESIDERIO BLVD       CLAIRTON PA   15025.0\",\"1179   DESIDERIO BLVD       CLAIRTON PA   15025.0\",\"1179   DESIDERIO BLVD       CLAIRTON PA   15025.0\"],\"lat\":[40.2876072,40.2874865,40.2877295,40.28796976,40.2874562,40.2874476,40.2871096,40.2877764],\"legendgroup\":\"1179   DESIDERIO BLVD       CLAIRTON PA   15025.0\",\"lon\":[-79.8936405,-79.8945223,-79.8934138,-79.89492379,-79.8969918,-79.8941786,-79.8969889,-79.8937426],\"marker\":{\"color\":\"#B6E880\"},\"mode\":\"markers\",\"name\":\"1179   DESIDERIO BLVD       CLAIRTON PA   15025.0\",\"showlegend\":true,\"subplot\":\"mapbox\",\"type\":\"scattermapbox\"},{\"hovertemplate\":\"<b>%{hovertext}</b><br><br>OwnerInfo=1812  E CARSON ST       PITTSBURGH PA   15203<br>Lat=%{lat}<br>Lon=%{lon}<extra></extra>\",\"hovertext\":[\"1812  E CARSON ST       PITTSBURGH PA   15203\",\"1812  E CARSON ST       PITTSBURGH PA   15203\",\"1812  E CARSON ST       PITTSBURGH PA   15203\",\"1812  E CARSON ST       PITTSBURGH PA   15203\",\"1812  E CARSON ST       PITTSBURGH PA   15203\",\"1812  E CARSON ST       PITTSBURGH PA   15203\"],\"lat\":[40.40518,40.40628075,40.402015,40.40614069,40.41934,40.41922],\"legendgroup\":\"1812  E CARSON ST       PITTSBURGH PA   15203\",\"lon\":[-80.08237,-80.07962425,-80.094723,-79.82201443,-79.88395,-79.88189],\"marker\":{\"color\":\"#FF97FF\"},\"mode\":\"markers\",\"name\":\"1812  E CARSON ST       PITTSBURGH PA   15203\",\"showlegend\":true,\"subplot\":\"mapbox\",\"type\":\"scattermapbox\"},{\"hovertemplate\":\"<b>%{hovertext}</b><br><br>OwnerInfo=   PO BOX 892        TWIN PEAKS CA   92391.0<br>Lat=%{lat}<br>Lon=%{lon}<extra></extra>\",\"hovertext\":[\"   PO BOX 892        TWIN PEAKS CA   92391.0\",\"   PO BOX 892        TWIN PEAKS CA   92391.0\",\"   PO BOX 892        TWIN PEAKS CA   92391.0\",\"   PO BOX 892        TWIN PEAKS CA   92391.0\",\"   PO BOX 892        TWIN PEAKS CA   92391.0\",\"   PO BOX 892        TWIN PEAKS CA   92391.0\",\"   PO BOX 892        TWIN PEAKS CA   92391.0\"],\"lat\":[40.40328329,40.40328823,40.40216132,40.44698,40.46327,40.39679945,40.39679891],\"legendgroup\":\"   PO BOX 892        TWIN PEAKS CA   92391.0\",\"lon\":[-79.77737627,-79.77734808,-79.77959373,-79.86152,-79.83893,-79.84453145,-79.84452291],\"marker\":{\"color\":\"#FECB52\"},\"mode\":\"markers\",\"name\":\"   PO BOX 892        TWIN PEAKS CA   92391.0\",\"showlegend\":true,\"subplot\":\"mapbox\",\"type\":\"scattermapbox\"}],                        {\"template\":{\"data\":{\"histogram2dcontour\":[{\"type\":\"histogram2dcontour\",\"colorbar\":{\"outlinewidth\":0,\"ticks\":\"\"},\"colorscale\":[[0.0,\"#0d0887\"],[0.1111111111111111,\"#46039f\"],[0.2222222222222222,\"#7201a8\"],[0.3333333333333333,\"#9c179e\"],[0.4444444444444444,\"#bd3786\"],[0.5555555555555556,\"#d8576b\"],[0.6666666666666666,\"#ed7953\"],[0.7777777777777778,\"#fb9f3a\"],[0.8888888888888888,\"#fdca26\"],[1.0,\"#f0f921\"]]}],\"choropleth\":[{\"type\":\"choropleth\",\"colorbar\":{\"outlinewidth\":0,\"ticks\":\"\"}}],\"histogram2d\":[{\"type\":\"histogram2d\",\"colorbar\":{\"outlinewidth\":0,\"ticks\":\"\"},\"colorscale\":[[0.0,\"#0d0887\"],[0.1111111111111111,\"#46039f\"],[0.2222222222222222,\"#7201a8\"],[0.3333333333333333,\"#9c179e\"],[0.4444444444444444,\"#bd3786\"],[0.5555555555555556,\"#d8576b\"],[0.6666666666666666,\"#ed7953\"],[0.7777777777777778,\"#fb9f3a\"],[0.8888888888888888,\"#fdca26\"],[1.0,\"#f0f921\"]]}],\"heatmap\":[{\"type\":\"heatmap\",\"colorbar\":{\"outlinewidth\":0,\"ticks\":\"\"},\"colorscale\":[[0.0,\"#0d0887\"],[0.1111111111111111,\"#46039f\"],[0.2222222222222222,\"#7201a8\"],[0.3333333333333333,\"#9c179e\"],[0.4444444444444444,\"#bd3786\"],[0.5555555555555556,\"#d8576b\"],[0.6666666666666666,\"#ed7953\"],[0.7777777777777778,\"#fb9f3a\"],[0.8888888888888888,\"#fdca26\"],[1.0,\"#f0f921\"]]}],\"heatmapgl\":[{\"type\":\"heatmapgl\",\"colorbar\":{\"outlinewidth\":0,\"ticks\":\"\"},\"colorscale\":[[0.0,\"#0d0887\"],[0.1111111111111111,\"#46039f\"],[0.2222222222222222,\"#7201a8\"],[0.3333333333333333,\"#9c179e\"],[0.4444444444444444,\"#bd3786\"],[0.5555555555555556,\"#d8576b\"],[0.6666666666666666,\"#ed7953\"],[0.7777777777777778,\"#fb9f3a\"],[0.8888888888888888,\"#fdca26\"],[1.0,\"#f0f921\"]]}],\"contourcarpet\":[{\"type\":\"contourcarpet\",\"colorbar\":{\"outlinewidth\":0,\"ticks\":\"\"}}],\"contour\":[{\"type\":\"contour\",\"colorbar\":{\"outlinewidth\":0,\"ticks\":\"\"},\"colorscale\":[[0.0,\"#0d0887\"],[0.1111111111111111,\"#46039f\"],[0.2222222222222222,\"#7201a8\"],[0.3333333333333333,\"#9c179e\"],[0.4444444444444444,\"#bd3786\"],[0.5555555555555556,\"#d8576b\"],[0.6666666666666666,\"#ed7953\"],[0.7777777777777778,\"#fb9f3a\"],[0.8888888888888888,\"#fdca26\"],[1.0,\"#f0f921\"]]}],\"surface\":[{\"type\":\"surface\",\"colorbar\":{\"outlinewidth\":0,\"ticks\":\"\"},\"colorscale\":[[0.0,\"#0d0887\"],[0.1111111111111111,\"#46039f\"],[0.2222222222222222,\"#7201a8\"],[0.3333333333333333,\"#9c179e\"],[0.4444444444444444,\"#bd3786\"],[0.5555555555555556,\"#d8576b\"],[0.6666666666666666,\"#ed7953\"],[0.7777777777777778,\"#fb9f3a\"],[0.8888888888888888,\"#fdca26\"],[1.0,\"#f0f921\"]]}],\"mesh3d\":[{\"type\":\"mesh3d\",\"colorbar\":{\"outlinewidth\":0,\"ticks\":\"\"}}],\"scatter\":[{\"fillpattern\":{\"fillmode\":\"overlay\",\"size\":10,\"solidity\":0.2},\"type\":\"scatter\"}],\"parcoords\":[{\"type\":\"parcoords\",\"line\":{\"colorbar\":{\"outlinewidth\":0,\"ticks\":\"\"}}}],\"scatterpolargl\":[{\"type\":\"scatterpolargl\",\"marker\":{\"colorbar\":{\"outlinewidth\":0,\"ticks\":\"\"}}}],\"bar\":[{\"error_x\":{\"color\":\"#2a3f5f\"},\"error_y\":{\"color\":\"#2a3f5f\"},\"marker\":{\"line\":{\"color\":\"#E5ECF6\",\"width\":0.5},\"pattern\":{\"fillmode\":\"overlay\",\"size\":10,\"solidity\":0.2}},\"type\":\"bar\"}],\"scattergeo\":[{\"type\":\"scattergeo\",\"marker\":{\"colorbar\":{\"outlinewidth\":0,\"ticks\":\"\"}}}],\"scatterpolar\":[{\"type\":\"scatterpolar\",\"marker\":{\"colorbar\":{\"outlinewidth\":0,\"ticks\":\"\"}}}],\"histogram\":[{\"marker\":{\"pattern\":{\"fillmode\":\"overlay\",\"size\":10,\"solidity\":0.2}},\"type\":\"histogram\"}],\"scattergl\":[{\"type\":\"scattergl\",\"marker\":{\"colorbar\":{\"outlinewidth\":0,\"ticks\":\"\"}}}],\"scatter3d\":[{\"type\":\"scatter3d\",\"line\":{\"colorbar\":{\"outlinewidth\":0,\"ticks\":\"\"}},\"marker\":{\"colorbar\":{\"outlinewidth\":0,\"ticks\":\"\"}}}],\"scattermapbox\":[{\"type\":\"scattermapbox\",\"marker\":{\"colorbar\":{\"outlinewidth\":0,\"ticks\":\"\"}}}],\"scatterternary\":[{\"type\":\"scatterternary\",\"marker\":{\"colorbar\":{\"outlinewidth\":0,\"ticks\":\"\"}}}],\"scattercarpet\":[{\"type\":\"scattercarpet\",\"marker\":{\"colorbar\":{\"outlinewidth\":0,\"ticks\":\"\"}}}],\"carpet\":[{\"aaxis\":{\"endlinecolor\":\"#2a3f5f\",\"gridcolor\":\"white\",\"linecolor\":\"white\",\"minorgridcolor\":\"white\",\"startlinecolor\":\"#2a3f5f\"},\"baxis\":{\"endlinecolor\":\"#2a3f5f\",\"gridcolor\":\"white\",\"linecolor\":\"white\",\"minorgridcolor\":\"white\",\"startlinecolor\":\"#2a3f5f\"},\"type\":\"carpet\"}],\"table\":[{\"cells\":{\"fill\":{\"color\":\"#EBF0F8\"},\"line\":{\"color\":\"white\"}},\"header\":{\"fill\":{\"color\":\"#C8D4E3\"},\"line\":{\"color\":\"white\"}},\"type\":\"table\"}],\"barpolar\":[{\"marker\":{\"line\":{\"color\":\"#E5ECF6\",\"width\":0.5},\"pattern\":{\"fillmode\":\"overlay\",\"size\":10,\"solidity\":0.2}},\"type\":\"barpolar\"}],\"pie\":[{\"automargin\":true,\"type\":\"pie\"}]},\"layout\":{\"autotypenumbers\":\"strict\",\"colorway\":[\"#636efa\",\"#EF553B\",\"#00cc96\",\"#ab63fa\",\"#FFA15A\",\"#19d3f3\",\"#FF6692\",\"#B6E880\",\"#FF97FF\",\"#FECB52\"],\"font\":{\"color\":\"#2a3f5f\"},\"hovermode\":\"closest\",\"hoverlabel\":{\"align\":\"left\"},\"paper_bgcolor\":\"white\",\"plot_bgcolor\":\"#E5ECF6\",\"polar\":{\"bgcolor\":\"#E5ECF6\",\"angularaxis\":{\"gridcolor\":\"white\",\"linecolor\":\"white\",\"ticks\":\"\"},\"radialaxis\":{\"gridcolor\":\"white\",\"linecolor\":\"white\",\"ticks\":\"\"}},\"ternary\":{\"bgcolor\":\"#E5ECF6\",\"aaxis\":{\"gridcolor\":\"white\",\"linecolor\":\"white\",\"ticks\":\"\"},\"baxis\":{\"gridcolor\":\"white\",\"linecolor\":\"white\",\"ticks\":\"\"},\"caxis\":{\"gridcolor\":\"white\",\"linecolor\":\"white\",\"ticks\":\"\"}},\"coloraxis\":{\"colorbar\":{\"outlinewidth\":0,\"ticks\":\"\"}},\"colorscale\":{\"sequential\":[[0.0,\"#0d0887\"],[0.1111111111111111,\"#46039f\"],[0.2222222222222222,\"#7201a8\"],[0.3333333333333333,\"#9c179e\"],[0.4444444444444444,\"#bd3786\"],[0.5555555555555556,\"#d8576b\"],[0.6666666666666666,\"#ed7953\"],[0.7777777777777778,\"#fb9f3a\"],[0.8888888888888888,\"#fdca26\"],[1.0,\"#f0f921\"]],\"sequentialminus\":[[0.0,\"#0d0887\"],[0.1111111111111111,\"#46039f\"],[0.2222222222222222,\"#7201a8\"],[0.3333333333333333,\"#9c179e\"],[0.4444444444444444,\"#bd3786\"],[0.5555555555555556,\"#d8576b\"],[0.6666666666666666,\"#ed7953\"],[0.7777777777777778,\"#fb9f3a\"],[0.8888888888888888,\"#fdca26\"],[1.0,\"#f0f921\"]],\"diverging\":[[0,\"#8e0152\"],[0.1,\"#c51b7d\"],[0.2,\"#de77ae\"],[0.3,\"#f1b6da\"],[0.4,\"#fde0ef\"],[0.5,\"#f7f7f7\"],[0.6,\"#e6f5d0\"],[0.7,\"#b8e186\"],[0.8,\"#7fbc41\"],[0.9,\"#4d9221\"],[1,\"#276419\"]]},\"xaxis\":{\"gridcolor\":\"white\",\"linecolor\":\"white\",\"ticks\":\"\",\"title\":{\"standoff\":15},\"zerolinecolor\":\"white\",\"automargin\":true,\"zerolinewidth\":2},\"yaxis\":{\"gridcolor\":\"white\",\"linecolor\":\"white\",\"ticks\":\"\",\"title\":{\"standoff\":15},\"zerolinecolor\":\"white\",\"automargin\":true,\"zerolinewidth\":2},\"scene\":{\"xaxis\":{\"backgroundcolor\":\"#E5ECF6\",\"gridcolor\":\"white\",\"linecolor\":\"white\",\"showbackground\":true,\"ticks\":\"\",\"zerolinecolor\":\"white\",\"gridwidth\":2},\"yaxis\":{\"backgroundcolor\":\"#E5ECF6\",\"gridcolor\":\"white\",\"linecolor\":\"white\",\"showbackground\":true,\"ticks\":\"\",\"zerolinecolor\":\"white\",\"gridwidth\":2},\"zaxis\":{\"backgroundcolor\":\"#E5ECF6\",\"gridcolor\":\"white\",\"linecolor\":\"white\",\"showbackground\":true,\"ticks\":\"\",\"zerolinecolor\":\"white\",\"gridwidth\":2}},\"shapedefaults\":{\"line\":{\"color\":\"#2a3f5f\"}},\"annotationdefaults\":{\"arrowcolor\":\"#2a3f5f\",\"arrowhead\":0,\"arrowwidth\":1},\"geo\":{\"bgcolor\":\"white\",\"landcolor\":\"#E5ECF6\",\"subunitcolor\":\"white\",\"showland\":true,\"showlakes\":true,\"lakecolor\":\"white\"},\"title\":{\"x\":0.05},\"mapbox\":{\"style\":\"light\"}}},\"mapbox\":{\"domain\":{\"x\":[0.0,1.0],\"y\":[0.0,1.0]},\"center\":{\"lat\":40.43666709430434,\"lon\":-79.9721215228696},\"zoom\":8,\"style\":\"open-street-map\"},\"legend\":{\"title\":{\"text\":\"OwnerInfo\"},\"tracegroupgap\":0},\"margin\":{\"t\":60},\"title\":{\"text\":\"Map\",\"x\":0.5},\"showlegend\":false},                        {\"responsive\": true}                    ).then(function(){\n",
       "                            \n",
       "var gd = document.getElementById('059db3f0-6968-48d9-9880-f03b009fb2fa');\n",
       "var x = new MutationObserver(function (mutations, observer) {{\n",
       "        var display = window.getComputedStyle(gd).display;\n",
       "        if (!display || display === 'none') {{\n",
       "            console.log([gd, 'removed!']);\n",
       "            Plotly.purge(gd);\n",
       "            observer.disconnect();\n",
       "        }}\n",
       "}});\n",
       "\n",
       "// Listen for the removal of the full notebook cells\n",
       "var notebookContainer = gd.closest('#notebook-container');\n",
       "if (notebookContainer) {{\n",
       "    x.observe(notebookContainer, {childList: true});\n",
       "}}\n",
       "\n",
       "// Listen for the clearing of the current output cell\n",
       "var outputEl = gd.closest('.output');\n",
       "if (outputEl) {{\n",
       "    x.observe(outputEl, {childList: true});\n",
       "}}\n",
       "\n",
       "                        })                };                });            </script>        </div>"
      ]
     },
     "metadata": {},
     "output_type": "display_data"
    }
   ],
   "source": [
    "#map where each owner is a different color (colors don't mean anything)\n",
    "fig = px.scatter_mapbox(mergedhousestomap,lat='Lat',lon='Lon', hover_name=\"OwnerInfo\",color='OwnerInfo')\n",
    "fig.update_layout(title = 'Map', title_x=0.5)\n",
    "fig.update_layout(mapbox_style=\"open-street-map\")\n",
    "fig.update_layout(showlegend=False)\n",
    "fig.show()"
   ]
  },
  {
   "cell_type": "code",
   "execution_count": 122,
   "id": "7e5aa11e",
   "metadata": {},
   "outputs": [
    {
     "data": {
      "application/vnd.plotly.v1+json": {
       "config": {
        "plotlyServerURL": "https://plot.ly"
       },
       "data": [
        {
         "hovertemplate": "<b>%{hovertext}</b><br><br>Lat=%{lat}<br>Lon=%{lon}<br>NumPropertiesOwned=%{marker.color}<extra></extra>",
         "hovertext": [
          "380   HAMILTON AVE  UNIT 328    PALO ALTO CA   94302.0",
          "380   HAMILTON AVE  UNIT 328    PALO ALTO CA   94302.0",
          "380   HAMILTON AVE  UNIT 328    PALO ALTO CA   94302.0",
          "380   HAMILTON AVE  UNIT 328    PALO ALTO CA   94302.0",
          "380   HAMILTON AVE  UNIT 328    PALO ALTO CA   94302.0",
          "380   HAMILTON AVE  UNIT 328    PALO ALTO CA   94302.0",
          "1101  S CAPITAL OF TEXAS HWY  STE B-220    AUSTIN TX   78746.0",
          "380   HAMILTON AVE  UNIT 328    PALO ALTO CA   94302.0",
          "414   GRANT ST  RM 200  CITY-COUNTY BUILDING  PITTSBURGH PA   15219.0",
          "8   CHURCHILL RD       PITTSBURGH PA   15235.0",
          "8   CHURCHILL RD       PITTSBURGH PA   15235.0",
          "   PO BOX 40206        PITTSBURGH PA   15201.0",
          "1101  S CAPITAL OF TEXAS HWY  STE B-220    AUSTIN TX   78746.0",
          "1501   ARDMORE BLVD  STE 400    PITTSBURGH PA   15221.0",
          "2116   MERRIMAN WAY       PITTSBURGH PA   15203.0",
          "1101  S CAPITAL OF TEXAS HWY  STE B-220    AUSTIN TX   78746.0",
          "8   CHURCHILL RD       PITTSBURGH PA   15235.0",
          "1101  S CAPITAL OF TEXAS HWY  STE B-220    AUSTIN TX   78746.0",
          "1501   ARDMORE BLVD  STE 400    PITTSBURGH PA   15221.0",
          "1101  S CAPITAL OF TEXAS HWY  STE B-220    AUSTIN TX   78746.0",
          "1101  S CAPITAL OF TEXAS HWY  STE B-220    AUSTIN TX   78746.0",
          "1501   ARDMORE BLVD  STE 400    PITTSBURGH PA   15221.0",
          "   PO BOX 40206        PITTSBURGH PA   15201.0",
          "2116   MERRIMAN WAY       PITTSBURGH PA   15203.0",
          "1101  S CAPITAL OF TEXAS HWY  STE B-220    AUSTIN TX   78746.0",
          "   PO BOX 40206        PITTSBURGH PA   15201.0",
          "8   CHURCHILL RD       PITTSBURGH PA   15235.0",
          "   PO BOX 40206        PITTSBURGH PA   15201.0",
          "8   CHURCHILL RD       PITTSBURGH PA   15235.0",
          "2116   MERRIMAN WAY       PITTSBURGH PA   15203.0",
          "2116   MERRIMAN WAY       PITTSBURGH PA   15203.0",
          "2116   MERRIMAN WAY       PITTSBURGH PA   15203.0",
          "2116   MERRIMAN WAY       PITTSBURGH PA   15203.0",
          "2116   MERRIMAN WAY       PITTSBURGH PA   15203.0",
          "   PO BOX 40206        PITTSBURGH PA   15201.0",
          "1812  E CARSON ST       PITTSBURGH PA   15203.0",
          "2116   MERRIMAN WAY       PITTSBURGH PA   15203.0",
          "2116   MERRIMAN WAY       PITTSBURGH PA   15203.0",
          "   PO BOX 40206        PITTSBURGH PA   15201.0",
          "   PO BOX 40206        PITTSBURGH PA   15201.0",
          "   PO BOX 40206        PITTSBURGH PA   15201.0",
          "   PO BOX 40206        PITTSBURGH PA   15201.0",
          "   PO BOX 40206        PITTSBURGH PA   15201.0",
          "   PO BOX 40206        PITTSBURGH PA   15201.0",
          "8   CHURCHILL RD       PITTSBURGH PA   15235.0",
          "8   CHURCHILL RD       PITTSBURGH PA   15235.0",
          "8   CHURCHILL RD       PITTSBURGH PA   15235.0",
          "   PO BOX 40206        PITTSBURGH PA   15201.0",
          "   PO BOX 40206        PITTSBURGH PA   15201.0",
          "2116   MERRIMAN WAY       PITTSBURGH PA   15203.0",
          "   PO BOX 40206        PITTSBURGH PA   15201.0",
          "   PO BOX 40206        PITTSBURGH PA   15201.0",
          "6015   SPIRIT ST  STE 202    PITTSBURGH PA   15206.0",
          "6015   SPIRIT ST  STE 202    PITTSBURGH PA   15206.0",
          "   PO BOX 40206        PITTSBURGH PA   15201.0",
          "   PO BOX 40206        PITTSBURGH PA   15201.0",
          "1812  E CARSON ST       PITTSBURGH PA   15203.0",
          "1812  E CARSON ST       PITTSBURGH PA   15203.0",
          "202   MAIN ENTRANCE DR       PITTSBURGH PA   15228.0",
          "829   INDUSTRY ST       PITTSBURGH PA   15210.0",
          "1812  E CARSON ST       PITTSBURGH PA   15203.0",
          "6247   IVAR AVE       TEMPLE CITY CA   91780.0",
          "829   INDUSTRY ST       PITTSBURGH PA   15210.0",
          "829   INDUSTRY ST       PITTSBURGH PA   15210.0",
          "829   INDUSTRY ST       PITTSBURGH PA   15210.0",
          "829   INDUSTRY ST       PITTSBURGH PA   15210.0",
          "829   INDUSTRY ST       PITTSBURGH PA   15210.0",
          "414   GRANT ST  RM 200  CITY-COUNTY BUILDING  PITTSBURGH PA   15219.0",
          "829   INDUSTRY ST       PITTSBURGH PA   15210.0",
          "1812  E CARSON ST       PITTSBURGH PA   15203.0",
          "10315   LINDBERG AVE       PITTSBURGH PA   15235.0",
          "1101  S CAPITAL OF TEXAS HWY  STE B-220    AUSTIN TX   78746.0",
          "   PO BOX 184        INGOMAR PA   15127.0",
          "202   MAIN ENTRANCE DR       PITTSBURGH PA   15228.0",
          "10315   LINDBERG AVE       PITTSBURGH PA   15235.0",
          "1812  E CARSON ST       PITTSBURGH PA   15203.0",
          "6015   SPIRIT ST  STE 202    PITTSBURGH PA   15206.0",
          "10315   LINDBERG AVE       PITTSBURGH PA   15235.0",
          "1812  E CARSON ST       PITTSBURGH PA   15203.0",
          "1812  E CARSON ST       PITTSBURGH PA   15203.0",
          "552   WASHINGTON AVE       CARNEGIE PA   15106.0",
          "10315   LINDBERG AVE       PITTSBURGH PA   15235.0",
          "552   WASHINGTON AVE       CARNEGIE PA   15106.0",
          "414   GRANT ST  RM 200  CITY-COUNTY BUILDING  PITTSBURGH PA   15219.0",
          "6015   SPIRIT ST  STE 202    PITTSBURGH PA   15206.0",
          "414   GRANT ST  RM 200  CITY-COUNTY BUILDING  PITTSBURGH PA   15219.0",
          "552   WASHINGTON AVE       CARNEGIE PA   15106.0",
          "1812  E CARSON ST       PITTSBURGH PA   15203.0",
          "1812  E CARSON ST       PITTSBURGH PA   15203.0",
          "414   GRANT ST  RM 200  CITY-COUNTY BUILDING  PITTSBURGH PA   15219.0",
          "   PO BOX 11        IMPERIAL PA   15126.0",
          "1300   BRIGHTON RD       PITTSBURGH PA   15233.0",
          "1300   BRIGHTON RD       PITTSBURGH PA   15233.0",
          "1300   BRIGHTON RD       PITTSBURGH PA   15233.0",
          "1300   BRIGHTON RD       PITTSBURGH PA   15233.0",
          "1300   BRIGHTON RD       PITTSBURGH PA   15233.0",
          "414   GRANT ST  RM 200  CITY-COUNTY BUILDING  PITTSBURGH PA   15219.0",
          "1300   BRIGHTON RD       PITTSBURGH PA   15233.0",
          "1812  E CARSON ST       PITTSBURGH PA   15203.0",
          "202   MAIN ENTRANCE DR       PITTSBURGH PA   15228.0",
          "1300   BRIGHTON RD       PITTSBURGH PA   15233.0",
          "1812  E CARSON ST       PITTSBURGH PA   15203.0",
          "2116   MERRIMAN WAY       PITTSBURGH PA   15203.0",
          "1812  E CARSON ST       PITTSBURGH PA   15203.0",
          "829   INDUSTRY ST       PITTSBURGH PA   15210.0",
          "1812  E CARSON ST       PITTSBURGH PA   15203.0",
          "552   WASHINGTON AVE       CARNEGIE PA   15106.0",
          "   PO BOX 11        IMPERIAL PA   15126.0",
          "1812  E CARSON ST       PITTSBURGH PA   15203.0",
          "1812  E CARSON ST       PITTSBURGH PA   15203.0",
          "1812  E CARSON ST       PITTSBURGH PA   15203.0",
          "1179   DESIDERIO BLVD       CLAIRTON PA   15025.0",
          "1179   DESIDERIO BLVD       CLAIRTON PA   15025.0",
          "1179   DESIDERIO BLVD       CLAIRTON PA   15025.0",
          "1179   DESIDERIO BLVD       CLAIRTON PA   15025.0",
          "1179   DESIDERIO BLVD       CLAIRTON PA   15025.0",
          "1179   DESIDERIO BLVD       CLAIRTON PA   15025.0",
          "1179   DESIDERIO BLVD       CLAIRTON PA   15025.0",
          "6247   IVAR AVE       TEMPLE CITY CA   91780.0",
          "6015   SPIRIT ST  STE 202    PITTSBURGH PA   15206.0",
          "6015   SPIRIT ST  STE 202    PITTSBURGH PA   15206.0",
          "202   MAIN ENTRANCE DR       PITTSBURGH PA   15228.0",
          "1812  E CARSON ST       PITTSBURGH PA   15203",
          "1812  E CARSON ST       PITTSBURGH PA   15203",
          "1812  E CARSON ST       PITTSBURGH PA   15203",
          "6247   IVAR AVE       TEMPLE CITY CA   91780.0",
          "552   WASHINGTON AVE       CARNEGIE PA   15106.0",
          "1812  E CARSON ST       PITTSBURGH PA   15203.0",
          "1812  E CARSON ST       PITTSBURGH PA   15203.0",
          "1812  E CARSON ST       PITTSBURGH PA   15203.0",
          "6015   SPIRIT ST  STE 202    PITTSBURGH PA   15206.0",
          "552   WASHINGTON AVE       CARNEGIE PA   15106.0",
          "1812  E CARSON ST       PITTSBURGH PA   15203.0",
          "1812  E CARSON ST       PITTSBURGH PA   15203.0",
          "1812  E CARSON ST       PITTSBURGH PA   15203.0",
          "1812  E CARSON ST       PITTSBURGH PA   15203.0",
          "   PO BOX 11        IMPERIAL PA   15126.0",
          "6015   SPIRIT ST  STE 202    PITTSBURGH PA   15206.0",
          "6247   IVAR AVE       TEMPLE CITY CA   91780.0",
          "6247   IVAR AVE       TEMPLE CITY CA   91780.0",
          "202   MAIN ENTRANCE DR       PITTSBURGH PA   15228.0",
          "202   MAIN ENTRANCE DR       PITTSBURGH PA   15228.0",
          "1812  E CARSON ST       PITTSBURGH PA   15203.0",
          "1812  E CARSON ST       PITTSBURGH PA   15203.0",
          "202   MAIN ENTRANCE DR       PITTSBURGH PA   15228.0",
          "202   MAIN ENTRANCE DR       PITTSBURGH PA   15228.0",
          "1812  E CARSON ST       PITTSBURGH PA   15203.0",
          "829   INDUSTRY ST       PITTSBURGH PA   15210.0",
          "552   WASHINGTON AVE       CARNEGIE PA   15106.0",
          "6015   SPIRIT ST  STE 202    PITTSBURGH PA   15206.0",
          "1812  E CARSON ST       PITTSBURGH PA   15203.0",
          "   PO BOX 11        IMPERIAL PA   15126.0",
          "552   WASHINGTON AVE       CARNEGIE PA   15106.0",
          "1812  E CARSON ST       PITTSBURGH PA   15203.0",
          "1812  E CARSON ST       PITTSBURGH PA   15203.0",
          "1812  E CARSON ST       PITTSBURGH PA   15203",
          "   PO BOX 892        TWIN PEAKS CA   92391.0",
          "   PO BOX 892        TWIN PEAKS CA   92391.0",
          "2116   MERRIMAN WAY       PITTSBURGH PA   15203.0",
          "   PO BOX 892        TWIN PEAKS CA   92391.0",
          "   PO BOX 11        IMPERIAL PA   15126.0",
          "   PO BOX 184        INGOMAR PA   15127.0",
          "   PO BOX 11        IMPERIAL PA   15126.0",
          "2116   MERRIMAN WAY       PITTSBURGH PA   15203.0",
          "1812  E CARSON ST       PITTSBURGH PA   15203",
          "1812  E CARSON ST       PITTSBURGH PA   15203",
          "   PO BOX 892        TWIN PEAKS CA   92391.0",
          "1812  E CARSON ST       PITTSBURGH PA   15203.0",
          "1812  E CARSON ST       PITTSBURGH PA   15203.0",
          "   PO BOX 184        INGOMAR PA   15127.0",
          "552   WASHINGTON AVE       CARNEGIE PA   15106.0",
          "552   WASHINGTON AVE       CARNEGIE PA   15106.0",
          "1300   BRIGHTON RD       PITTSBURGH PA   15233.0",
          "   PO BOX 184        INGOMAR PA   15127.0",
          "   PO BOX 184        INGOMAR PA   15127.0",
          "   PO BOX 184        INGOMAR PA   15127.0",
          "1812  E CARSON ST       PITTSBURGH PA   15203.0",
          "   PO BOX 892        TWIN PEAKS CA   92391.0",
          "   PO BOX 892        TWIN PEAKS CA   92391.0",
          "   PO BOX 892        TWIN PEAKS CA   92391.0",
          "1812  E CARSON ST       PITTSBURGH PA   15203.0",
          "202   MAIN ENTRANCE DR       PITTSBURGH PA   15228.0",
          "10315   LINDBERG AVE       PITTSBURGH PA   15235.0",
          "202   MAIN ENTRANCE DR       PITTSBURGH PA   15228.0",
          "1812  E CARSON ST       PITTSBURGH PA   15203.0",
          "552   WASHINGTON AVE       CARNEGIE PA   15106.0",
          "1812  E CARSON ST       PITTSBURGH PA   15203.0",
          "1501   ARDMORE BLVD  STE 400    PITTSBURGH PA   15221.0",
          "6247   IVAR AVE       TEMPLE CITY CA   91780.0",
          "   PO BOX 40206        PITTSBURGH PA   15201.0",
          "2116   MERRIMAN WAY       PITTSBURGH PA   15203.0",
          "1101  S CAPITAL OF TEXAS HWY  STE B-220    AUSTIN TX   78746.0",
          "1812  E CARSON ST       PITTSBURGH PA   15203.0",
          "829   INDUSTRY ST       PITTSBURGH PA   15210.0",
          "10315   LINDBERG AVE       PITTSBURGH PA   15235.0",
          "202   MAIN ENTRANCE DR       PITTSBURGH PA   15228.0",
          "10315   LINDBERG AVE       PITTSBURGH PA   15235.0",
          "552   WASHINGTON AVE       CARNEGIE PA   15106.0",
          "   PO BOX 11        IMPERIAL PA   15126.0",
          "1812  E CARSON ST       PITTSBURGH PA   15203.0",
          "414   GRANT ST  RM 200  CITY-COUNTY BUILDING  PITTSBURGH PA   15219.0",
          "1501   ARDMORE BLVD  STE 400    PITTSBURGH PA   15221.0",
          "10315   LINDBERG AVE       PITTSBURGH PA   15235.0",
          "1812  E CARSON ST       PITTSBURGH PA   15203.0",
          "1812  E CARSON ST       PITTSBURGH PA   15203.0",
          "   PO BOX 40206        PITTSBURGH PA   15201.0",
          "1812  E CARSON ST       PITTSBURGH PA   15203.0",
          "552   WASHINGTON AVE       CARNEGIE PA   15106.0",
          "2116   MERRIMAN WAY       PITTSBURGH PA   15203.0",
          "1179   DESIDERIO BLVD       CLAIRTON PA   15025.0",
          "1812  E CARSON ST       PITTSBURGH PA   15203.0",
          "1812  E CARSON ST       PITTSBURGH PA   15203.0",
          "1101  S CAPITAL OF TEXAS HWY  STE B-220    AUSTIN TX   78746.0",
          "6015   SPIRIT ST  STE 202    PITTSBURGH PA   15206.0",
          "202   MAIN ENTRANCE DR       PITTSBURGH PA   15228.0",
          "1101  S CAPITAL OF TEXAS HWY  STE B-220    AUSTIN TX   78746.0",
          "1812  E CARSON ST       PITTSBURGH PA   15203.0",
          "6015   SPIRIT ST  STE 202    PITTSBURGH PA   15206.0",
          "1812  E CARSON ST       PITTSBURGH PA   15203.0",
          "10315   LINDBERG AVE       PITTSBURGH PA   15235.0",
          "1101  S CAPITAL OF TEXAS HWY  STE B-220    AUSTIN TX   78746.0",
          "1101  S CAPITAL OF TEXAS HWY  STE B-220    AUSTIN TX   78746.0",
          "1812  E CARSON ST       PITTSBURGH PA   15203.0",
          "6247   IVAR AVE       TEMPLE CITY CA   91780.0",
          "414   GRANT ST  RM 200  CITY-COUNTY BUILDING  PITTSBURGH PA   15219.0",
          "552   WASHINGTON AVE       CARNEGIE PA   15106.0",
          "1101  S CAPITAL OF TEXAS HWY  STE B-220    AUSTIN TX   78746.0",
          "   PO BOX 11        IMPERIAL PA   15126.0",
          "   PO BOX 184        INGOMAR PA   15127.0",
          "1501   ARDMORE BLVD  STE 400    PITTSBURGH PA   15221.0"
         ],
         "lat": [
          40.43165964,
          40.4382081,
          40.4382081,
          40.43273909,
          40.4382081,
          40.4382081,
          40.437223,
          40.43489415,
          40.4519967,
          40.4532635,
          40.45328738,
          40.4549989,
          40.455285,
          40.4565946,
          40.45983437,
          40.45579067,
          40.45657293,
          40.45512802,
          40.45053895,
          40.4536063,
          40.45365065,
          40.46163755,
          40.46150201,
          40.45900704,
          40.4601288,
          40.4597929,
          40.46209481,
          40.46153545,
          40.45820005,
          40.464633,
          40.4790145,
          40.48047511,
          40.46389398,
          40.46369506,
          40.47855813,
          40.4733157,
          40.472868,
          40.4707805,
          40.4753879,
          40.469098,
          40.425102,
          40.425137,
          40.4263044,
          40.45370985,
          40.45543549,
          40.45551097,
          40.4541224,
          40.44040154,
          40.44035124,
          40.44463132,
          40.4401673,
          40.4326238,
          40.42331986,
          40.407719,
          40.42499954,
          40.42947494,
          40.41959351,
          40.427037,
          40.42461,
          40.42393041,
          40.42684909,
          40.42441524,
          40.42071228,
          40.42151804,
          40.42209933,
          40.42060329,
          40.42081025,
          40.41027172,
          40.42268131,
          40.42337569,
          40.4254513,
          40.42483122,
          40.4242305,
          40.41064297,
          40.41018423,
          40.41183084,
          40.4118511,
          40.4102345,
          40.4014811,
          40.3998468,
          40.39591089,
          40.39440761,
          40.45212579,
          40.45661657,
          40.45499,
          40.45522945,
          40.44536375,
          40.44968329,
          40.443244,
          40.44494159,
          40.46679581,
          40.46184727,
          40.46650661,
          40.4643629,
          40.45811617,
          40.4600486,
          40.46858895,
          40.46732849,
          40.467531,
          40.45980366,
          40.4561442,
          40.47405902,
          40.415118,
          40.38716708,
          40.4022654,
          40.38144725,
          40.3963013,
          40.42646454,
          40.39645382,
          40.3966958,
          40.36701076,
          40.2876072,
          40.2874865,
          40.2877295,
          40.28796976,
          40.2874562,
          40.2874476,
          40.2871096,
          40.43958562,
          40.49017,
          40.49001,
          40.4508645,
          40.40518,
          40.40628075,
          40.402015,
          40.38246,
          40.37995,
          40.4971,
          40.4830323,
          40.50329,
          40.40861,
          40.4056093,
          40.51899095,
          40.5181513,
          40.38527,
          40.4412977,
          40.4359,
          40.43745,
          40.43615,
          40.4398425,
          40.39738,
          40.40561,
          40.417509,
          40.3995963,
          40.40680396,
          40.40559195,
          40.4878,
          40.40145266,
          40.4127351,
          40.41698,
          40.41937,
          40.47518135,
          40.46401765,
          40.4730605,
          40.4731502,
          40.40614069,
          40.40328329,
          40.40328823,
          40.40333766,
          40.40216132,
          40.4635458,
          40.54204163,
          40.44452482,
          40.44627,
          40.41934,
          40.41922,
          40.44698,
          40.51959,
          40.34682,
          40.59958,
          40.4703704,
          40.4703704,
          40.46730956,
          40.58223,
          40.58561,
          40.57896,
          40.47091,
          40.46327,
          40.39679945,
          40.39679891,
          40.46516,
          40.4752,
          40.32737,
          40.4412977,
          40.41647635,
          40.47454,
          40.48999,
          40.45462038,
          40.41351835,
          40.4599042,
          40.4845912,
          40.43538842,
          40.50431,
          40.4022654,
          40.41261,
          40.42676142,
          40.425457,
          40.40888131,
          40.42183206,
          40.4016611,
          40.41216655,
          40.47335465,
          40.40271289,
          40.5150487,
          40.5063075,
          40.42336747,
          40.40612948,
          40.42917337,
          40.47244721,
          40.2877764,
          40.47102,
          40.42707,
          40.45511641,
          40.4184911,
          40.408705,
          40.45159546,
          40.40938648,
          40.43759,
          40.43166506,
          40.39259797,
          40.45543528,
          40.4371845,
          40.40914,
          40.41325005,
          40.444461,
          40.4703704,
          40.4023245,
          40.40490987,
          40.56881,
          40.45279571
         ],
         "legendgroup": "",
         "lon": [
          -79.95390991,
          -79.9519543,
          -79.9519543,
          -79.95267898,
          -79.9519543,
          -79.9519543,
          -79.954705,
          -79.95217246,
          -79.9606193,
          -79.9352324,
          -79.93539388,
          -79.93412338,
          -79.930419,
          -79.92098201,
          -79.95051801,
          -79.92986444,
          -79.92534685,
          -79.93032764,
          -79.93282981,
          -79.92243885,
          -79.92232597,
          -79.93756313,
          -79.93624139,
          -79.95191241,
          -79.93166147,
          -79.931994,
          -79.93047973,
          -79.93056228,
          -79.94440745,
          -79.94843625,
          -79.95423241,
          -79.95363489,
          -79.95509448,
          -79.95115652,
          -79.94133934,
          -79.92630879,
          -79.92758265,
          -79.9179566,
          -79.91934004,
          -79.921413,
          -79.917008,
          -79.917219,
          -79.92410177,
          -79.90415015,
          -79.90997859,
          -79.91017787,
          -79.9090515,
          -79.89764202,
          -79.89765872,
          -79.8939922,
          -79.89471106,
          -79.9140212,
          -79.94853012,
          -79.947369,
          -79.9309253,
          -79.97571514,
          -79.9719959,
          -79.987581,
          -79.984687,
          -79.98993502,
          -79.97749745,
          -79.97961206,
          -79.99509082,
          -79.99728979,
          -79.99592989,
          -79.98491343,
          -79.98881826,
          -80.00649171,
          -80.00090548,
          -80.00189061,
          -80.00374137,
          -80.00980374,
          -80.00931293,
          -80.0249041,
          -80.01903095,
          -80.02002092,
          -80.02635057,
          -80.0271985,
          -80.0321141,
          -80.0287557,
          -80.02801681,
          -80.02076824,
          -80.05880712,
          -80.05361206,
          -80.04993,
          -80.06128272,
          -80.038387,
          -80.04131308,
          -80.04373,
          -80.03407677,
          -79.9805861,
          -80.01867655,
          -80.01595034,
          -80.0196711,
          -80.01232305,
          -80.0178885,
          -80.00751385,
          -80.01779411,
          -80.00838235,
          -79.9928428,
          -80.00884433,
          -80.03860224,
          -79.993182,
          -79.97731342,
          -79.9884792,
          -79.98066871,
          -79.98630239,
          -80.06224039,
          -79.99023622,
          -79.98444855,
          -79.91732494,
          -79.8936405,
          -79.8945223,
          -79.8934138,
          -79.89492379,
          -79.8969918,
          -79.8941786,
          -79.8969889,
          -80.05495038,
          -80.05362,
          -80.05354,
          -80.0008851,
          -80.08237,
          -80.07962425,
          -80.094723,
          -79.97498,
          -79.9739,
          -80.06442,
          -80.0411547,
          -80.06888,
          -79.83916,
          -80.09225953,
          -80.1592385,
          -80.16431148,
          -79.976352,
          -80.0364129,
          -80.06913,
          -80.06683,
          -80.07413,
          -80.0221303,
          -80.03294,
          -79.90276,
          -79.98480354,
          -79.9021025,
          -79.94446315,
          -79.90458795,
          -79.97295,
          -79.91180252,
          -80.0892293,
          -79.98471,
          -79.84509,
          -80.05586957,
          -80.07116327,
          -80.05362935,
          -80.05370201,
          -79.82201443,
          -79.77737627,
          -79.77734808,
          -79.7770662,
          -79.77959373,
          -79.9523247,
          -79.78611745,
          -79.87901833,
          -79.86958,
          -79.88395,
          -79.88189,
          -79.86152,
          -80.03007,
          -79.9547,
          -79.96881,
          -80.0775479,
          -80.0775479,
          -80.01784867,
          -80.04801,
          -80.05408,
          -80.04365,
          -79.7881,
          -79.83893,
          -79.84453145,
          -79.84452291,
          -79.82023,
          -79.9868568,
          -79.98866,
          -80.0364129,
          -80.025348,
          -80.07948,
          -80.08072,
          -79.92979819,
          -80.0269228,
          -79.93180038,
          -79.9456663,
          -79.95553997,
          -80.20069,
          -79.9884792,
          -79.84315,
          -79.97890218,
          -79.92695,
          -80.09199943,
          -79.99999507,
          -80.03223719,
          -80.0240505,
          -79.92641437,
          -79.7817319,
          -80.15734012,
          -80.14967552,
          -79.94141447,
          -79.99179022,
          -80.07092518,
          -79.92483601,
          -79.8937426,
          -79.78843,
          -79.980621,
          -79.93008341,
          -80.01381392,
          -79.90686171,
          -79.92890096,
          -79.98894105,
          -80.06709,
          -79.95390869,
          -80.02341715,
          -79.93573725,
          -79.9547445,
          -79.89607,
          -80.02556405,
          -80.041036,
          -80.0775479,
          -80.0402544,
          -79.91189109,
          -80.0554,
          -79.91392507
         ],
         "marker": {
          "color": [
           7,
           7,
           7,
           7,
           7,
           7,
           14,
           7,
           8,
           8,
           8,
           19,
           14,
           6,
           15,
           14,
           8,
           14,
           6,
           14,
           14,
           6,
           19,
           15,
           14,
           19,
           8,
           19,
           8,
           15,
           15,
           15,
           15,
           15,
           19,
           46,
           15,
           15,
           19,
           19,
           19,
           19,
           19,
           19,
           8,
           8,
           8,
           19,
           19,
           15,
           19,
           19,
           11,
           11,
           19,
           19,
           46,
           46,
           12,
           10,
           46,
           7,
           10,
           10,
           10,
           10,
           10,
           8,
           10,
           46,
           9,
           14,
           7,
           12,
           9,
           46,
           11,
           9,
           46,
           46,
           14,
           9,
           14,
           8,
           11,
           8,
           14,
           46,
           46,
           8,
           8,
           8,
           8,
           8,
           8,
           8,
           8,
           8,
           46,
           12,
           8,
           46,
           15,
           46,
           10,
           46,
           14,
           8,
           46,
           46,
           46,
           8,
           8,
           8,
           8,
           8,
           8,
           8,
           7,
           11,
           11,
           12,
           6,
           6,
           6,
           7,
           14,
           46,
           46,
           46,
           11,
           14,
           46,
           46,
           46,
           46,
           8,
           11,
           7,
           7,
           12,
           12,
           46,
           46,
           12,
           12,
           46,
           10,
           14,
           11,
           46,
           8,
           14,
           46,
           46,
           6,
           7,
           7,
           15,
           7,
           8,
           7,
           8,
           15,
           6,
           6,
           7,
           46,
           46,
           7,
           14,
           14,
           8,
           7,
           7,
           7,
           46,
           7,
           7,
           7,
           46,
           12,
           9,
           12,
           46,
           14,
           46,
           6,
           7,
           19,
           15,
           14,
           46,
           10,
           9,
           12,
           9,
           14,
           8,
           46,
           8,
           6,
           9,
           46,
           46,
           19,
           46,
           14,
           15,
           8,
           46,
           46,
           14,
           11,
           12,
           14,
           46,
           11,
           46,
           9,
           14,
           14,
           46,
           7,
           8,
           14,
           14,
           8,
           7,
           6
          ],
          "coloraxis": "coloraxis"
         },
         "mode": "markers",
         "name": "",
         "showlegend": false,
         "subplot": "mapbox",
         "type": "scattermapbox"
        }
       ],
       "layout": {
        "coloraxis": {
         "colorbar": {
          "title": {
           "text": "NumPropertiesOwned"
          }
         },
         "colorscale": [
          [
           0,
           "rgb(255,0,0)"
          ],
          [
           1,
           "rgb(0,0,255)"
          ]
         ]
        },
        "legend": {
         "tracegroupgap": 0
        },
        "mapbox": {
         "center": {
          "lat": 40.43666709430434,
          "lon": -79.9721215228696
         },
         "domain": {
          "x": [
           0,
           1
          ],
          "y": [
           0,
           1
          ]
         },
         "style": "open-street-map",
         "zoom": 8
        },
        "margin": {
         "t": 60
        },
        "showlegend": false,
        "template": {
         "data": {
          "bar": [
           {
            "error_x": {
             "color": "#2a3f5f"
            },
            "error_y": {
             "color": "#2a3f5f"
            },
            "marker": {
             "line": {
              "color": "#E5ECF6",
              "width": 0.5
             },
             "pattern": {
              "fillmode": "overlay",
              "size": 10,
              "solidity": 0.2
             }
            },
            "type": "bar"
           }
          ],
          "barpolar": [
           {
            "marker": {
             "line": {
              "color": "#E5ECF6",
              "width": 0.5
             },
             "pattern": {
              "fillmode": "overlay",
              "size": 10,
              "solidity": 0.2
             }
            },
            "type": "barpolar"
           }
          ],
          "carpet": [
           {
            "aaxis": {
             "endlinecolor": "#2a3f5f",
             "gridcolor": "white",
             "linecolor": "white",
             "minorgridcolor": "white",
             "startlinecolor": "#2a3f5f"
            },
            "baxis": {
             "endlinecolor": "#2a3f5f",
             "gridcolor": "white",
             "linecolor": "white",
             "minorgridcolor": "white",
             "startlinecolor": "#2a3f5f"
            },
            "type": "carpet"
           }
          ],
          "choropleth": [
           {
            "colorbar": {
             "outlinewidth": 0,
             "ticks": ""
            },
            "type": "choropleth"
           }
          ],
          "contour": [
           {
            "colorbar": {
             "outlinewidth": 0,
             "ticks": ""
            },
            "colorscale": [
             [
              0,
              "#0d0887"
             ],
             [
              0.1111111111111111,
              "#46039f"
             ],
             [
              0.2222222222222222,
              "#7201a8"
             ],
             [
              0.3333333333333333,
              "#9c179e"
             ],
             [
              0.4444444444444444,
              "#bd3786"
             ],
             [
              0.5555555555555556,
              "#d8576b"
             ],
             [
              0.6666666666666666,
              "#ed7953"
             ],
             [
              0.7777777777777778,
              "#fb9f3a"
             ],
             [
              0.8888888888888888,
              "#fdca26"
             ],
             [
              1,
              "#f0f921"
             ]
            ],
            "type": "contour"
           }
          ],
          "contourcarpet": [
           {
            "colorbar": {
             "outlinewidth": 0,
             "ticks": ""
            },
            "type": "contourcarpet"
           }
          ],
          "heatmap": [
           {
            "colorbar": {
             "outlinewidth": 0,
             "ticks": ""
            },
            "colorscale": [
             [
              0,
              "#0d0887"
             ],
             [
              0.1111111111111111,
              "#46039f"
             ],
             [
              0.2222222222222222,
              "#7201a8"
             ],
             [
              0.3333333333333333,
              "#9c179e"
             ],
             [
              0.4444444444444444,
              "#bd3786"
             ],
             [
              0.5555555555555556,
              "#d8576b"
             ],
             [
              0.6666666666666666,
              "#ed7953"
             ],
             [
              0.7777777777777778,
              "#fb9f3a"
             ],
             [
              0.8888888888888888,
              "#fdca26"
             ],
             [
              1,
              "#f0f921"
             ]
            ],
            "type": "heatmap"
           }
          ],
          "heatmapgl": [
           {
            "colorbar": {
             "outlinewidth": 0,
             "ticks": ""
            },
            "colorscale": [
             [
              0,
              "#0d0887"
             ],
             [
              0.1111111111111111,
              "#46039f"
             ],
             [
              0.2222222222222222,
              "#7201a8"
             ],
             [
              0.3333333333333333,
              "#9c179e"
             ],
             [
              0.4444444444444444,
              "#bd3786"
             ],
             [
              0.5555555555555556,
              "#d8576b"
             ],
             [
              0.6666666666666666,
              "#ed7953"
             ],
             [
              0.7777777777777778,
              "#fb9f3a"
             ],
             [
              0.8888888888888888,
              "#fdca26"
             ],
             [
              1,
              "#f0f921"
             ]
            ],
            "type": "heatmapgl"
           }
          ],
          "histogram": [
           {
            "marker": {
             "pattern": {
              "fillmode": "overlay",
              "size": 10,
              "solidity": 0.2
             }
            },
            "type": "histogram"
           }
          ],
          "histogram2d": [
           {
            "colorbar": {
             "outlinewidth": 0,
             "ticks": ""
            },
            "colorscale": [
             [
              0,
              "#0d0887"
             ],
             [
              0.1111111111111111,
              "#46039f"
             ],
             [
              0.2222222222222222,
              "#7201a8"
             ],
             [
              0.3333333333333333,
              "#9c179e"
             ],
             [
              0.4444444444444444,
              "#bd3786"
             ],
             [
              0.5555555555555556,
              "#d8576b"
             ],
             [
              0.6666666666666666,
              "#ed7953"
             ],
             [
              0.7777777777777778,
              "#fb9f3a"
             ],
             [
              0.8888888888888888,
              "#fdca26"
             ],
             [
              1,
              "#f0f921"
             ]
            ],
            "type": "histogram2d"
           }
          ],
          "histogram2dcontour": [
           {
            "colorbar": {
             "outlinewidth": 0,
             "ticks": ""
            },
            "colorscale": [
             [
              0,
              "#0d0887"
             ],
             [
              0.1111111111111111,
              "#46039f"
             ],
             [
              0.2222222222222222,
              "#7201a8"
             ],
             [
              0.3333333333333333,
              "#9c179e"
             ],
             [
              0.4444444444444444,
              "#bd3786"
             ],
             [
              0.5555555555555556,
              "#d8576b"
             ],
             [
              0.6666666666666666,
              "#ed7953"
             ],
             [
              0.7777777777777778,
              "#fb9f3a"
             ],
             [
              0.8888888888888888,
              "#fdca26"
             ],
             [
              1,
              "#f0f921"
             ]
            ],
            "type": "histogram2dcontour"
           }
          ],
          "mesh3d": [
           {
            "colorbar": {
             "outlinewidth": 0,
             "ticks": ""
            },
            "type": "mesh3d"
           }
          ],
          "parcoords": [
           {
            "line": {
             "colorbar": {
              "outlinewidth": 0,
              "ticks": ""
             }
            },
            "type": "parcoords"
           }
          ],
          "pie": [
           {
            "automargin": true,
            "type": "pie"
           }
          ],
          "scatter": [
           {
            "fillpattern": {
             "fillmode": "overlay",
             "size": 10,
             "solidity": 0.2
            },
            "type": "scatter"
           }
          ],
          "scatter3d": [
           {
            "line": {
             "colorbar": {
              "outlinewidth": 0,
              "ticks": ""
             }
            },
            "marker": {
             "colorbar": {
              "outlinewidth": 0,
              "ticks": ""
             }
            },
            "type": "scatter3d"
           }
          ],
          "scattercarpet": [
           {
            "marker": {
             "colorbar": {
              "outlinewidth": 0,
              "ticks": ""
             }
            },
            "type": "scattercarpet"
           }
          ],
          "scattergeo": [
           {
            "marker": {
             "colorbar": {
              "outlinewidth": 0,
              "ticks": ""
             }
            },
            "type": "scattergeo"
           }
          ],
          "scattergl": [
           {
            "marker": {
             "colorbar": {
              "outlinewidth": 0,
              "ticks": ""
             }
            },
            "type": "scattergl"
           }
          ],
          "scattermapbox": [
           {
            "marker": {
             "colorbar": {
              "outlinewidth": 0,
              "ticks": ""
             }
            },
            "type": "scattermapbox"
           }
          ],
          "scatterpolar": [
           {
            "marker": {
             "colorbar": {
              "outlinewidth": 0,
              "ticks": ""
             }
            },
            "type": "scatterpolar"
           }
          ],
          "scatterpolargl": [
           {
            "marker": {
             "colorbar": {
              "outlinewidth": 0,
              "ticks": ""
             }
            },
            "type": "scatterpolargl"
           }
          ],
          "scatterternary": [
           {
            "marker": {
             "colorbar": {
              "outlinewidth": 0,
              "ticks": ""
             }
            },
            "type": "scatterternary"
           }
          ],
          "surface": [
           {
            "colorbar": {
             "outlinewidth": 0,
             "ticks": ""
            },
            "colorscale": [
             [
              0,
              "#0d0887"
             ],
             [
              0.1111111111111111,
              "#46039f"
             ],
             [
              0.2222222222222222,
              "#7201a8"
             ],
             [
              0.3333333333333333,
              "#9c179e"
             ],
             [
              0.4444444444444444,
              "#bd3786"
             ],
             [
              0.5555555555555556,
              "#d8576b"
             ],
             [
              0.6666666666666666,
              "#ed7953"
             ],
             [
              0.7777777777777778,
              "#fb9f3a"
             ],
             [
              0.8888888888888888,
              "#fdca26"
             ],
             [
              1,
              "#f0f921"
             ]
            ],
            "type": "surface"
           }
          ],
          "table": [
           {
            "cells": {
             "fill": {
              "color": "#EBF0F8"
             },
             "line": {
              "color": "white"
             }
            },
            "header": {
             "fill": {
              "color": "#C8D4E3"
             },
             "line": {
              "color": "white"
             }
            },
            "type": "table"
           }
          ]
         },
         "layout": {
          "annotationdefaults": {
           "arrowcolor": "#2a3f5f",
           "arrowhead": 0,
           "arrowwidth": 1
          },
          "autotypenumbers": "strict",
          "coloraxis": {
           "colorbar": {
            "outlinewidth": 0,
            "ticks": ""
           }
          },
          "colorscale": {
           "diverging": [
            [
             0,
             "#8e0152"
            ],
            [
             0.1,
             "#c51b7d"
            ],
            [
             0.2,
             "#de77ae"
            ],
            [
             0.3,
             "#f1b6da"
            ],
            [
             0.4,
             "#fde0ef"
            ],
            [
             0.5,
             "#f7f7f7"
            ],
            [
             0.6,
             "#e6f5d0"
            ],
            [
             0.7,
             "#b8e186"
            ],
            [
             0.8,
             "#7fbc41"
            ],
            [
             0.9,
             "#4d9221"
            ],
            [
             1,
             "#276419"
            ]
           ],
           "sequential": [
            [
             0,
             "#0d0887"
            ],
            [
             0.1111111111111111,
             "#46039f"
            ],
            [
             0.2222222222222222,
             "#7201a8"
            ],
            [
             0.3333333333333333,
             "#9c179e"
            ],
            [
             0.4444444444444444,
             "#bd3786"
            ],
            [
             0.5555555555555556,
             "#d8576b"
            ],
            [
             0.6666666666666666,
             "#ed7953"
            ],
            [
             0.7777777777777778,
             "#fb9f3a"
            ],
            [
             0.8888888888888888,
             "#fdca26"
            ],
            [
             1,
             "#f0f921"
            ]
           ],
           "sequentialminus": [
            [
             0,
             "#0d0887"
            ],
            [
             0.1111111111111111,
             "#46039f"
            ],
            [
             0.2222222222222222,
             "#7201a8"
            ],
            [
             0.3333333333333333,
             "#9c179e"
            ],
            [
             0.4444444444444444,
             "#bd3786"
            ],
            [
             0.5555555555555556,
             "#d8576b"
            ],
            [
             0.6666666666666666,
             "#ed7953"
            ],
            [
             0.7777777777777778,
             "#fb9f3a"
            ],
            [
             0.8888888888888888,
             "#fdca26"
            ],
            [
             1,
             "#f0f921"
            ]
           ]
          },
          "colorway": [
           "#636efa",
           "#EF553B",
           "#00cc96",
           "#ab63fa",
           "#FFA15A",
           "#19d3f3",
           "#FF6692",
           "#B6E880",
           "#FF97FF",
           "#FECB52"
          ],
          "font": {
           "color": "#2a3f5f"
          },
          "geo": {
           "bgcolor": "white",
           "lakecolor": "white",
           "landcolor": "#E5ECF6",
           "showlakes": true,
           "showland": true,
           "subunitcolor": "white"
          },
          "hoverlabel": {
           "align": "left"
          },
          "hovermode": "closest",
          "mapbox": {
           "style": "light"
          },
          "paper_bgcolor": "white",
          "plot_bgcolor": "#E5ECF6",
          "polar": {
           "angularaxis": {
            "gridcolor": "white",
            "linecolor": "white",
            "ticks": ""
           },
           "bgcolor": "#E5ECF6",
           "radialaxis": {
            "gridcolor": "white",
            "linecolor": "white",
            "ticks": ""
           }
          },
          "scene": {
           "xaxis": {
            "backgroundcolor": "#E5ECF6",
            "gridcolor": "white",
            "gridwidth": 2,
            "linecolor": "white",
            "showbackground": true,
            "ticks": "",
            "zerolinecolor": "white"
           },
           "yaxis": {
            "backgroundcolor": "#E5ECF6",
            "gridcolor": "white",
            "gridwidth": 2,
            "linecolor": "white",
            "showbackground": true,
            "ticks": "",
            "zerolinecolor": "white"
           },
           "zaxis": {
            "backgroundcolor": "#E5ECF6",
            "gridcolor": "white",
            "gridwidth": 2,
            "linecolor": "white",
            "showbackground": true,
            "ticks": "",
            "zerolinecolor": "white"
           }
          },
          "shapedefaults": {
           "line": {
            "color": "#2a3f5f"
           }
          },
          "ternary": {
           "aaxis": {
            "gridcolor": "white",
            "linecolor": "white",
            "ticks": ""
           },
           "baxis": {
            "gridcolor": "white",
            "linecolor": "white",
            "ticks": ""
           },
           "bgcolor": "#E5ECF6",
           "caxis": {
            "gridcolor": "white",
            "linecolor": "white",
            "ticks": ""
           }
          },
          "title": {
           "x": 0.05
          },
          "xaxis": {
           "automargin": true,
           "gridcolor": "white",
           "linecolor": "white",
           "ticks": "",
           "title": {
            "standoff": 15
           },
           "zerolinecolor": "white",
           "zerolinewidth": 2
          },
          "yaxis": {
           "automargin": true,
           "gridcolor": "white",
           "linecolor": "white",
           "ticks": "",
           "title": {
            "standoff": 15
           },
           "zerolinecolor": "white",
           "zerolinewidth": 2
          }
         }
        },
        "title": {
         "text": "Map",
         "x": 0.5
        }
       }
      },
      "text/html": [
       "<div>                            <div id=\"2fdae0d0-3dbc-4384-a750-3a9443312265\" class=\"plotly-graph-div\" style=\"height:525px; width:100%;\"></div>            <script type=\"text/javascript\">                require([\"plotly\"], function(Plotly) {                    window.PLOTLYENV=window.PLOTLYENV || {};                                    if (document.getElementById(\"2fdae0d0-3dbc-4384-a750-3a9443312265\")) {                    Plotly.newPlot(                        \"2fdae0d0-3dbc-4384-a750-3a9443312265\",                        [{\"hovertemplate\":\"<b>%{hovertext}</b><br><br>Lat=%{lat}<br>Lon=%{lon}<br>NumPropertiesOwned=%{marker.color}<extra></extra>\",\"hovertext\":[\"380   HAMILTON AVE  UNIT 328    PALO ALTO CA   94302.0\",\"380   HAMILTON AVE  UNIT 328    PALO ALTO CA   94302.0\",\"380   HAMILTON AVE  UNIT 328    PALO ALTO CA   94302.0\",\"380   HAMILTON AVE  UNIT 328    PALO ALTO CA   94302.0\",\"380   HAMILTON AVE  UNIT 328    PALO ALTO CA   94302.0\",\"380   HAMILTON AVE  UNIT 328    PALO ALTO CA   94302.0\",\"1101  S CAPITAL OF TEXAS HWY  STE B-220    AUSTIN TX   78746.0\",\"380   HAMILTON AVE  UNIT 328    PALO ALTO CA   94302.0\",\"414   GRANT ST  RM 200  CITY-COUNTY BUILDING  PITTSBURGH PA   15219.0\",\"8   CHURCHILL RD       PITTSBURGH PA   15235.0\",\"8   CHURCHILL RD       PITTSBURGH PA   15235.0\",\"   PO BOX 40206        PITTSBURGH PA   15201.0\",\"1101  S CAPITAL OF TEXAS HWY  STE B-220    AUSTIN TX   78746.0\",\"1501   ARDMORE BLVD  STE 400    PITTSBURGH PA   15221.0\",\"2116   MERRIMAN WAY       PITTSBURGH PA   15203.0\",\"1101  S CAPITAL OF TEXAS HWY  STE B-220    AUSTIN TX   78746.0\",\"8   CHURCHILL RD       PITTSBURGH PA   15235.0\",\"1101  S CAPITAL OF TEXAS HWY  STE B-220    AUSTIN TX   78746.0\",\"1501   ARDMORE BLVD  STE 400    PITTSBURGH PA   15221.0\",\"1101  S CAPITAL OF TEXAS HWY  STE B-220    AUSTIN TX   78746.0\",\"1101  S CAPITAL OF TEXAS HWY  STE B-220    AUSTIN TX   78746.0\",\"1501   ARDMORE BLVD  STE 400    PITTSBURGH PA   15221.0\",\"   PO BOX 40206        PITTSBURGH PA   15201.0\",\"2116   MERRIMAN WAY       PITTSBURGH PA   15203.0\",\"1101  S CAPITAL OF TEXAS HWY  STE B-220    AUSTIN TX   78746.0\",\"   PO BOX 40206        PITTSBURGH PA   15201.0\",\"8   CHURCHILL RD       PITTSBURGH PA   15235.0\",\"   PO BOX 40206        PITTSBURGH PA   15201.0\",\"8   CHURCHILL RD       PITTSBURGH PA   15235.0\",\"2116   MERRIMAN WAY       PITTSBURGH PA   15203.0\",\"2116   MERRIMAN WAY       PITTSBURGH PA   15203.0\",\"2116   MERRIMAN WAY       PITTSBURGH PA   15203.0\",\"2116   MERRIMAN WAY       PITTSBURGH PA   15203.0\",\"2116   MERRIMAN WAY       PITTSBURGH PA   15203.0\",\"   PO BOX 40206        PITTSBURGH PA   15201.0\",\"1812  E CARSON ST       PITTSBURGH PA   15203.0\",\"2116   MERRIMAN WAY       PITTSBURGH PA   15203.0\",\"2116   MERRIMAN WAY       PITTSBURGH PA   15203.0\",\"   PO BOX 40206        PITTSBURGH PA   15201.0\",\"   PO BOX 40206        PITTSBURGH PA   15201.0\",\"   PO BOX 40206        PITTSBURGH PA   15201.0\",\"   PO BOX 40206        PITTSBURGH PA   15201.0\",\"   PO BOX 40206        PITTSBURGH PA   15201.0\",\"   PO BOX 40206        PITTSBURGH PA   15201.0\",\"8   CHURCHILL RD       PITTSBURGH PA   15235.0\",\"8   CHURCHILL RD       PITTSBURGH PA   15235.0\",\"8   CHURCHILL RD       PITTSBURGH PA   15235.0\",\"   PO BOX 40206        PITTSBURGH PA   15201.0\",\"   PO BOX 40206        PITTSBURGH PA   15201.0\",\"2116   MERRIMAN WAY       PITTSBURGH PA   15203.0\",\"   PO BOX 40206        PITTSBURGH PA   15201.0\",\"   PO BOX 40206        PITTSBURGH PA   15201.0\",\"6015   SPIRIT ST  STE 202    PITTSBURGH PA   15206.0\",\"6015   SPIRIT ST  STE 202    PITTSBURGH PA   15206.0\",\"   PO BOX 40206        PITTSBURGH PA   15201.0\",\"   PO BOX 40206        PITTSBURGH PA   15201.0\",\"1812  E CARSON ST       PITTSBURGH PA   15203.0\",\"1812  E CARSON ST       PITTSBURGH PA   15203.0\",\"202   MAIN ENTRANCE DR       PITTSBURGH PA   15228.0\",\"829   INDUSTRY ST       PITTSBURGH PA   15210.0\",\"1812  E CARSON ST       PITTSBURGH PA   15203.0\",\"6247   IVAR AVE       TEMPLE CITY CA   91780.0\",\"829   INDUSTRY ST       PITTSBURGH PA   15210.0\",\"829   INDUSTRY ST       PITTSBURGH PA   15210.0\",\"829   INDUSTRY ST       PITTSBURGH PA   15210.0\",\"829   INDUSTRY ST       PITTSBURGH PA   15210.0\",\"829   INDUSTRY ST       PITTSBURGH PA   15210.0\",\"414   GRANT ST  RM 200  CITY-COUNTY BUILDING  PITTSBURGH PA   15219.0\",\"829   INDUSTRY ST       PITTSBURGH PA   15210.0\",\"1812  E CARSON ST       PITTSBURGH PA   15203.0\",\"10315   LINDBERG AVE       PITTSBURGH PA   15235.0\",\"1101  S CAPITAL OF TEXAS HWY  STE B-220    AUSTIN TX   78746.0\",\"   PO BOX 184        INGOMAR PA   15127.0\",\"202   MAIN ENTRANCE DR       PITTSBURGH PA   15228.0\",\"10315   LINDBERG AVE       PITTSBURGH PA   15235.0\",\"1812  E CARSON ST       PITTSBURGH PA   15203.0\",\"6015   SPIRIT ST  STE 202    PITTSBURGH PA   15206.0\",\"10315   LINDBERG AVE       PITTSBURGH PA   15235.0\",\"1812  E CARSON ST       PITTSBURGH PA   15203.0\",\"1812  E CARSON ST       PITTSBURGH PA   15203.0\",\"552   WASHINGTON AVE       CARNEGIE PA   15106.0\",\"10315   LINDBERG AVE       PITTSBURGH PA   15235.0\",\"552   WASHINGTON AVE       CARNEGIE PA   15106.0\",\"414   GRANT ST  RM 200  CITY-COUNTY BUILDING  PITTSBURGH PA   15219.0\",\"6015   SPIRIT ST  STE 202    PITTSBURGH PA   15206.0\",\"414   GRANT ST  RM 200  CITY-COUNTY BUILDING  PITTSBURGH PA   15219.0\",\"552   WASHINGTON AVE       CARNEGIE PA   15106.0\",\"1812  E CARSON ST       PITTSBURGH PA   15203.0\",\"1812  E CARSON ST       PITTSBURGH PA   15203.0\",\"414   GRANT ST  RM 200  CITY-COUNTY BUILDING  PITTSBURGH PA   15219.0\",\"   PO BOX 11        IMPERIAL PA   15126.0\",\"1300   BRIGHTON RD       PITTSBURGH PA   15233.0\",\"1300   BRIGHTON RD       PITTSBURGH PA   15233.0\",\"1300   BRIGHTON RD       PITTSBURGH PA   15233.0\",\"1300   BRIGHTON RD       PITTSBURGH PA   15233.0\",\"1300   BRIGHTON RD       PITTSBURGH PA   15233.0\",\"414   GRANT ST  RM 200  CITY-COUNTY BUILDING  PITTSBURGH PA   15219.0\",\"1300   BRIGHTON RD       PITTSBURGH PA   15233.0\",\"1812  E CARSON ST       PITTSBURGH PA   15203.0\",\"202   MAIN ENTRANCE DR       PITTSBURGH PA   15228.0\",\"1300   BRIGHTON RD       PITTSBURGH PA   15233.0\",\"1812  E CARSON ST       PITTSBURGH PA   15203.0\",\"2116   MERRIMAN WAY       PITTSBURGH PA   15203.0\",\"1812  E CARSON ST       PITTSBURGH PA   15203.0\",\"829   INDUSTRY ST       PITTSBURGH PA   15210.0\",\"1812  E CARSON ST       PITTSBURGH PA   15203.0\",\"552   WASHINGTON AVE       CARNEGIE PA   15106.0\",\"   PO BOX 11        IMPERIAL PA   15126.0\",\"1812  E CARSON ST       PITTSBURGH PA   15203.0\",\"1812  E CARSON ST       PITTSBURGH PA   15203.0\",\"1812  E CARSON ST       PITTSBURGH PA   15203.0\",\"1179   DESIDERIO BLVD       CLAIRTON PA   15025.0\",\"1179   DESIDERIO BLVD       CLAIRTON PA   15025.0\",\"1179   DESIDERIO BLVD       CLAIRTON PA   15025.0\",\"1179   DESIDERIO BLVD       CLAIRTON PA   15025.0\",\"1179   DESIDERIO BLVD       CLAIRTON PA   15025.0\",\"1179   DESIDERIO BLVD       CLAIRTON PA   15025.0\",\"1179   DESIDERIO BLVD       CLAIRTON PA   15025.0\",\"6247   IVAR AVE       TEMPLE CITY CA   91780.0\",\"6015   SPIRIT ST  STE 202    PITTSBURGH PA   15206.0\",\"6015   SPIRIT ST  STE 202    PITTSBURGH PA   15206.0\",\"202   MAIN ENTRANCE DR       PITTSBURGH PA   15228.0\",\"1812  E CARSON ST       PITTSBURGH PA   15203\",\"1812  E CARSON ST       PITTSBURGH PA   15203\",\"1812  E CARSON ST       PITTSBURGH PA   15203\",\"6247   IVAR AVE       TEMPLE CITY CA   91780.0\",\"552   WASHINGTON AVE       CARNEGIE PA   15106.0\",\"1812  E CARSON ST       PITTSBURGH PA   15203.0\",\"1812  E CARSON ST       PITTSBURGH PA   15203.0\",\"1812  E CARSON ST       PITTSBURGH PA   15203.0\",\"6015   SPIRIT ST  STE 202    PITTSBURGH PA   15206.0\",\"552   WASHINGTON AVE       CARNEGIE PA   15106.0\",\"1812  E CARSON ST       PITTSBURGH PA   15203.0\",\"1812  E CARSON ST       PITTSBURGH PA   15203.0\",\"1812  E CARSON ST       PITTSBURGH PA   15203.0\",\"1812  E CARSON ST       PITTSBURGH PA   15203.0\",\"   PO BOX 11        IMPERIAL PA   15126.0\",\"6015   SPIRIT ST  STE 202    PITTSBURGH PA   15206.0\",\"6247   IVAR AVE       TEMPLE CITY CA   91780.0\",\"6247   IVAR AVE       TEMPLE CITY CA   91780.0\",\"202   MAIN ENTRANCE DR       PITTSBURGH PA   15228.0\",\"202   MAIN ENTRANCE DR       PITTSBURGH PA   15228.0\",\"1812  E CARSON ST       PITTSBURGH PA   15203.0\",\"1812  E CARSON ST       PITTSBURGH PA   15203.0\",\"202   MAIN ENTRANCE DR       PITTSBURGH PA   15228.0\",\"202   MAIN ENTRANCE DR       PITTSBURGH PA   15228.0\",\"1812  E CARSON ST       PITTSBURGH PA   15203.0\",\"829   INDUSTRY ST       PITTSBURGH PA   15210.0\",\"552   WASHINGTON AVE       CARNEGIE PA   15106.0\",\"6015   SPIRIT ST  STE 202    PITTSBURGH PA   15206.0\",\"1812  E CARSON ST       PITTSBURGH PA   15203.0\",\"   PO BOX 11        IMPERIAL PA   15126.0\",\"552   WASHINGTON AVE       CARNEGIE PA   15106.0\",\"1812  E CARSON ST       PITTSBURGH PA   15203.0\",\"1812  E CARSON ST       PITTSBURGH PA   15203.0\",\"1812  E CARSON ST       PITTSBURGH PA   15203\",\"   PO BOX 892        TWIN PEAKS CA   92391.0\",\"   PO BOX 892        TWIN PEAKS CA   92391.0\",\"2116   MERRIMAN WAY       PITTSBURGH PA   15203.0\",\"   PO BOX 892        TWIN PEAKS CA   92391.0\",\"   PO BOX 11        IMPERIAL PA   15126.0\",\"   PO BOX 184        INGOMAR PA   15127.0\",\"   PO BOX 11        IMPERIAL PA   15126.0\",\"2116   MERRIMAN WAY       PITTSBURGH PA   15203.0\",\"1812  E CARSON ST       PITTSBURGH PA   15203\",\"1812  E CARSON ST       PITTSBURGH PA   15203\",\"   PO BOX 892        TWIN PEAKS CA   92391.0\",\"1812  E CARSON ST       PITTSBURGH PA   15203.0\",\"1812  E CARSON ST       PITTSBURGH PA   15203.0\",\"   PO BOX 184        INGOMAR PA   15127.0\",\"552   WASHINGTON AVE       CARNEGIE PA   15106.0\",\"552   WASHINGTON AVE       CARNEGIE PA   15106.0\",\"1300   BRIGHTON RD       PITTSBURGH PA   15233.0\",\"   PO BOX 184        INGOMAR PA   15127.0\",\"   PO BOX 184        INGOMAR PA   15127.0\",\"   PO BOX 184        INGOMAR PA   15127.0\",\"1812  E CARSON ST       PITTSBURGH PA   15203.0\",\"   PO BOX 892        TWIN PEAKS CA   92391.0\",\"   PO BOX 892        TWIN PEAKS CA   92391.0\",\"   PO BOX 892        TWIN PEAKS CA   92391.0\",\"1812  E CARSON ST       PITTSBURGH PA   15203.0\",\"202   MAIN ENTRANCE DR       PITTSBURGH PA   15228.0\",\"10315   LINDBERG AVE       PITTSBURGH PA   15235.0\",\"202   MAIN ENTRANCE DR       PITTSBURGH PA   15228.0\",\"1812  E CARSON ST       PITTSBURGH PA   15203.0\",\"552   WASHINGTON AVE       CARNEGIE PA   15106.0\",\"1812  E CARSON ST       PITTSBURGH PA   15203.0\",\"1501   ARDMORE BLVD  STE 400    PITTSBURGH PA   15221.0\",\"6247   IVAR AVE       TEMPLE CITY CA   91780.0\",\"   PO BOX 40206        PITTSBURGH PA   15201.0\",\"2116   MERRIMAN WAY       PITTSBURGH PA   15203.0\",\"1101  S CAPITAL OF TEXAS HWY  STE B-220    AUSTIN TX   78746.0\",\"1812  E CARSON ST       PITTSBURGH PA   15203.0\",\"829   INDUSTRY ST       PITTSBURGH PA   15210.0\",\"10315   LINDBERG AVE       PITTSBURGH PA   15235.0\",\"202   MAIN ENTRANCE DR       PITTSBURGH PA   15228.0\",\"10315   LINDBERG AVE       PITTSBURGH PA   15235.0\",\"552   WASHINGTON AVE       CARNEGIE PA   15106.0\",\"   PO BOX 11        IMPERIAL PA   15126.0\",\"1812  E CARSON ST       PITTSBURGH PA   15203.0\",\"414   GRANT ST  RM 200  CITY-COUNTY BUILDING  PITTSBURGH PA   15219.0\",\"1501   ARDMORE BLVD  STE 400    PITTSBURGH PA   15221.0\",\"10315   LINDBERG AVE       PITTSBURGH PA   15235.0\",\"1812  E CARSON ST       PITTSBURGH PA   15203.0\",\"1812  E CARSON ST       PITTSBURGH PA   15203.0\",\"   PO BOX 40206        PITTSBURGH PA   15201.0\",\"1812  E CARSON ST       PITTSBURGH PA   15203.0\",\"552   WASHINGTON AVE       CARNEGIE PA   15106.0\",\"2116   MERRIMAN WAY       PITTSBURGH PA   15203.0\",\"1179   DESIDERIO BLVD       CLAIRTON PA   15025.0\",\"1812  E CARSON ST       PITTSBURGH PA   15203.0\",\"1812  E CARSON ST       PITTSBURGH PA   15203.0\",\"1101  S CAPITAL OF TEXAS HWY  STE B-220    AUSTIN TX   78746.0\",\"6015   SPIRIT ST  STE 202    PITTSBURGH PA   15206.0\",\"202   MAIN ENTRANCE DR       PITTSBURGH PA   15228.0\",\"1101  S CAPITAL OF TEXAS HWY  STE B-220    AUSTIN TX   78746.0\",\"1812  E CARSON ST       PITTSBURGH PA   15203.0\",\"6015   SPIRIT ST  STE 202    PITTSBURGH PA   15206.0\",\"1812  E CARSON ST       PITTSBURGH PA   15203.0\",\"10315   LINDBERG AVE       PITTSBURGH PA   15235.0\",\"1101  S CAPITAL OF TEXAS HWY  STE B-220    AUSTIN TX   78746.0\",\"1101  S CAPITAL OF TEXAS HWY  STE B-220    AUSTIN TX   78746.0\",\"1812  E CARSON ST       PITTSBURGH PA   15203.0\",\"6247   IVAR AVE       TEMPLE CITY CA   91780.0\",\"414   GRANT ST  RM 200  CITY-COUNTY BUILDING  PITTSBURGH PA   15219.0\",\"552   WASHINGTON AVE       CARNEGIE PA   15106.0\",\"1101  S CAPITAL OF TEXAS HWY  STE B-220    AUSTIN TX   78746.0\",\"   PO BOX 11        IMPERIAL PA   15126.0\",\"   PO BOX 184        INGOMAR PA   15127.0\",\"1501   ARDMORE BLVD  STE 400    PITTSBURGH PA   15221.0\"],\"lat\":[40.43165964,40.4382081,40.4382081,40.43273909,40.4382081,40.4382081,40.437223,40.43489415,40.4519967,40.4532635,40.45328738,40.4549989,40.455285,40.4565946,40.45983437,40.45579067,40.45657293,40.45512802,40.45053895,40.4536063,40.45365065,40.46163755,40.46150201,40.45900704,40.4601288,40.4597929,40.46209481,40.46153545,40.45820005,40.464633,40.4790145,40.48047511,40.46389398,40.46369506,40.47855813,40.4733157,40.472868,40.4707805,40.4753879,40.469098,40.425102,40.425137,40.4263044,40.45370985,40.45543549,40.45551097,40.4541224,40.44040154,40.44035124,40.44463132,40.4401673,40.4326238,40.42331986,40.407719,40.42499954,40.42947494,40.41959351,40.427037,40.42461,40.42393041,40.42684909,40.42441524,40.42071228,40.42151804,40.42209933,40.42060329,40.42081025,40.41027172,40.42268131,40.42337569,40.4254513,40.42483122,40.4242305,40.41064297,40.41018423,40.41183084,40.4118511,40.4102345,40.4014811,40.3998468,40.39591089,40.39440761,40.45212579,40.45661657,40.45499,40.45522945,40.44536375,40.44968329,40.443244,40.44494159,40.46679581,40.46184727,40.46650661,40.4643629,40.45811617,40.4600486,40.46858895,40.46732849,40.467531,40.45980366,40.4561442,40.47405902,40.415118,40.38716708,40.4022654,40.38144725,40.3963013,40.42646454,40.39645382,40.3966958,40.36701076,40.2876072,40.2874865,40.2877295,40.28796976,40.2874562,40.2874476,40.2871096,40.43958562,40.49017,40.49001,40.4508645,40.40518,40.40628075,40.402015,40.38246,40.37995,40.4971,40.4830323,40.50329,40.40861,40.4056093,40.51899095,40.5181513,40.38527,40.4412977,40.4359,40.43745,40.43615,40.4398425,40.39738,40.40561,40.417509,40.3995963,40.40680396,40.40559195,40.4878,40.40145266,40.4127351,40.41698,40.41937,40.47518135,40.46401765,40.4730605,40.4731502,40.40614069,40.40328329,40.40328823,40.40333766,40.40216132,40.4635458,40.54204163,40.44452482,40.44627,40.41934,40.41922,40.44698,40.51959,40.34682,40.59958,40.4703704,40.4703704,40.46730956,40.58223,40.58561,40.57896,40.47091,40.46327,40.39679945,40.39679891,40.46516,40.4752,40.32737,40.4412977,40.41647635,40.47454,40.48999,40.45462038,40.41351835,40.4599042,40.4845912,40.43538842,40.50431,40.4022654,40.41261,40.42676142,40.425457,40.40888131,40.42183206,40.4016611,40.41216655,40.47335465,40.40271289,40.5150487,40.5063075,40.42336747,40.40612948,40.42917337,40.47244721,40.2877764,40.47102,40.42707,40.45511641,40.4184911,40.408705,40.45159546,40.40938648,40.43759,40.43166506,40.39259797,40.45543528,40.4371845,40.40914,40.41325005,40.444461,40.4703704,40.4023245,40.40490987,40.56881,40.45279571],\"legendgroup\":\"\",\"lon\":[-79.95390991,-79.9519543,-79.9519543,-79.95267898,-79.9519543,-79.9519543,-79.954705,-79.95217246,-79.9606193,-79.9352324,-79.93539388,-79.93412338,-79.930419,-79.92098201,-79.95051801,-79.92986444,-79.92534685,-79.93032764,-79.93282981,-79.92243885,-79.92232597,-79.93756313,-79.93624139,-79.95191241,-79.93166147,-79.931994,-79.93047973,-79.93056228,-79.94440745,-79.94843625,-79.95423241,-79.95363489,-79.95509448,-79.95115652,-79.94133934,-79.92630879,-79.92758265,-79.9179566,-79.91934004,-79.921413,-79.917008,-79.917219,-79.92410177,-79.90415015,-79.90997859,-79.91017787,-79.9090515,-79.89764202,-79.89765872,-79.8939922,-79.89471106,-79.9140212,-79.94853012,-79.947369,-79.9309253,-79.97571514,-79.9719959,-79.987581,-79.984687,-79.98993502,-79.97749745,-79.97961206,-79.99509082,-79.99728979,-79.99592989,-79.98491343,-79.98881826,-80.00649171,-80.00090548,-80.00189061,-80.00374137,-80.00980374,-80.00931293,-80.0249041,-80.01903095,-80.02002092,-80.02635057,-80.0271985,-80.0321141,-80.0287557,-80.02801681,-80.02076824,-80.05880712,-80.05361206,-80.04993,-80.06128272,-80.038387,-80.04131308,-80.04373,-80.03407677,-79.9805861,-80.01867655,-80.01595034,-80.0196711,-80.01232305,-80.0178885,-80.00751385,-80.01779411,-80.00838235,-79.9928428,-80.00884433,-80.03860224,-79.993182,-79.97731342,-79.9884792,-79.98066871,-79.98630239,-80.06224039,-79.99023622,-79.98444855,-79.91732494,-79.8936405,-79.8945223,-79.8934138,-79.89492379,-79.8969918,-79.8941786,-79.8969889,-80.05495038,-80.05362,-80.05354,-80.0008851,-80.08237,-80.07962425,-80.094723,-79.97498,-79.9739,-80.06442,-80.0411547,-80.06888,-79.83916,-80.09225953,-80.1592385,-80.16431148,-79.976352,-80.0364129,-80.06913,-80.06683,-80.07413,-80.0221303,-80.03294,-79.90276,-79.98480354,-79.9021025,-79.94446315,-79.90458795,-79.97295,-79.91180252,-80.0892293,-79.98471,-79.84509,-80.05586957,-80.07116327,-80.05362935,-80.05370201,-79.82201443,-79.77737627,-79.77734808,-79.7770662,-79.77959373,-79.9523247,-79.78611745,-79.87901833,-79.86958,-79.88395,-79.88189,-79.86152,-80.03007,-79.9547,-79.96881,-80.0775479,-80.0775479,-80.01784867,-80.04801,-80.05408,-80.04365,-79.7881,-79.83893,-79.84453145,-79.84452291,-79.82023,-79.9868568,-79.98866,-80.0364129,-80.025348,-80.07948,-80.08072,-79.92979819,-80.0269228,-79.93180038,-79.9456663,-79.95553997,-80.20069,-79.9884792,-79.84315,-79.97890218,-79.92695,-80.09199943,-79.99999507,-80.03223719,-80.0240505,-79.92641437,-79.7817319,-80.15734012,-80.14967552,-79.94141447,-79.99179022,-80.07092518,-79.92483601,-79.8937426,-79.78843,-79.980621,-79.93008341,-80.01381392,-79.90686171,-79.92890096,-79.98894105,-80.06709,-79.95390869,-80.02341715,-79.93573725,-79.9547445,-79.89607,-80.02556405,-80.041036,-80.0775479,-80.0402544,-79.91189109,-80.0554,-79.91392507],\"marker\":{\"color\":[7,7,7,7,7,7,14,7,8,8,8,19,14,6,15,14,8,14,6,14,14,6,19,15,14,19,8,19,8,15,15,15,15,15,19,46,15,15,19,19,19,19,19,19,8,8,8,19,19,15,19,19,11,11,19,19,46,46,12,10,46,7,10,10,10,10,10,8,10,46,9,14,7,12,9,46,11,9,46,46,14,9,14,8,11,8,14,46,46,8,8,8,8,8,8,8,8,8,46,12,8,46,15,46,10,46,14,8,46,46,46,8,8,8,8,8,8,8,7,11,11,12,6,6,6,7,14,46,46,46,11,14,46,46,46,46,8,11,7,7,12,12,46,46,12,12,46,10,14,11,46,8,14,46,46,6,7,7,15,7,8,7,8,15,6,6,7,46,46,7,14,14,8,7,7,7,46,7,7,7,46,12,9,12,46,14,46,6,7,19,15,14,46,10,9,12,9,14,8,46,8,6,9,46,46,19,46,14,15,8,46,46,14,11,12,14,46,11,46,9,14,14,46,7,8,14,14,8,7,6],\"coloraxis\":\"coloraxis\"},\"mode\":\"markers\",\"name\":\"\",\"showlegend\":false,\"subplot\":\"mapbox\",\"type\":\"scattermapbox\"}],                        {\"template\":{\"data\":{\"histogram2dcontour\":[{\"type\":\"histogram2dcontour\",\"colorbar\":{\"outlinewidth\":0,\"ticks\":\"\"},\"colorscale\":[[0.0,\"#0d0887\"],[0.1111111111111111,\"#46039f\"],[0.2222222222222222,\"#7201a8\"],[0.3333333333333333,\"#9c179e\"],[0.4444444444444444,\"#bd3786\"],[0.5555555555555556,\"#d8576b\"],[0.6666666666666666,\"#ed7953\"],[0.7777777777777778,\"#fb9f3a\"],[0.8888888888888888,\"#fdca26\"],[1.0,\"#f0f921\"]]}],\"choropleth\":[{\"type\":\"choropleth\",\"colorbar\":{\"outlinewidth\":0,\"ticks\":\"\"}}],\"histogram2d\":[{\"type\":\"histogram2d\",\"colorbar\":{\"outlinewidth\":0,\"ticks\":\"\"},\"colorscale\":[[0.0,\"#0d0887\"],[0.1111111111111111,\"#46039f\"],[0.2222222222222222,\"#7201a8\"],[0.3333333333333333,\"#9c179e\"],[0.4444444444444444,\"#bd3786\"],[0.5555555555555556,\"#d8576b\"],[0.6666666666666666,\"#ed7953\"],[0.7777777777777778,\"#fb9f3a\"],[0.8888888888888888,\"#fdca26\"],[1.0,\"#f0f921\"]]}],\"heatmap\":[{\"type\":\"heatmap\",\"colorbar\":{\"outlinewidth\":0,\"ticks\":\"\"},\"colorscale\":[[0.0,\"#0d0887\"],[0.1111111111111111,\"#46039f\"],[0.2222222222222222,\"#7201a8\"],[0.3333333333333333,\"#9c179e\"],[0.4444444444444444,\"#bd3786\"],[0.5555555555555556,\"#d8576b\"],[0.6666666666666666,\"#ed7953\"],[0.7777777777777778,\"#fb9f3a\"],[0.8888888888888888,\"#fdca26\"],[1.0,\"#f0f921\"]]}],\"heatmapgl\":[{\"type\":\"heatmapgl\",\"colorbar\":{\"outlinewidth\":0,\"ticks\":\"\"},\"colorscale\":[[0.0,\"#0d0887\"],[0.1111111111111111,\"#46039f\"],[0.2222222222222222,\"#7201a8\"],[0.3333333333333333,\"#9c179e\"],[0.4444444444444444,\"#bd3786\"],[0.5555555555555556,\"#d8576b\"],[0.6666666666666666,\"#ed7953\"],[0.7777777777777778,\"#fb9f3a\"],[0.8888888888888888,\"#fdca26\"],[1.0,\"#f0f921\"]]}],\"contourcarpet\":[{\"type\":\"contourcarpet\",\"colorbar\":{\"outlinewidth\":0,\"ticks\":\"\"}}],\"contour\":[{\"type\":\"contour\",\"colorbar\":{\"outlinewidth\":0,\"ticks\":\"\"},\"colorscale\":[[0.0,\"#0d0887\"],[0.1111111111111111,\"#46039f\"],[0.2222222222222222,\"#7201a8\"],[0.3333333333333333,\"#9c179e\"],[0.4444444444444444,\"#bd3786\"],[0.5555555555555556,\"#d8576b\"],[0.6666666666666666,\"#ed7953\"],[0.7777777777777778,\"#fb9f3a\"],[0.8888888888888888,\"#fdca26\"],[1.0,\"#f0f921\"]]}],\"surface\":[{\"type\":\"surface\",\"colorbar\":{\"outlinewidth\":0,\"ticks\":\"\"},\"colorscale\":[[0.0,\"#0d0887\"],[0.1111111111111111,\"#46039f\"],[0.2222222222222222,\"#7201a8\"],[0.3333333333333333,\"#9c179e\"],[0.4444444444444444,\"#bd3786\"],[0.5555555555555556,\"#d8576b\"],[0.6666666666666666,\"#ed7953\"],[0.7777777777777778,\"#fb9f3a\"],[0.8888888888888888,\"#fdca26\"],[1.0,\"#f0f921\"]]}],\"mesh3d\":[{\"type\":\"mesh3d\",\"colorbar\":{\"outlinewidth\":0,\"ticks\":\"\"}}],\"scatter\":[{\"fillpattern\":{\"fillmode\":\"overlay\",\"size\":10,\"solidity\":0.2},\"type\":\"scatter\"}],\"parcoords\":[{\"type\":\"parcoords\",\"line\":{\"colorbar\":{\"outlinewidth\":0,\"ticks\":\"\"}}}],\"scatterpolargl\":[{\"type\":\"scatterpolargl\",\"marker\":{\"colorbar\":{\"outlinewidth\":0,\"ticks\":\"\"}}}],\"bar\":[{\"error_x\":{\"color\":\"#2a3f5f\"},\"error_y\":{\"color\":\"#2a3f5f\"},\"marker\":{\"line\":{\"color\":\"#E5ECF6\",\"width\":0.5},\"pattern\":{\"fillmode\":\"overlay\",\"size\":10,\"solidity\":0.2}},\"type\":\"bar\"}],\"scattergeo\":[{\"type\":\"scattergeo\",\"marker\":{\"colorbar\":{\"outlinewidth\":0,\"ticks\":\"\"}}}],\"scatterpolar\":[{\"type\":\"scatterpolar\",\"marker\":{\"colorbar\":{\"outlinewidth\":0,\"ticks\":\"\"}}}],\"histogram\":[{\"marker\":{\"pattern\":{\"fillmode\":\"overlay\",\"size\":10,\"solidity\":0.2}},\"type\":\"histogram\"}],\"scattergl\":[{\"type\":\"scattergl\",\"marker\":{\"colorbar\":{\"outlinewidth\":0,\"ticks\":\"\"}}}],\"scatter3d\":[{\"type\":\"scatter3d\",\"line\":{\"colorbar\":{\"outlinewidth\":0,\"ticks\":\"\"}},\"marker\":{\"colorbar\":{\"outlinewidth\":0,\"ticks\":\"\"}}}],\"scattermapbox\":[{\"type\":\"scattermapbox\",\"marker\":{\"colorbar\":{\"outlinewidth\":0,\"ticks\":\"\"}}}],\"scatterternary\":[{\"type\":\"scatterternary\",\"marker\":{\"colorbar\":{\"outlinewidth\":0,\"ticks\":\"\"}}}],\"scattercarpet\":[{\"type\":\"scattercarpet\",\"marker\":{\"colorbar\":{\"outlinewidth\":0,\"ticks\":\"\"}}}],\"carpet\":[{\"aaxis\":{\"endlinecolor\":\"#2a3f5f\",\"gridcolor\":\"white\",\"linecolor\":\"white\",\"minorgridcolor\":\"white\",\"startlinecolor\":\"#2a3f5f\"},\"baxis\":{\"endlinecolor\":\"#2a3f5f\",\"gridcolor\":\"white\",\"linecolor\":\"white\",\"minorgridcolor\":\"white\",\"startlinecolor\":\"#2a3f5f\"},\"type\":\"carpet\"}],\"table\":[{\"cells\":{\"fill\":{\"color\":\"#EBF0F8\"},\"line\":{\"color\":\"white\"}},\"header\":{\"fill\":{\"color\":\"#C8D4E3\"},\"line\":{\"color\":\"white\"}},\"type\":\"table\"}],\"barpolar\":[{\"marker\":{\"line\":{\"color\":\"#E5ECF6\",\"width\":0.5},\"pattern\":{\"fillmode\":\"overlay\",\"size\":10,\"solidity\":0.2}},\"type\":\"barpolar\"}],\"pie\":[{\"automargin\":true,\"type\":\"pie\"}]},\"layout\":{\"autotypenumbers\":\"strict\",\"colorway\":[\"#636efa\",\"#EF553B\",\"#00cc96\",\"#ab63fa\",\"#FFA15A\",\"#19d3f3\",\"#FF6692\",\"#B6E880\",\"#FF97FF\",\"#FECB52\"],\"font\":{\"color\":\"#2a3f5f\"},\"hovermode\":\"closest\",\"hoverlabel\":{\"align\":\"left\"},\"paper_bgcolor\":\"white\",\"plot_bgcolor\":\"#E5ECF6\",\"polar\":{\"bgcolor\":\"#E5ECF6\",\"angularaxis\":{\"gridcolor\":\"white\",\"linecolor\":\"white\",\"ticks\":\"\"},\"radialaxis\":{\"gridcolor\":\"white\",\"linecolor\":\"white\",\"ticks\":\"\"}},\"ternary\":{\"bgcolor\":\"#E5ECF6\",\"aaxis\":{\"gridcolor\":\"white\",\"linecolor\":\"white\",\"ticks\":\"\"},\"baxis\":{\"gridcolor\":\"white\",\"linecolor\":\"white\",\"ticks\":\"\"},\"caxis\":{\"gridcolor\":\"white\",\"linecolor\":\"white\",\"ticks\":\"\"}},\"coloraxis\":{\"colorbar\":{\"outlinewidth\":0,\"ticks\":\"\"}},\"colorscale\":{\"sequential\":[[0.0,\"#0d0887\"],[0.1111111111111111,\"#46039f\"],[0.2222222222222222,\"#7201a8\"],[0.3333333333333333,\"#9c179e\"],[0.4444444444444444,\"#bd3786\"],[0.5555555555555556,\"#d8576b\"],[0.6666666666666666,\"#ed7953\"],[0.7777777777777778,\"#fb9f3a\"],[0.8888888888888888,\"#fdca26\"],[1.0,\"#f0f921\"]],\"sequentialminus\":[[0.0,\"#0d0887\"],[0.1111111111111111,\"#46039f\"],[0.2222222222222222,\"#7201a8\"],[0.3333333333333333,\"#9c179e\"],[0.4444444444444444,\"#bd3786\"],[0.5555555555555556,\"#d8576b\"],[0.6666666666666666,\"#ed7953\"],[0.7777777777777778,\"#fb9f3a\"],[0.8888888888888888,\"#fdca26\"],[1.0,\"#f0f921\"]],\"diverging\":[[0,\"#8e0152\"],[0.1,\"#c51b7d\"],[0.2,\"#de77ae\"],[0.3,\"#f1b6da\"],[0.4,\"#fde0ef\"],[0.5,\"#f7f7f7\"],[0.6,\"#e6f5d0\"],[0.7,\"#b8e186\"],[0.8,\"#7fbc41\"],[0.9,\"#4d9221\"],[1,\"#276419\"]]},\"xaxis\":{\"gridcolor\":\"white\",\"linecolor\":\"white\",\"ticks\":\"\",\"title\":{\"standoff\":15},\"zerolinecolor\":\"white\",\"automargin\":true,\"zerolinewidth\":2},\"yaxis\":{\"gridcolor\":\"white\",\"linecolor\":\"white\",\"ticks\":\"\",\"title\":{\"standoff\":15},\"zerolinecolor\":\"white\",\"automargin\":true,\"zerolinewidth\":2},\"scene\":{\"xaxis\":{\"backgroundcolor\":\"#E5ECF6\",\"gridcolor\":\"white\",\"linecolor\":\"white\",\"showbackground\":true,\"ticks\":\"\",\"zerolinecolor\":\"white\",\"gridwidth\":2},\"yaxis\":{\"backgroundcolor\":\"#E5ECF6\",\"gridcolor\":\"white\",\"linecolor\":\"white\",\"showbackground\":true,\"ticks\":\"\",\"zerolinecolor\":\"white\",\"gridwidth\":2},\"zaxis\":{\"backgroundcolor\":\"#E5ECF6\",\"gridcolor\":\"white\",\"linecolor\":\"white\",\"showbackground\":true,\"ticks\":\"\",\"zerolinecolor\":\"white\",\"gridwidth\":2}},\"shapedefaults\":{\"line\":{\"color\":\"#2a3f5f\"}},\"annotationdefaults\":{\"arrowcolor\":\"#2a3f5f\",\"arrowhead\":0,\"arrowwidth\":1},\"geo\":{\"bgcolor\":\"white\",\"landcolor\":\"#E5ECF6\",\"subunitcolor\":\"white\",\"showland\":true,\"showlakes\":true,\"lakecolor\":\"white\"},\"title\":{\"x\":0.05},\"mapbox\":{\"style\":\"light\"}}},\"mapbox\":{\"domain\":{\"x\":[0.0,1.0],\"y\":[0.0,1.0]},\"center\":{\"lat\":40.43666709430434,\"lon\":-79.9721215228696},\"zoom\":8,\"style\":\"open-street-map\"},\"coloraxis\":{\"colorbar\":{\"title\":{\"text\":\"NumPropertiesOwned\"}},\"colorscale\":[[0.0,\"rgb(255,0,0)\"],[1.0,\"rgb(0,0,255)\"]]},\"legend\":{\"tracegroupgap\":0},\"margin\":{\"t\":60},\"title\":{\"text\":\"Map\",\"x\":0.5},\"showlegend\":false},                        {\"responsive\": true}                    ).then(function(){\n",
       "                            \n",
       "var gd = document.getElementById('2fdae0d0-3dbc-4384-a750-3a9443312265');\n",
       "var x = new MutationObserver(function (mutations, observer) {{\n",
       "        var display = window.getComputedStyle(gd).display;\n",
       "        if (!display || display === 'none') {{\n",
       "            console.log([gd, 'removed!']);\n",
       "            Plotly.purge(gd);\n",
       "            observer.disconnect();\n",
       "        }}\n",
       "}});\n",
       "\n",
       "// Listen for the removal of the full notebook cells\n",
       "var notebookContainer = gd.closest('#notebook-container');\n",
       "if (notebookContainer) {{\n",
       "    x.observe(notebookContainer, {childList: true});\n",
       "}}\n",
       "\n",
       "// Listen for the clearing of the current output cell\n",
       "var outputEl = gd.closest('.output');\n",
       "if (outputEl) {{\n",
       "    x.observe(outputEl, {childList: true});\n",
       "}}\n",
       "\n",
       "                        })                };                });            </script>        </div>"
      ]
     },
     "metadata": {},
     "output_type": "display_data"
    }
   ],
   "source": [
    "#map where the houses are color coded by how many properties their owner owns\n",
    "fig = px.scatter_mapbox(mergedhousestomap2,lat='Lat',lon='Lon', hover_name=\"OwnerInfo\",color='NumPropertiesOwned',color_continuous_scale='Bluered_r')\n",
    "fig.update_layout(title = 'Map', title_x=0.5)\n",
    "fig.update_layout(mapbox_style=\"open-street-map\")\n",
    "fig.update_layout(showlegend=False)\n",
    "fig.show()"
   ]
  },
  {
   "cell_type": "code",
   "execution_count": 72,
   "id": "6eb502b7",
   "metadata": {},
   "outputs": [],
   "source": []
  },
  {
   "cell_type": "code",
   "execution_count": null,
   "id": "80b763a5",
   "metadata": {},
   "outputs": [],
   "source": []
  },
  {
   "cell_type": "code",
   "execution_count": null,
   "id": "690e64fe",
   "metadata": {},
   "outputs": [],
   "source": [
    "#keep:\n",
    "['PARID','PROPERTYHOUSENUM','PROPERTYFRACTION','PROPERTYADDRESS','PROPERTYUNIT','MUNIDESC','OWNERDESC','CLASSDESC',\n",
    " 'LOTAREA','HOMESTEADFLAG','FARMSTEADFLAG','ABATEMENTFLAG','SALEDATE','SALEPRICE','SALEDESC','PREVSALEDATE','PREVSALEPRICE',\n",
    " 'PREVSALEDATE2','PREVSALEPRICE2','CHANGENOTICEADDRESS1','CHANGENOTICEADDRESS2','CHANGENOTICEADDRESS3','CHANGENOTICEADDRESS4',\n",
    "'STYLEDESC','STORIES','YEARBLT','CDUDESC'\n",
    "]\n",
    "#maybe:\n",
    "['TAXDESC','USEDESC','RECORDDATE']"
   ]
  },
  {
   "cell_type": "code",
   "execution_count": null,
   "id": "e78e9e13",
   "metadata": {},
   "outputs": [],
   "source": [
    "#use property unit as a binary flag?\n",
    "#use classdesc as a filter\n",
    "#take out all farmsteads\n",
    "#find out what recorddate,deedbook,deedpage,countybuilding,countyland,localbuilding-fairmarkettotal,gradedesc is\n",
    "#ask if specific properties of house are important"
   ]
  },
  {
   "cell_type": "code",
   "execution_count": 2,
   "id": "f26aab12",
   "metadata": {
    "scrolled": true
   },
   "outputs": [
    {
     "name": "stderr",
     "output_type": "stream",
     "text": [
      "C:\\Users\\Tara\\Anaconda3\\lib\\site-packages\\IPython\\core\\interactiveshell.py:3444: DtypeWarning: Columns (19) have mixed types.Specify dtype option on import or set low_memory=False.\n",
      "  exec(code_obj, self.user_global_ns, self.user_ns)\n",
      "C:\\Users\\Tara\\Anaconda3\\lib\\site-packages\\IPython\\core\\interactiveshell.py:3444: DtypeWarning: Columns (19,20,29,30,37,38,46,57,83) have mixed types.Specify dtype option on import or set low_memory=False.\n",
      "  exec(code_obj, self.user_global_ns, self.user_ns)\n"
     ]
    }
   ],
   "source": [
    "#read in data\n",
    "sales=pd.read_csv(r'C:\\Users\\Tara\\OneDrive - University of Pittsburgh\\FALL 2022\\ENGR 1171\\Project Housing Data\\SalesData.csv')\n",
    "#convert sale date from string to date\n",
    "sales['SALEDATE']=pd.to_datetime(sales['SALEDATE'])\n",
    "assessment=pd.read_csv(r'C:\\Users\\Tara\\OneDrive - University of Pittsburgh\\FALL 2022\\ENGR 1171\\Project Housing Data\\AssessmentData.csv')"
   ]
  },
  {
   "cell_type": "code",
   "execution_count": 74,
   "id": "ba917677",
   "metadata": {},
   "outputs": [],
   "source": [
    "#add flag to assessment data of whether a house is in the sales dataset\n",
    "assessment['Sold']=''\n",
    "assessment.loc[assessment['PARID'].isin(sales['PARID']),'Sold']=1\n",
    "assessment.loc[~assessment['PARID'].isin(sales['PARID']),'Sold']=0"
   ]
  },
  {
   "cell_type": "code",
   "execution_count": 75,
   "id": "57c4b26c",
   "metadata": {
    "scrolled": true
   },
   "outputs": [],
   "source": [
    "#isolate most recent sale date for each house sold, merge onto assessment dataset\n",
    "salesgrouped=sales[['PARID','SALEDATE']].groupby('PARID').agg({'SALEDATE':'max'}).reset_index().rename(columns={'SALEDATE':'FINALSALEDATE'})\n",
    "df=pd.merge(assessment,salesgrouped,how='left',on='PARID')"
   ]
  },
  {
   "cell_type": "code",
   "execution_count": 77,
   "id": "7d2c8882",
   "metadata": {},
   "outputs": [],
   "source": [
    "#limit data to residential properties\n",
    "df=df.loc[df['CLASSDESC']=='RESIDENTIAL']\n",
    "\n",
    "#drop redundant columns (e.g. codes that have matching descriptions)\n",
    "df=df.drop(['PROPERTYCITY','PROPERTYSTATE', 'PROPERTYZIP', 'MUNICODE', 'SCHOOLCODE', 'SCHOOLDESC', 'NEIGHCODE','NEIGHDESC', 'TAXCODE', 'TAXSUBCODE', 'TAXSUBCODE_DESC', 'OWNERCODE','CLASS','USECODE','CLEANGREEN', 'SALECODE','DEEDBOOK', 'DEEDPAGE','EXTERIORFINISH', 'EXTFINISH_DESC', 'ROOF', 'ROOFDESC', 'BASEMENT','BASEMENTDESC','CONDITION', 'CONDITIONDESC','HEATINGCOOLING', 'HEATINGCOOLINGDESC', 'FIREPLACES', 'BSMTGARAGE', 'FINISHEDLIVINGAREA', 'CARDNUMBER', 'ALT_ID', 'TAXYEAR', 'ASOFDATE'],axis=1)"
   ]
  },
  {
   "cell_type": "code",
   "execution_count": 78,
   "id": "9197b8c2",
   "metadata": {},
   "outputs": [],
   "source": [
    "#add number of times property was sold\n",
    "df=pd.merge(df,sales.groupby('PARID').size().reset_index(name='NumTimesSold'),how='left',on='PARID')\n",
    "df['NumTimesSold']=df['NumTimesSold'].fillna(0)"
   ]
  },
  {
   "cell_type": "code",
   "execution_count": 80,
   "id": "7c358979",
   "metadata": {},
   "outputs": [],
   "source": [
    "#identify possible investor-owned properties\n",
    "df['PossibleInvestor']=''\n",
    "df.loc[(df['CHANGENOTICEADDRESS1'].str.replace(\" \", \"\")!=(df['PROPERTYHOUSENUM'].astype(str)+df['PROPERTYADDRESS']).str.replace(\" \", \"\"))&(df['HOMESTEADFLAG'].isna()),'PossibleInvestor']=1\n",
    "df.loc[df['PossibleInvestor']!=1,'PossibleInvestor']=0"
   ]
  },
  {
   "cell_type": "code",
   "execution_count": 81,
   "id": "0e763934",
   "metadata": {},
   "outputs": [],
   "source": [
    "#add multi-parcel sale flag\n",
    "df['MultiParcel']=''\n",
    "df.loc[df['PARID'].isin(sales.loc[sales['SALEDESC']=='MULTI-PARCEL SALE']['PARID']),'MultiParcel']=1\n",
    "df.loc[df['MultiParcel']!=1,'MultiParcel']=0"
   ]
  },
  {
   "cell_type": "code",
   "execution_count": 82,
   "id": "9a8b6425",
   "metadata": {},
   "outputs": [],
   "source": [
    "#get a list of all unique property owners\n",
    "#make a unique id for each property owner, add it to the main data\n",
    "df['Ownerinfo']=df['CHANGENOTICEADDRESS1'].astype(str)+df['CHANGENOTICEADDRESS2'].astype(str)+df['CHANGENOTICEADDRESS3'].astype(str)+df['CHANGENOTICEADDRESS4'].astype(str)\n",
    "allowners=df[['Ownerinfo']].drop_duplicates().reset_index()\n",
    "allowners['OwnerId']=allowners.index\n",
    "allowners=allowners[['Ownerinfo','OwnerId']]\n",
    "df=pd.merge(df,allowners,how='left',on='Ownerinfo')"
   ]
  },
  {
   "cell_type": "code",
   "execution_count": 86,
   "id": "bdea793b",
   "metadata": {},
   "outputs": [],
   "source": [
    "#get the number of times each owner has sold a property, merge onto original dataset\n",
    "#only keep data of owners that have a sale in the dataset\n",
    "ownerssold=df.groupby('OwnerId').agg({'Sold':'sum'}).reset_index().rename(columns={'Sold':'TotalOwnerSales'})\n",
    "df=pd.merge(df,ownerssold,how='left',on='OwnerId')\n",
    "df=df.loc[df['TotalOwnerSales']>0]"
   ]
  },
  {
   "cell_type": "code",
   "execution_count": 88,
   "id": "578e71e6",
   "metadata": {},
   "outputs": [],
   "source": [
    "#pick out some interesting columns\n",
    "df=df[['PARID','MUNIDESC','OWNERDESC','CLASSDESC',\n",
    " 'SALEDATE','SALEPRICE','SALEDESC','PREVSALEDATE','PREVSALEPRICE',\n",
    " 'PREVSALEDATE2','PREVSALEPRICE2',\n",
    "'STYLEDESC','YEARBLT','GRADEDESC','Sold','FINALSALEDATE','NumTimesSold','TotalOwnerSales','OwnerId','PossibleInvestor','MultiParcel'\n",
    "]]"
   ]
  },
  {
   "cell_type": "code",
   "execution_count": 111,
   "id": "61cd7ef5",
   "metadata": {
    "scrolled": true
   },
   "outputs": [
    {
     "data": {
      "text/html": [
       "<div>\n",
       "<style scoped>\n",
       "    .dataframe tbody tr th:only-of-type {\n",
       "        vertical-align: middle;\n",
       "    }\n",
       "\n",
       "    .dataframe tbody tr th {\n",
       "        vertical-align: top;\n",
       "    }\n",
       "\n",
       "    .dataframe thead th {\n",
       "        text-align: right;\n",
       "    }\n",
       "</style>\n",
       "<table border=\"1\" class=\"dataframe\">\n",
       "  <thead>\n",
       "    <tr style=\"text-align: right;\">\n",
       "      <th></th>\n",
       "      <th>OwnerId</th>\n",
       "      <th>TotalOwnerSales</th>\n",
       "      <th>FINALSALEDATE</th>\n",
       "    </tr>\n",
       "  </thead>\n",
       "  <tbody>\n",
       "    <tr>\n",
       "      <th>2269</th>\n",
       "      <td>4396</td>\n",
       "      <td>3</td>\n",
       "      <td>2012-01-12</td>\n",
       "    </tr>\n",
       "    <tr>\n",
       "      <th>1984</th>\n",
       "      <td>32333</td>\n",
       "      <td>3</td>\n",
       "      <td>2012-01-27</td>\n",
       "    </tr>\n",
       "    <tr>\n",
       "      <th>1657</th>\n",
       "      <td>36926</td>\n",
       "      <td>3</td>\n",
       "      <td>2012-02-10</td>\n",
       "    </tr>\n",
       "    <tr>\n",
       "      <th>426</th>\n",
       "      <td>60351</td>\n",
       "      <td>3</td>\n",
       "      <td>2012-02-17</td>\n",
       "    </tr>\n",
       "    <tr>\n",
       "      <th>1819</th>\n",
       "      <td>38601</td>\n",
       "      <td>3</td>\n",
       "      <td>2012-02-27</td>\n",
       "    </tr>\n",
       "    <tr>\n",
       "      <th>...</th>\n",
       "      <td>...</td>\n",
       "      <td>...</td>\n",
       "      <td>...</td>\n",
       "    </tr>\n",
       "    <tr>\n",
       "      <th>4574</th>\n",
       "      <td>1957</td>\n",
       "      <td>231</td>\n",
       "      <td>2022-09-07</td>\n",
       "    </tr>\n",
       "    <tr>\n",
       "      <th>4575</th>\n",
       "      <td>69680</td>\n",
       "      <td>237</td>\n",
       "      <td>2022-08-16</td>\n",
       "    </tr>\n",
       "    <tr>\n",
       "      <th>4576</th>\n",
       "      <td>28659</td>\n",
       "      <td>374</td>\n",
       "      <td>2022-06-14</td>\n",
       "    </tr>\n",
       "    <tr>\n",
       "      <th>4577</th>\n",
       "      <td>3358</td>\n",
       "      <td>413</td>\n",
       "      <td>2022-09-01</td>\n",
       "    </tr>\n",
       "    <tr>\n",
       "      <th>4578</th>\n",
       "      <td>180</td>\n",
       "      <td>3591</td>\n",
       "      <td>2022-03-31</td>\n",
       "    </tr>\n",
       "  </tbody>\n",
       "</table>\n",
       "<p>4579 rows × 3 columns</p>\n",
       "</div>"
      ],
      "text/plain": [
       "      OwnerId  TotalOwnerSales FINALSALEDATE\n",
       "2269     4396                3    2012-01-12\n",
       "1984    32333                3    2012-01-27\n",
       "1657    36926                3    2012-02-10\n",
       "426     60351                3    2012-02-17\n",
       "1819    38601                3    2012-02-27\n",
       "...       ...              ...           ...\n",
       "4574     1957              231    2022-09-07\n",
       "4575    69680              237    2022-08-16\n",
       "4576    28659              374    2022-06-14\n",
       "4577     3358              413    2022-09-01\n",
       "4578      180             3591    2022-03-31\n",
       "\n",
       "[4579 rows x 3 columns]"
      ]
     },
     "execution_count": 111,
     "metadata": {},
     "output_type": "execute_result"
    }
   ],
   "source": [
    "#identify 4579 owners that may be of interest\n",
    "xx=df.loc[(df['OWNERDESC']!='CORPORATION')&(df['TotalOwnerSales']>2)&(df['SALEDESC']!='LOVE&AFFECTION')][['OwnerId','TotalOwnerSales']].drop_duplicates().sort_values('TotalOwnerSales')\n",
    "yy=df.groupby('OwnerId').agg({'FINALSALEDATE':'max'}).reset_index()\n",
    "pd.merge(xx,yy,how='left',on='OwnerId').sort_values(['TotalOwnerSales','FINALSALEDATE'])"
   ]
  },
  {
   "cell_type": "code",
   "execution_count": 106,
   "id": "bbc26b01",
   "metadata": {},
   "outputs": [
    {
     "data": {
      "text/plain": [
       "254                 CORPORATION\n",
       "1033                    REGULAR\n",
       "3078               REGULAR-ETAL\n",
       "5076     REGULAR-ETUX OR ET VIR\n",
       "14566        REGULAR-UNFINISHED\n",
       "42648      CORPORATION-RAILROAD\n",
       "Name: OWNERDESC, dtype: object"
      ]
     },
     "execution_count": 106,
     "metadata": {},
     "output_type": "execute_result"
    }
   ],
   "source": [
    "#the same owner has many different owner descriptions??\n",
    "df.loc[df['OwnerId']==180]['OWNERDESC'].drop_duplicates()"
   ]
  },
  {
   "cell_type": "code",
   "execution_count": null,
   "id": "b2677a85",
   "metadata": {},
   "outputs": [],
   "source": [
    "#next steps: assign code to indicate recency of sale - how to discount exponentially w time?\n",
    "#use feature selection to get features, then test out assorted models"
   ]
  },
  {
   "cell_type": "code",
   "execution_count": null,
   "id": "cd8d2361",
   "metadata": {},
   "outputs": [],
   "source": [
    "'''Investor-Owned Properties\n",
    "It may be possible to identify investor-owned residential properties using several fields in the\n",
    "assessment data. Given that not all eligible owners apply, relying solely on the lack of a\n",
    "Homestead flag does not provide enough certainty when working to identify investors. To begin,\n",
    "look at all residential properties using the “CLASSDESC” field to limit the search to privately\n",
    "owned properties (please note that condominium units are classified as residential, but\n",
    "apartment buildings with five or more units, or mixed-use residential parcels are categorized as\n",
    "“commercial” in the “CLASSDESC” field). Then, for all properties without a Homestead flag\n",
    "(“HOMESTEAD”<> “HOM”), compare the property address and owner’s address (using the four\n",
    "“CHANGENOTICE” fields as a proxy for owner’s address). If the addresses do not match and\n",
    "there is no Homestead exemption, this may provide an indication that the residential properties\n",
    "may be investor-owned. This data can be used to get a sense of neighborhood housing market\n",
    "dynamics and to develop informed investor housing strategies.\n",
    "For a guide to developing an investor housing strategy, see:\n",
    "http://www.policylink.org/find-resources/library/when-investors-buy-up-the-neighborhood\n",
    "'''"
   ]
  },
  {
   "cell_type": "code",
   "execution_count": null,
   "id": "3669234f",
   "metadata": {},
   "outputs": [],
   "source": [
    "'''Track Common Ownership Across Multiple Properties\n",
    "Owners of multiple properties can sometimes be linked by a common owner’s address (using\n",
    "the four “CHANGENOTICE” fields as a proxy for owner’s address) across their various holdings,\n",
    "even if the owner’s names appear differently in the assessment data for some of the properties\n",
    "in their portfolio. This data has been useful in proactive code enforcement, as data was recently\n",
    "used to identify the potential holdings of an investor that was cited for not addressing serious\n",
    "condition issues on a rental property in Carrick. In the assessment data, properties held at least\n",
    "in part by this owner were listed under several different corporate names but had a common\n",
    "owner’s address in the assessment record. The owner of the problem property mentioned in the\n",
    "news article was listed as an officer with one of these companies according to incorporations\n",
    "data from the Pennsylvania Department of State.\n",
    "Please use caution with this technique, as some properties may list the ”CHANGENOTICE”\n",
    "address as either the property manager or the mortgage company, not the property owner. It is\n",
    "best used on properties not managed by a third party, and owned free and clear'''\n",
    "\n",
    "#https://data.wprdc.org/dataset/2b3df818-601e-4f06-b150-643557229491/resource/cc4bafd2-25b6-41d7-83aa-d16bc211b020/download/alleghenycountypropertyassessmentdatauserguide-4.pdf"
   ]
  }
 ],
 "metadata": {
  "kernelspec": {
   "display_name": "Python 3 (ipykernel)",
   "language": "python",
   "name": "python3"
  },
  "language_info": {
   "codemirror_mode": {
    "name": "ipython",
    "version": 3
   },
   "file_extension": ".py",
   "mimetype": "text/x-python",
   "name": "python",
   "nbconvert_exporter": "python",
   "pygments_lexer": "ipython3",
   "version": "3.9.7"
  }
 },
 "nbformat": 4,
 "nbformat_minor": 5
}
