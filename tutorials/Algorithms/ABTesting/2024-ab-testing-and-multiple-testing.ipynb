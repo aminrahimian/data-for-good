{
 "cells": [
  {
   "cell_type": "markdown",
   "id": "1f28144d",
   "metadata": {},
   "source": [
    "# A/B Testing\n",
    "## Table of Contents:\n",
    "1. [Background reading](#background-reading)\n",
    "2. [Dataset](#dataset)\n",
    "3. [Essence of Data](#essence-of-data)\n",
    "    \n",
    "   3.1 [What is A/B Testing?](#what-is-ab-testing)\n",
    "       \n",
    "   3.2 [Example Code](#example-code)\n",
    "       \n",
    "4. [AI in the fabric of society](#ai-in-the-fabric-of-society)\n",
    "5. [More on A/B testing and ethics of experimentation in tech](#more-on-ab-testing-and-ethics-of-experimentation-in-tech)"
   ]
  },
  {
   "cell_type": "markdown",
   "id": "020e2f12",
   "metadata": {},
   "source": [
    "## Background reading:\n",
    "\n",
    "**Suggested Reading:**\n",
    "\n",
    "*Intro to Statistical Learning*: Chapter 13, Mutiple Testing (Sections 13.1 and 13.2, Page 553-561)\n",
    "\n",
    "**Optional Reading:**\n",
    "\n",
    "*Ethical Algorithm*: Chapter 3, Game People Play, The Commuting Game, (Page 101-105)\n",
    "\n",
    "*Ethical Algorithm*: Chapter 4, Lost in the Garden, Past Performance is No Guarantee of Future Returns, (Page 137-141)\n",
    "\n",
    "## Dataset:\n",
    "The example from github uses the ecommerce testing dataset from kaggle\n",
    "Link: https://www.kaggle.com/zhangluyuan/ab-testing \n",
    "\n",
    "Attribute columns:\n",
    "1. ID - unique user ID\n",
    "2. Time - what time the advertisement was shown to the user\n",
    "3. Con_Treat - whether the user is in the control or treatment group\n",
    "4. Page - whether the user can see the old or new page\n",
    "5. Converted - did the user click on the add (Yes = 1) or (No = 0)\n",
    "\n",
    "In this case A is column 5, whether the user clicked on the ad or not\n",
    "B is columns 3 and 4 which is whether the user is a member of the control group (old page) or treatment group (new page)\n",
    "\n",
    "**Article:** https://hbr.org/2017/06/a-refresher-on-ab-testing \n"
   ]
  },
  {
   "cell_type": "markdown",
   "id": "2a51d17e",
   "metadata": {},
   "source": [
    "## Essence of Data:\n",
    "\n",
    "### What is A/B Testing?\n",
    "\n",
    "![](../../../fig/ABTest/fig1.png)\n",
    "\n",
    "\n",
    "It is a way to compare multiple versions of a feature to see which performs better. It is typically used for websites\n",
    "\n",
    "Example: If the advertisement is bigger, will more people click on it? Are users more likely to purchase from a website with a different user interface?\n",
    "\n",
    "Example Application: Google doing A/B Testing with different shades of blue for link colors\n",
    "https://bharathbalasubramanian.medium.com/data-driven-decisions-googles-50-shades-of-blue-experiment-996f01819a97 \n",
    "\n",
    "Another Example Application: Harvard Business School: “Is A/B Testing Effective? Evidence from 35,000 Startups”\n",
    "https://hbswk.hbs.edu/item/is-ab-testing-effective-evidence-from-35000-startups \n",
    "\n",
    "It is the most basic type of a randomized controlled experiment. It is a statistical test and the number of samples (n) needed to determine statistical significance should be determined before the experiment is done. A null and alternative hypothesis must be determined then a statistical test needs to be performed to determine whether the results between the two groups are statistically significant.\n",
    "\n",
    "![](../../../fig/ABTest/fig2.png)\n",
    "\n",
    "\n",
    "An A/B test can be tied to multi-armed bandits because the algorithm will use the differences between the two responses to determine if an option should be exploited or explored.\n",
    "\n",
    "With A/B testing of a graphic e-commerce website advertisement (like our python tutorial) exploitation would mean using the advertisement that is more likely to be clicked on as the “winner” and using this advertisement to drive clicks to the companies’ website. Exploration could mean getting more data on the advertisement that seems “least effective”. For example, continuing user testing to see if the less popular advertisement is more effective with certain user demographics compared to the “winner”. \n"
   ]
  },
  {
   "cell_type": "markdown",
   "id": "4050680d",
   "metadata": {},
   "source": [
    "### Example Code"
   ]
  },
  {
   "cell_type": "code",
   "execution_count": 106,
   "id": "d51a757f-32c4-454c-9b01-253faa7dc716",
   "metadata": {},
   "outputs": [],
   "source": [
    "#Import necessary libraries\n",
    "import pandas as pd                     # data manipulation and analysis\n",
    "import math                             # mathematical operations\n",
    "import random                           # generating random numbers\n",
    "import numpy as np                      # numerical computations\n",
    "import seaborn as sns                   # data visualization\n",
    "import matplotlib.pyplot as plt         # creating plots\n",
    "from sklearn.model_selection import train_test_split       # splitting data into training and testing sets\n",
    "from sklearn.linear_model import LogisticRegression       # logistic regression model\n",
    "from sklearn import metrics                              # model evaluation metrics"
   ]
  },
  {
   "cell_type": "code",
   "execution_count": 108,
   "id": "fc89614a-c99a-4c86-a2d7-21819494d197",
   "metadata": {},
   "outputs": [
    {
     "data": {
      "text/html": [
       "<div>\n",
       "<style scoped>\n",
       "    .dataframe tbody tr th:only-of-type {\n",
       "        vertical-align: middle;\n",
       "    }\n",
       "\n",
       "    .dataframe tbody tr th {\n",
       "        vertical-align: top;\n",
       "    }\n",
       "\n",
       "    .dataframe thead th {\n",
       "        text-align: right;\n",
       "    }\n",
       "</style>\n",
       "<table border=\"1\" class=\"dataframe\">\n",
       "  <thead>\n",
       "    <tr style=\"text-align: right;\">\n",
       "      <th></th>\n",
       "      <th>id</th>\n",
       "      <th>time</th>\n",
       "      <th>con_treat</th>\n",
       "      <th>page</th>\n",
       "      <th>converted</th>\n",
       "    </tr>\n",
       "  </thead>\n",
       "  <tbody>\n",
       "    <tr>\n",
       "      <th>0</th>\n",
       "      <td>851104</td>\n",
       "      <td>11:48.6</td>\n",
       "      <td>control</td>\n",
       "      <td>old_page</td>\n",
       "      <td>0</td>\n",
       "    </tr>\n",
       "    <tr>\n",
       "      <th>1</th>\n",
       "      <td>804228</td>\n",
       "      <td>01:45.2</td>\n",
       "      <td>control</td>\n",
       "      <td>old_page</td>\n",
       "      <td>0</td>\n",
       "    </tr>\n",
       "    <tr>\n",
       "      <th>2</th>\n",
       "      <td>661590</td>\n",
       "      <td>55:06.2</td>\n",
       "      <td>treatment</td>\n",
       "      <td>new_page</td>\n",
       "      <td>0</td>\n",
       "    </tr>\n",
       "    <tr>\n",
       "      <th>3</th>\n",
       "      <td>853541</td>\n",
       "      <td>28:03.1</td>\n",
       "      <td>treatment</td>\n",
       "      <td>new_page</td>\n",
       "      <td>0</td>\n",
       "    </tr>\n",
       "    <tr>\n",
       "      <th>4</th>\n",
       "      <td>864975</td>\n",
       "      <td>52:26.2</td>\n",
       "      <td>control</td>\n",
       "      <td>old_page</td>\n",
       "      <td>1</td>\n",
       "    </tr>\n",
       "    <tr>\n",
       "      <th>...</th>\n",
       "      <td>...</td>\n",
       "      <td>...</td>\n",
       "      <td>...</td>\n",
       "      <td>...</td>\n",
       "      <td>...</td>\n",
       "    </tr>\n",
       "    <tr>\n",
       "      <th>294473</th>\n",
       "      <td>751197</td>\n",
       "      <td>28:38.6</td>\n",
       "      <td>control</td>\n",
       "      <td>old_page</td>\n",
       "      <td>0</td>\n",
       "    </tr>\n",
       "    <tr>\n",
       "      <th>294474</th>\n",
       "      <td>945152</td>\n",
       "      <td>51:57.1</td>\n",
       "      <td>control</td>\n",
       "      <td>old_page</td>\n",
       "      <td>0</td>\n",
       "    </tr>\n",
       "    <tr>\n",
       "      <th>294475</th>\n",
       "      <td>734608</td>\n",
       "      <td>45:03.4</td>\n",
       "      <td>control</td>\n",
       "      <td>old_page</td>\n",
       "      <td>0</td>\n",
       "    </tr>\n",
       "    <tr>\n",
       "      <th>294476</th>\n",
       "      <td>697314</td>\n",
       "      <td>20:29.0</td>\n",
       "      <td>control</td>\n",
       "      <td>old_page</td>\n",
       "      <td>0</td>\n",
       "    </tr>\n",
       "    <tr>\n",
       "      <th>294477</th>\n",
       "      <td>715931</td>\n",
       "      <td>40:24.5</td>\n",
       "      <td>treatment</td>\n",
       "      <td>new_page</td>\n",
       "      <td>0</td>\n",
       "    </tr>\n",
       "  </tbody>\n",
       "</table>\n",
       "<p>294478 rows × 5 columns</p>\n",
       "</div>"
      ],
      "text/plain": [
       "            id     time  con_treat      page  converted\n",
       "0       851104  11:48.6    control  old_page          0\n",
       "1       804228  01:45.2    control  old_page          0\n",
       "2       661590  55:06.2  treatment  new_page          0\n",
       "3       853541  28:03.1  treatment  new_page          0\n",
       "4       864975  52:26.2    control  old_page          1\n",
       "...        ...      ...        ...       ...        ...\n",
       "294473  751197  28:38.6    control  old_page          0\n",
       "294474  945152  51:57.1    control  old_page          0\n",
       "294475  734608  45:03.4    control  old_page          0\n",
       "294476  697314  20:29.0    control  old_page          0\n",
       "294477  715931  40:24.5  treatment  new_page          0\n",
       "\n",
       "[294478 rows x 5 columns]"
      ]
     },
     "execution_count": 108,
     "metadata": {},
     "output_type": "execute_result"
    }
   ],
   "source": [
    "#Load the dataset and columns of interest\n",
    "clickdataset = 'ab_test.csv'\n",
    "dataset = pd.read_csv(clickdataset)\n",
    "dataset"
   ]
  },
  {
   "cell_type": "code",
   "execution_count": 110,
   "id": "045dbd6a-7ee3-4889-9121-b6a8f0f146e1",
   "metadata": {},
   "outputs": [
    {
     "data": {
      "text/html": [
       "<div>\n",
       "<style scoped>\n",
       "    .dataframe tbody tr th:only-of-type {\n",
       "        vertical-align: middle;\n",
       "    }\n",
       "\n",
       "    .dataframe tbody tr th {\n",
       "        vertical-align: top;\n",
       "    }\n",
       "\n",
       "    .dataframe thead th {\n",
       "        text-align: right;\n",
       "    }\n",
       "</style>\n",
       "<table border=\"1\" class=\"dataframe\">\n",
       "  <thead>\n",
       "    <tr style=\"text-align: right;\">\n",
       "      <th></th>\n",
       "      <th>id</th>\n",
       "      <th>con_treat</th>\n",
       "      <th>page</th>\n",
       "      <th>converted</th>\n",
       "    </tr>\n",
       "  </thead>\n",
       "  <tbody>\n",
       "    <tr>\n",
       "      <th>0</th>\n",
       "      <td>851104</td>\n",
       "      <td>control</td>\n",
       "      <td>old_page</td>\n",
       "      <td>0</td>\n",
       "    </tr>\n",
       "    <tr>\n",
       "      <th>1</th>\n",
       "      <td>804228</td>\n",
       "      <td>control</td>\n",
       "      <td>old_page</td>\n",
       "      <td>0</td>\n",
       "    </tr>\n",
       "    <tr>\n",
       "      <th>2</th>\n",
       "      <td>661590</td>\n",
       "      <td>treatment</td>\n",
       "      <td>new_page</td>\n",
       "      <td>0</td>\n",
       "    </tr>\n",
       "    <tr>\n",
       "      <th>3</th>\n",
       "      <td>853541</td>\n",
       "      <td>treatment</td>\n",
       "      <td>new_page</td>\n",
       "      <td>0</td>\n",
       "    </tr>\n",
       "    <tr>\n",
       "      <th>4</th>\n",
       "      <td>864975</td>\n",
       "      <td>control</td>\n",
       "      <td>old_page</td>\n",
       "      <td>1</td>\n",
       "    </tr>\n",
       "    <tr>\n",
       "      <th>...</th>\n",
       "      <td>...</td>\n",
       "      <td>...</td>\n",
       "      <td>...</td>\n",
       "      <td>...</td>\n",
       "    </tr>\n",
       "    <tr>\n",
       "      <th>294473</th>\n",
       "      <td>751197</td>\n",
       "      <td>control</td>\n",
       "      <td>old_page</td>\n",
       "      <td>0</td>\n",
       "    </tr>\n",
       "    <tr>\n",
       "      <th>294474</th>\n",
       "      <td>945152</td>\n",
       "      <td>control</td>\n",
       "      <td>old_page</td>\n",
       "      <td>0</td>\n",
       "    </tr>\n",
       "    <tr>\n",
       "      <th>294475</th>\n",
       "      <td>734608</td>\n",
       "      <td>control</td>\n",
       "      <td>old_page</td>\n",
       "      <td>0</td>\n",
       "    </tr>\n",
       "    <tr>\n",
       "      <th>294476</th>\n",
       "      <td>697314</td>\n",
       "      <td>control</td>\n",
       "      <td>old_page</td>\n",
       "      <td>0</td>\n",
       "    </tr>\n",
       "    <tr>\n",
       "      <th>294477</th>\n",
       "      <td>715931</td>\n",
       "      <td>treatment</td>\n",
       "      <td>new_page</td>\n",
       "      <td>0</td>\n",
       "    </tr>\n",
       "  </tbody>\n",
       "</table>\n",
       "<p>294478 rows × 4 columns</p>\n",
       "</div>"
      ],
      "text/plain": [
       "            id  con_treat      page  converted\n",
       "0       851104    control  old_page          0\n",
       "1       804228    control  old_page          0\n",
       "2       661590  treatment  new_page          0\n",
       "3       853541  treatment  new_page          0\n",
       "4       864975    control  old_page          1\n",
       "...        ...        ...       ...        ...\n",
       "294473  751197    control  old_page          0\n",
       "294474  945152    control  old_page          0\n",
       "294475  734608    control  old_page          0\n",
       "294476  697314    control  old_page          0\n",
       "294477  715931  treatment  new_page          0\n",
       "\n",
       "[294478 rows x 4 columns]"
      ]
     },
     "execution_count": 110,
     "metadata": {},
     "output_type": "execute_result"
    }
   ],
   "source": [
    "df = dataset.drop('time', axis = 1)\n",
    "df"
   ]
  },
  {
   "cell_type": "code",
   "execution_count": 112,
   "id": "b884dca6-ef6a-4230-8624-8b1a2995e3f5",
   "metadata": {},
   "outputs": [
    {
     "data": {
      "text/plain": [
       "id           0\n",
       "con_treat    0\n",
       "page         0\n",
       "converted    0\n",
       "dtype: int64"
      ]
     },
     "execution_count": 112,
     "metadata": {},
     "output_type": "execute_result"
    }
   ],
   "source": [
    "#Checking for null values\n",
    "df.isna().sum()"
   ]
  },
  {
   "cell_type": "code",
   "execution_count": 114,
   "id": "484e2dd1-e237-4c1b-9884-e9c3831eb973",
   "metadata": {},
   "outputs": [
    {
     "data": {
      "text/html": [
       "<div>\n",
       "<style scoped>\n",
       "    .dataframe tbody tr th:only-of-type {\n",
       "        vertical-align: middle;\n",
       "    }\n",
       "\n",
       "    .dataframe tbody tr th {\n",
       "        vertical-align: top;\n",
       "    }\n",
       "\n",
       "    .dataframe thead th {\n",
       "        text-align: right;\n",
       "    }\n",
       "</style>\n",
       "<table border=\"1\" class=\"dataframe\">\n",
       "  <thead>\n",
       "    <tr style=\"text-align: right;\">\n",
       "      <th></th>\n",
       "      <th>id</th>\n",
       "      <th>converted</th>\n",
       "    </tr>\n",
       "  </thead>\n",
       "  <tbody>\n",
       "    <tr>\n",
       "      <th>count</th>\n",
       "      <td>294478.000000</td>\n",
       "      <td>294478.000000</td>\n",
       "    </tr>\n",
       "    <tr>\n",
       "      <th>mean</th>\n",
       "      <td>787974.124733</td>\n",
       "      <td>0.119659</td>\n",
       "    </tr>\n",
       "    <tr>\n",
       "      <th>std</th>\n",
       "      <td>91210.823776</td>\n",
       "      <td>0.324563</td>\n",
       "    </tr>\n",
       "    <tr>\n",
       "      <th>min</th>\n",
       "      <td>630000.000000</td>\n",
       "      <td>0.000000</td>\n",
       "    </tr>\n",
       "    <tr>\n",
       "      <th>25%</th>\n",
       "      <td>709032.250000</td>\n",
       "      <td>0.000000</td>\n",
       "    </tr>\n",
       "    <tr>\n",
       "      <th>50%</th>\n",
       "      <td>787933.500000</td>\n",
       "      <td>0.000000</td>\n",
       "    </tr>\n",
       "    <tr>\n",
       "      <th>75%</th>\n",
       "      <td>866911.750000</td>\n",
       "      <td>0.000000</td>\n",
       "    </tr>\n",
       "    <tr>\n",
       "      <th>max</th>\n",
       "      <td>945999.000000</td>\n",
       "      <td>1.000000</td>\n",
       "    </tr>\n",
       "  </tbody>\n",
       "</table>\n",
       "</div>"
      ],
      "text/plain": [
       "                  id      converted\n",
       "count  294478.000000  294478.000000\n",
       "mean   787974.124733       0.119659\n",
       "std     91210.823776       0.324563\n",
       "min    630000.000000       0.000000\n",
       "25%    709032.250000       0.000000\n",
       "50%    787933.500000       0.000000\n",
       "75%    866911.750000       0.000000\n",
       "max    945999.000000       1.000000"
      ]
     },
     "execution_count": 114,
     "metadata": {},
     "output_type": "execute_result"
    }
   ],
   "source": [
    "df.describe()"
   ]
  },
  {
   "cell_type": "code",
   "execution_count": 116,
   "id": "a8b5352d-8890-43fd-9abe-054cd4103f0a",
   "metadata": {},
   "outputs": [
    {
     "name": "stdout",
     "output_type": "stream",
     "text": [
      "Total number of mismatched pages: 3893\n"
     ]
    }
   ],
   "source": [
    "#Identify rows where the treatment doesn't match new page and the control doesn't match the old page\n",
    "mismatch1 = df.query('page == \"new_page\" & con_treat != \"treatment\"').count().iloc[0] \n",
    "mismatch2 = df.query('page == \"old_page\" & con_treat != \"control\"').count().iloc[0]\n",
    "print (f'Total number of mismatched pages: {mismatch1 + mismatch2}')"
   ]
  },
  {
   "cell_type": "code",
   "execution_count": 118,
   "id": "6cb6a1a7-d0bf-4a44-b631-73e3e8da36bf",
   "metadata": {},
   "outputs": [],
   "source": [
    "#Split data into into a new dataframe where the page and treatment match\n",
    "dfnew = df.query('page == \"new_page\" & con_treat == \"treatment\" | page == \"old_page\" & con_treat == \"control\"')"
   ]
  },
  {
   "cell_type": "code",
   "execution_count": 120,
   "id": "6b4cab8b-74ee-4b28-9b8f-e6aaf18f77f9",
   "metadata": {},
   "outputs": [],
   "source": [
    "#Remove any duplicate userids\n",
    "dfnew = dfnew.drop_duplicates(subset = 'id', keep = \"first\")"
   ]
  },
  {
   "cell_type": "code",
   "execution_count": 122,
   "id": "530f2e51-feac-4682-8b3c-1b260b4d0b92",
   "metadata": {},
   "outputs": [
    {
     "name": "stdout",
     "output_type": "stream",
     "text": [
      "The proportion of users that click on either version of the advertisement is: 11.9597%\n"
     ]
    }
   ],
   "source": [
    "#Check the number of unique users that clicked on the ad (both new and old versions of the page)\n",
    "converted_all = sum(dfnew.query('converted == 1').converted)/len(dfnew['id']) * 100   # calculating the proportion\n",
    "print('The proportion of users that click on either version of the advertisement is: {:.4f}%'.format(converted_all))"
   ]
  },
  {
   "cell_type": "code",
   "execution_count": 124,
   "id": "c76b3550-47d0-4b2d-bec6-a20462e00846",
   "metadata": {},
   "outputs": [
    {
     "name": "stdout",
     "output_type": "stream",
     "text": [
      "The proportion of users from the control group that click on the old advertisement is: 0.1204%\n"
     ]
    }
   ],
   "source": [
    "#Find the click rate for users shown the old version of the ad (control group)\n",
    "converted_control = len(dfnew.query('converted == 1 & con_treat == \"control\"')['id'])/len(dfnew.query('con_treat == \"control\"')['id'])\n",
    "print(f'The proportion of users from the control group that click on the old advertisement is: {converted_control:.4f}%')"
   ]
  },
  {
   "cell_type": "code",
   "execution_count": 126,
   "id": "c347d37c-c373-4fd1-abde-6e40275c66b8",
   "metadata": {},
   "outputs": [
    {
     "name": "stdout",
     "output_type": "stream",
     "text": [
      "The proportion of users from the treatment group that click on the new advertisement is: 0.1188%\n"
     ]
    }
   ],
   "source": [
    "#Find the click rate for users shown the new version of the ad (treatment group)\n",
    "converted_treatment = len(dfnew.query('converted == 1 & con_treat == \"treatment\"')['id'])/len(dfnew.query('con_treat == \"treatment\"')['id'])\n",
    "print(f'The proportion of users from the treatment group that click on the new advertisement is: {converted_treatment:.4f}%')"
   ]
  },
  {
   "cell_type": "code",
   "execution_count": 128,
   "id": "783b83a6-de1f-4203-aa05-1e42f53ba1fc",
   "metadata": {},
   "outputs": [
    {
     "name": "stdout",
     "output_type": "stream",
     "text": [
      "The difference between the proportion of the control group and treatment group that click on the ad is: 0.0016%\n"
     ]
    }
   ],
   "source": [
    "#Calculate the difference between groups\n",
    "converted_difference = converted_control - converted_treatment\n",
    "print(f'The difference between the proportion of the control group and treatment group that click on the ad is: {converted_difference:.4f}%')"
   ]
  },
  {
   "cell_type": "code",
   "execution_count": 130,
   "id": "42935f7b-d4c8-42e7-b3b3-29cc65eb62cf",
   "metadata": {},
   "outputs": [
    {
     "name": "stdout",
     "output_type": "stream",
     "text": [
      "z statistic: 1.24\n",
      "p-value: 0.216\n",
      "95% confidence interval for control group: [0.119, 0.122]\n",
      "95% confidence interval for treatment group: [0.117, 0.121]\n"
     ]
    }
   ],
   "source": [
    "#Test for statistical significance using z test and 95% confidence interval\n",
    "from statsmodels.stats.proportion import proportions_ztest, proportion_confint\n",
    "\n",
    "control_results = df[df['con_treat'] == 'control']['converted']\n",
    "treatment_results = df[df['con_treat'] == 'treatment']['converted']\n",
    "n_con = control_results.count()\n",
    "n_treat = treatment_results.count()\n",
    "successes = [control_results.sum(), treatment_results.sum()]\n",
    "nobs = [n_con, n_treat]\n",
    "\n",
    "z_stat, pval = proportions_ztest(successes, nobs = nobs)\n",
    "(lower_con, lower_treat), (upper_con, upper_treat) = proportion_confint(successes, nobs = nobs, alpha = 0.05)\n",
    "\n",
    "print(f'z statistic: {z_stat:.2f}')\n",
    "print(f'p-value: {pval:.3f}')\n",
    "print(f'95% confidence interval for control group: [{lower_con:.3f}, {upper_con:.3f}]')\n",
    "print(f'95% confidence interval for treatment group: [{lower_treat:.3f}, {upper_treat:.3f}]')"
   ]
  },
  {
   "cell_type": "code",
   "execution_count": 132,
   "id": "21562ced-3762-4887-9049-5ad2c59099cf",
   "metadata": {},
   "outputs": [
    {
     "name": "stdout",
     "output_type": "stream",
     "text": [
      "The p-value is 0.2161, which is greater than 0.05. Therefore, we fail to reject the null hypothesis and conclude that the difference between the groups is not statistically significant.\n"
     ]
    }
   ],
   "source": [
    "#Check the p-value to make the decision\n",
    "if pval > 0.05:\n",
    "    print('The p-value is {:.4f}, which is greater than 0.05. Therefore, we fail to reject the null hypothesis and conclude that the difference between the groups is not statistically significant.'. format(pval))\n",
    "else:\n",
    "    print('The p-value is {:.4f}, which is less than or equal to 0.05. Therefore, we reject the null hypothesis and conclude that the difference between the groups is statistically significant.'. format(pval))"
   ]
  },
  {
   "cell_type": "markdown",
   "id": "5c074e95-1235-40cb-9967-538eee3bbded",
   "metadata": {},
   "source": [
    "# Multiple Testing\n",
    "\n",
    "We will perform multiple testing in order to determine whether the treatment has a significant effect under different conditions (e.g., users who saw only the new page or only the old page).\n",
    "This will allow us for more granular analysis of whether the ad's effectiveness differs depending on page type.\n",
    "\n",
    "When performing multiple tests, the chance of false positives increases. These corrections help control for this:\n",
    "\n",
    "- **Bonferroni:** Conservative approach that reduces Type I errors but may miss true positives.\n",
    "- **FDR (Benjamini-Hochberg):** Balances false positives and true positives, making it more suitable for larger datasets."
   ]
  },
  {
   "cell_type": "code",
   "execution_count": 135,
   "id": "4e7c0f64-9118-4bd7-b6da-159006dd9733",
   "metadata": {},
   "outputs": [],
   "source": [
    "from statsmodels.stats.multitest import multipletests\n",
    "\n",
    "#Define hypotheses for multiple testing\n",
    "hypotheses = {\n",
    "    'New Page Only': dataset.query('page == \"new_page\"'),\n",
    "    'Old Page Only': dataset.query('page == \"old_page\"'),\n",
    "    'All Data': dataset\n",
    "}\n",
    "\n",
    "#Initialize variables\n",
    "p_values = []\n",
    "z_stats = []\n",
    "\n",
    "#Perform z-tests for each hypothesis\n",
    "for name, data in hypotheses.items():\n",
    "    control_results = data.query('con_treat == \"control\"')['converted']\n",
    "    treatment_results = data.query('con_treat == \"treatment\"')['converted']\n",
    "    \n",
    "    if len(control_results) > 0 and len(treatment_results) > 0:\n",
    "        # Calculate successes and total observations\n",
    "        successes = [control_results.sum(), treatment_results.sum()]\n",
    "        nobs = [len(control_results), len(treatment_results)]\n",
    "        \n",
    "        # Perform z-test\n",
    "        z_stat, pval = proportions_ztest(successes, nobs = nobs)\n",
    "        z_stats.append(z_stat)\n",
    "        p_values.append(pval)"
   ]
  },
  {
   "cell_type": "code",
   "execution_count": 147,
   "id": "11d41c32-c3eb-499b-b14a-ec3db8d1554e",
   "metadata": {},
   "outputs": [
    {
     "name": "stdout",
     "output_type": "stream",
     "text": [
      "\n",
      "Summary of Multiple Testing Results:\n",
      "      Hypothesis  Original_P-Value  Bonferroni_P-Value  FDR_P-Value  \\\n",
      "0  New Page Only          0.729826            1.000000     0.729826   \n",
      "1  Old Page Only          0.354842            1.000000     0.532263   \n",
      "2       All Data          0.216116            0.648348     0.532263   \n",
      "\n",
      "   Z-Statistic  \n",
      "0     0.345357  \n",
      "1    -0.925238  \n",
      "2     1.236922  \n"
     ]
    }
   ],
   "source": [
    "#Bonferroni correction (Family-Wise Error Rate)\n",
    "bonferroni_results = multipletests(p_values, alpha = 0.05, method = 'bonferroni')\n",
    "bonferroni_pvals = bonferroni_results[1]\n",
    "\n",
    "#FDR (False Discovery Rate) \n",
    "fdr_results = multipletests(p_values, alpha = 0.05, method = 'fdr_bh')\n",
    "fdr_pvals = fdr_results[1]\n",
    "\n",
    "#Combine results into a DataFrame to visualize easily\n",
    "results = pd.DataFrame({\n",
    "    'Hypothesis': hypotheses.keys(),\n",
    "    'Original_P-Value': p_values,\n",
    "    'Bonferroni_P-Value': bonferroni_pvals,\n",
    "    'FDR_P-Value': fdr_pvals, \n",
    "    'Z-Statistic': z_stats})\n",
    "\n",
    "print(\"\\nSummary of Multiple Testing Results:\")\n",
    "print(results)\n"
   ]
  },
  {
   "cell_type": "code",
   "execution_count": null,
   "id": "c3ee0ace",
   "metadata": {},
   "outputs": [],
   "source": []
  }
 ],
 "metadata": {
  "celltoolbar": "附件",
  "kernelspec": {
   "display_name": "Python 3 (ipykernel)",
   "language": "python",
   "name": "python3"
  },
  "language_info": {
   "codemirror_mode": {
    "name": "ipython",
    "version": 3
   },
   "file_extension": ".py",
   "mimetype": "text/x-python",
   "name": "python",
   "nbconvert_exporter": "python",
   "pygments_lexer": "ipython3",
   "version": "3.12.4"
  }
 },
 "nbformat": 4,
 "nbformat_minor": 5
}
