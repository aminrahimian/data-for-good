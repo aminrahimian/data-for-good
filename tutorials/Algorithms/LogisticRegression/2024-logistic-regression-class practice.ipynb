{
 "cells": [
  {
   "cell_type": "markdown",
   "id": "b6998597",
   "metadata": {},
   "source": [
    "# Logistic Regression\n",
    "\n",
    "\n",
    "## Table of Contents:\n",
    "1. [Background reading](#background-reading)\n",
    "2. [Dataset](#dataset)\n",
    "3. [Essence of Data](#essence-of-data)\n",
    "    \n",
    "    3.1 [Examples of application](#examples-of-application)\n",
    "    \n",
    "    3.2 [Example Codes](#example-codes)\n",
    "        \n",
    "        \n",
    "4. [AI in the fabric of society](#ai-in-the-fabric-of-society)\n"
   ]
  },
  {
   "cell_type": "markdown",
   "id": "b3a2ddfa-5cd9-44c6-814b-9c8afb4cfe35",
   "metadata": {},
   "source": [
    "## Background reading:\n",
    "\n",
    "**Suggested Reading**:\n",
    "\n",
    "*Intro to Statistical Learning*: 4.3 Logistic Regression, 4.3.4 Multiple Logistic Regression\n",
    "\n",
    "*Ethical Algorithm*: Chapter 3, Games People Play, The Dating Game, (Page 94-97)\n",
    "\n",
    "**Optional Reading**:\n",
    "\n",
    "*Intro to Statistical Learning*: 4.3.5 Multinomial Logistic Regression, 4.4.2 Linear Discriminant Analysis (explains specification, specificity, and ROC curve)\n",
    "\n",
    "## Dataset:\n",
    "The example on github uses the social network advertising clicks database from kaggle\n",
    "Link: https://www.kaggle.com/jahnveenarang/cvdcvd-vd?select=Social_Network_Ads.csv \n",
    "\n",
    "Attribute columns:\n",
    "1. User ID\n",
    "2. Gender - male or female\n",
    "3. Age\n",
    "4. Estimated Salary\n",
    "5. Gender Binary (Male = 1 and Female = 0)\n",
    "6. Purchased (User clicked on the ad and purchased = 1, user did not click on the ad = 0)\n",
    "\n",
    "The class being used for our target prediction class is “Purchased” \n"
   ]
  },
  {
   "cell_type": "markdown",
   "id": "89eb3913",
   "metadata": {},
   "source": [
    "## Essence of Data:\n",
    "\n",
    "**What is logistic regression?**\n",
    "Logistic regression is a supervised machine learning algorithm that is used for classification.\n",
    "\n",
    "There are two types of logistic regression\n",
    "Binary logistic regression (ie. patient has diabetes or patient does not have diabetes)\n",
    "Multi-linear functions (ie. freshman, sophomore, junior, senior)\n",
    "\n",
    "**How does logistic regression work?**\n",
    "Article: https://towardsdatascience.com/introduction-to-logistic-regression-66248243c148\n",
    "\n",
    "The predicted Y value lies within the range of 0 and 1.\n",
    "If we have two possible class values then we must set a threshold value, where all values above this threshold are assigned to one class and all values below the threshold to the other class. Typically we would choose a value of 0.5. Any unique user ID with a probability below 0.5 will be assigned to whichever class is 0 and any unique user ID with a probability above 0.5 will be assigned a class value of 1.\n",
    "\n",
    "The equation that logistic regression classifier uses when there are multiple predictors and a set of binary classifications. The sigmoid function is used to map predictions from probabilities.\n",
    "\n",
    "Graph here shows the shape of **sigmoid function**\n",
    "*The function of sigmoid: $S(x) = \\frac{1}{1+e^{-x}}$*\n",
    "\n",
    "![](../../../fig/Logistic/fig1.png)\n",
    "\n",
    "<div align = 'center'><font size = '10'>$\\frac{p(X)}{1-p(X)}=e^{\\beta_0+\\beta_1X}$</font></div>\n",
    "\n",
    "<div align = 'center'><font size = '10'>$\\log\\frac{p(X)}{1-p(X)}=\\beta_0+\\beta_1X$</font></div>\n",
    "\n",
    "<div align = 'center'><font size = '10'>$\\hat{p}(X)=\\frac{e^{\\hat{\\beta}_0+\\hat{\\beta}_1X}}{1+e^{\\hat{\\beta}_0+\\hat{\\beta}_1X}}$</font></div>\n",
    "\n",
    "<div align = 'center'><font size = '10'>$\\log\\frac{p(X)}{1-p(X)}=\\beta_0+\\beta_1X_1+...+\\beta_pX_p$</font></div>\n",
    "\n",
    "<div align = 'center'><font size = '10'>$p(X) = \\frac{e^{\\beta_0+\\beta_1X_1+...+\\beta_pX_p}}{1+e^{\\beta_0+\\beta_1X_1+...+\\beta_pX_p}}$</font></div>\n",
    "\n",
    "\n"
   ]
  },
  {
   "cell_type": "markdown",
   "id": "7b868f80",
   "metadata": {},
   "source": [
    "### Examples of application?\n",
    "**Article:** \n",
    "\n",
    "https://www.forbes.com/sites/forbesbusinesscouncil/2022/01/18/how-machine-learning-is-shaping-the-future-of-advertising/?sh=7bf8d1f51361 \n",
    "\n",
    "**Article about possible targeted ads being used to discriminate against disabled people and minorities in housing and political candidates using “dark ads” to target groups:**\n",
    "\n",
    "https://www.ama.org/marketing-news/the-ethics-of-targeting-minorities-with-dark-ads/\n",
    "https://hbr.org/2019/11/how-targeted-ads-and-dynamic-pricing-can-perpetuate-bias \n",
    "\n",
    "Logistic regression can be used to predict disease survival prediction, natural language processing tasks, sentiment analysis, and fraudulent transactions. It is commonly for targeted advertising by e-commerce retailers, political marketing campaigns, banks/credit card companies, and advertising companies.\n",
    "Possible ethical issues include targeting by exclusion and “dark ads”\n",
    "What groups (age, gender, income, education level) should these companies show advertisements towards in order to increase sales and support?\n",
    "\n",
    "This ties back to exploration vs. exploitation. When it comes to advertising a company does not want to spend money on ads for groups who are not already designated as good “target groups” (typically done through market research). They will want to exploit what they already know about groups who are likely to become customers and target their advertisements towards these groups in order to drive sales.\n"
   ]
  },
  {
   "cell_type": "markdown",
   "id": "3f1cb842",
   "metadata": {},
   "source": [
    "### Example Codes"
   ]
  },
  {
   "cell_type": "code",
   "execution_count": 237,
   "id": "d51a757f-32c4-454c-9b01-253faa7dc716",
   "metadata": {},
   "outputs": [],
   "source": [
    "import pandas as pd  # data manipulation and analysis library for handling structured data (like data frames, tables)\n",
    "import math # built-in library, which provides mathematical functions such as exponentiation, logarithms, trigonometry, etc\n",
    "import random  # provides functions for generating random numbers and performing random selections\n",
    "import numpy as np # library for handling arrays and numerical operations\n",
    "import seaborn as sns  # statistical data visualization library used to create histograms, boxplots, and heatmaps\n",
    "import matplotlib.pyplot as plt # plotting library used to create line plots, scatter plots, histograms, and bar plots\n",
    "from sklearn.model_selection import train_test_split  # split a dataset into training and testing sets\n",
    "from sklearn.linear_model import LogisticRegression  # used to create a logistic regression model\n",
    "from sklearn import metrics  # used to evaluate models include accuracy, precision, confusion matrix"
   ]
  },
  {
   "cell_type": "code",
   "execution_count": 239,
   "id": "fc89614a-c99a-4c86-a2d7-21819494d197",
   "metadata": {},
   "outputs": [],
   "source": [
    "#Load the dataset and columns of interest\n",
    "addataset = 'SocialNetworkAdClicks.csv'\n",
    "df_addataset = pd.read_csv(addataset, usecols = ['User ID','Age','EstimatedSalary','GenderBinary','Purchased'])"
   ]
  },
  {
   "cell_type": "code",
   "execution_count": 241,
   "id": "b884dca6-ef6a-4230-8624-8b1a2995e3f5",
   "metadata": {},
   "outputs": [
    {
     "data": {
      "text/plain": [
       "User ID            0\n",
       "Age                0\n",
       "EstimatedSalary    0\n",
       "Purchased          0\n",
       "GenderBinary       0\n",
       "dtype: int64"
      ]
     },
     "execution_count": 241,
     "metadata": {},
     "output_type": "execute_result"
    }
   ],
   "source": [
    "#checking dataset for null values\n",
    "df_addataset.isna().sum()  # checking missing values in each column "
   ]
  },
  {
   "cell_type": "code",
   "execution_count": 243,
   "id": "484e2dd1-e237-4c1b-9884-e9c3831eb973",
   "metadata": {},
   "outputs": [
    {
     "data": {
      "text/html": [
       "<div>\n",
       "<style scoped>\n",
       "    .dataframe tbody tr th:only-of-type {\n",
       "        vertical-align: middle;\n",
       "    }\n",
       "\n",
       "    .dataframe tbody tr th {\n",
       "        vertical-align: top;\n",
       "    }\n",
       "\n",
       "    .dataframe thead th {\n",
       "        text-align: right;\n",
       "    }\n",
       "</style>\n",
       "<table border=\"1\" class=\"dataframe\">\n",
       "  <thead>\n",
       "    <tr style=\"text-align: right;\">\n",
       "      <th></th>\n",
       "      <th>User ID</th>\n",
       "      <th>Age</th>\n",
       "      <th>EstimatedSalary</th>\n",
       "      <th>Purchased</th>\n",
       "      <th>GenderBinary</th>\n",
       "    </tr>\n",
       "  </thead>\n",
       "  <tbody>\n",
       "    <tr>\n",
       "      <th>count</th>\n",
       "      <td>4.000000e+02</td>\n",
       "      <td>400.000000</td>\n",
       "      <td>400.000000</td>\n",
       "      <td>400.000000</td>\n",
       "      <td>400.000000</td>\n",
       "    </tr>\n",
       "    <tr>\n",
       "      <th>mean</th>\n",
       "      <td>1.569154e+07</td>\n",
       "      <td>37.655000</td>\n",
       "      <td>69742.500000</td>\n",
       "      <td>0.357500</td>\n",
       "      <td>0.490000</td>\n",
       "    </tr>\n",
       "    <tr>\n",
       "      <th>std</th>\n",
       "      <td>7.165832e+04</td>\n",
       "      <td>10.482877</td>\n",
       "      <td>34096.960282</td>\n",
       "      <td>0.479864</td>\n",
       "      <td>0.500526</td>\n",
       "    </tr>\n",
       "    <tr>\n",
       "      <th>min</th>\n",
       "      <td>1.556669e+07</td>\n",
       "      <td>18.000000</td>\n",
       "      <td>15000.000000</td>\n",
       "      <td>0.000000</td>\n",
       "      <td>0.000000</td>\n",
       "    </tr>\n",
       "    <tr>\n",
       "      <th>25%</th>\n",
       "      <td>1.562676e+07</td>\n",
       "      <td>29.750000</td>\n",
       "      <td>43000.000000</td>\n",
       "      <td>0.000000</td>\n",
       "      <td>0.000000</td>\n",
       "    </tr>\n",
       "    <tr>\n",
       "      <th>50%</th>\n",
       "      <td>1.569434e+07</td>\n",
       "      <td>37.000000</td>\n",
       "      <td>70000.000000</td>\n",
       "      <td>0.000000</td>\n",
       "      <td>0.000000</td>\n",
       "    </tr>\n",
       "    <tr>\n",
       "      <th>75%</th>\n",
       "      <td>1.575036e+07</td>\n",
       "      <td>46.000000</td>\n",
       "      <td>88000.000000</td>\n",
       "      <td>1.000000</td>\n",
       "      <td>1.000000</td>\n",
       "    </tr>\n",
       "    <tr>\n",
       "      <th>max</th>\n",
       "      <td>1.581524e+07</td>\n",
       "      <td>60.000000</td>\n",
       "      <td>150000.000000</td>\n",
       "      <td>1.000000</td>\n",
       "      <td>1.000000</td>\n",
       "    </tr>\n",
       "  </tbody>\n",
       "</table>\n",
       "</div>"
      ],
      "text/plain": [
       "            User ID         Age  EstimatedSalary   Purchased  GenderBinary\n",
       "count  4.000000e+02  400.000000       400.000000  400.000000    400.000000\n",
       "mean   1.569154e+07   37.655000     69742.500000    0.357500      0.490000\n",
       "std    7.165832e+04   10.482877     34096.960282    0.479864      0.500526\n",
       "min    1.556669e+07   18.000000     15000.000000    0.000000      0.000000\n",
       "25%    1.562676e+07   29.750000     43000.000000    0.000000      0.000000\n",
       "50%    1.569434e+07   37.000000     70000.000000    0.000000      0.000000\n",
       "75%    1.575036e+07   46.000000     88000.000000    1.000000      1.000000\n",
       "max    1.581524e+07   60.000000    150000.000000    1.000000      1.000000"
      ]
     },
     "execution_count": 243,
     "metadata": {},
     "output_type": "execute_result"
    }
   ],
   "source": [
    "#dataset descriptive statistics\n",
    "df_addataset.describe()  # a summary of the statistical characteristics of the numeric columns"
   ]
  },
  {
   "cell_type": "code",
   "execution_count": 245,
   "id": "82d1369a",
   "metadata": {},
   "outputs": [
    {
     "data": {
      "text/plain": [
       "Text(0, 0.5, 'Frequency')"
      ]
     },
     "execution_count": 245,
     "metadata": {},
     "output_type": "execute_result"
    },
    {
     "data": {
      "image/png": "[encoded data removed]",
      "text/plain": [
       "<Figure size 640x480 with 1 Axes>"
      ]
     },
     "metadata": {},
     "output_type": "display_data"
    }
   ],
   "source": [
    "plt.hist(df_addataset['EstimatedSalary'], edgecolor='black')"
   ]
  },
  {
   "cell_type": "code",
   "execution_count": 247,
   "id": "7faf0042",
   "metadata": {},
   "outputs": [
    {
     "data": {
      "text/plain": [
       "Text(0, 0.5, 'Frequency')"
      ]
     },
     "execution_count": 247,
     "metadata": {},
     "output_type": "execute_result"
    },
    {
     "data": {
      "image/png": "[encoded data removed]",
      "text/plain": [
       "<Figure size 640x480 with 1 Axes>"
      ]
     },
     "metadata": {},
     "output_type": "display_data"
    }
   ],
   "source": [
    "plt.hist(df_addataset['Age'], edgecolor='black')"
   ]
  },
  {
   "cell_type": "code",
   "execution_count": 249,
   "id": "b123c52e-670c-4606-86aa-47f37021df1a",
   "metadata": {},
   "outputs": [
    {
     "data": {
      "text/html": [
       "<div>\n",
       "<style scoped>\n",
       "    .dataframe tbody tr th:only-of-type {\n",
       "        vertical-align: middle;\n",
       "    }\n",
       "\n",
       "    .dataframe tbody tr th {\n",
       "        vertical-align: top;\n",
       "    }\n",
       "\n",
       "    .dataframe thead th {\n",
       "        text-align: right;\n",
       "    }\n",
       "</style>\n",
       "<table border=\"1\" class=\"dataframe\">\n",
       "  <thead>\n",
       "    <tr style=\"text-align: right;\">\n",
       "      <th></th>\n",
       "      <th>User ID</th>\n",
       "      <th>Age</th>\n",
       "      <th>EstimatedSalary</th>\n",
       "      <th>Purchased</th>\n",
       "      <th>GenderBinary</th>\n",
       "    </tr>\n",
       "  </thead>\n",
       "  <tbody>\n",
       "    <tr>\n",
       "      <th>0</th>\n",
       "      <td>15624510</td>\n",
       "      <td>19</td>\n",
       "      <td>19000</td>\n",
       "      <td>0</td>\n",
       "      <td>1</td>\n",
       "    </tr>\n",
       "    <tr>\n",
       "      <th>1</th>\n",
       "      <td>15810944</td>\n",
       "      <td>35</td>\n",
       "      <td>20000</td>\n",
       "      <td>0</td>\n",
       "      <td>1</td>\n",
       "    </tr>\n",
       "    <tr>\n",
       "      <th>2</th>\n",
       "      <td>15668575</td>\n",
       "      <td>26</td>\n",
       "      <td>43000</td>\n",
       "      <td>0</td>\n",
       "      <td>0</td>\n",
       "    </tr>\n",
       "    <tr>\n",
       "      <th>3</th>\n",
       "      <td>15603246</td>\n",
       "      <td>27</td>\n",
       "      <td>57000</td>\n",
       "      <td>0</td>\n",
       "      <td>0</td>\n",
       "    </tr>\n",
       "    <tr>\n",
       "      <th>4</th>\n",
       "      <td>15804002</td>\n",
       "      <td>19</td>\n",
       "      <td>76000</td>\n",
       "      <td>0</td>\n",
       "      <td>1</td>\n",
       "    </tr>\n",
       "  </tbody>\n",
       "</table>\n",
       "</div>"
      ],
      "text/plain": [
       "    User ID  Age  EstimatedSalary  Purchased  GenderBinary\n",
       "0  15624510   19            19000          0             1\n",
       "1  15810944   35            20000          0             1\n",
       "2  15668575   26            43000          0             0\n",
       "3  15603246   27            57000          0             0\n",
       "4  15804002   19            76000          0             1"
      ]
     },
     "execution_count": 249,
     "metadata": {},
     "output_type": "execute_result"
    }
   ],
   "source": [
    "#show the head of the dataset\n",
    "df_addataset.head()  # displays the first 5 rows by default"
   ]
  },
  {
   "cell_type": "code",
   "execution_count": 251,
   "id": "a8b5352d-8890-43fd-9abe-054cd4103f0a",
   "metadata": {},
   "outputs": [],
   "source": [
    "#identify which columns are our predictors and which is our target \n",
    "feature_cols= ['GenderBinary','Age'] \n",
    "predictors = df_addataset[feature_cols] \n",
    "target = df_addataset.Purchased  "
   ]
  },
  {
   "cell_type": "code",
   "execution_count": 253,
   "id": "6cb6a1a7-d0bf-4a44-b631-73e3e8da36bf",
   "metadata": {},
   "outputs": [],
   "source": [
    "#split data into training set and test set\n",
    "x_train, x_test, y_train, y_test =  train_test_split(predictors,target,test_size = 0.2)  # 20% of the dataset allocated in test set"
   ]
  },
  {
   "cell_type": "code",
   "execution_count": 255,
   "id": "bfadeb82-9fa3-47ff-ba08-838e089d4aec",
   "metadata": {},
   "outputs": [],
   "source": [
    "#initiate logistic regression model\n",
    "logreg = LogisticRegression()\n",
    "#fit the model to the training data\n",
    "logreg.fit(x_train,y_train)\n",
    "y_pred = logreg.predict(x_test)"
   ]
  },
  {
   "cell_type": "code",
   "execution_count": 259,
   "id": "6b4cab8b-74ee-4b28-9b8f-e6aaf18f77f9",
   "metadata": {},
   "outputs": [
    {
     "name": "stdout",
     "output_type": "stream",
     "text": [
      "Accuracy of the Logistic Regression Model: 77.5%\n"
     ]
    }
   ],
   "source": [
    "#check accuracy and ROC score of the model\n",
    "accuracy = metrics.accuracy_score(y_test,y_pred)*100\n",
    "print('Accuracy of the Logistic Regression Model: {0}%'.format(accuracy))"
   ]
  },
  {
   "cell_type": "code",
   "execution_count": 121,
   "id": "2d4eaeec-fe80-4cb3-858a-437cf7373e3e",
   "metadata": {},
   "outputs": [
    {
     "data": {
      "image/png": "[encoded data removed]",
      "text/plain": [
       "<Figure size 640x480 with 1 Axes>"
      ]
     },
     "metadata": {},
     "output_type": "display_data"
    }
   ],
   "source": [
    "#create ROC Curve\n",
    "# If you are confused with ROC Curve, go below to see the concept\n",
    "# calculate the fpr and tpr for all thresholds of the classification\n",
    "probs = logreg.predict_proba(x_test)\n",
    "preds = probs[:,1]\n",
    "fpr, tpr, threshold = metrics.roc_curve(y_test, y_pred)\n",
    "roc_auc = metrics.auc(fpr, tpr)\n",
    "\n",
    "# method I: plt\n",
    "plt.title('Receiver Operating Characteristic')\n",
    "plt.plot(fpr, tpr, 'b', label = 'AUC = %0.2f' % roc_auc)\n",
    "plt.legend(loc = 'lower right')\n",
    "plt.plot([0, 1], [0, 1],'r--')\n",
    "plt.xlim([0, 1])\n",
    "plt.ylim([0, 1])\n",
    "plt.ylabel('True Positive Rate')\n",
    "plt.xlabel('False Positive Rate')\n",
    "plt.show()  "
   ]
  },
  {
   "cell_type": "code",
   "execution_count": 127,
   "id": "27ba74c4",
   "metadata": {},
   "outputs": [
    {
     "data": {
      "text/plain": [
       "array([0.        , 0.60606061, 1.        ])"
      ]
     },
     "execution_count": 127,
     "metadata": {},
     "output_type": "execute_result"
    }
   ],
   "source": [
    "#true positive rate numbers (you can print the FPR also)\n",
    "tpr"
   ]
  },
  {
   "cell_type": "code",
   "execution_count": 129,
   "id": "38086c59-1830-44fb-9afb-4dd4df244e48",
   "metadata": {},
   "outputs": [
    {
     "name": "stdout",
     "output_type": "stream",
     "text": [
      "Area Under the curve accuracy score is: 77.11154094132817%\n"
     ]
    }
   ],
   "source": [
    "# ROC Area Under the Curve\n",
    "roc = metrics.roc_auc_score(y_test,y_pred)*100\n",
    "print('Area Under the curve accuracy score is: {0}%'.format(roc))"
   ]
  },
  {
   "cell_type": "code",
   "execution_count": 131,
   "id": "02a54312-6935-41d9-8ec7-358e2c6266d8",
   "metadata": {},
   "outputs": [
    {
     "data": {
      "text/plain": [
       "array([[44,  3],\n",
       "       [13, 20]])"
      ]
     },
     "execution_count": 131,
     "metadata": {},
     "output_type": "execute_result"
    }
   ],
   "source": [
    "confusion_matrix = metrics.confusion_matrix(y_test,y_pred)\n",
    "confusion_matrix"
   ]
  },
  {
   "cell_type": "code",
   "execution_count": 73,
   "id": "a53e830f-89f6-4456-9dc5-d94fa2ed27d6",
   "metadata": {},
   "outputs": [
    {
     "data": {
      "text/plain": [
       "Text(0.5, 427.9555555555555, 'Predicted Class')"
      ]
     },
     "execution_count": 73,
     "metadata": {},
     "output_type": "execute_result"
    },
    {
     "data": {
      "image/png": "[encoded data removed]",
      "text/plain": [
       "<Figure size 640x480 with 2 Axes>"
      ]
     },
     "metadata": {},
     "output_type": "display_data"
    }
   ],
   "source": [
    "#heat map of accuracy\n",
    "class_names = [0,1]\n",
    "fig,ax = plt.subplots()\n",
    "tick_marks=np.arange(len(class_names))\n",
    "plt.xticks(tick_marks,class_names)\n",
    "plt.yticks(tick_marks,class_names)\n",
    "\n",
    "sns.heatmap(pd.DataFrame(confusion_matrix), annot = True, cmap = 'YlGnBu', fmt='g')\n",
    "ax.xaxis.set_label_position ('top')\n",
    "plt.tight_layout()\n",
    "plt.title('Results on Test Data')\n",
    "plt.ylabel('Actual Class')\n",
    "plt.xlabel('Predicted Class')"
   ]
  },
  {
   "cell_type": "markdown",
   "id": "e79bcb21",
   "metadata": {},
   "source": [
    "\n",
    "\n",
    "# Now time to code!\n",
    "\n",
    "### add iris.csv data provided on repository to your data folder\n",
    "\n",
    "### Check what we did with Adclick data and model fitting\n",
    "\n",
    "### Apply what you saw here on Adclick data to iris one\n",
    "\n",
    "\n",
    "\n",
    "## The only hint you may need is to how to convert string into categorical\n",
    "\n",
    "## df['variety']= pd.Categorical(df[\"variety\"]).codes\n",
    "\n",
    "\n",
    "\n",
    "\n",
    "\n",
    "\n",
    "\n",
    "\n"
   ]
  },
  {
   "cell_type": "code",
   "execution_count": null,
   "id": "695106ec",
   "metadata": {},
   "outputs": [],
   "source": []
  },
  {
   "cell_type": "code",
   "execution_count": null,
   "id": "fb8e1965",
   "metadata": {},
   "outputs": [],
   "source": []
  },
  {
   "cell_type": "code",
   "execution_count": null,
   "id": "b4f2d6e3-2f6c-437f-9c7a-41cb28432e35",
   "metadata": {},
   "outputs": [],
   "source": []
  },
  {
   "cell_type": "code",
   "execution_count": null,
   "id": "b90401c9",
   "metadata": {},
   "outputs": [],
   "source": []
  },
  {
   "cell_type": "code",
   "execution_count": null,
   "id": "01d2baf2",
   "metadata": {},
   "outputs": [],
   "source": []
  },
  {
   "cell_type": "code",
   "execution_count": null,
   "id": "fbf44691-7353-4ee0-b543-312100fb4560",
   "metadata": {},
   "outputs": [],
   "source": []
  },
  {
   "cell_type": "code",
   "execution_count": null,
   "id": "3833cbb1",
   "metadata": {},
   "outputs": [],
   "source": []
  },
  {
   "cell_type": "code",
   "execution_count": null,
   "id": "b22f0767",
   "metadata": {},
   "outputs": [],
   "source": []
  },
  {
   "cell_type": "code",
   "execution_count": null,
   "id": "eec56e29",
   "metadata": {},
   "outputs": [],
   "source": []
  },
  {
   "cell_type": "markdown",
   "id": "9ebf2aed",
   "metadata": {},
   "source": [
    "### Now to plot ROC curve we have here multiple classes \n",
    "### which's not the same case as it were in the previous example, hence, we need to make an encoding special to this called one hot encoding\n",
    "### we have class 0,1,2 we will make each one of them as an array of size 3 where zero -> [1,0,0], 1 -> [0,1,0] and 2 -> [0,0,1]\n",
    "more information: https://scikit-learn.org/stable/auto_examples/model_selection/plot_roc.html\n"
   ]
  },
  {
   "cell_type": "code",
   "execution_count": 200,
   "id": "83e46dc9",
   "metadata": {},
   "outputs": [],
   "source": [
    "from sklearn.preprocessing import LabelBinarizer\n",
    "\n",
    "label_binarizer = LabelBinarizer().fit(y_train)\n",
    "y_onehot_test = label_binarizer.transform(y_test)\n",
    "y_onehot_pred = label_binarizer.transform(y_pred)"
   ]
  },
  {
   "cell_type": "code",
   "execution_count": 202,
   "id": "990f4b7c",
   "metadata": {},
   "outputs": [
    {
     "data": {
      "image/png": "[encoded data removed]",
      "text/plain": [
       "<Figure size 640x480 with 1 Axes>"
      ]
     },
     "metadata": {},
     "output_type": "display_data"
    }
   ],
   "source": [
    "#create ROC Curve\n",
    "# plotting the ROC for reference of class 1\n",
    "class_id = 1\n",
    "probs = logreg.predict_proba(x_test)\n",
    "preds = probs[:,1]\n",
    "fpr, tpr, threshold = metrics.roc_curve(y_onehot_test[:,class_id], y_onehot_pred[:,class_id])\n",
    "roc_auc = metrics.auc(fpr, tpr)\n",
    "\n",
    "# method I: plt\n",
    "#import matplotlib.pyplot as plt\n",
    "plt.title('Receiver Operating Characteristic')\n",
    "plt.plot(fpr, tpr, 'b', label = 'AUC = %0.2f' % roc_auc)\n",
    "plt.legend(loc = 'lower right')\n",
    "plt.plot([0, 1], [0, 1],'r--')\n",
    "plt.xlim([0, 1])\n",
    "plt.ylim([0, 1])\n",
    "plt.ylabel('True Positive Rate')\n",
    "plt.xlabel('False Positive Rate')\n",
    "plt.show() "
   ]
  },
  {
   "cell_type": "code",
   "execution_count": 204,
   "id": "ec53f9e4",
   "metadata": {},
   "outputs": [
    {
     "name": "stdout",
     "output_type": "stream",
     "text": [
      "[0. 1. 1.] [0.         0.04761905 1.        ]\n"
     ]
    }
   ],
   "source": [
    "print(tpr,fpr)"
   ]
  }
 ],
 "metadata": {
  "kernelspec": {
   "display_name": "Python 3 (ipykernel)",
   "language": "python",
   "name": "python3"
  },
  "language_info": {
   "codemirror_mode": {
    "name": "ipython",
    "version": 3
   },
   "file_extension": ".py",
   "mimetype": "text/x-python",
   "name": "python",
   "nbconvert_exporter": "python",
   "pygments_lexer": "ipython3",
   "version": "3.12.4"
  }
 },
 "nbformat": 4,
 "nbformat_minor": 5
}
