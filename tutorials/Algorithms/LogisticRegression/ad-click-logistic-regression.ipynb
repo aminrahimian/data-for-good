{
 "cells": [
  {
   "cell_type": "markdown",
   "id": "b6998597",
   "metadata": {},
   "source": [
    "# Logistic Regression\n",
    "\n",
    "\n",
    "## Table of Contents:\n",
    "1. [Background reading](#background-reading)\n",
    "2. [Dataset](#dataset)\n",
    "3. [Essence of Data](#essence-of-data)\n",
    "    \n",
    "    3.1 [Examples of application](#examples-of-application)\n",
    "    \n",
    "    3.2 [Example Codes](#example-codes)\n",
    "        \n",
    "        \n",
    "4. [AI in the fabric of society](#ai-in-the-fabric-of-society)\n"
   ]
  },
  {
   "cell_type": "markdown",
   "id": "3e6e8e4c",
   "metadata": {},
   "source": [
    "## Background reading:\n",
    "\n",
    "**Suggested Reading**:\n",
    "\n",
    "*Intro to Statistical Learning*: 4.3 Logistic Regression, 4.3.4 Multiple Logistic Regression\n",
    "\n",
    "*Ethical Algorithm*: Chapter 3, Games People Play, The Dating Game, (Page 94-97)\n",
    "\n",
    "**Optional Reading**:\n",
    "\n",
    "*Intro to Statistical Learning*: 4.3.5 Multinomial Logistic Regression, 4.4.2 Linear Discriminant Analysis (explains specification, specificity, and ROC curve)\n",
    "\n",
    "## Dataset:\n",
    "The example on github uses the social network advertising clicks database from kaggle\n",
    "Link: https://www.kaggle.com/jahnveenarang/cvdcvd-vd?select=Social_Network_Ads.csv \n",
    "\n",
    "Attribute columns:\n",
    "1. User ID\n",
    "2. Gender - male or female\n",
    "3. Age\n",
    "4. Estimated Salary\n",
    "5. Gender Binary (Male = 1 and Female = 0)\n",
    "6. Purchased (User clicked on the ad and purchased = 1, user did not click on the ad = 0)\n",
    "\n",
    "The class being used for our target prediction class is “Purchased” \n"
   ]
  },
  {
   "cell_type": "markdown",
   "id": "89eb3913",
   "metadata": {},
   "source": [
    "## Essence of Data:\n",
    "\n",
    "**What is logistic regression?**\n",
    "Logistic regression is a supervised machine learning algorithm that is used for classification.\n",
    "\n",
    "There are two types of logistic regression\n",
    "Binary logistic regression (ie. patient has diabetes or patient does not have diabetes)\n",
    "Multi-linear functions (ie. freshman, sophomore, junior, senior)\n",
    "\n",
    "**How does logistic regression work?**\n",
    "Article: https://towardsdatascience.com/introduction-to-logistic-regression-66248243c148\n",
    "\n",
    "The predicted Y value lies within the range of 0 and 1.\n",
    "If we have two possible class values then we must set a threshold value, where all values above this threshold are assigned to one class and all values below the threshold to the other class. Typically we would choose a value of 0.5. Any unique user ID with a probability below 0.5 will be assigned to whichever class is 0 and any unique user ID with a probability above 0.5 will be assigned a class value of 1.\n",
    "\n",
    "The equation that logistic regression classifier uses when there are multiple predictors and a set of binary classifications. The sigmoid function is used to map predictions from probabilities.\n",
    "\n",
    "Graph here shows the shape of **sigmoid function**\n",
    "*The function of sigmoid: $S(x) = \\frac{1}{1+e^{-x}}$*\n",
    "\n",
    "![](../../../fig/Logistic/fig1.png)\n",
    "\n",
    "<div align = 'center'><font size = '10'>$\\log\\frac{p(X)}{1-p(X)}=\\beta_0+\\beta_1X$</font></div>\n",
    "\n",
    "<div align = 'center'><font size = '10'>$\\hat{p}(X)=\\frac{e^{\\hat{\\beta}_0+\\hat{\\beta}_1X}}{1+e^{\\hat{\\beta}_0+\\hat{\\beta}_1X}}$</font></div>\n",
    "\n",
    "<div align = 'center'><font size = '10'>$\\log\\frac{p(X)}{1-p(X)}=\\beta_0+\\beta_1X_1+...+\\beta_pX_p$</font></div>\n",
    "\n",
    "<div align = 'center'><font size = '10'>$p(X) = \\frac{e^{\\beta_0+\\beta_1X_1+...+\\beta_pX_p}}{1+e^{\\beta_0+\\beta_1X_1+...+\\beta_pX_p}}$</font></div>\n",
    "\n",
    "\n"
   ]
  },
  {
   "cell_type": "markdown",
   "id": "7b868f80",
   "metadata": {},
   "source": [
    "### Examples of application?\n",
    "**Article:** \n",
    "\n",
    "https://www.forbes.com/sites/forbesbusinesscouncil/2022/01/18/how-machine-learning-is-shaping-the-future-of-advertising/?sh=7bf8d1f51361 \n",
    "\n",
    "**Article about possible targeted ads being used to discriminate against disabled people and minorities in housing and political candidates using “dark ads” to target groups:**\n",
    "\n",
    "https://www.ama.org/marketing-news/the-ethics-of-targeting-minorities-with-dark-ads/\n",
    "https://hbr.org/2019/11/how-targeted-ads-and-dynamic-pricing-can-perpetuate-bias \n",
    "\n",
    "Logistic regression can be used to predict disease survival prediction, natural language processing tasks, sentiment analysis, and fraudulent transactions. It is commonly for targeted advertising by e-commerce retailers, political marketing campaigns, banks/credit card companies, and advertising companies.\n",
    "Possible ethical issues include targeting by exclusion and “dark ads”\n",
    "What groups (age, gender, income, education level) should these companies show advertisements towards in order to increase sales and support?\n",
    "\n",
    "This ties back to exploration vs. exploitation. When it comes to advertising a company does not want to spend money on ads for groups who are not already designated as good “target groups” (typically done through market research). They will want to exploit what they already know about groups who are likely to become customers and target their advertisements towards these groups in order to drive sales.\n"
   ]
  },
  {
   "cell_type": "markdown",
   "id": "3f1cb842",
   "metadata": {},
   "source": [
    "### Example Codes"
   ]
  },
  {
   "cell_type": "code",
   "execution_count": 1,
   "id": "d51a757f-32c4-454c-9b01-253faa7dc716",
   "metadata": {},
   "outputs": [],
   "source": [
    "import pandas as pd\n",
    "import math\n",
    "import random\n",
    "import numpy as np\n",
    "import seaborn as sns\n",
    "import matplotlib.pyplot as plt\n",
    "from sklearn.model_selection import train_test_split\n",
    "from sklearn.linear_model import LogisticRegression\n",
    "from sklearn import metrics\n"
   ]
  },
  {
   "cell_type": "code",
   "execution_count": 2,
   "id": "fc89614a-c99a-4c86-a2d7-21819494d197",
   "metadata": {},
   "outputs": [],
   "source": [
    "#Load the dataset and columns of interest\n",
    "addataset = '../../../data/SocialNetworkAdClicks.csv'\n",
    "df_addataset = pd.read_csv(addataset, usecols = ['User ID','Age','EstimatedSalary','GenderBinary','Purchased'])\n",
    "#df_addataset = pd.read_csv(addataset, usecols = ['Age','EstimatedSalary','GenderBinary','Purchased'])"
   ]
  },
  {
   "cell_type": "code",
   "execution_count": 3,
   "id": "b884dca6-ef6a-4230-8624-8b1a2995e3f5",
   "metadata": {},
   "outputs": [
    {
     "data": {
      "text/plain": [
       "User ID            0\n",
       "Age                0\n",
       "EstimatedSalary    0\n",
       "Purchased          0\n",
       "GenderBinary       0\n",
       "dtype: int64"
      ]
     },
     "execution_count": 3,
     "metadata": {},
     "output_type": "execute_result"
    }
   ],
   "source": [
    "#checking dataset for null values\n",
    "df_addataset.isna().sum()"
   ]
  },
  {
   "cell_type": "code",
   "execution_count": 4,
   "id": "484e2dd1-e237-4c1b-9884-e9c3831eb973",
   "metadata": {},
   "outputs": [
    {
     "data": {
      "text/html": [
       "<div>\n",
       "<style scoped>\n",
       "    .dataframe tbody tr th:only-of-type {\n",
       "        vertical-align: middle;\n",
       "    }\n",
       "\n",
       "    .dataframe tbody tr th {\n",
       "        vertical-align: top;\n",
       "    }\n",
       "\n",
       "    .dataframe thead th {\n",
       "        text-align: right;\n",
       "    }\n",
       "</style>\n",
       "<table border=\"1\" class=\"dataframe\">\n",
       "  <thead>\n",
       "    <tr style=\"text-align: right;\">\n",
       "      <th></th>\n",
       "      <th>User ID</th>\n",
       "      <th>Age</th>\n",
       "      <th>EstimatedSalary</th>\n",
       "      <th>Purchased</th>\n",
       "      <th>GenderBinary</th>\n",
       "    </tr>\n",
       "  </thead>\n",
       "  <tbody>\n",
       "    <tr>\n",
       "      <th>count</th>\n",
       "      <td>4.000000e+02</td>\n",
       "      <td>400.000000</td>\n",
       "      <td>400.000000</td>\n",
       "      <td>400.000000</td>\n",
       "      <td>400.000000</td>\n",
       "    </tr>\n",
       "    <tr>\n",
       "      <th>mean</th>\n",
       "      <td>1.569154e+07</td>\n",
       "      <td>37.655000</td>\n",
       "      <td>69742.500000</td>\n",
       "      <td>0.357500</td>\n",
       "      <td>0.490000</td>\n",
       "    </tr>\n",
       "    <tr>\n",
       "      <th>std</th>\n",
       "      <td>7.165832e+04</td>\n",
       "      <td>10.482877</td>\n",
       "      <td>34096.960282</td>\n",
       "      <td>0.479864</td>\n",
       "      <td>0.500526</td>\n",
       "    </tr>\n",
       "    <tr>\n",
       "      <th>min</th>\n",
       "      <td>1.556669e+07</td>\n",
       "      <td>18.000000</td>\n",
       "      <td>15000.000000</td>\n",
       "      <td>0.000000</td>\n",
       "      <td>0.000000</td>\n",
       "    </tr>\n",
       "    <tr>\n",
       "      <th>25%</th>\n",
       "      <td>1.562676e+07</td>\n",
       "      <td>29.750000</td>\n",
       "      <td>43000.000000</td>\n",
       "      <td>0.000000</td>\n",
       "      <td>0.000000</td>\n",
       "    </tr>\n",
       "    <tr>\n",
       "      <th>50%</th>\n",
       "      <td>1.569434e+07</td>\n",
       "      <td>37.000000</td>\n",
       "      <td>70000.000000</td>\n",
       "      <td>0.000000</td>\n",
       "      <td>0.000000</td>\n",
       "    </tr>\n",
       "    <tr>\n",
       "      <th>75%</th>\n",
       "      <td>1.575036e+07</td>\n",
       "      <td>46.000000</td>\n",
       "      <td>88000.000000</td>\n",
       "      <td>1.000000</td>\n",
       "      <td>1.000000</td>\n",
       "    </tr>\n",
       "    <tr>\n",
       "      <th>max</th>\n",
       "      <td>1.581524e+07</td>\n",
       "      <td>60.000000</td>\n",
       "      <td>150000.000000</td>\n",
       "      <td>1.000000</td>\n",
       "      <td>1.000000</td>\n",
       "    </tr>\n",
       "  </tbody>\n",
       "</table>\n",
       "</div>"
      ],
      "text/plain": [
       "            User ID         Age  EstimatedSalary   Purchased  GenderBinary\n",
       "count  4.000000e+02  400.000000       400.000000  400.000000    400.000000\n",
       "mean   1.569154e+07   37.655000     69742.500000    0.357500      0.490000\n",
       "std    7.165832e+04   10.482877     34096.960282    0.479864      0.500526\n",
       "min    1.556669e+07   18.000000     15000.000000    0.000000      0.000000\n",
       "25%    1.562676e+07   29.750000     43000.000000    0.000000      0.000000\n",
       "50%    1.569434e+07   37.000000     70000.000000    0.000000      0.000000\n",
       "75%    1.575036e+07   46.000000     88000.000000    1.000000      1.000000\n",
       "max    1.581524e+07   60.000000    150000.000000    1.000000      1.000000"
      ]
     },
     "execution_count": 4,
     "metadata": {},
     "output_type": "execute_result"
    }
   ],
   "source": [
    "#dataset descriptive statistics\n",
    "df_addataset.describe()"
   ]
  },
  {
   "cell_type": "code",
   "execution_count": 5,
   "id": "b123c52e-670c-4606-86aa-47f37021df1a",
   "metadata": {},
   "outputs": [
    {
     "data": {
      "text/html": [
       "<div>\n",
       "<style scoped>\n",
       "    .dataframe tbody tr th:only-of-type {\n",
       "        vertical-align: middle;\n",
       "    }\n",
       "\n",
       "    .dataframe tbody tr th {\n",
       "        vertical-align: top;\n",
       "    }\n",
       "\n",
       "    .dataframe thead th {\n",
       "        text-align: right;\n",
       "    }\n",
       "</style>\n",
       "<table border=\"1\" class=\"dataframe\">\n",
       "  <thead>\n",
       "    <tr style=\"text-align: right;\">\n",
       "      <th></th>\n",
       "      <th>User ID</th>\n",
       "      <th>Age</th>\n",
       "      <th>EstimatedSalary</th>\n",
       "      <th>Purchased</th>\n",
       "      <th>GenderBinary</th>\n",
       "    </tr>\n",
       "  </thead>\n",
       "  <tbody>\n",
       "    <tr>\n",
       "      <th>0</th>\n",
       "      <td>15624510</td>\n",
       "      <td>19</td>\n",
       "      <td>19000</td>\n",
       "      <td>0</td>\n",
       "      <td>1</td>\n",
       "    </tr>\n",
       "    <tr>\n",
       "      <th>1</th>\n",
       "      <td>15810944</td>\n",
       "      <td>35</td>\n",
       "      <td>20000</td>\n",
       "      <td>0</td>\n",
       "      <td>1</td>\n",
       "    </tr>\n",
       "    <tr>\n",
       "      <th>2</th>\n",
       "      <td>15668575</td>\n",
       "      <td>26</td>\n",
       "      <td>43000</td>\n",
       "      <td>0</td>\n",
       "      <td>0</td>\n",
       "    </tr>\n",
       "    <tr>\n",
       "      <th>3</th>\n",
       "      <td>15603246</td>\n",
       "      <td>27</td>\n",
       "      <td>57000</td>\n",
       "      <td>0</td>\n",
       "      <td>0</td>\n",
       "    </tr>\n",
       "    <tr>\n",
       "      <th>4</th>\n",
       "      <td>15804002</td>\n",
       "      <td>19</td>\n",
       "      <td>76000</td>\n",
       "      <td>0</td>\n",
       "      <td>1</td>\n",
       "    </tr>\n",
       "  </tbody>\n",
       "</table>\n",
       "</div>"
      ],
      "text/plain": [
       "    User ID  Age  EstimatedSalary  Purchased  GenderBinary\n",
       "0  15624510   19            19000          0             1\n",
       "1  15810944   35            20000          0             1\n",
       "2  15668575   26            43000          0             0\n",
       "3  15603246   27            57000          0             0\n",
       "4  15804002   19            76000          0             1"
      ]
     },
     "execution_count": 5,
     "metadata": {},
     "output_type": "execute_result"
    }
   ],
   "source": [
    "#show the head of the dataset\n",
    "df_addataset.head()"
   ]
  },
  {
   "cell_type": "code",
   "execution_count": 18,
   "id": "a8b5352d-8890-43fd-9abe-054cd4103f0a",
   "metadata": {},
   "outputs": [],
   "source": [
    "#identify which columns are our predictors and which is our target \n",
    "#feature_cols= ['User ID', 'GenderBinary','Age','EstimatedSalary']\n",
    "feature_cols= [ 'GenderBinary','Age','EstimatedSalary']\n",
    "#feature_cols= [ 'GenderBinary','Age','EstimatedSalary']\n",
    "predictors = df_addataset[feature_cols]\n",
    "target = df_addataset.Purchased"
   ]
  },
  {
   "cell_type": "code",
   "execution_count": 19,
   "id": "6cb6a1a7-d0bf-4a44-b631-73e3e8da36bf",
   "metadata": {},
   "outputs": [],
   "source": [
    "#split data into training set and test set\n",
    "x_train, x_test, y_train, y_test =  train_test_split(predictors,target,test_size = 0.4)"
   ]
  },
  {
   "cell_type": "code",
   "execution_count": 8,
   "id": "bfadeb82-9fa3-47ff-ba08-838e089d4aec",
   "metadata": {},
   "outputs": [],
   "source": [
    "#initiate logistic regression model\n",
    "logreg = LogisticRegression()\n",
    "#fit the model to the training data\n",
    "logreg.fit(x_train,y_train)\n",
    "y_pred = logreg.predict(x_test)"
   ]
  },
  {
   "cell_type": "code",
   "execution_count": 9,
   "id": "6b4cab8b-74ee-4b28-9b8f-e6aaf18f77f9",
   "metadata": {},
   "outputs": [
    {
     "name": "stdout",
     "output_type": "stream",
     "text": [
      "Accuracy of the Logistic Regression Model: 80.625%\n"
     ]
    }
   ],
   "source": [
    "#check accuracy and ROC score of the model\n",
    "accuracy = metrics.accuracy_score(y_test,y_pred)*100\n",
    "print('Accuracy of the Logistic Regression Model: {0}%'.format(accuracy))"
   ]
  },
  {
   "cell_type": "code",
   "execution_count": 10,
   "id": "2d4eaeec-fe80-4cb3-858a-437cf7373e3e",
   "metadata": {},
   "outputs": [
    {
     "data": {
      "image/png": "[encoded data removed]",
      "text/plain": [
       "<Figure size 432x288 with 1 Axes>"
      ]
     },
     "metadata": {
      "needs_background": "light"
     },
     "output_type": "display_data"
    }
   ],
   "source": [
    "#create ROC Curve\n",
    "# If you are confused with ROC Curve, go below to see the concept\n",
    "# calculate the fpr and tpr for all thresholds of the classification\n",
    "probs = logreg.predict_proba(x_test)\n",
    "preds = probs[:,1]\n",
    "fpr, tpr, threshold = metrics.roc_curve(y_test, y_pred)\n",
    "roc_auc = metrics.auc(fpr, tpr)\n",
    "\n",
    "# method I: plt\n",
    "#import matplotlib.pyplot as plt\n",
    "plt.title('Receiver Operating Characteristic')\n",
    "plt.plot(fpr, tpr, 'b', label = 'AUC = %0.2f' % roc_auc)\n",
    "plt.legend(loc = 'lower right')\n",
    "plt.plot([0, 1], [0, 1],'r--')\n",
    "plt.xlim([0, 1])\n",
    "plt.ylim([0, 1])\n",
    "plt.ylabel('True Positive Rate')\n",
    "plt.xlabel('False Positive Rate')\n",
    "plt.show()  "
   ]
  },
  {
   "cell_type": "code",
   "execution_count": 11,
   "id": "38086c59-1830-44fb-9afb-4dd4df244e48",
   "metadata": {},
   "outputs": [
    {
     "name": "stdout",
     "output_type": "stream",
     "text": [
      "Area Under the curve accuracy score is: 71.23082348792101%\n"
     ]
    }
   ],
   "source": [
    "# ROC Area Under the Curve\n",
    "roc = metrics.roc_auc_score(y_test,y_pred)*100\n",
    "print('Area Under the curve accuracy score is: {0}%'.format(roc))"
   ]
  },
  {
   "cell_type": "code",
   "execution_count": 12,
   "id": "02a54312-6935-41d9-8ec7-358e2c6266d8",
   "metadata": {},
   "outputs": [
    {
     "data": {
      "text/plain": [
       "array([[106,   1],\n",
       "       [ 30,  23]], dtype=int64)"
      ]
     },
     "execution_count": 12,
     "metadata": {},
     "output_type": "execute_result"
    }
   ],
   "source": [
    "confusion_matrix = metrics.confusion_matrix(y_test,y_pred)\n",
    "confusion_matrix"
   ]
  },
  {
   "cell_type": "code",
   "execution_count": 13,
   "id": "a53e830f-89f6-4456-9dc5-d94fa2ed27d6",
   "metadata": {},
   "outputs": [
    {
     "data": {
      "text/plain": [
       "Text(0.5, 257.44, 'Predicted Class')"
      ]
     },
     "execution_count": 13,
     "metadata": {},
     "output_type": "execute_result"
    },
    {
     "data": {
      "image/png": "[encoded data removed]",
      "text/plain": [
       "<Figure size 432x288 with 2 Axes>"
      ]
     },
     "metadata": {
      "needs_background": "light"
     },
     "output_type": "display_data"
    }
   ],
   "source": [
    "#heat map of accuracy\n",
    "class_names = [0,1]\n",
    "fig,ax = plt.subplots()\n",
    "tick_marks=np.arange(len(class_names))\n",
    "plt.xticks(tick_marks,class_names)\n",
    "plt.yticks(tick_marks,class_names)\n",
    "\n",
    "sns.heatmap(pd.DataFrame(confusion_matrix), annot = True, cmap = 'YlGnBu', fmt='g')\n",
    "ax.xaxis.set_label_position ('top')\n",
    "plt.tight_layout()\n",
    "plt.title('Results on Test Data')\n",
    "plt.ylabel('Actual Class')\n",
    "plt.xlabel('Predicted Class')"
   ]
  },
  {
   "cell_type": "markdown",
   "id": "179645f5",
   "metadata": {},
   "source": [
    "### Related Concepts- Specificity, Precision, Sensitivity, Accuracy, ROC\n",
    "\n",
    "![Figure from textbook Page 148](../../../fig/Logistic/fig2.png)\n",
    "\n",
    "Result: TN = 101, FP = 2, FN = 33, TP = 24\n",
    "\n",
    "![Figure from textbook Page 149](../../../fig/Logistic/fig3.png)\n",
    "\n",
    "Calculate:\n",
    "False Positive Rate = 2/103 = 0.0194 = 1.94% \n",
    "True Positive Rate = 24/57 = 0.4211 = 42.11%\n",
    "Positive Prediction Value = 24/26 = 0.9231 = 92.31%\n",
    "Negative Prediction Value = 101/134 = 0.7537 = 75.37%\n",
    "\n",
    "Type I error = 1.94%\n",
    "Type 2 error = 1-.4211 = 57.89%\n",
    "Specificity = 100%-1.94% = 98.06% \n",
    "Precision = 92.31%\n",
    "Sensitivity = 42.11%\n",
    "Our model is specific and precise, but not very sensitive and there is a high probability of type 2 error. Ideally we would want a bigger model with more data points so that the model can have a lot of training data.\n",
    "\n",
    "\n",
    "**Accuracy**\n",
    "\n",
    "**ROC (Receiver Operating Characteristic) curve** is a graphical representation of the Type I and Type II errors for all possible thresholds. The performance of the classifier is given by the “area under the curve (AUC)” score. A perfectly accurate classification algorithm will have an AUC score close to 1.\n"
   ]
  },
  {
   "cell_type": "markdown",
   "id": "9c613d03",
   "metadata": {},
   "source": [
    "## AI in fabrics of society:\n",
    "\n",
    "The recommendation system of today's software surprised our users, because it can push you any alluring and intriguing links that attracts its users. The shopping platform such as amazon and walmart will suggest links to some goods that we may interested in, and the video software such as Tiktok will refresh absorbing short videos that addicted us for hours. The improvement of algorithms allow these system to recommend contents that attract people with a higher and higher accuracy.\n",
    "\n",
    "However, sometimes the recommendation problems will face problems such as oversupply and undersupply. Imagine a good with sepcific quality like attacts a group of people, the recommendation system will send the link to them and most of them will buy. Since the system sends the link simultaneously, the demand will rapidly increase and the good will be undersupplied with high risk, resulting the bad experience to customers. In the book, read the similar problem and think about possibilities that can solve this kind of problems.\n",
    "\n",
    "Reading: *Ethical Algorithm*: Chapter 3, Games People Play, The Dating Game, (Page 94-97)"
   ]
  },
  {
   "cell_type": "code",
   "execution_count": 20,
   "id": "9001445d",
   "metadata": {},
   "outputs": [],
   "source": [
    "#train decision tree\n",
    "from sklearn.tree import DecisionTreeClassifier\n",
    "\n",
    "\n",
    "model = DecisionTreeClassifier()\n",
    "model.fit(x_train, y_train)\n",
    "predictions = model.predict(x_test)"
   ]
  },
  {
   "cell_type": "code",
   "execution_count": 21,
   "id": "21546b54",
   "metadata": {},
   "outputs": [
    {
     "name": "stdout",
     "output_type": "stream",
     "text": [
      "Accuracy of the Decision Tree Classification Model: 87.5%\n"
     ]
    }
   ],
   "source": [
    "#check accuracy and ROC score of the model\n",
    "accuracy = metrics.accuracy_score(y_test,predictions)*100\n",
    "print('Accuracy of the Decision Tree Classification Model: {0}%'.format(accuracy))"
   ]
  },
  {
   "cell_type": "code",
   "execution_count": 22,
   "id": "d7af8b33",
   "metadata": {},
   "outputs": [
    {
     "data": {
      "text/plain": [
       "array([[88, 13],\n",
       "       [ 7, 52]], dtype=int64)"
      ]
     },
     "execution_count": 22,
     "metadata": {},
     "output_type": "execute_result"
    }
   ],
   "source": [
    "# create a matrix with classification predictions\n",
    "confusion_matrix = metrics.confusion_matrix(y_test,predictions)\n",
    "confusion_matrix\n"
   ]
  },
  {
   "cell_type": "markdown",
   "id": "9a8df5ba",
   "metadata": {},
   "source": [
    "By using a decision tree instead of logistic regression for this data set, we can increase the accuracy to 87.5%!"
   ]
  },
  {
   "cell_type": "code",
   "execution_count": 23,
   "id": "6d7461c3",
   "metadata": {},
   "outputs": [
    {
     "data": {
      "text/plain": [
       "Text(0.5, 257.44, 'Predicted Class')"
      ]
     },
     "execution_count": 23,
     "metadata": {},
     "output_type": "execute_result"
    },
    {
     "data": {
      "image/png": "[encoded data removed]",
      "text/plain": [
       "<Figure size 432x288 with 2 Axes>"
      ]
     },
     "metadata": {
      "needs_background": "light"
     },
     "output_type": "display_data"
    }
   ],
   "source": [
    "#heat map of accuracy\n",
    "class_names = [0,1]\n",
    "fig,ax = plt.subplots()\n",
    "tick_marks=np.arange(len(class_names))\n",
    "plt.xticks(tick_marks,class_names)\n",
    "plt.yticks(tick_marks,class_names)\n",
    "\n",
    "sns.heatmap(pd.DataFrame(confusion_matrix), annot = True, cmap = 'YlGnBu', fmt='g')\n",
    "ax.xaxis.set_label_position ('top')\n",
    "plt.tight_layout()\n",
    "plt.title('Results on Test Data')\n",
    "plt.ylabel('Actual Class')\n",
    "plt.xlabel('Predicted Class')"
   ]
  }
 ],
 "metadata": {
  "kernelspec": {
   "display_name": "Python 3 (ipykernel)",
   "language": "python",
   "name": "python3"
  },
  "language_info": {
   "codemirror_mode": {
    "name": "ipython",
    "version": 3
   },
   "file_extension": ".py",
   "mimetype": "text/x-python",
   "name": "python",
   "nbconvert_exporter": "python",
   "pygments_lexer": "ipython3",
   "version": "3.11.4"
  }
 },
 "nbformat": 4,
 "nbformat_minor": 5
}
