{
 "cells": [
  {
   "cell_type": "markdown",
   "id": "97ce6187",
   "metadata": {},
   "source": [
    "# Artificial Neural Network\n",
    "## Background reading:\n",
    "*Intro to Statistical Learning*: Chapter 10, Section 2, Section3, Single & Multiple Layer Neural Network (Page 404-411)\n",
    "\n",
    "*Ethical Algorithm*: Fairness Fighting Accuracy, No Such Thing as a Fair Lunch (Page 74-84)\n",
    "\n",
    "## Dataset:\n",
    "\n",
    "Data Source: https://github.com/aminrahimian/data-for-good/blob/main/smoking.csv\n",
    "\n",
    "**27 Attributes:**\n",
    "\n",
    "1. ID\n",
    "2. Gender\n",
    "3. Age\n",
    "4. Height(cm)\n",
    "5. Weight(kg)\n",
    "6. Waist(cm)\n",
    "7. Eyesight(left)\n",
    "8. Eyesight(right)\n",
    "9. Hearing(left)\n",
    "10. Hearing(right)\n",
    "11. Systolic\n",
    "12. Relaxation\n",
    "13. Fasting blood sugar\n",
    "14. Cholesterol\n",
    "15. Triglyceride\n",
    "16. HDL\n",
    "17. LDL\n",
    "18. Hemoglobin\n",
    "19. Urine protein\n",
    "20. Serum creatinine\n",
    "21. AST\n",
    "22. ALT\n",
    "23. Gtp\n",
    "24. Oral\n",
    "25. Dental Caries\n",
    "26. Tartar\n",
    "27. Smoking (The response we interested in. Whether smoke or not)\n",
    "\n",
    "Datasets comes from: https://www.kaggle.com/datasets/kukuroo3/body-signal-of-smoking\n",
    "\n",
    "This tutorial aims at using ANN to predict whether a person will smoke or not, in order to predict some other attributes such as the probability of lung cancer or the amount of premium for a person, which are the response that we care about."
   ]
  },
  {
   "cell_type": "markdown",
   "id": "8d2e4858",
   "metadata": {},
   "source": [
    "## Essence of Data\n",
    "\n",
    "In this section, we will first introduce some basic concepts and background to help you understand what is artificial neural network(ANN).\n",
    "\n",
    "### Background\n",
    "\n",
    "**Neural Network**\n",
    "\n",
    "![](../../../fig/ANN/fig1.jpg)\n",
    "\n",
    "Under the background of biology, in the nervous system, our brain contains billions of neurons. In the system, the neurons send the information down to the axon until the axon terminals (electric signals), and then the signal is transformed to chemical signals and is sent to the next neuron. \n",
    "\n",
    "The basic idea of artificial neural network (ANN) is based on the concept of the biological neural network. In ANN, there are several layers that contain some number of neurons, where each layer has different roles. Similar to the biological one, ANN receives the input information (x variables), sends the information based on the importance of each information to the next neuron, and finally outputs the signal (y variable)"
   ]
  },
  {
   "cell_type": "markdown",
   "id": "00ee554a",
   "metadata": {},
   "source": [
    "### Basic Concepts\n",
    "\n",
    "**ANN Terminology**\n",
    "\n",
    "![](../../../fig/ANN/fig2.jpg)\n",
    "\n",
    "*Layers*\n",
    "\n",
    "The input layer is the layer that inputs the signals (data) into the network (The number of neurons inside it is the number of attributes that we are interested in). The output layer is the layer that outputs the signal (y variables). Between the input layer and the output layer, there is/are some hidden layer(s) that contains some number of neurons. Like the biological neuron, each dendrite’s signal is weighted according to its importance.\n",
    "\n",
    "*Activation Functions*\n",
    "\n",
    "In each hidden layer, there is an activation function to transform the input information (a technique to increase the nonlinearity of the model). For example, if the activation function in hidden layer L1 is $f$, then:\n",
    "\n",
    "<div align = 'center'><font size = '6'>${A_k}^{(1)}=f(w_{k0}+\\sum_{j=1}^p w_{kj}X_j)$</font></div>\n",
    "\n",
    "Here, $w_{kj}$ is the weight between the previous neuron $j$ and the current neuron $k$, which reveals the importance of the data being sent (and needs to be estimated by the model). $w_{k0}$ is the bias weight. When the information is propagating, each neuron will sum all the information that it receives (i.e., all the information $X_j$ as well as its importance $w_{kj}$), then it will do a nonlinear transformation by using activation function. \n",
    "\n",
    "The form of the activation function is flexible. Generally, some common activation functions are sigmoid, ReLU, $tanh(x)$, etc. Unfortunately, like SVM, there is not a following rule to choose the activation function (thus we need to define them by ourselves in the model)\n",
    "\n",
    "Activation Function Readings and Cheetsheet:\n",
    "\n",
    "**https://towardsdatascience.com/activation-functions-neural-networks-1cbd9f8d91d6**\n",
    "\n"
   ]
  },
  {
   "cell_type": "markdown",
   "id": "1d58d45a",
   "metadata": {},
   "source": [
    "**Neural Network Topology**\n",
    "\n",
    "The ability of a neural network to learn is rooted in its topology. The characteristics of a network are the number of layers, whether the information is allowed to be sent backward and the number of neurons within each layers.\n",
    "\n",
    "In convolutional neural networks, which are used in image classification, there are two specialized types of hidden layers: convolution layers, which search for instances of patterns; and pooling layers, which select a prominent subset of the patterns found. Here is a visualization of a convolutional neural network: https://www.instagram.com/p/CWI4iDCjKC_/?hl=en\n",
    "\n",
    "Similar to the models we learned before, artifical neural networks have a tradeoff: the more complex the neural network, the more accurate we will predict on our training data, while we may face the problem of overfitting. \n",
    "\n",
    "*Study the weights*\n",
    "\n",
    "Like the linear regression, we have a criterion function that the model must minimize while it is being trained (like the least square function). In machine learning, this function is called the cost function. \n",
    "The cost function of the weights:\n",
    "\n",
    "<div align = 'center'><font size = '6'>$J(\\vec{w})=\\frac{1}{2n}\\sum_{i=1}^n ((\\sum_{j=1}^p w_jx_j)-y_i)^2$</font></div>\n",
    "\n",
    "OR:\n",
    "\n",
    "<div align = 'center'><font size = '6'>$\\frac{\\partial J(\\vec{w})}{\\partial w_k}=\\frac{1}{n}\\sum_{i=1}^n (\\widehat{y}_i-y_i)x_{ik}$</font></div>\n",
    "\n",
    "To minimize the cost function, we can adjust the weights to decrease the value of the cost function. Remember the definition of the gradient, we can find out the steepest function that the cost function would decrease. Then we can adjust the weights by a small amount which is determined by the learning rate. We keep adjusting the weights until it reaches to the minimal. (Imagine a person is at the top of a mountain that wants to go downhill. Each time the person moves a little bit along the steepest direction down the hill) This process is called gradient descent."
   ]
  },
  {
   "cell_type": "markdown",
   "id": "047c9a45",
   "metadata": {},
   "source": [
    "***Problems in this process?***\n",
    "- The amount to be adjusted is determined by the learning rate. If the learning rate is too small, it spends a large amount of time to reach the optimal; if it is too large, it may cause the weights to change too drastically oscillating between values, and so again the learning algorithm will either take too long to converge or oscillate continuously.\n",
    "- When the cost function is non-convex, we may finally reach out a local minimum. (Thus we need to use stochastic gradient descent, with stochastic initialization)\n"
   ]
  },
  {
   "cell_type": "markdown",
   "id": "7135439a",
   "metadata": {},
   "source": [
    "### Example Codes\n",
    "\n",
    "In this section we will use R language. R is a very powerful tool for data visualization and statistics. It is also a good tool to do machine learning and deep learning\n",
    "\n",
    "Next Step: Run the R Programming file by using R studio (or using the IRKernel and open it in Jupyter Notebook if you have already installed it)\n",
    "\n",
    "R Code File: https://github.com/aminrahimian/data-for-good/blob/main/ANN.Rmd\n",
    "\n",
    "After you run it, think about the result\n"
   ]
  },
  {
   "cell_type": "markdown",
   "id": "a25e9064",
   "metadata": {},
   "source": [
    "## AI in the fabrics of society\n",
    "\n",
    "After you run the R code, notice the final result of the accuracy. The ANN gives us a **73.7%** accuracy on predicting whether one person will smoke. However, when we compare the accuracy based on gender, the model predicts well on female with the accuracy of **95.7%** while it is only **46.2%** for male, which is worse than we threw a coin and take a random guess.\n",
    "\n",
    "\n",
    "This is a very serious bias that occasionally occurs in artificial neural networks. For example, imagine if an insurance company is considering what to set as the insurance premium for someone. Instead of calculating by hand, they use a neural network to determine whether lung-disease should result in an increased insurance premium. It is incontrovertible that this algorithm is discriminatory toward males, and the premium it predicts is not accurate.\n",
    "\n",
    "### Gender Bias\n",
    "\n",
    "To further analyze how gender bias affects this ANN, we can look at how seperating the data by different variables affects the accuracy of the Neural Network.  \n",
    "\n",
    "To start, the existing Neural Network was used to test how biaas affects the original Neural Network. If the data is split by average height, the accuracy of the short data set is **75.6**, and the accuracy of the tall data set is **45.0**. This shows that since men tend to be taller than women, splitting the data by height leads to a large difference accuracies. Alternatively, splitting the data by average fasting blood sugar shows the accuracy of low fasting blood sugar is **75.2**, and accuracy of high fasting blood sugar is **73.6**. From these statistics, we can assume that the levels of accuracy of each variable is are related to how closely the variables are dependent on gender.  Fasting blood sugar levels are not heavily affected by gender compared to height, so these accuracy differences are not drastic. This comparison shows how bias of a neural network cannot be attributed to just one variable.  To reduce the bias of a neural network, one must know that removing one variable will not remove the bias. All variables must be examined, and how each variable interacts with the others is neccesary to study before looking into bias reduction and accuracy. \n",
    "\n",
    "After analizing the existing Neural Network, we can train a new Neural Network excluding the variable of gender.\n",
    "\n",
    "The example code is: https://github.com/aminrahimian/data-for-good/blob/main/ANN_Excluding_Gender.Rmd\n",
    "\n",
    "In this example, the parameters of the network remain the same, except the Neural Network excludes gender.  The results of the overall Network was **72.1**.  This shows that the inclusion of gender might not be neccesary to create an accurate Neural Network that can identifies smokers. Although, this assumption seems correct, we would need to prove that the other variables are not indicative of gender, and in this case, the some other variables are correlated to gender, like height.  Further analysis would need to be completed to show that removing the gender variable reduces bias, without significantly reducing accuracy.  \n",
    "\n",
    "\n",
    "One intractable problem of neural networks is that the math behind them is too sophisticated. The model is considered a \"black-box\" model, because most of the time it only gives you a prediction and an accuracy without any explanation. It is very sensitive if the network considers some attributes and comes out with bias and slant. For example, imbalanced insurance premiums of people with lung disease due to gender bias, or one's acquittal based on race bias, if neural networks are being used. Consequently, it is essential to be careful when using a black box model because no one will trust a result without any reasoning, even if the accuracy is perfect. \n",
    "\n",
    "### Case in Reality: Machine Bias\n",
    "\n",
    "The COMPAS (Correctional Offender Management Profiling for Alternative Sanctions) System is used to determine the risk level of a criminal, including “criminal personality,” “social isolation,” “substance abuse,” and “residence/stability.” Defendants are ranked low, medium or high risk in each category.\n",
    "\n",
    "It seems to provide a good accuracy by using the neural network system when testing in the previous records. However, because of the Machine Bias, the system is unfair for some groups of people (especially when it comes to gender, race and age). Similar to what you have seen from the previous prediction on smoking status, Machine Bias can create sensitive bias and does not consider human rights or equality of marginalized groups. Thus, it is necessary to focus on it whenever we use a neural network to predict. \n",
    "\n",
    "Reading about the story: https://www.propublica.org/article/machine-bias-risk-assessments-in-criminal-sentencing\n",
    "\n",
    "\n",
    "### AI Safety\n",
    "\n",
    "A suggested reading: \"Concrete Problems in AI Safety\" paper\n",
    "With an increasing power in AI, it is crucial to think about the possible negative side effects that could occur. Better yet, it is important to try and prevent these possible side effects. As we saw in the example above, sometimes systems don't always work in the way we expect them to. Important questions to ask when creating and dealing with AI:\n",
    "\n",
    "How do we avoid negative side effects?\n",
    "How do we avoid Reward hacking?\n",
    "How do we create scalable oversight?\n",
    "How do we ensure that our AI creations don't make exploratory moves with very bad repercussions?\n",
    "How do we ensure robustness when in a different environment than the training one?\n"
   ]
  },
  {
   "cell_type": "code",
   "execution_count": null,
   "id": "3b0c9cd2",
   "metadata": {
    "collapsed": true
   },
   "outputs": [],
   "source": [
    "#codes example of ANN\n",
    "#source:https://towardsdatascience.com/first-neural-network-for-beginners-explained-with-code-4cfd37e06eaf"
   ]
  },
  {
   "cell_type": "code",
   "execution_count": 1,
   "id": "f450aba2",
   "metadata": {},
   "outputs": [],
   "source": [
    "import numpy, random, os\n",
    "lr = 1 #learning rate\n",
    "bias = 1 #value of bias\n",
    "weights = [random.random(),random.random(),random.random()] #weights generated in a list (3 weights in total for 2 neurons and the bias)"
   ]
  },
  {
   "cell_type": "code",
   "execution_count": 2,
   "id": "2dfca6e5",
   "metadata": {},
   "outputs": [],
   "source": [
    "def Perceptron(input1, input2, output) :\n",
    "   outputP = input1*weights[0]+input2*weights[1]+bias*weights[2]\n",
    "   if outputP > 0 : #activation function (here Heaviside)\n",
    "      outputP = 1\n",
    "   else :\n",
    "      outputP = 0\n",
    "   error = output-outputP\n",
    "   weights[0] += error * input1 * lr\n",
    "   weights[1] += error * input2 * lr\n",
    "   weights[2] += error * bias * lr"
   ]
  },
  {
   "cell_type": "code",
   "execution_count": 3,
   "id": "d058f581",
   "metadata": {},
   "outputs": [],
   "source": [
    "for i in range(50) :\n",
    "   Perceptron(1,1,1) #True or true\n",
    "   Perceptron(1,0,1) #True or false\n",
    "   Perceptron(0,1,1) #False or true\n",
    "   Perceptron(0,0,0) #False or false"
   ]
  },
  {
   "cell_type": "code",
   "execution_count": 4,
   "id": "b1bacc44",
   "metadata": {},
   "outputs": [
    {
     "name": "stdout",
     "output_type": "stream",
     "text": [
      "1\n",
      "2\n",
      "1 or 2 is :  1\n"
     ]
    }
   ],
   "source": [
    "x = int(input())\n",
    "y = int(input())\n",
    "outputP = x*weights[0] + y*weights[1] + bias*weights[2]\n",
    "if outputP > 0 : #activation function\n",
    "   outputP = 1\n",
    "else :\n",
    "   outputP = 0\n",
    "print(x, \"or\", y, \"is : \", outputP)"
   ]
  },
  {
   "cell_type": "code",
   "execution_count": 5,
   "id": "094be6c5",
   "metadata": {},
   "outputs": [],
   "source": [
    "outputP = 1/(1+numpy.exp(-outputP)) #sigmoid function"
   ]
  },
  {
   "cell_type": "markdown",
   "id": "c7007051-7ee4-4f4e-b836-5fa5cd31f2b4",
   "metadata": {},
   "source": [
    "## Governmental Regulation\n",
    "### Blueprint for an AI Bill Of Rights\n",
    "On October 4th, 2022, the White House Office of Science and Technology Policy (OSTP) unveiled a document titled, \"Blueprint for an AI Bill of Rights.\" The document introduces 5 principles which form a basic set of guidelines for the ethical design, development, and deployment of AI systems. The initiative is meant to ensure that the general public's rights to equality and privacy are protected. Those 5 principles are as follows:\n",
    "\n",
    "### 1. Safe and Effective Systems\n",
    "Automated systems should be developed in a collaborative manner, with ample opportunity for experts to identify concerns, risks, and potential impacts. They should never be designed with the intent or reasonable possibility of endangering the safety of a person or community--in fact, they should be designed to proactively protect people from unintended dangers. \n",
    "\n",
    "### 2. Algorithmic Discrimination Protections\n",
    "Automated systems should not contribute to any different treatment of people of protected classes, including race, color, ethnicity, sex, gender, sexual orientation, religion, age, national origin, disability, veteran status, and genetic information. During the system design process, it must be evaluated for equity and any issues must be resolved.\n",
    "\n",
    "### 3. Data Privacy\n",
    "Only data that is necessary to achieve project goals should be collected. Whenever possible, designers, developers, and deployers of automated systems should comply to individuals' wishes about when and how their data is used. People should not be burdened with a user experience that defaults to invading their privacy, and any consent requests should be concise and easy to understand.\n",
    "\n",
    "### 4. Notice and Explanation\n",
    "Everyday people should be aware when an automated system is being used, and understand how and why it affects them. Responsibility falls on the designers, developers, and deployers of automated systems to create easily understandable written documentation that describes how the automated system works, how it is being used, the person or organization who is responsible for it, and the potential outcomes of its use. This documentation needs to be created in a timely manner, and be easily accessible to the general public.\n",
    "\n",
    "### 5. Human Alternatives, Consideration, and Fallback\n",
    "People should be able to opt out of the automated system and be served by a human alternative, whenever possible (in some cases this may be required by law). If an automated system fails or an individual would like to contest its decision, there should be an escalation process where a human reviews the decision in a timely manner.\n",
    "\n",
    "### Application\n",
    "These 5 principles should be applied to any automated system that may impact the public’s \"rights, opportunities, or access to critical resources or services.\" These areas include freedom of speech, voting, excessive punishment, unlawful surveillance, access to education, access to housing, access to employment, healthcare, financial services, safety, and government benefits. However, the Blueprint for an AI Bill of Rights is essentially a series of guidelines--it is not legally binding legislation, and therefore, it is up to individuals and companies to decide whether to conform to it or not. Here is a link to the document:\n",
    "https://www.whitehouse.gov/ostp/ai-bill-of-rights/\n"
   ]
  },
  {
   "cell_type": "code",
   "execution_count": null,
   "id": "1472754d",
   "metadata": {},
   "outputs": [],
   "source": []
  }
 ],
 "metadata": {
  "kernelspec": {
   "display_name": "Python 3 (ipykernel)",
   "language": "python",
   "name": "python3"
  },
  "language_info": {
   "codemirror_mode": {
    "name": "ipython",
    "version": 3
   },
   "file_extension": ".py",
   "mimetype": "text/x-python",
   "name": "python",
   "nbconvert_exporter": "python",
   "pygments_lexer": "ipython3",
   "version": "3.9.7"
  }
 },
 "nbformat": 4,
 "nbformat_minor": 5
}
