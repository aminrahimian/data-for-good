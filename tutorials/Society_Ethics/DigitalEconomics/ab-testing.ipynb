{
 "cells": [
  {
   "cell_type": "markdown",
   "id": "636dd16e",
   "metadata": {},
   "source": [
    "# A/B Testing\n",
    "\n",
    "## Background reading:\n",
    "*Intro to Statistical Learning*: Chapter 13, Mutiple Testing (Sections 13.1 and 13.2, Page 553-561)\n",
    "\n",
    "*Ethical Algorithm*: Chapter 3, Game People Play, The Commuting Game, (Page 101-105)\n",
    "\n",
    "*Ethical Algorithm*: Chapter 4, Lost in the Garden, Past Performance is No Guarantee of Future Returns, (Page 137-141)\n",
    "\n",
    "## Dataset:\n",
    "The example from github uses the ecommerce testing dataset from kaggle\n",
    "Link: https://www.kaggle.com/zhangluyuan/ab-testing \n",
    "\n",
    "Attribute columns:\n",
    "1. ID - unique user ID\n",
    "2. Time - what time the advertisement was shown to the user\n",
    "3. Con_Treat - whether the user is in the control or treatment group\n",
    "4. Page - whether the user can see the old or new page\n",
    "5. Converted - did the user click on the add (Yes = 1) or (No = 0)\n",
    "\n",
    "In this case A is column 5, whether the user clicked on the ad or not\n",
    "B is columns 3 and 4 which is whether the user is a member of the control group (old page) or treatment group (new page)\n",
    "\n",
    "**Article:** https://hbr.org/2017/06/a-refresher-on-ab-testing \n"
   ]
  },
  {
   "cell_type": "markdown",
   "id": "be57abd3",
   "metadata": {},
   "source": [
    "## Essence of Data:\n",
    "\n",
    "### What is A/B Testing?\n",
    "\n",
    "![](../../../fig/ABTest/fig1.png)\n",
    "\n",
    "\n",
    "It is a way to compare multiple versions of a feature to see which performs better. It is typically used for websites\n",
    "\n",
    "Example: If the advertisement is bigger, will more people click on it? Are users more likely to purchase from a website with a different user interface?\n",
    "\n",
    "Example Application: Google doing A/B Testing with different shades of blue for link colors\n",
    "https://bharathbalasubramanian.medium.com/data-driven-decisions-googles-50-shades-of-blue-experiment-996f01819a97 \n",
    "\n",
    "Another Example Application: Harvard Business School: “Is A/B Testing Effective? Evidence from 35,000 Startups”\n",
    "https://hbswk.hbs.edu/item/is-ab-testing-effective-evidence-from-35000-startups \n",
    "\n",
    "It is the most basic type of a randomized controlled experiment. It is a statistical test and the number of samples (n) needed to determine statistical significance should be determined before the experiment is done. A null and alternative hypothesis must be determined then a statistical test needs to be performed to determine whether the results between the two groups are statistically significant.\n",
    "\n",
    "![](../../../fig/ABTest/fig2.png)\n",
    "\n",
    "\n",
    "An A/B test can be tied to multi-armed bandits because the algorithm will use the differences between the two responses to determine if an option should be exploited or explored.\n",
    "\n",
    "With A/B testing of a graphic e-commerce website advertisement (like our python tutorial) exploitation would mean using the advertisement that is more likely to be clicked on as the “winner” and using this advertisement to drive clicks to the companies’ website. Exploration could mean getting more data on the advertisement that seems “least effective”. For example, continuing user testing to see if the less popular advertisement is more effective with certain user demographics compared to the “winner”. \n"
   ]
  },
  {
   "cell_type": "markdown",
   "id": "4050680d",
   "metadata": {},
   "source": [
    "### Example Code"
   ]
  },
  {
   "cell_type": "code",
   "execution_count": 1,
   "id": "d51a757f-32c4-454c-9b01-253faa7dc716",
   "metadata": {},
   "outputs": [],
   "source": [
    "import pandas as pd\n",
    "import math\n",
    "import random\n",
    "import numpy as np\n",
    "import seaborn as sns\n",
    "import matplotlib.pyplot as plt\n",
    "from sklearn.model_selection import train_test_split\n",
    "from sklearn.linear_model import LogisticRegression\n",
    "from sklearn import metrics"
   ]
  },
  {
   "cell_type": "code",
   "execution_count": 2,
   "id": "fc89614a-c99a-4c86-a2d7-21819494d197",
   "metadata": {},
   "outputs": [],
   "source": [
    "#Load the dataset and columns of interest\n",
    "clickdataset = '../../../data/ab_test.csv'\n",
    "df = pd.read_csv(clickdataset)\n",
    "#, usecols = ['id','con_treat','page','converted']"
   ]
  },
  {
   "cell_type": "code",
   "execution_count": 3,
   "id": "b884dca6-ef6a-4230-8624-8b1a2995e3f5",
   "metadata": {},
   "outputs": [
    {
     "data": {
      "text/plain": [
       "id           0\n",
       "time         0\n",
       "con_treat    0\n",
       "page         0\n",
       "converted    0\n",
       "dtype: int64"
      ]
     },
     "execution_count": 3,
     "metadata": {},
     "output_type": "execute_result"
    }
   ],
   "source": [
    "#checking both datasets for null values\n",
    "df.isna().sum()"
   ]
  },
  {
   "cell_type": "code",
   "execution_count": 4,
   "id": "484e2dd1-e237-4c1b-9884-e9c3831eb973",
   "metadata": {},
   "outputs": [
    {
     "data": {
      "text/html": [
       "<div>\n",
       "<style scoped>\n",
       "    .dataframe tbody tr th:only-of-type {\n",
       "        vertical-align: middle;\n",
       "    }\n",
       "\n",
       "    .dataframe tbody tr th {\n",
       "        vertical-align: top;\n",
       "    }\n",
       "\n",
       "    .dataframe thead th {\n",
       "        text-align: right;\n",
       "    }\n",
       "</style>\n",
       "<table border=\"1\" class=\"dataframe\">\n",
       "  <thead>\n",
       "    <tr style=\"text-align: right;\">\n",
       "      <th></th>\n",
       "      <th>id</th>\n",
       "      <th>converted</th>\n",
       "    </tr>\n",
       "  </thead>\n",
       "  <tbody>\n",
       "    <tr>\n",
       "      <th>count</th>\n",
       "      <td>294478.000000</td>\n",
       "      <td>294478.000000</td>\n",
       "    </tr>\n",
       "    <tr>\n",
       "      <th>mean</th>\n",
       "      <td>787974.124733</td>\n",
       "      <td>0.119659</td>\n",
       "    </tr>\n",
       "    <tr>\n",
       "      <th>std</th>\n",
       "      <td>91210.823776</td>\n",
       "      <td>0.324563</td>\n",
       "    </tr>\n",
       "    <tr>\n",
       "      <th>min</th>\n",
       "      <td>630000.000000</td>\n",
       "      <td>0.000000</td>\n",
       "    </tr>\n",
       "    <tr>\n",
       "      <th>25%</th>\n",
       "      <td>709032.250000</td>\n",
       "      <td>0.000000</td>\n",
       "    </tr>\n",
       "    <tr>\n",
       "      <th>50%</th>\n",
       "      <td>787933.500000</td>\n",
       "      <td>0.000000</td>\n",
       "    </tr>\n",
       "    <tr>\n",
       "      <th>75%</th>\n",
       "      <td>866911.750000</td>\n",
       "      <td>0.000000</td>\n",
       "    </tr>\n",
       "    <tr>\n",
       "      <th>max</th>\n",
       "      <td>945999.000000</td>\n",
       "      <td>1.000000</td>\n",
       "    </tr>\n",
       "  </tbody>\n",
       "</table>\n",
       "</div>"
      ],
      "text/plain": [
       "                  id      converted\n",
       "count  294478.000000  294478.000000\n",
       "mean   787974.124733       0.119659\n",
       "std     91210.823776       0.324563\n",
       "min    630000.000000       0.000000\n",
       "25%    709032.250000       0.000000\n",
       "50%    787933.500000       0.000000\n",
       "75%    866911.750000       0.000000\n",
       "max    945999.000000       1.000000"
      ]
     },
     "execution_count": 4,
     "metadata": {},
     "output_type": "execute_result"
    }
   ],
   "source": [
    "df.describe()"
   ]
  },
  {
   "cell_type": "code",
   "execution_count": 5,
   "id": "b123c52e-670c-4606-86aa-47f37021df1a",
   "metadata": {},
   "outputs": [
    {
     "data": {
      "text/html": [
       "<div>\n",
       "<style scoped>\n",
       "    .dataframe tbody tr th:only-of-type {\n",
       "        vertical-align: middle;\n",
       "    }\n",
       "\n",
       "    .dataframe tbody tr th {\n",
       "        vertical-align: top;\n",
       "    }\n",
       "\n",
       "    .dataframe thead th {\n",
       "        text-align: right;\n",
       "    }\n",
       "</style>\n",
       "<table border=\"1\" class=\"dataframe\">\n",
       "  <thead>\n",
       "    <tr style=\"text-align: right;\">\n",
       "      <th></th>\n",
       "      <th>id</th>\n",
       "      <th>time</th>\n",
       "      <th>con_treat</th>\n",
       "      <th>page</th>\n",
       "      <th>converted</th>\n",
       "    </tr>\n",
       "  </thead>\n",
       "  <tbody>\n",
       "    <tr>\n",
       "      <th>0</th>\n",
       "      <td>851104</td>\n",
       "      <td>11:48.6</td>\n",
       "      <td>control</td>\n",
       "      <td>old_page</td>\n",
       "      <td>0</td>\n",
       "    </tr>\n",
       "    <tr>\n",
       "      <th>1</th>\n",
       "      <td>804228</td>\n",
       "      <td>01:45.2</td>\n",
       "      <td>control</td>\n",
       "      <td>old_page</td>\n",
       "      <td>0</td>\n",
       "    </tr>\n",
       "    <tr>\n",
       "      <th>2</th>\n",
       "      <td>661590</td>\n",
       "      <td>55:06.2</td>\n",
       "      <td>treatment</td>\n",
       "      <td>new_page</td>\n",
       "      <td>0</td>\n",
       "    </tr>\n",
       "    <tr>\n",
       "      <th>3</th>\n",
       "      <td>853541</td>\n",
       "      <td>28:03.1</td>\n",
       "      <td>treatment</td>\n",
       "      <td>new_page</td>\n",
       "      <td>0</td>\n",
       "    </tr>\n",
       "    <tr>\n",
       "      <th>4</th>\n",
       "      <td>864975</td>\n",
       "      <td>52:26.2</td>\n",
       "      <td>control</td>\n",
       "      <td>old_page</td>\n",
       "      <td>1</td>\n",
       "    </tr>\n",
       "  </tbody>\n",
       "</table>\n",
       "</div>"
      ],
      "text/plain": [
       "       id     time  con_treat      page  converted\n",
       "0  851104  11:48.6    control  old_page          0\n",
       "1  804228  01:45.2    control  old_page          0\n",
       "2  661590  55:06.2  treatment  new_page          0\n",
       "3  853541  28:03.1  treatment  new_page          0\n",
       "4  864975  52:26.2    control  old_page          1"
      ]
     },
     "execution_count": 5,
     "metadata": {},
     "output_type": "execute_result"
    }
   ],
   "source": [
    "#show the head of the dataset\n",
    "\n",
    "df.head()"
   ]
  },
  {
   "cell_type": "code",
   "execution_count": 6,
   "id": "a8b5352d-8890-43fd-9abe-054cd4103f0a",
   "metadata": {},
   "outputs": [
    {
     "data": {
      "text/plain": [
       "3893"
      ]
     },
     "execution_count": 6,
     "metadata": {},
     "output_type": "execute_result"
    }
   ],
   "source": [
    "#identify rows where the treatment doesn't match new page and the control doesn't match the old page\n",
    "df.query('page == \"new_page\" & con_treat != \"treatment\"').count()[0] + df.query('page == \"old_page\" & con_treat != \"control\"').count()[0]"
   ]
  },
  {
   "cell_type": "code",
   "execution_count": 7,
   "id": "6cb6a1a7-d0bf-4a44-b631-73e3e8da36bf",
   "metadata": {},
   "outputs": [],
   "source": [
    "#split data into into a new dataframe where the page and treatment match\n",
    "dfnew = df.query('page == \"new_page\" & con_treat == \"treatment\" | page == \"old_page\" & con_treat == \"control\"')"
   ]
  },
  {
   "cell_type": "code",
   "execution_count": 8,
   "id": "6b4cab8b-74ee-4b28-9b8f-e6aaf18f77f9",
   "metadata": {},
   "outputs": [],
   "source": [
    "#remove any duplicate userids\n",
    "dfnew = dfnew.drop_duplicates(subset = 'id',keep = \"first\")"
   ]
  },
  {
   "cell_type": "code",
   "execution_count": 9,
   "id": "530f2e51-feac-4682-8b3c-1b260b4d0b92",
   "metadata": {},
   "outputs": [
    {
     "name": "stdout",
     "output_type": "stream",
     "text": [
      "The proportion of users that click on either version of the advertisement is 0.11959708724499628\n"
     ]
    }
   ],
   "source": [
    "#check the number of unique users that clicked on the ad (both new and old versions of the page)\n",
    "converted_all = sum(dfnew.query('converted == 1').converted)/len(dfnew['id'])\n",
    "print('The proportion of users that click on either version of the advertisement is {0}'.format(converted_all))"
   ]
  },
  {
   "cell_type": "code",
   "execution_count": 10,
   "id": "c76b3550-47d0-4b2d-bec6-a20462e00846",
   "metadata": {},
   "outputs": [
    {
     "name": "stdout",
     "output_type": "stream",
     "text": [
      "The proportion of users from the control group that click on the old advertisement is 0.1203863045004612\n"
     ]
    }
   ],
   "source": [
    "#find the click rate for users shown the old version of the ad (control group)\n",
    "converted_control = len(dfnew.query('converted == 1 & con_treat == \"control\"')['id'])/len(dfnew.query('con_treat == \"control\"')['id'])\n",
    "print('The proportion of users from the control group that click on the old advertisement is {0}'.format(converted_control))"
   ]
  },
  {
   "cell_type": "code",
   "execution_count": 11,
   "id": "c347d37c-c373-4fd1-abde-6e40275c66b8",
   "metadata": {},
   "outputs": [
    {
     "name": "stdout",
     "output_type": "stream",
     "text": [
      "The proportion of users from the treatment group that click on the new advertisement is 0.11880806551510564\n"
     ]
    }
   ],
   "source": [
    "#find the click rate for users shown the new version of the ad (treatment group)\n",
    "converted_treatment = len(dfnew.query('converted == 1 & con_treat == \"treatment\"')['id'])/len(dfnew.query('con_treat == \"treatment\"')['id'])\n",
    "print('The proportion of users from the treatment group that click on the new advertisement is {0}'.format(converted_treatment))"
   ]
  },
  {
   "cell_type": "code",
   "execution_count": 12,
   "id": "783b83a6-de1f-4203-aa05-1e42f53ba1fc",
   "metadata": {},
   "outputs": [
    {
     "name": "stdout",
     "output_type": "stream",
     "text": [
      "The difference between the proportion of the control group and treatment group that click on the ad is 0.0015782389853555567\n"
     ]
    }
   ],
   "source": [
    "converted_difference = converted_control - converted_treatment\n",
    "\n",
    "print('The difference between the proportion of the control group and treatment group that click on the ad is {0}'.format(converted_difference))"
   ]
  },
  {
   "cell_type": "code",
   "execution_count": 13,
   "id": "42935f7b-d4c8-42e7-b3b3-29cc65eb62cf",
   "metadata": {},
   "outputs": [
    {
     "name": "stdout",
     "output_type": "stream",
     "text": [
      "z statistic: 1.24\n",
      "p-value: 0.216\n",
      "95% confidence interval for control group: [0.119, 0.122]\n",
      "95% confidence interval for treatment group: [0.117, 0.121]\n"
     ]
    }
   ],
   "source": [
    "#Test for statistical significance using z test and 95% confidence interval\n",
    "from statsmodels.stats.proportion import proportions_ztest, proportion_confint\n",
    "\n",
    "control_results = df[df['con_treat'] == 'control']['converted']\n",
    "treatment_results = df[df['con_treat'] == 'treatment']['converted']\n",
    "n_con = control_results.count()\n",
    "n_treat = treatment_results.count()\n",
    "successes = [control_results.sum(), treatment_results.sum()]\n",
    "nobs = [n_con, n_treat]\n",
    "\n",
    "z_stat, pval = proportions_ztest(successes, nobs = nobs)\n",
    "(lower_con, lower_treat), (upper_con, upper_treat) = proportion_confint(successes, nobs=nobs, alpha=0.05)\n",
    "\n",
    "print(f'z statistic: {z_stat:.2f}')\n",
    "print(f'p-value: {pval:.3f}')\n",
    "print(f'95% confidence interval for control group: [{lower_con:.3f}, {upper_con:.3f}]')\n",
    "print(f'95% confidence interval for treatment group: [{lower_treat:.3f}, {upper_treat:.3f}]')"
   ]
  },
  {
   "cell_type": "code",
   "execution_count": 14,
   "id": "21562ced-3762-4887-9049-5ad2c59099cf",
   "metadata": {},
   "outputs": [
    {
     "name": "stdout",
     "output_type": "stream",
     "text": [
      "The p-value is 0.21611613269757501 which is greater than 0.05 so we fail to reject the null hypothesis and conclude that the difference between the groups is not statistically significant\n"
     ]
    }
   ],
   "source": [
    "print('The p-value is {0} which is greater than 0.05 so we fail to reject the null hypothesis and conclude that the difference between the groups is not statistically significant'.format(pval))"
   ]
  },
  {
   "cell_type": "code",
   "execution_count": 15,
   "id": "643a5faa",
   "metadata": {
    "scrolled": false
   },
   "outputs": [
    {
     "data": {
      "text/html": [
       "<div>\n",
       "<style scoped>\n",
       "    .dataframe tbody tr th:only-of-type {\n",
       "        vertical-align: middle;\n",
       "    }\n",
       "\n",
       "    .dataframe tbody tr th {\n",
       "        vertical-align: top;\n",
       "    }\n",
       "\n",
       "    .dataframe thead th {\n",
       "        text-align: right;\n",
       "    }\n",
       "</style>\n",
       "<table border=\"1\" class=\"dataframe\">\n",
       "  <thead>\n",
       "    <tr style=\"text-align: right;\">\n",
       "      <th></th>\n",
       "      <th>id</th>\n",
       "      <th>time</th>\n",
       "      <th>con_treat</th>\n",
       "      <th>page</th>\n",
       "      <th>converted</th>\n",
       "    </tr>\n",
       "  </thead>\n",
       "  <tbody>\n",
       "    <tr>\n",
       "      <th>0</th>\n",
       "      <td>851104</td>\n",
       "      <td>11</td>\n",
       "      <td>control</td>\n",
       "      <td>old_page</td>\n",
       "      <td>0</td>\n",
       "    </tr>\n",
       "    <tr>\n",
       "      <th>1</th>\n",
       "      <td>804228</td>\n",
       "      <td>1</td>\n",
       "      <td>control</td>\n",
       "      <td>old_page</td>\n",
       "      <td>0</td>\n",
       "    </tr>\n",
       "    <tr>\n",
       "      <th>2</th>\n",
       "      <td>661590</td>\n",
       "      <td>55</td>\n",
       "      <td>treatment</td>\n",
       "      <td>new_page</td>\n",
       "      <td>0</td>\n",
       "    </tr>\n",
       "    <tr>\n",
       "      <th>3</th>\n",
       "      <td>853541</td>\n",
       "      <td>28</td>\n",
       "      <td>treatment</td>\n",
       "      <td>new_page</td>\n",
       "      <td>0</td>\n",
       "    </tr>\n",
       "    <tr>\n",
       "      <th>4</th>\n",
       "      <td>864975</td>\n",
       "      <td>52</td>\n",
       "      <td>control</td>\n",
       "      <td>old_page</td>\n",
       "      <td>1</td>\n",
       "    </tr>\n",
       "  </tbody>\n",
       "</table>\n",
       "</div>"
      ],
      "text/plain": [
       "       id  time  con_treat      page  converted\n",
       "0  851104    11    control  old_page          0\n",
       "1  804228     1    control  old_page          0\n",
       "2  661590    55  treatment  new_page          0\n",
       "3  853541    28  treatment  new_page          0\n",
       "4  864975    52    control  old_page          1"
      ]
     },
     "execution_count": 15,
     "metadata": {},
     "output_type": "execute_result"
    }
   ],
   "source": [
    "#extract the first two digits of each time value\n",
    "df['time']=df['time'].str[0:2].astype(int)\n",
    "df.head()"
   ]
  },
  {
   "cell_type": "code",
   "execution_count": 16,
   "id": "2b0ba456",
   "metadata": {},
   "outputs": [
    {
     "ename": "NameError",
     "evalue": "name 'ax' is not defined",
     "output_type": "error",
     "traceback": [
      "\u001b[1;31m---------------------------------------------------------------------------\u001b[0m",
      "\u001b[1;31mNameError\u001b[0m                                 Traceback (most recent call last)",
      "\u001b[1;32m~\\AppData\\Local\\Temp/ipykernel_4356/2789651573.py\u001b[0m in \u001b[0;36m<module>\u001b[1;34m\u001b[0m\n\u001b[0;32m      1\u001b[0m \u001b[1;31m#plot the converted vs non-converted users over time in a histogram\u001b[0m\u001b[1;33m\u001b[0m\u001b[1;33m\u001b[0m\u001b[0m\n\u001b[0;32m      2\u001b[0m \u001b[0msns\u001b[0m\u001b[1;33m.\u001b[0m\u001b[0mhistplot\u001b[0m\u001b[1;33m(\u001b[0m\u001b[0mdata\u001b[0m\u001b[1;33m=\u001b[0m\u001b[0mdf\u001b[0m\u001b[1;33m,\u001b[0m \u001b[0mx\u001b[0m\u001b[1;33m=\u001b[0m\u001b[1;34m'time'\u001b[0m\u001b[1;33m,\u001b[0m \u001b[0mhue\u001b[0m \u001b[1;33m=\u001b[0m \u001b[1;34m'converted'\u001b[0m\u001b[1;33m,\u001b[0m \u001b[0medgecolor\u001b[0m\u001b[1;33m=\u001b[0m\u001b[1;32mNone\u001b[0m\u001b[1;33m)\u001b[0m\u001b[1;33m\u001b[0m\u001b[1;33m\u001b[0m\u001b[0m\n\u001b[1;32m----> 3\u001b[1;33m \u001b[0max\u001b[0m\u001b[1;33m.\u001b[0m\u001b[0mset_title\u001b[0m \u001b[1;33m(\u001b[0m\u001b[1;34m'Converted vs Nonconverted Over Time'\u001b[0m\u001b[1;33m)\u001b[0m\u001b[1;33m\u001b[0m\u001b[1;33m\u001b[0m\u001b[0m\n\u001b[0m",
      "\u001b[1;31mNameError\u001b[0m: name 'ax' is not defined"
     ]
    },
    {
     "data": {
      "image/png": "[encoded data removed]",
      "text/plain": [
       "<Figure size 432x288 with 1 Axes>"
      ]
     },
     "metadata": {
      "needs_background": "light"
     },
     "output_type": "display_data"
    }
   ],
   "source": [
    "#plot the converted vs non-converted users over time in a histogram\n",
    "sns.histplot(data=df, x='time', hue = 'converted', edgecolor=None)\n",
    "ax.set_title ('Converted vs Nonconverted Over Time')"
   ]
  },
  {
   "cell_type": "code",
   "execution_count": null,
   "id": "ddadebe6",
   "metadata": {},
   "outputs": [],
   "source": [
    "#Based on the histogram, there is no difference in the number of converted vs non-converted users over time."
   ]
  },
  {
   "cell_type": "markdown",
   "id": "d8443058",
   "metadata": {},
   "source": [
    "## AI in fabrics of society:\n",
    "Similar to the advertisement allocation that the company aims at increasing the click rate of the user so that users can receive information about the goods that they like, the business companies always devote themselves to providing a convenient experience to their customers.In real cases, companies have to make decisions like this to win the rivalry. They find the best strategy to give them more revenue in such a game.\n",
    "\n",
    "One interesting topic is the recommendation of the commuting routes suggested by the map software. The software has to determine the best path for its users so that they feel convenient and will continue to use it. Sometimes, the shortest path is not the optimum because of the traffic. \n",
    "\n",
    "Reading: *Ethical Algorithm*: Chapter 3, Game People Play, The Commuting Game, (Page 101-105)\n",
    "\n",
    "### More on A/B testing and ethis of experimentation  in tech:\n",
    "\n",
    "Rajkumar, Karthik, et al. \"A causal test of the strength of weak ties.\" Science 377.6612 (2022): 1304-1310. https://www.science.org/doi/10.1126/science.abl4476\n",
    "\n",
    "Experts debate the ethics of LinkedIn's algorithm experiments on 20M users\n",
    "Ars Technica | 09/26/2022: https://arstechnica.com/tech-policy/2022/09/experts-debate-the-ethics-of-linkedins-algorithm-experiments-on-20m-users/\n",
    "\n",
    "LinkedIn ran social experiments on 20 million users over five years\n",
    "The New York Times | 09/24/2022: https://www.nytimes.com/2022/09/24/business/linkedin-social-experiments.html\n",
    "\n",
    "Building inclusive products through A/B testing: https://engineering.linkedin.com/blog/2020/building-inclusive-products-through-a-b-testing?s=31"
   ]
  },
  {
   "cell_type": "code",
   "execution_count": null,
   "id": "c3ee0ace",
   "metadata": {},
   "outputs": [],
   "source": []
  }
 ],
 "metadata": {
  "celltoolbar": "附件",
  "kernelspec": {
   "display_name": "Python 3 (ipykernel)",
   "language": "python",
   "name": "python3"
  },
  "language_info": {
   "codemirror_mode": {
    "name": "ipython",
    "version": 3
   },
   "file_extension": ".py",
   "mimetype": "text/x-python",
   "name": "python",
   "nbconvert_exporter": "python",
   "pygments_lexer": "ipython3",
   "version": "3.9.7"
  }
 },
 "nbformat": 4,
 "nbformat_minor": 5
}
