{
 "cells": [
  {
   "cell_type": "code",
   "execution_count": 1,
   "id": "dd5617c6-128f-4811-96d6-5e7d29444c0b",
   "metadata": {},
   "outputs": [
    {
     "name": "stdout",
     "output_type": "stream",
     "text": [
      "hello\n"
     ]
    }
   ],
   "source": [
    "print(\"hello\")"
   ]
  },
  {
   "cell_type": "markdown",
   "id": "1994bcf0-bc5f-44ca-ab99-8d117e22818e",
   "metadata": {},
   "source": [
    "# 1.Basic mathematic operations"
   ]
  },
  {
   "cell_type": "code",
   "execution_count": 2,
   "id": "8ff19563-5b56-4f18-b59d-a8d36b5793ec",
   "metadata": {},
   "outputs": [
    {
     "data": {
      "text/plain": [
       "6"
      ]
     },
     "execution_count": 2,
     "metadata": {},
     "output_type": "execute_result"
    }
   ],
   "source": [
    "3+3"
   ]
  },
  {
   "cell_type": "code",
   "execution_count": 3,
   "id": "a5e3de60-0757-43a3-a662-0cc41bedea31",
   "metadata": {},
   "outputs": [
    {
     "data": {
      "text/plain": [
       "9"
      ]
     },
     "execution_count": 3,
     "metadata": {},
     "output_type": "execute_result"
    }
   ],
   "source": [
    "3*3"
   ]
  },
  {
   "cell_type": "code",
   "execution_count": 4,
   "id": "9803d31d-6b19-46f7-af41-9d213210c17b",
   "metadata": {},
   "outputs": [
    {
     "data": {
      "text/plain": [
       "9"
      ]
     },
     "execution_count": 4,
     "metadata": {},
     "output_type": "execute_result"
    }
   ],
   "source": [
    "pow(3,2)"
   ]
  },
  {
   "cell_type": "markdown",
   "id": "dc846f37-9b6b-4111-b622-122650b26cc9",
   "metadata": {},
   "source": [
    "# 2.Variables"
   ]
  },
  {
   "cell_type": "code",
   "execution_count": 5,
   "id": "f6eb0626-66df-4ebc-b191-71ab776c5170",
   "metadata": {},
   "outputs": [],
   "source": [
    "x=2\n",
    "y=3"
   ]
  },
  {
   "cell_type": "code",
   "execution_count": 6,
   "id": "a9e9218f-a5fc-4588-a9e0-cee7c168c897",
   "metadata": {},
   "outputs": [
    {
     "data": {
      "text/plain": [
       "5"
      ]
     },
     "execution_count": 6,
     "metadata": {},
     "output_type": "execute_result"
    }
   ],
   "source": [
    "x+y"
   ]
  },
  {
   "cell_type": "markdown",
   "id": "5d92c58e-7dcf-485e-bffb-b41da6d5f193",
   "metadata": {},
   "source": [
    "# 3.Data Types"
   ]
  },
  {
   "cell_type": "code",
   "execution_count": 7,
   "id": "3a48ad0f-9014-466c-8158-42006d431806",
   "metadata": {},
   "outputs": [],
   "source": [
    "x=2"
   ]
  },
  {
   "cell_type": "code",
   "execution_count": 8,
   "id": "69fc563d-4dcd-43bc-b61f-422594f55c85",
   "metadata": {},
   "outputs": [
    {
     "data": {
      "text/plain": [
       "int"
      ]
     },
     "execution_count": 8,
     "metadata": {},
     "output_type": "execute_result"
    }
   ],
   "source": [
    "type(x)"
   ]
  },
  {
   "cell_type": "code",
   "execution_count": 9,
   "id": "76f49911-ea9f-485a-a9ab-590352a35bec",
   "metadata": {},
   "outputs": [],
   "source": [
    "x='hello'"
   ]
  },
  {
   "cell_type": "code",
   "execution_count": 10,
   "id": "55627682-c891-487b-954f-fc6bf26ae92c",
   "metadata": {},
   "outputs": [
    {
     "data": {
      "text/plain": [
       "str"
      ]
     },
     "execution_count": 10,
     "metadata": {},
     "output_type": "execute_result"
    }
   ],
   "source": [
    "type(x)"
   ]
  },
  {
   "cell_type": "code",
   "execution_count": 11,
   "id": "d5a9b03d-9b32-4ad2-bce0-4a2382b0c214",
   "metadata": {},
   "outputs": [],
   "source": [
    "x=10.5"
   ]
  },
  {
   "cell_type": "code",
   "execution_count": 12,
   "id": "bf35a11f-7ab9-4963-b620-63de0154ad18",
   "metadata": {},
   "outputs": [
    {
     "data": {
      "text/plain": [
       "float"
      ]
     },
     "execution_count": 12,
     "metadata": {},
     "output_type": "execute_result"
    }
   ],
   "source": [
    "type(x)"
   ]
  },
  {
   "cell_type": "code",
   "execution_count": 13,
   "id": "e71c2a90-6713-41fa-a05d-20aa07e62536",
   "metadata": {},
   "outputs": [],
   "source": [
    "x=True"
   ]
  },
  {
   "cell_type": "code",
   "execution_count": 14,
   "id": "fe98a535-17ed-445e-93a3-0f84459240a7",
   "metadata": {},
   "outputs": [
    {
     "data": {
      "text/plain": [
       "bool"
      ]
     },
     "execution_count": 14,
     "metadata": {},
     "output_type": "execute_result"
    }
   ],
   "source": [
    "type(x)"
   ]
  },
  {
   "cell_type": "code",
   "execution_count": 15,
   "id": "3d1f9a75-1269-44eb-904c-bfcc4b418a6e",
   "metadata": {},
   "outputs": [],
   "source": [
    "x=3+1j"
   ]
  },
  {
   "cell_type": "code",
   "execution_count": 16,
   "id": "2bbb2184-f0cb-446d-bfa1-2d431922f035",
   "metadata": {},
   "outputs": [
    {
     "data": {
      "text/plain": [
       "complex"
      ]
     },
     "execution_count": 16,
     "metadata": {},
     "output_type": "execute_result"
    }
   ],
   "source": [
    "type(x)"
   ]
  },
  {
   "cell_type": "code",
   "execution_count": 17,
   "id": "648c7a92-7078-4b22-bdb5-130e175b7b37",
   "metadata": {},
   "outputs": [],
   "source": [
    "x=[1,2,'hello']"
   ]
  },
  {
   "cell_type": "code",
   "execution_count": 18,
   "id": "00e7d652-3526-48a8-beec-737099ee38bc",
   "metadata": {},
   "outputs": [
    {
     "data": {
      "text/plain": [
       "list"
      ]
     },
     "execution_count": 18,
     "metadata": {},
     "output_type": "execute_result"
    }
   ],
   "source": [
    "type(x)"
   ]
  },
  {
   "cell_type": "code",
   "execution_count": 19,
   "id": "bd7c58b7-792e-4973-95f8-3a9dc0a76740",
   "metadata": {},
   "outputs": [],
   "source": [
    "x={'black':11,'red':12}"
   ]
  },
  {
   "cell_type": "code",
   "execution_count": 20,
   "id": "84f88136-3abd-480f-b357-e70757269e3a",
   "metadata": {},
   "outputs": [
    {
     "data": {
      "text/plain": [
       "dict"
      ]
     },
     "execution_count": 20,
     "metadata": {},
     "output_type": "execute_result"
    }
   ],
   "source": [
    "type(x)"
   ]
  },
  {
   "cell_type": "code",
   "execution_count": 21,
   "id": "3df0683a-53d7-4837-97ef-89cb2359bb8b",
   "metadata": {},
   "outputs": [
    {
     "data": {
      "text/plain": [
       "13"
      ]
     },
     "execution_count": 21,
     "metadata": {},
     "output_type": "execute_result"
    }
   ],
   "source": [
    "int(13.29)"
   ]
  },
  {
   "cell_type": "code",
   "execution_count": 22,
   "id": "a700ab47-cff7-4cb7-8ac9-cfc75179e1a5",
   "metadata": {},
   "outputs": [
    {
     "data": {
      "text/plain": [
       "14"
      ]
     },
     "execution_count": 22,
     "metadata": {},
     "output_type": "execute_result"
    }
   ],
   "source": [
    "int('14')"
   ]
  },
  {
   "cell_type": "markdown",
   "id": "1e195617-7b49-4e9a-b93b-5c2963714652",
   "metadata": {},
   "source": [
    "# 4.if and else"
   ]
  },
  {
   "cell_type": "code",
   "execution_count": 23,
   "id": "cff405c6-a891-4033-ab39-860959533d79",
   "metadata": {},
   "outputs": [],
   "source": [
    "x=10"
   ]
  },
  {
   "cell_type": "code",
   "execution_count": 24,
   "id": "05405a00-dc5a-4112-984b-b42a04499cf8",
   "metadata": {},
   "outputs": [
    {
     "name": "stdout",
     "output_type": "stream",
     "text": [
      "x is greater than 5\n"
     ]
    }
   ],
   "source": [
    "if (x>5):\n",
    "    print(\"x is greater than 5\")\n",
    "else:\n",
    "    print(\"x is less than or equal to 5\")"
   ]
  },
  {
   "cell_type": "code",
   "execution_count": 25,
   "id": "959c762c-8e97-4b24-94d4-2061777301fc",
   "metadata": {},
   "outputs": [
    {
     "name": "stdout",
     "output_type": "stream",
     "text": [
      "x is between 3 and 15\n"
     ]
    }
   ],
   "source": [
    "if (x<=3):\n",
    "    print(\"x is less than or equal to 3\")\n",
    "elif ((x>3) and (x<15)):\n",
    "    print(\"x is between 3 and 15\")\n",
    "else:\n",
    "    print(\"x is greater than or equal to 15\")"
   ]
  },
  {
   "cell_type": "markdown",
   "id": "67c736e8-eea5-4096-9673-2fa60c14d17a",
   "metadata": {},
   "source": [
    "# 5.For"
   ]
  },
  {
   "cell_type": "code",
   "execution_count": 26,
   "id": "29e96e22-ed60-413f-a699-f280a7e9663a",
   "metadata": {},
   "outputs": [
    {
     "name": "stdout",
     "output_type": "stream",
     "text": [
      "0\n",
      "1\n",
      "2\n",
      "3\n",
      "4\n",
      "5\n",
      "6\n",
      "7\n",
      "8\n",
      "9\n"
     ]
    }
   ],
   "source": [
    "for i in range (0,10):\n",
    "    print(i)"
   ]
  },
  {
   "cell_type": "code",
   "execution_count": 27,
   "id": "884607db-4434-42fe-b400-55bad4ae3bdb",
   "metadata": {},
   "outputs": [
    {
     "name": "stdout",
     "output_type": "stream",
     "text": [
      "120\n"
     ]
    }
   ],
   "source": [
    "x=1\n",
    "for i in range (1,6):\n",
    "    x=x*i\n",
    "print(x)"
   ]
  },
  {
   "cell_type": "markdown",
   "id": "e0039f3e-fd0e-4dbb-b5e2-bfd53f9ad51b",
   "metadata": {},
   "source": [
    "# 6.Function"
   ]
  },
  {
   "cell_type": "code",
   "execution_count": 28,
   "id": "89d84e38-1203-441b-b3e6-c7063b3e7c73",
   "metadata": {},
   "outputs": [],
   "source": [
    "def square(x): \n",
    "    y=x**2 \n",
    "    return (y)"
   ]
  },
  {
   "cell_type": "code",
   "execution_count": 29,
   "id": "fc0c6a8f-350c-4b0c-b559-86e8e81fdf0e",
   "metadata": {},
   "outputs": [
    {
     "data": {
      "text/plain": [
       "4"
      ]
     },
     "execution_count": 29,
     "metadata": {},
     "output_type": "execute_result"
    }
   ],
   "source": [
    "square(2)"
   ]
  },
  {
   "cell_type": "markdown",
   "id": "f151d630-37d8-4197-9721-eb93e28aae7e",
   "metadata": {},
   "source": [
    "# 6.Numpy"
   ]
  },
  {
   "cell_type": "code",
   "execution_count": 30,
   "id": "e0889eda-daa5-4343-b735-ff588f22ba8b",
   "metadata": {},
   "outputs": [],
   "source": [
    "#pip install numpy"
   ]
  },
  {
   "cell_type": "code",
   "execution_count": 31,
   "id": "01313087-7b3f-42d8-85db-a9d38059ee60",
   "metadata": {},
   "outputs": [],
   "source": [
    "import numpy as np"
   ]
  },
  {
   "cell_type": "markdown",
   "id": "284c8778-292b-49af-85ad-4966cbb581ec",
   "metadata": {},
   "source": [
    "## 6.1 array creation"
   ]
  },
  {
   "cell_type": "code",
   "execution_count": 32,
   "id": "9b03c9a9-6785-4cb6-be30-48a8a6a5ee73",
   "metadata": {},
   "outputs": [],
   "source": [
    "a=np.array([2,3,4])"
   ]
  },
  {
   "cell_type": "code",
   "execution_count": 33,
   "id": "8cb3ce2a-fec8-4683-a4e7-df1c692eed60",
   "metadata": {},
   "outputs": [
    {
     "data": {
      "text/plain": [
       "array([2, 3, 4])"
      ]
     },
     "execution_count": 33,
     "metadata": {},
     "output_type": "execute_result"
    }
   ],
   "source": [
    "a"
   ]
  },
  {
   "cell_type": "code",
   "execution_count": 34,
   "id": "e34d24ce-1af2-4609-b1df-d8bd98b6009c",
   "metadata": {},
   "outputs": [
    {
     "data": {
      "text/plain": [
       "dtype('int64')"
      ]
     },
     "execution_count": 34,
     "metadata": {},
     "output_type": "execute_result"
    }
   ],
   "source": [
    "#ndarray.dtype: an object describing the type of the elements in the array.\n",
    "a.dtype"
   ]
  },
  {
   "cell_type": "code",
   "execution_count": 35,
   "id": "3c32f2fc-6cf1-49cd-8ffe-227e7f290994",
   "metadata": {},
   "outputs": [],
   "source": [
    "b = np.array([1.2, 3.5, 5.1])"
   ]
  },
  {
   "cell_type": "code",
   "execution_count": 36,
   "id": "6c3811ce-5bcc-4125-b5c4-29c7d470f308",
   "metadata": {},
   "outputs": [
    {
     "data": {
      "text/plain": [
       "dtype('float64')"
      ]
     },
     "execution_count": 36,
     "metadata": {},
     "output_type": "execute_result"
    }
   ],
   "source": [
    "b.dtype"
   ]
  },
  {
   "cell_type": "code",
   "execution_count": 37,
   "id": "c2ebcf0b-0e51-4b46-ae8a-2b4963d9e976",
   "metadata": {},
   "outputs": [
    {
     "data": {
      "text/plain": [
       "array([[0., 0., 0., 0.],\n",
       "       [0., 0., 0., 0.],\n",
       "       [0., 0., 0., 0.]])"
      ]
     },
     "execution_count": 37,
     "metadata": {},
     "output_type": "execute_result"
    }
   ],
   "source": [
    "np.zeros((3, 4))"
   ]
  },
  {
   "cell_type": "code",
   "execution_count": 38,
   "id": "4cc3624e-2591-429c-a564-3f9bc9e6daff",
   "metadata": {},
   "outputs": [
    {
     "data": {
      "text/plain": [
       "array([[1., 1., 1., 1.],\n",
       "       [1., 1., 1., 1.],\n",
       "       [1., 1., 1., 1.]])"
      ]
     },
     "execution_count": 38,
     "metadata": {},
     "output_type": "execute_result"
    }
   ],
   "source": [
    "np.ones((3, 4))"
   ]
  },
  {
   "cell_type": "markdown",
   "id": "bad301d6-d765-45fe-8639-76ce05572438",
   "metadata": {},
   "source": [
    "## 6.2 Basic Operations"
   ]
  },
  {
   "cell_type": "code",
   "execution_count": 39,
   "id": "a6f7981a-40e0-40bc-9e89-2bc99d5158a7",
   "metadata": {},
   "outputs": [
    {
     "data": {
      "text/plain": [
       "array([0, 1, 2, 3])"
      ]
     },
     "execution_count": 39,
     "metadata": {},
     "output_type": "execute_result"
    }
   ],
   "source": [
    "b = np.arange(4)\n",
    "b"
   ]
  },
  {
   "cell_type": "code",
   "execution_count": 40,
   "id": "24e9408d-cd03-4239-9224-481619501673",
   "metadata": {},
   "outputs": [
    {
     "data": {
      "text/plain": [
       "array([20, 30, 40, 50])"
      ]
     },
     "execution_count": 40,
     "metadata": {},
     "output_type": "execute_result"
    }
   ],
   "source": [
    "a = np.array([20, 30, 40, 50])\n",
    "a"
   ]
  },
  {
   "cell_type": "code",
   "execution_count": 41,
   "id": "2fd91557-ac8e-44bf-8d5d-79322aaa1fde",
   "metadata": {},
   "outputs": [
    {
     "data": {
      "text/plain": [
       "array([20, 29, 38, 47])"
      ]
     },
     "execution_count": 41,
     "metadata": {},
     "output_type": "execute_result"
    }
   ],
   "source": [
    "c = a - b\n",
    "c"
   ]
  },
  {
   "cell_type": "code",
   "execution_count": 42,
   "id": "07c79e0d-9e9e-4998-b3f2-884ce4bdd5f4",
   "metadata": {},
   "outputs": [
    {
     "data": {
      "text/plain": [
       "array([0, 1, 4, 9])"
      ]
     },
     "execution_count": 42,
     "metadata": {},
     "output_type": "execute_result"
    }
   ],
   "source": [
    "b**2"
   ]
  },
  {
   "cell_type": "code",
   "execution_count": 43,
   "id": "5faea47d-3905-4ebd-92d5-a24d6efb1437",
   "metadata": {},
   "outputs": [
    {
     "data": {
      "text/plain": [
       "array([ 1.        ,  2.71828183,  7.3890561 , 20.08553692])"
      ]
     },
     "execution_count": 43,
     "metadata": {},
     "output_type": "execute_result"
    }
   ],
   "source": [
    "np.exp(b)"
   ]
  },
  {
   "cell_type": "code",
   "execution_count": 44,
   "id": "66868e48-bd00-493e-98f2-bb717cb5bfce",
   "metadata": {},
   "outputs": [],
   "source": [
    "A = np.array([[1, 1],\n",
    "              [0, 1]])"
   ]
  },
  {
   "cell_type": "code",
   "execution_count": 45,
   "id": "c88b9210-a23b-449e-8574-0ea0bf34d69b",
   "metadata": {},
   "outputs": [],
   "source": [
    "B = np.array([[2, 0],\n",
    "              [3, 4]])"
   ]
  },
  {
   "cell_type": "code",
   "execution_count": 46,
   "id": "97987cac-fd8d-4b52-ad3a-c2ba66dcfda4",
   "metadata": {},
   "outputs": [
    {
     "data": {
      "text/plain": [
       "array([[2, 0],\n",
       "       [0, 4]])"
      ]
     },
     "execution_count": 46,
     "metadata": {},
     "output_type": "execute_result"
    }
   ],
   "source": [
    "A * B     # elementwise product"
   ]
  },
  {
   "cell_type": "code",
   "execution_count": 47,
   "id": "9e60f781-8cd1-4bac-9bad-25b9486b39e5",
   "metadata": {},
   "outputs": [
    {
     "data": {
      "text/plain": [
       "array([[5, 4],\n",
       "       [3, 4]])"
      ]
     },
     "execution_count": 47,
     "metadata": {},
     "output_type": "execute_result"
    }
   ],
   "source": [
    "A @ B # matrix product"
   ]
  },
  {
   "cell_type": "markdown",
   "id": "4249be23-6d0c-4e87-b322-2c016fea23ee",
   "metadata": {},
   "source": [
    "## 6.3 index, slicing, and iteration"
   ]
  },
  {
   "cell_type": "code",
   "execution_count": 48,
   "id": "177a519b-3e94-437a-b0b1-8717311fdb13",
   "metadata": {},
   "outputs": [
    {
     "data": {
      "text/plain": [
       "array([  0,   1,   8,  27,  64, 125, 216, 343, 512, 729])"
      ]
     },
     "execution_count": 48,
     "metadata": {},
     "output_type": "execute_result"
    }
   ],
   "source": [
    "a = np.arange(10)**3\n",
    "a"
   ]
  },
  {
   "cell_type": "code",
   "execution_count": 49,
   "id": "1cce41bb-08f9-4a32-9888-72abad72d60f",
   "metadata": {},
   "outputs": [
    {
     "data": {
      "text/plain": [
       "np.int64(27)"
      ]
     },
     "execution_count": 49,
     "metadata": {},
     "output_type": "execute_result"
    }
   ],
   "source": [
    "a[3]"
   ]
  },
  {
   "cell_type": "code",
   "execution_count": 50,
   "id": "4ff24531-f59d-4188-a4ae-8cfa6533562a",
   "metadata": {},
   "outputs": [
    {
     "data": {
      "text/plain": [
       "array([ 8, 27, 64])"
      ]
     },
     "execution_count": 50,
     "metadata": {},
     "output_type": "execute_result"
    }
   ],
   "source": [
    "a[2:5]"
   ]
  },
  {
   "cell_type": "code",
   "execution_count": 51,
   "id": "02356c09-53e6-43b9-9a3a-d5ddcd048f13",
   "metadata": {},
   "outputs": [
    {
     "name": "stdout",
     "output_type": "stream",
     "text": [
      "0\n",
      "2\n",
      "16\n",
      "54\n",
      "128\n",
      "250\n",
      "432\n",
      "686\n",
      "1024\n",
      "1458\n"
     ]
    }
   ],
   "source": [
    "for i in a:\n",
    "    print(i*2)"
   ]
  },
  {
   "cell_type": "markdown",
   "id": "4749c287-cc9f-42d6-9387-2054d50a4b62",
   "metadata": {},
   "source": [
    "# 7. import file"
   ]
  },
  {
   "cell_type": "code",
   "execution_count": 52,
   "id": "6977fe2f-6594-4383-a0ed-fe385baa4d11",
   "metadata": {},
   "outputs": [],
   "source": [
    "#pip install pandas"
   ]
  },
  {
   "cell_type": "code",
   "execution_count": 53,
   "id": "332f3dfd-d7bc-4e91-a8d4-45a7a045871a",
   "metadata": {},
   "outputs": [],
   "source": [
    "import pandas as pd"
   ]
  },
  {
   "cell_type": "code",
   "execution_count": 54,
   "id": "cf0cf75a-8e4c-4afd-98e1-062d5ad802cc",
   "metadata": {},
   "outputs": [],
   "source": [
    "df=pd.read_csv('dataset_1.csv')"
   ]
  },
  {
   "cell_type": "code",
   "execution_count": 55,
   "id": "7f562f04-5668-4d7f-91df-ca44a56e9dae",
   "metadata": {},
   "outputs": [
    {
     "data": {
      "text/html": [
       "<div>\n",
       "<style scoped>\n",
       "    .dataframe tbody tr th:only-of-type {\n",
       "        vertical-align: middle;\n",
       "    }\n",
       "\n",
       "    .dataframe tbody tr th {\n",
       "        vertical-align: top;\n",
       "    }\n",
       "\n",
       "    .dataframe thead th {\n",
       "        text-align: right;\n",
       "    }\n",
       "</style>\n",
       "<table border=\"1\" class=\"dataframe\">\n",
       "  <thead>\n",
       "    <tr style=\"text-align: right;\">\n",
       "      <th></th>\n",
       "      <th>Name</th>\n",
       "      <th>Grades</th>\n",
       "    </tr>\n",
       "  </thead>\n",
       "  <tbody>\n",
       "    <tr>\n",
       "      <th>0</th>\n",
       "      <td>Alice</td>\n",
       "      <td>100</td>\n",
       "    </tr>\n",
       "    <tr>\n",
       "      <th>1</th>\n",
       "      <td>Bob</td>\n",
       "      <td>95</td>\n",
       "    </tr>\n",
       "    <tr>\n",
       "      <th>2</th>\n",
       "      <td>Tarik</td>\n",
       "      <td>97</td>\n",
       "    </tr>\n",
       "    <tr>\n",
       "      <th>3</th>\n",
       "      <td>Yuxin</td>\n",
       "      <td>96</td>\n",
       "    </tr>\n",
       "  </tbody>\n",
       "</table>\n",
       "</div>"
      ],
      "text/plain": [
       "    Name  Grades\n",
       "0  Alice     100\n",
       "1    Bob      95\n",
       "2  Tarik      97\n",
       "3  Yuxin      96"
      ]
     },
     "execution_count": 55,
     "metadata": {},
     "output_type": "execute_result"
    }
   ],
   "source": [
    "df.head()"
   ]
  },
  {
   "cell_type": "code",
   "execution_count": 56,
   "id": "4e173ab1-51a9-43ef-aa8c-526267104bcc",
   "metadata": {},
   "outputs": [
    {
     "data": {
      "text/plain": [
       "0    100\n",
       "1     95\n",
       "2     97\n",
       "3     96\n",
       "Name: Grades, dtype: int64"
      ]
     },
     "execution_count": 56,
     "metadata": {},
     "output_type": "execute_result"
    }
   ],
   "source": [
    "df['Grades']"
   ]
  },
  {
   "cell_type": "code",
   "execution_count": 57,
   "id": "06c1e7e6-2dad-46ff-81e6-e69b311aa450",
   "metadata": {},
   "outputs": [
    {
     "data": {
      "text/plain": [
       "0    Alice\n",
       "1      Bob\n",
       "2    Tarik\n",
       "3    Yuxin\n",
       "Name: Name, dtype: object"
      ]
     },
     "execution_count": 57,
     "metadata": {},
     "output_type": "execute_result"
    }
   ],
   "source": [
    "df['Name']"
   ]
  },
  {
   "cell_type": "code",
   "execution_count": 58,
   "id": "530e0020-694b-4cf9-8e47-205212eefb9f",
   "metadata": {},
   "outputs": [
    {
     "name": "stdout",
     "output_type": "stream",
     "text": [
      "Name      Alice\n",
      "Grades      100\n",
      "Name: 0, dtype: object\n"
     ]
    }
   ],
   "source": [
    "first_row = df.iloc[0]\n",
    "print(first_row)"
   ]
  },
  {
   "cell_type": "markdown",
   "id": "816f1ea1-8e8e-4113-a076-7b560e17bb99",
   "metadata": {},
   "source": [
    "# 8. Plot"
   ]
  },
  {
   "cell_type": "code",
   "execution_count": 59,
   "id": "7b6d6b7e-2298-4c65-a487-e792fa51eb72",
   "metadata": {},
   "outputs": [],
   "source": [
    "#pip install matplotlib"
   ]
  },
  {
   "cell_type": "code",
   "execution_count": 61,
   "id": "f13ac1d3-be6b-4b7b-bce7-f8859748ab0a",
   "metadata": {},
   "outputs": [
    {
     "data": {
      "image/png": "[encoded data removed]",
      "text/plain": [
       "<Figure size 640x480 with 1 Axes>"
      ]
     },
     "metadata": {},
     "output_type": "display_data"
    }
   ],
   "source": [
    "import matplotlib.pyplot as plt\n",
    "\n",
    "# Example data\n",
    "x = [1, 2, 3, 4, 5]\n",
    "y = [10, 15, 7, 12, 14]\n",
    "\n",
    "# Create a line plot\n",
    "plt.plot(x, y, marker='o')\n",
    "\n",
    "# Add title and labels\n",
    "plt.title('Simple Line Plot Example')\n",
    "plt.xlabel('X')\n",
    "plt.ylabel('Y')\n",
    "\n",
    "# Display the plot\n",
    "plt.show()"
   ]
  }
 ],
 "metadata": {
  "kernelspec": {
   "display_name": "Python 3 (ipykernel)",
   "language": "python",
   "name": "python3"
  },
  "language_info": {
   "codemirror_mode": {
    "name": "ipython",
    "version": 3
   },
   "file_extension": ".py",
   "mimetype": "text/x-python",
   "name": "python",
   "nbconvert_exporter": "python",
   "pygments_lexer": "ipython3",
   "version": "3.12.5"
  }
 },
 "nbformat": 4,
 "nbformat_minor": 5
}
